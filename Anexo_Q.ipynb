{
 "cells": [
  {
   "cell_type": "markdown",
   "metadata": {},
   "source": [
    "Anexo Q"
   ]
  },
  {
   "cell_type": "markdown",
   "metadata": {},
   "source": [
    "# Desplegando modelo Red Neuronal en IBM Watson\n",
    "\n",
    "#### Elaborado por: Ricardo Niño de Rivera Barrón\n",
    "\n",
    "#### Ingeniería Biónica\n",
    "\n",
    "#### Trabajo Terminal II"
   ]
  },
  {
   "cell_type": "markdown",
   "metadata": {},
   "source": [
    "En esta libreta interactiva realizada en IBM Watson se describe el proceso para desplegar un modelo Red Neuronal en la nube utilizando las herramientas que proporcionar gratuitamente IBM."
   ]
  },
  {
   "cell_type": "markdown",
   "metadata": {},
   "source": [
    "## Configurando el ambiente"
   ]
  },
  {
   "cell_type": "markdown",
   "metadata": {},
   "source": [
    "Primeramente es necesario crear una instancia gratuita en Watson para utilizar el servicio específico de Machine Learning."
   ]
  },
  {
   "cell_type": "markdown",
   "metadata": {},
   "source": [
    "### Conectando a Watson Machine Learning\n",
    "\n",
    "Para comunicarnos con la instancia creada necesitamos dos datos, \"Api Key\" y la ubicación geográfica de la instancia.\n"
   ]
  },
  {
   "cell_type": "code",
   "execution_count": 1,
   "metadata": {},
   "outputs": [],
   "source": [
    "api_key = 'XXXXXXXXXXXXXXXXXXXXXXXXXXXXXXXXXXX'\n",
    "location = 'us-south'"
   ]
  },
  {
   "cell_type": "code",
   "execution_count": 2,
   "metadata": {},
   "outputs": [],
   "source": [
    "wml_credentials = {\n",
    "    \"apikey\": api_key,\n",
    "    \"url\": 'https://' + location + '.ml.cloud.ibm.com'\n",
    "}"
   ]
  },
  {
   "cell_type": "markdown",
   "metadata": {},
   "source": [
    "### Importando la biblioteca para manipular recursos en IBM Watson"
   ]
  },
  {
   "cell_type": "code",
   "execution_count": 3,
   "metadata": {},
   "outputs": [],
   "source": [
    "#!pip install -U ibm-watson-machine-learning"
   ]
  },
  {
   "cell_type": "code",
   "execution_count": 4,
   "metadata": {},
   "outputs": [],
   "source": [
    "from ibm_watson_machine_learning import APIClient\n",
    "\n",
    "client = APIClient(wml_credentials)"
   ]
  },
  {
   "cell_type": "markdown",
   "metadata": {},
   "source": [
    "### Trabajando con espacios\n",
    "\n",
    "Posteriormente se debe un \"espacio\" en el servicio de almacenamiento de objetos de IBM Cloud.\n",
    "\n",
    "Para realizar esta tarea es posible realizarla en esta libreta o con directamente en la plataforma."
   ]
  },
  {
   "cell_type": "code",
   "execution_count": 7,
   "metadata": {},
   "outputs": [],
   "source": [
    "space_id = 'XXXXXXXXXXXXXXXXXXXXXXXXXXXXXXXXX'"
   ]
  },
  {
   "cell_type": "markdown",
   "metadata": {},
   "source": [
    "Enlistando todos los espacios existentes en la instancia creada."
   ]
  },
  {
   "cell_type": "code",
   "execution_count": 8,
   "metadata": {},
   "outputs": [
    {
     "name": "stdout",
     "output_type": "stream",
     "text": [
      "------------------------------------  ----------------  ------------------------\n",
      "ID                                    NAME              CREATED\n",
      "XXXXXXXXXXXXXXXXXXXXXXXXXXXXXXXXXXXX  EfficientNet_TT2  2020-12-03T14:58:40.571Z\n",
      "------------------------------------  ----------------  ------------------------\n"
     ]
    }
   ],
   "source": [
    "client.spaces.list(limit=10)"
   ]
  },
  {
   "cell_type": "markdown",
   "metadata": {},
   "source": [
    "Ahora establecemos el espacio creado como espacio por default para desplegar el modelo propuesto."
   ]
  },
  {
   "cell_type": "code",
   "execution_count": 9,
   "metadata": {},
   "outputs": [
    {
     "data": {
      "text/plain": [
       "'SUCCESS'"
      ]
     },
     "execution_count": 9,
     "metadata": {},
     "output_type": "execute_result"
    }
   ],
   "source": [
    "client.set.default_space(space_id)"
   ]
  },
  {
   "cell_type": "code",
   "execution_count": 10,
   "metadata": {},
   "outputs": [
    {
     "data": {
      "text/plain": [
       "{'resources': []}"
      ]
     },
     "execution_count": 10,
     "metadata": {},
     "output_type": "execute_result"
    }
   ],
   "source": [
    "client.deployments.get_job_details()"
   ]
  },
  {
   "cell_type": "markdown",
   "metadata": {},
   "source": [
    "## Descargando modelo y datos necesarios"
   ]
  },
  {
   "cell_type": "markdown",
   "metadata": {},
   "source": [
    "Instalamos la biblioteca necesaria para comunicación con Mega"
   ]
  },
  {
   "cell_type": "code",
   "execution_count": 12,
   "metadata": {},
   "outputs": [
    {
     "name": "stdout",
     "output_type": "stream",
     "text": [
      "Collecting mega.py\n",
      "  Downloading mega.py-1.0.8-py2.py3-none-any.whl (19 kB)\n",
      "Requirement already satisfied: requests>=0.10 in /opt/conda/envs/Python-3.7-main/lib/python3.7/site-packages (from mega.py) (2.24.0)\n",
      "Collecting pycryptodome<4.0.0,>=3.9.6\n",
      "  Downloading pycryptodome-3.9.9-cp37-cp37m-manylinux1_x86_64.whl (13.7 MB)\n",
      "\u001b[K     |████████████████████████████████| 13.7 MB 10.2 MB/s eta 0:00:01\n",
      "\u001b[?25hCollecting pathlib==1.0.1\n",
      "  Downloading pathlib-1.0.1.tar.gz (49 kB)\n",
      "\u001b[K     |████████████████████████████████| 49 kB 8.9 MB/s  eta 0:00:01\n",
      "\u001b[?25hCollecting tenacity<6.0.0,>=5.1.5\n",
      "  Downloading tenacity-5.1.5-py2.py3-none-any.whl (34 kB)\n",
      "Requirement already satisfied: certifi>=2017.4.17 in /opt/conda/envs/Python-3.7-main/lib/python3.7/site-packages (from requests>=0.10->mega.py) (2020.11.8)\n",
      "Requirement already satisfied: chardet<4,>=3.0.2 in /opt/conda/envs/Python-3.7-main/lib/python3.7/site-packages (from requests>=0.10->mega.py) (3.0.4)\n",
      "Requirement already satisfied: urllib3!=1.25.0,!=1.25.1,<1.26,>=1.21.1 in /opt/conda/envs/Python-3.7-main/lib/python3.7/site-packages (from requests>=0.10->mega.py) (1.25.9)\n",
      "Requirement already satisfied: idna<3,>=2.5 in /opt/conda/envs/Python-3.7-main/lib/python3.7/site-packages (from requests>=0.10->mega.py) (2.9)\n",
      "Requirement already satisfied: six>=1.9.0 in /opt/conda/envs/Python-3.7-main/lib/python3.7/site-packages (from tenacity<6.0.0,>=5.1.5->mega.py) (1.15.0)\n",
      "Building wheels for collected packages: pathlib\n",
      "  Building wheel for pathlib (setup.py) ... \u001b[?25ldone\n",
      "\u001b[?25h  Created wheel for pathlib: filename=pathlib-1.0.1-py3-none-any.whl size=14346 sha256=f618004721bc029a3fecd0f56565d9684b87be6854309958307c2b59a836e4ca\n",
      "  Stored in directory: /tmp/wsuser/.cache/pip/wheels/6e/96/b8/10037fe231e23970bac58361d7c93571ab983a7bbc55e68550\n",
      "Successfully built pathlib\n",
      "Installing collected packages: pycryptodome, pathlib, tenacity, mega.py\n",
      "Successfully installed mega.py-1.0.8 pathlib-1.0.1 pycryptodome-3.9.9 tenacity-5.1.5\n"
     ]
    }
   ],
   "source": [
    "!pip install mega.py"
   ]
  },
  {
   "cell_type": "code",
   "execution_count": 13,
   "metadata": {},
   "outputs": [],
   "source": [
    "# De la biblioteca mega importamos el método Mega\n",
    "from mega import Mega"
   ]
  },
  {
   "cell_type": "code",
   "execution_count": 14,
   "metadata": {},
   "outputs": [],
   "source": [
    "# Instanciando Mega en el objeto mega\n",
    "mega = Mega()"
   ]
  },
  {
   "cell_type": "markdown",
   "metadata": {},
   "source": [
    "Inicamos sesión en MEGA con cuenta temporal y anónima"
   ]
  },
  {
   "cell_type": "code",
   "execution_count": 15,
   "metadata": {},
   "outputs": [],
   "source": [
    "# Log in en la cuenta de MEGA con cuenta temporal anónima\n",
    "m = mega.login()"
   ]
  },
  {
   "cell_type": "code",
   "execution_count": 16,
   "metadata": {},
   "outputs": [
    {
     "data": {
      "text/plain": [
       "PosixPath('X_train.npy')"
      ]
     },
     "execution_count": 16,
     "metadata": {},
     "output_type": "execute_result"
    }
   ],
   "source": [
    "# Descargando el archivo X_train.npy\n",
    "m.download_url('https://mega.nz/file/oAZT1IYJ#HpIvnnR50IH6N2F9wfdPgNTgLPpAwhEBpTl3_yAxLFc')"
   ]
  },
  {
   "cell_type": "code",
   "execution_count": 17,
   "metadata": {},
   "outputs": [
    {
     "name": "stdout",
     "output_type": "stream",
     "text": [
      "X_train.npy\r\n"
     ]
    }
   ],
   "source": [
    "# Mostrando archivos en el directorio de trabajo del entorno\n",
    "!ls"
   ]
  },
  {
   "cell_type": "code",
   "execution_count": 18,
   "metadata": {},
   "outputs": [
    {
     "data": {
      "text/plain": [
       "PosixPath('X_test.npy')"
      ]
     },
     "execution_count": 18,
     "metadata": {},
     "output_type": "execute_result"
    }
   ],
   "source": [
    "# Descargando el archivo X_test.npy\n",
    "m.download_url('https://mega.nz/file/tMIzDQbK#MLFeDRu5D4dq2lRqvPcxIZkuTtVKH2azBRrhSzndqME')"
   ]
  },
  {
   "cell_type": "code",
   "execution_count": 19,
   "metadata": {},
   "outputs": [
    {
     "name": "stdout",
     "output_type": "stream",
     "text": [
      "X_test.npy  X_train.npy\r\n"
     ]
    }
   ],
   "source": [
    "# Mostrando archivos en el directorio de trabajo del entorno\n",
    "!ls"
   ]
  },
  {
   "cell_type": "code",
   "execution_count": 20,
   "metadata": {},
   "outputs": [
    {
     "name": "stdout",
     "output_type": "stream",
     "text": [
      "/home/wsuser/work\r\n"
     ]
    }
   ],
   "source": [
    "# Imprimiendo el directorio de trabajo\n",
    "!pwd"
   ]
  },
  {
   "cell_type": "markdown",
   "metadata": {},
   "source": [
    "Descargando el archivo de salida Y_train y Y_test"
   ]
  },
  {
   "cell_type": "code",
   "execution_count": 21,
   "metadata": {},
   "outputs": [
    {
     "data": {
      "text/plain": [
       "PosixPath('Y_train2.npy')"
      ]
     },
     "execution_count": 21,
     "metadata": {},
     "output_type": "execute_result"
    }
   ],
   "source": [
    "# Descargando Y_train2.npy\n",
    "m.download_url('https://mega.nz/file/tdohXarb#SRrt31GIT7H6gioCVm2KYF-sH6a8PHK8Z7Tr76oZb4I')"
   ]
  },
  {
   "cell_type": "code",
   "execution_count": 22,
   "metadata": {},
   "outputs": [
    {
     "name": "stdout",
     "output_type": "stream",
     "text": [
      "X_test.npy  X_train.npy  Y_train2.npy\r\n"
     ]
    }
   ],
   "source": [
    "!ls"
   ]
  },
  {
   "cell_type": "code",
   "execution_count": 23,
   "metadata": {},
   "outputs": [
    {
     "data": {
      "text/plain": [
       "PosixPath('Y_test2.npy')"
      ]
     },
     "execution_count": 23,
     "metadata": {},
     "output_type": "execute_result"
    }
   ],
   "source": [
    "# Descargando Y_test2.npy\n",
    "m.download_url('https://mega.nz/file/Vc5TBSbY#D8pbUvpA3l2V0PJxCu7Meg8WJ3wPpT6X2jEoDsleCWw')"
   ]
  },
  {
   "cell_type": "code",
   "execution_count": 24,
   "metadata": {},
   "outputs": [
    {
     "name": "stdout",
     "output_type": "stream",
     "text": [
      "X_test.npy  X_train.npy  Y_test2.npy  Y_train2.npy\r\n"
     ]
    }
   ],
   "source": [
    "!ls"
   ]
  },
  {
   "cell_type": "markdown",
   "metadata": {},
   "source": [
    "Leyendo lo archivos con numpy"
   ]
  },
  {
   "cell_type": "code",
   "execution_count": 25,
   "metadata": {},
   "outputs": [],
   "source": [
    "import numpy as np"
   ]
  },
  {
   "cell_type": "code",
   "execution_count": 26,
   "metadata": {},
   "outputs": [
    {
     "data": {
      "text/plain": [
       "(3337, 17)"
      ]
     },
     "execution_count": 26,
     "metadata": {},
     "output_type": "execute_result"
    }
   ],
   "source": [
    "X_train = np.load('X_train.npy')\n",
    "X_train.shape"
   ]
  },
  {
   "cell_type": "code",
   "execution_count": 27,
   "metadata": {},
   "outputs": [
    {
     "data": {
      "text/plain": [
       "(832, 17)"
      ]
     },
     "execution_count": 27,
     "metadata": {},
     "output_type": "execute_result"
    }
   ],
   "source": [
    "X_test = np.load('X_test.npy')\n",
    "X_test.shape"
   ]
  },
  {
   "cell_type": "code",
   "execution_count": 28,
   "metadata": {},
   "outputs": [
    {
     "data": {
      "text/plain": [
       "(3337,)"
      ]
     },
     "execution_count": 28,
     "metadata": {},
     "output_type": "execute_result"
    }
   ],
   "source": [
    "Y_train = np.load('Y_train2.npy')\n",
    "Y_train.shape"
   ]
  },
  {
   "cell_type": "code",
   "execution_count": 29,
   "metadata": {},
   "outputs": [
    {
     "data": {
      "text/plain": [
       "(832,)"
      ]
     },
     "execution_count": 29,
     "metadata": {},
     "output_type": "execute_result"
    }
   ],
   "source": [
    "Y_test = np.load('Y_test2.npy')\n",
    "Y_test.shape"
   ]
  },
  {
   "cell_type": "markdown",
   "metadata": {},
   "source": [
    "### Descargando el modelo"
   ]
  },
  {
   "cell_type": "code",
   "execution_count": 30,
   "metadata": {},
   "outputs": [
    {
     "data": {
      "text/plain": [
       "PosixPath('rnet_weights.h5')"
      ]
     },
     "execution_count": 30,
     "metadata": {},
     "output_type": "execute_result"
    }
   ],
   "source": [
    "# # Descargando archivo con pesos entrenados rnet_weights.h5\n",
    "m.download_url('https://mega.nz/file/8VhSBJIY#MuM4xdpkT64Jau9M52sk35pTo8BJIlNV9D53_UEK1Cc')"
   ]
  },
  {
   "cell_type": "code",
   "execution_count": 31,
   "metadata": {},
   "outputs": [],
   "source": [
    "# Descargando archivo del modelo completo PCA_rnet_FULL.h5\n",
    "# m.download_url('https://mega.nz/file/Jdw0xRAb#niBMdBeTC0ZcPWhQz-pavMPrwLXru9tt6aVBOvO2u6s')"
   ]
  },
  {
   "cell_type": "code",
   "execution_count": 32,
   "metadata": {},
   "outputs": [
    {
     "name": "stdout",
     "output_type": "stream",
     "text": [
      "rnet_weights.h5  X_test.npy  X_train.npy  Y_test2.npy  Y_train2.npy\r\n"
     ]
    }
   ],
   "source": [
    "!ls"
   ]
  },
  {
   "cell_type": "markdown",
   "metadata": {},
   "source": [
    "## PCA\n",
    "\n",
    "Creando el modelo que reduce dimensionalmente X_test a partir de los datos X_train."
   ]
  },
  {
   "cell_type": "code",
   "execution_count": 33,
   "metadata": {},
   "outputs": [],
   "source": [
    "# Importando el método PCA\n",
    "from sklearn.decomposition import PCA"
   ]
  },
  {
   "cell_type": "code",
   "execution_count": 34,
   "metadata": {},
   "outputs": [],
   "source": [
    "# Instanciando PCa en un objeto que transforme los datos a 3 dimensiones\n",
    "pca = PCA(n_components=3)"
   ]
  },
  {
   "cell_type": "code",
   "execution_count": 35,
   "metadata": {},
   "outputs": [],
   "source": [
    "# Para X_train\n",
    "X_train_pca = pca.fit(X_train).transform(X_train)"
   ]
  },
  {
   "cell_type": "code",
   "execution_count": 36,
   "metadata": {},
   "outputs": [],
   "source": [
    "# Para X_test\n",
    "# Nótese que se utiliza X_train para ajustar el pca\n",
    "X_test_pca = pca.fit(X_train).transform(X_test)"
   ]
  },
  {
   "cell_type": "code",
   "execution_count": 37,
   "metadata": {},
   "outputs": [
    {
     "name": "stdout",
     "output_type": "stream",
     "text": [
      "[[-18.52513566  21.87689658  -5.58046172]]\n",
      "[-18.52513566  21.87689658  -5.58046172]\n"
     ]
    }
   ],
   "source": [
    "# Comprobación con un ejemplo cualesquiera\n",
    "\n",
    "#Leyendo ejemplo\n",
    "ejemplo_test = X_test[5,:]\n",
    "\n",
    "#Expandiendo una dimension\n",
    "ejemplo_test = np.expand_dims(ejemplo_test,axis=0)\n",
    "\n",
    "#Transormando el ejemplo\n",
    "prueba1 = pca.fit(X_train).transform(ejemplo_test)\n",
    "print(prueba1)\n",
    "print(X_test_pca[5,:])"
   ]
  },
  {
   "cell_type": "code",
   "execution_count": 38,
   "metadata": {},
   "outputs": [],
   "source": [
    "# Función para retornar vector de carcterísticas después de aplicar PCA\n",
    "def PCA_transform(vector):\n",
    "    \n",
    "    #Expandiendo una dimension\n",
    "    vector = np.expand_dims(vector,axis=0)\n",
    "    \n",
    "    #Transformando el ejemplo\n",
    "    vector_pca = pca.fit(X_train).transform(vector)\n",
    "    \n",
    "    return vector_pca"
   ]
  },
  {
   "cell_type": "code",
   "execution_count": 42,
   "metadata": {},
   "outputs": [
    {
     "name": "stdout",
     "output_type": "stream",
     "text": [
      "[[-22.83520649   5.3994245    3.07702366]]\n",
      "[-22.83520649   5.3994245    3.07702366]\n"
     ]
    }
   ],
   "source": [
    "#Prueba 2\n",
    "ejemplo_test2 = X_test[515,:]\n",
    "#Transformando el ejemplo\n",
    "prueba2 = PCA_transform(ejemplo_test2)\n",
    "print(prueba2)\n",
    "print(X_test_pca[515,:])"
   ]
  },
  {
   "cell_type": "markdown",
   "metadata": {},
   "source": [
    "## Configuración del modelo para su despliegue\n",
    "\n",
    "Para desplegar el modelo predictivo de tensorflow en la nube es necesario comprimir el archivo h5 a un archivo .tgz"
   ]
  },
  {
   "cell_type": "markdown",
   "metadata": {},
   "source": [
    "Se define el modelo"
   ]
  },
  {
   "cell_type": "code",
   "execution_count": 43,
   "metadata": {},
   "outputs": [],
   "source": [
    "# # importando bibliotecas auxiliares\n",
    "import tensorflow as tf\n",
    "# from tensorflow.keras.applications import *\n",
    "from tensorflow.keras.layers import *"
   ]
  },
  {
   "cell_type": "markdown",
   "metadata": {},
   "source": [
    "Definiendo la arquitectura del modelo."
   ]
  },
  {
   "cell_type": "code",
   "execution_count": 44,
   "metadata": {},
   "outputs": [],
   "source": [
    "dropout = 0.2"
   ]
  },
  {
   "cell_type": "code",
   "execution_count": 45,
   "metadata": {},
   "outputs": [],
   "source": [
    "# Creando el modelo de la red neuronal de tres capasocultas con 300 unidades por capa\n",
    "rnet = tf.keras.Sequential()\n",
    "rnet.add(Dense(300, activation=\"relu\", input_shape=(X_train_pca.shape[1],)))\n",
    "rnet.add(Dropout(dropout))\n",
    "rnet.add(Dense(300, activation=\"relu\"))\n",
    "rnet.add(Dropout(dropout))\n",
    "rnet.add(Dense(300, activation=\"relu\"))\n",
    "rnet.add(Dropout(dropout))\n",
    "rnet.add(Dense(1, activation='sigmoid'))"
   ]
  },
  {
   "cell_type": "markdown",
   "metadata": {},
   "source": [
    "Cargando los pesos previamente entrenados en Kaggle para el modelo rnet."
   ]
  },
  {
   "cell_type": "code",
   "execution_count": 46,
   "metadata": {},
   "outputs": [],
   "source": [
    "rnet.load_weights('rnet_weights.h5')"
   ]
  },
  {
   "cell_type": "markdown",
   "metadata": {},
   "source": [
    "Guardando modelo nuevamente con los pesos entrenados"
   ]
  },
  {
   "cell_type": "code",
   "execution_count": 47,
   "metadata": {},
   "outputs": [],
   "source": [
    "rnet.save('modelo.h5')"
   ]
  },
  {
   "cell_type": "code",
   "execution_count": 48,
   "metadata": {},
   "outputs": [
    {
     "name": "stdout",
     "output_type": "stream",
     "text": [
      "modelo.h5  rnet_weights.h5  X_test.npy\tX_train.npy  Y_test2.npy  Y_train2.npy\r\n"
     ]
    }
   ],
   "source": [
    "!ls"
   ]
  },
  {
   "cell_type": "markdown",
   "metadata": {},
   "source": [
    "Comprimiendo el modelo utilizando el comando *tar*"
   ]
  },
  {
   "cell_type": "code",
   "execution_count": 49,
   "metadata": {},
   "outputs": [
    {
     "name": "stdout",
     "output_type": "stream",
     "text": [
      "modelo.h5\r\n"
     ]
    }
   ],
   "source": [
    "!tar -zcvf modelo.tar.gz modelo.h5"
   ]
  },
  {
   "cell_type": "code",
   "execution_count": 50,
   "metadata": {},
   "outputs": [
    {
     "name": "stdout",
     "output_type": "stream",
     "text": [
      "modelo.h5      rnet_weights.h5\tX_train.npy  Y_train2.npy\r\n",
      "modelo.tar.gz  X_test.npy\tY_test2.npy\r\n"
     ]
    }
   ],
   "source": [
    "!ls"
   ]
  },
  {
   "cell_type": "code",
   "execution_count": 51,
   "metadata": {},
   "outputs": [],
   "source": [
    "# Guardando la dirección del model\n",
    "model_path = '/home/wsuser/work/modelo.tar.gz'"
   ]
  },
  {
   "cell_type": "markdown",
   "metadata": {},
   "source": [
    "## Modelo de Tensorflow desplegado en la nube\n",
    "\n",
    "Aquí se describen los pasos para almaenar el modelo EfficientNet en el repositorio de Watson Machine Learningn utilizando el SDK de IBM Watson Machine Learning."
   ]
  },
  {
   "cell_type": "markdown",
   "metadata": {},
   "source": [
    "### Publicando modelo"
   ]
  },
  {
   "cell_type": "markdown",
   "metadata": {},
   "source": [
    "Definiendo nombre del modelo, nombre del autor y el software específico."
   ]
  },
  {
   "cell_type": "code",
   "execution_count": 52,
   "metadata": {},
   "outputs": [
    {
     "data": {
      "text/plain": [
       "'2.1.0'"
      ]
     },
     "execution_count": 52,
     "metadata": {},
     "output_type": "execute_result"
    }
   ],
   "source": [
    "tf.__version__"
   ]
  },
  {
   "cell_type": "code",
   "execution_count": 53,
   "metadata": {
    "pycharm": {
     "is_executing": false,
     "name": "#%%\n"
    }
   },
   "outputs": [],
   "source": [
    "sofware_spec_uid = client.software_specifications.get_id_by_name(\"tensorflow_2.1-py3.7\")"
   ]
  },
  {
   "cell_type": "code",
   "execution_count": 54,
   "metadata": {
    "pycharm": {
     "is_executing": false,
     "name": "#%%\n"
    }
   },
   "outputs": [],
   "source": [
    "metadata = {\n",
    "            client.repository.ModelMetaNames.NAME: 'Red Neuronal PCA',\n",
    "            client.repository.ModelMetaNames.TYPE: 'tensorflow_2.1',\n",
    "            client.repository.ModelMetaNames.SOFTWARE_SPEC_UID: sofware_spec_uid\n",
    "}\n",
    "\n",
    "published_model = client.repository.store_model(\n",
    "    model=model_path,\n",
    "    meta_props=metadata)"
   ]
  },
  {
   "cell_type": "markdown",
   "metadata": {},
   "source": [
    "### Obteniendo detalles del modelo"
   ]
  },
  {
   "cell_type": "code",
   "execution_count": 55,
   "metadata": {
    "pycharm": {
     "is_executing": false,
     "name": "#%%\n"
    }
   },
   "outputs": [
    {
     "name": "stdout",
     "output_type": "stream",
     "text": [
      "{\n",
      "  \"entity\": {\n",
      "    \"software_spec\": {\n",
      "      \"id\": \"c4032338-2a40-500a-beef-b01ab2667e27\",\n",
      "      \"name\": \"tensorflow_2.1-py3.7\"\n",
      "    },\n",
      "    \"type\": \"tensorflow_2.1\"\n",
      "  },\n",
      "  \"metadata\": {\n",
      "    \"created_at\": \"2020-12-04T11:31:44.178Z\",\n",
      "    \"id\": \"dac8c7ec-782e-4fd4-b73d-ae93da0ae15c\",\n",
      "    \"modified_at\": \"2020-12-04T11:31:46.780Z\",\n",
      "    \"name\": \"Red Neuronal PCA\",\n",
      "    \"owner\": \"IBMid-550009WDCT\",\n",
      "    \"space_id\": \"27c26218-aade-455c-8e7a-6382b3abf19c\"\n",
      "  },\n",
      "  \"system\": {\n",
      "    \"warnings\": []\n",
      "  }\n",
      "}\n"
     ]
    }
   ],
   "source": [
    "import json\n",
    "\n",
    "published_model_uid = client.repository.get_model_uid(published_model)\n",
    "model_details = client.repository.get_details(published_model_uid)\n",
    "print(json.dumps(model_details, indent=2))"
   ]
  },
  {
   "cell_type": "code",
   "execution_count": 56,
   "metadata": {
    "pycharm": {
     "is_executing": false,
     "name": "#%%\n"
    }
   },
   "outputs": [
    {
     "name": "stdout",
     "output_type": "stream",
     "text": [
      "------------------------------------  ----------------  ------------------------  --------------\n",
      "ID                                    NAME              CREATED                   TYPE\n",
      "XXXXXXXXXXXXXXXXXXXXXXXXXXXXXXXXXXXX  Red Neuronal PCA  2020-12-04T11:31:44.002Z  tensorflow_2.1\n",
      "XXXXXXXXXXXXXXXXXXXXXXXXXXXXXXXXXXXX  EfficientNetB7    2020-12-04T02:17:10.002Z  tensorflow_2.1\n",
      "------------------------------------  ----------------  ------------------------  --------------\n"
     ]
    }
   ],
   "source": [
    "models_details = client.repository.list_models()"
   ]
  },
  {
   "cell_type": "markdown",
   "metadata": {},
   "source": [
    "## Desplegando y almacenando en una nube"
   ]
  },
  {
   "cell_type": "markdown",
   "metadata": {},
   "source": [
    "Se almacena el modelo para poder obtener un score de forma online uutilizando solicitudes tipo con arreglos tipo json con ayuda de IBM Watson Machine Learning SDK."
   ]
  },
  {
   "cell_type": "markdown",
   "metadata": {},
   "source": [
    "### Creando modelo desplegado"
   ]
  },
  {
   "cell_type": "code",
   "execution_count": 57,
   "metadata": {},
   "outputs": [],
   "source": [
    "from tensorflow import keras"
   ]
  },
  {
   "cell_type": "markdown",
   "metadata": {},
   "source": [
    "#### Creando despliegue online para el modelo publicado."
   ]
  },
  {
   "cell_type": "code",
   "execution_count": 58,
   "metadata": {
    "pycharm": {
     "is_executing": false,
     "name": "#%%\n"
    }
   },
   "outputs": [
    {
     "name": "stdout",
     "output_type": "stream",
     "text": [
      "\n",
      "\n",
      "#######################################################################################\n",
      "\n",
      "Synchronous deployment creation for uid: 'XXXXXXXXXXXXXXXXXXXXXXXXXXXXXXXXXXXX' started\n",
      "\n",
      "#######################################################################################\n",
      "\n",
      "\n",
      "initializing..\n",
      "ready\n",
      "\n",
      "\n",
      "------------------------------------------------------------------------------------------------\n",
      "Successfully finished deployment creation, deployment_uid='XXXXXXXXXXXXXXXXXXXXXXXXXXXXXXXXXXXX'\n",
      "------------------------------------------------------------------------------------------------\n",
      "\n",
      "\n"
     ]
    }
   ],
   "source": [
    "metadata = {\n",
    "    client.deployments.ConfigurationMetaNames.NAME: \"Deployment of external Tensorflow model\",\n",
    "    client.deployments.ConfigurationMetaNames.ONLINE: {}\n",
    "}\n",
    "\n",
    "created_deployment = client.deployments.create(published_model_uid, meta_props=metadata)"
   ]
  },
  {
   "cell_type": "code",
   "execution_count": 59,
   "metadata": {},
   "outputs": [],
   "source": [
    "deployment_uid = client.deployments.get_uid(created_deployment)"
   ]
  },
  {
   "cell_type": "markdown",
   "metadata": {},
   "source": [
    "Ahora podemos imprimir el \"online scoring endpoint\""
   ]
  },
  {
   "cell_type": "code",
   "execution_count": 60,
   "metadata": {
    "pycharm": {
     "is_executing": false,
     "name": "#%%\n"
    }
   },
   "outputs": [
    {
     "name": "stdout",
     "output_type": "stream",
     "text": [
      "https://us-south.ml.cloud.ibm.com/ml/v4/deployments/XXXXXXXXXXXXXXXXXXXXXXXXXXXXXXX/predictions\n"
     ]
    }
   ],
   "source": [
    "scoring_endpoint = client.deployments.get_scoring_href(created_deployment)\n",
    "print(scoring_endpoint)"
   ]
  },
  {
   "cell_type": "markdown",
   "metadata": {},
   "source": [
    "You can also list existing deployments."
   ]
  },
  {
   "cell_type": "code",
   "execution_count": 61,
   "metadata": {},
   "outputs": [
    {
     "name": "stdout",
     "output_type": "stream",
     "text": [
      "------------------------------------  ---------------------------------------  -----  ------------------------\n",
      "GUID                                  NAME                                     STATE  CREATED\n",
      "XXXXXXXXXXXXXXXXXXXXXXXXXXXXXXXXXXXX  Deployment of external Tensorflow model  ready  2020-12-04T11:32:19.864Z\n",
      "XXXXXXXXXXXXXXXXXXXXXXXXXXXXXXXXXXXX  Deployment of external Tensorflow model  ready  2020-12-04T02:17:40.026Z\n",
      "------------------------------------  ---------------------------------------  -----  ------------------------\n"
     ]
    }
   ],
   "source": [
    "client.deployments.list()"
   ]
  },
  {
   "cell_type": "markdown",
   "metadata": {},
   "source": [
    "### Obteniendo detalles del \"despliegue\""
   ]
  },
  {
   "cell_type": "code",
   "execution_count": 62,
   "metadata": {
    "pycharm": {
     "is_executing": false,
     "name": "#%%\n"
    }
   },
   "outputs": [
    {
     "data": {
      "text/plain": [
       "{'entity': {'asset': {'id': 'XXXXXXXXXXXXXXXXXXXXXXXXXXXXXXXXXXXX'},\n",
       "  'custom': {},\n",
       "  'deployed_asset_type': 'model',\n",
       "  'hardware_spec': {'id': 'Not_Applicable', 'name': 'XS', 'num_nodes': 1},\n",
       "  'name': 'Deployment of external Tensorflow model',\n",
       "  'online': {},\n",
       "  'space_id': '27c26218-aade-455c-8e7a-6382b3abf19c',\n",
       "  'status': {'online_url': {'url': 'https://us-south.ml.cloud.ibm.com/ml/v4/deployments/XXXXXXXXXXXXXXXXXXXXXXXXXXXXXXXXX/predictions'},\n",
       "   'state': 'ready'}},\n",
       " 'metadata': {'created_at': '2020-12-04T11:32:19.864Z',\n",
       "  'id': 'XXXXXXXXXXXXXXXXXXXXXXXXXXXXXXXXXXXX',\n",
       "  'modified_at': '2020-12-04T11:32:19.864Z',\n",
       "  'name': 'Deployment of external Tensorflow model',\n",
       "  'owner': 'IBMid-550009WDCT',\n",
       "  'space_id': 'XXXXXXXXXXXXXXXXXXXXXXXXXXXXXXXXXXXX'}}"
      ]
     },
     "execution_count": 62,
     "metadata": {},
     "output_type": "execute_result"
    }
   ],
   "source": [
    "client.deployments.get_details(deployment_uid)"
   ]
  },
  {
   "cell_type": "markdown",
   "metadata": {},
   "source": [
    "### Score"
   ]
  },
  {
   "cell_type": "markdown",
   "metadata": {},
   "source": [
    "Ahora vamos a realizar una prueba de acceso."
   ]
  },
  {
   "cell_type": "code",
   "execution_count": 63,
   "metadata": {},
   "outputs": [],
   "source": [
    "score_0 = PCA_transform(X_test[515,:]).tolist()"
   ]
  },
  {
   "cell_type": "code",
   "execution_count": 64,
   "metadata": {
    "pycharm": {
     "is_executing": false,
     "name": "#%%\n"
    }
   },
   "outputs": [],
   "source": [
    "scoring_payload = {\"input_data\": [{\"values\": [score_0[0]]}]}"
   ]
  },
  {
   "cell_type": "markdown",
   "metadata": {},
   "source": [
    "Usando el método ``client.deployments.score()``para probar el modelo en la nube."
   ]
  },
  {
   "cell_type": "code",
   "execution_count": 65,
   "metadata": {
    "pycharm": {
     "is_executing": false,
     "name": "#%%\n"
    }
   },
   "outputs": [],
   "source": [
    "predictions = client.deployments.score(deployment_uid, scoring_payload)"
   ]
  },
  {
   "cell_type": "markdown",
   "metadata": {},
   "source": [
    "Let's print the result of predictions."
   ]
  },
  {
   "cell_type": "code",
   "execution_count": 66,
   "metadata": {
    "pycharm": {
     "is_executing": false,
     "name": "#%%\n"
    }
   },
   "outputs": [
    {
     "name": "stdout",
     "output_type": "stream",
     "text": [
      "{\n",
      "  \"predictions\": [\n",
      "    {\n",
      "      \"id\": \"dense_3\",\n",
      "      \"fields\": [\n",
      "        \"prediction\",\n",
      "        \"prediction_classes\",\n",
      "        \"probability\"\n",
      "      ],\n",
      "      \"values\": [\n",
      "        [\n",
      "          [\n",
      "            0.017080986872315407\n",
      "          ],\n",
      "          [\n",
      "            0\n",
      "          ],\n",
      "          [\n",
      "            0.017080986872315407\n",
      "          ]\n",
      "        ]\n",
      "      ]\n",
      "    }\n",
      "  ]\n",
      "}\n"
     ]
    }
   ],
   "source": [
    "import json\n",
    "print(json.dumps(predictions, indent=2))"
   ]
  },
  {
   "cell_type": "markdown",
   "metadata": {},
   "source": [
    "Imprimimos la probabilidad de cáncer."
   ]
  },
  {
   "cell_type": "code",
   "execution_count": 67,
   "metadata": {},
   "outputs": [
    {
     "data": {
      "text/plain": [
       "0.017080986872315407"
      ]
     },
     "execution_count": 67,
     "metadata": {},
     "output_type": "execute_result"
    }
   ],
   "source": [
    "# Modelo Online\n",
    "predictions['predictions'][0]['values'][0][0][0]"
   ]
  },
  {
   "cell_type": "code",
   "execution_count": 68,
   "metadata": {},
   "outputs": [
    {
     "data": {
      "text/plain": [
       "0.01708098"
      ]
     },
     "execution_count": 68,
     "metadata": {},
     "output_type": "execute_result"
    }
   ],
   "source": [
    "# Modelo \"local\"\n",
    "rnet.predict(score_0)[0][0]"
   ]
  },
  {
   "cell_type": "code",
   "execution_count": null,
   "metadata": {},
   "outputs": [],
   "source": []
  }
 ],
 "metadata": {
  "kernelspec": {
   "display_name": "Python 3",
   "language": "python",
   "name": "python3"
  },
  "language_info": {
   "codemirror_mode": {
    "name": "ipython",
    "version": 3
   },
   "file_extension": ".py",
   "mimetype": "text/x-python",
   "name": "python",
   "nbconvert_exporter": "python",
   "pygments_lexer": "ipython3",
   "version": "3.8.3"
  },
  "pycharm": {
   "stem_cell": {
    "cell_type": "raw",
    "metadata": {
     "collapsed": false
    },
    "source": []
   }
  }
 },
 "nbformat": 4,
 "nbformat_minor": 4
}
