{
 "cells": [
  {
   "cell_type": "markdown",
   "metadata": {},
   "source": [
    "# Anexo D"
   ]
  },
  {
   "cell_type": "markdown",
   "metadata": {},
   "source": [
    "En esta libreta dinámica en python 3.8 se describe el proceso mediante el cual se realiza la segmentación automática descrita en en el Anexo C con ayuda de una biblioteca llamada \"segmentador\"."
   ]
  },
  {
   "cell_type": "code",
   "execution_count": 1,
   "metadata": {},
   "outputs": [],
   "source": [
    "import os\n",
    "import numpy as np\n",
    "from tqdm import tqdm\n",
    "from PIL import Image\n",
    "import matplotlib as mpl"
   ]
  },
  {
   "cell_type": "code",
   "execution_count": 2,
   "metadata": {},
   "outputs": [],
   "source": [
    "#Biblioteca para la segmentación automática\n",
    "import segmentador"
   ]
  },
  {
   "cell_type": "markdown",
   "metadata": {},
   "source": [
    "Leyendo archivos en el directorio de interés."
   ]
  },
  {
   "cell_type": "code",
   "execution_count": 3,
   "metadata": {},
   "outputs": [],
   "source": [
    "#Leyendo los archivos en los directorios de interés.\n",
    "files=os.listdir(\"C:\\\\Users\\\\LapTop\\\\Desktop\\\\TERMOGRAFIA\\\\TT2\\\\BaseDeDatosFrontales_FINAL_256_bits\\\\train\")"
   ]
  },
  {
   "cell_type": "markdown",
   "metadata": {},
   "source": [
    "Creamos los directorios para guardar los archivos de interés"
   ]
  },
  {
   "cell_type": "code",
   "execution_count": 4,
   "metadata": {},
   "outputs": [],
   "source": [
    "#Creando directorio\n",
    "os.mkdir('BaseDeDatosFrontales_SEGMENTADOR')"
   ]
  },
  {
   "cell_type": "code",
   "execution_count": 5,
   "metadata": {},
   "outputs": [],
   "source": [
    "#Subcarpeta para los archivos de entrenamiento\n",
    "os.mkdir('BaseDeDatosFrontales_SEGMENTADOR\\\\train')\n",
    "\n",
    "#Subcarpeta para los archivos npy}\n",
    "os.mkdir('BaseDeDatosFrontales_SEGMENTADOR\\\\train\\\\files_npy')\n",
    "\n",
    "#Subcarpeta para las imágenes para examinación manual\n",
    "os.mkdir('BaseDeDatosFrontales_SEGMENTADOR\\\\train\\\\images')"
   ]
  },
  {
   "cell_type": "code",
   "execution_count": 6,
   "metadata": {},
   "outputs": [],
   "source": [
    "#Subcarpeta para los archivos de validación\n",
    "os.mkdir('BaseDeDatosFrontales_SEGMENTADOR\\\\test')\n",
    "\n",
    "#Subcarpeta para los archivos npy\n",
    "os.mkdir('BaseDeDatosFrontales_SEGMENTADOR\\\\test\\\\files_npy')\n",
    "\n",
    "#Subcarpeta para las imágenes para examinación manual\n",
    "os.mkdir('BaseDeDatosFrontales_SEGMENTADOR\\\\test\\\\images')\n"
   ]
  },
  {
   "cell_type": "markdown",
   "metadata": {},
   "source": [
    "Ahora vamos a utilizar un for junto con la función try para saltar los posibles errores de implemantación.\n",
    "Se utilizará  una biblioteca de python llamada tqdm para visualizar el avance del ciclo for."
   ]
  },
  {
   "cell_type": "markdown",
   "metadata": {},
   "source": [
    "Imágenes de entrenamiento"
   ]
  },
  {
   "cell_type": "code",
   "execution_count": 7,
   "metadata": {},
   "outputs": [],
   "source": [
    "#Instanciamos un objeto para guardar nuestras imágenes como mapa de calor\n",
    "cm_hot = mpl.cm.get_cmap('hot')"
   ]
  },
  {
   "cell_type": "code",
   "execution_count": 8,
   "metadata": {
    "scrolled": false
   },
   "outputs": [
    {
     "name": "stderr",
     "output_type": "stream",
     "text": [
      "100%|██████████████████████████████████████| 3337/3337 [54:02<00:00,  1.03it/s]\n"
     ]
    }
   ],
   "source": [
    "#En esta variable almacernaremos la cantidad de errores de implemenatción\n",
    "errores=0\n",
    "counter=0\n",
    "\n",
    "for i in tqdm(files):\n",
    "    \n",
    "    try:\n",
    "        \n",
    "        imagen_temp=np.load(\"C:\\\\Users\\\\LapTop\\\\Desktop\\\\TERMOGRAFIA\\\\TT2\\\\BaseDeDatosFrontales_FINAL_256_bits\\\\train\\\\\"+i)\n",
    "        objeto_temp=segmentador.segmentador(imagen_temp)\n",
    "        right_breast, left_breast=objeto_temp.prueba()\n",
    "        \n",
    "        #Guardando archivos npy\n",
    "        #Seno derecho\n",
    "        np.save(\"C:\\\\Users\\\\LapTop\\\\Desktop\\\\TERMOGRAFIA\\\\TT2\\\\BaseDeDatosFrontales_SEGMENTADOR\\\\train\\\\files_npy\\\\\"+i[:-4]+\"_D\"+\".npy\",right_breast)\n",
    "        #Seno izquierdo\n",
    "        np.save(\"C:\\\\Users\\\\LapTop\\\\Desktop\\\\TERMOGRAFIA\\\\TT2\\\\BaseDeDatosFrontales_SEGMENTADOR\\\\train\\\\files_npy\\\\\"+i[:-4]+\"_I\"+\".npy\",left_breast)\n",
    "        \n",
    "        #Guardando imágenes\n",
    "        #Seno derecho\n",
    "        im_r=right_breast.astype(int)\n",
    "        im_r = cm_hot(im_r)\n",
    "        im_r = np.uint8(im_r * 255)\n",
    "        im_right = Image.fromarray(im_r)\n",
    "        im_right.save(\"C:\\\\Users\\\\LapTop\\\\Desktop\\\\TERMOGRAFIA\\\\TT2\\\\BaseDeDatosFrontales_SEGMENTADOR\\\\train\\\\images\\\\\"+i[:-4]+\"_D\"+\".png\")\n",
    "        #Seno izquierdo\n",
    "        im_l=left_breast.astype(int)\n",
    "        im_l = cm_hot(im_l)\n",
    "        im_l = np.uint8(im_l * 255)\n",
    "        im_left = Image.fromarray(im_l)\n",
    "        im_left.save(\"C:\\\\Users\\\\LapTop\\\\Desktop\\\\TERMOGRAFIA\\\\TT2\\\\BaseDeDatosFrontales_SEGMENTADOR\\\\train\\\\images\\\\\"+i[:-4]+\"_I\"+\".png\")\n",
    "        \n",
    "        counter+=1\n",
    "    \n",
    "    except:\n",
    "        \n",
    "        counter+=1\n",
    "        errores+=1\n",
    "        pass"
   ]
  },
  {
   "cell_type": "code",
   "execution_count": 9,
   "metadata": {},
   "outputs": [
    {
     "name": "stdout",
     "output_type": "stream",
     "text": [
      "Imágenes que no se segmentaron: 8\n"
     ]
    }
   ],
   "source": [
    "print(\"Imágenes que no se segmentaron: \"+str(errores))"
   ]
  },
  {
   "cell_type": "markdown",
   "metadata": {},
   "source": [
    "Imágenes de validación"
   ]
  },
  {
   "cell_type": "code",
   "execution_count": 10,
   "metadata": {},
   "outputs": [],
   "source": [
    "#Leyendo archivos del directorio de interés\n",
    "files2=os.listdir(\"C:\\\\Users\\\\LapTop\\\\Desktop\\\\TERMOGRAFIA\\\\TT2\\\\BaseDeDatosFrontales_FINAL_256_bits\\\\test\")"
   ]
  },
  {
   "cell_type": "code",
   "execution_count": 11,
   "metadata": {},
   "outputs": [
    {
     "name": "stderr",
     "output_type": "stream",
     "text": [
      "100%|████████████████████████████████████████| 832/832 [16:02<00:00,  1.16s/it]\n"
     ]
    }
   ],
   "source": [
    "#En esta variable almacernaremos la cantidad de errores de implemenatción\n",
    "errores=0\n",
    "counter=0\n",
    "\n",
    "for i in tqdm(files2):\n",
    "    \n",
    "    try:\n",
    "        \n",
    "        imagen_temp=np.load(\"C:\\\\Users\\\\LapTop\\\\Desktop\\\\TERMOGRAFIA\\\\TT2\\\\BaseDeDatosFrontales_FINAL_256_bits\\\\test\\\\\"+i)\n",
    "        objeto_temp=segmentador.segmentador(imagen_temp)\n",
    "        right_breast, left_breast=objeto_temp.prueba()\n",
    "        \n",
    "        #Guardando archivos npy\n",
    "        #Seno derecho\n",
    "        np.save(\"C:\\\\Users\\\\LapTop\\\\Desktop\\\\TERMOGRAFIA\\\\TT2\\\\BaseDeDatosFrontales_SEGMENTADOR\\\\test\\\\files_npy\\\\\"+i[:-4]+\"_D\"+\".npy\",right_breast)\n",
    "        #Seno izquierdo\n",
    "        np.save(\"C:\\\\Users\\\\LapTop\\\\Desktop\\\\TERMOGRAFIA\\\\TT2\\\\BaseDeDatosFrontales_SEGMENTADOR\\\\test\\\\files_npy\\\\\"+i[:-4]+\"_I\"+\".npy\",left_breast)\n",
    "        \n",
    "        #Guardando imágenes\n",
    "        #Seno derecho\n",
    "        im_r=right_breast.astype(int)\n",
    "        im_r = cm_hot(im_r)\n",
    "        im_r = np.uint8(im_r * 255)\n",
    "        im_right = Image.fromarray(im_r)\n",
    "        im_right.save(\"C:\\\\Users\\\\LapTop\\\\Desktop\\\\TERMOGRAFIA\\\\TT2\\\\BaseDeDatosFrontales_SEGMENTADOR\\\\test\\\\images\\\\\"+i[:-4]+\"_D\"+\".png\")\n",
    "        #Seno izquierdo\n",
    "        im_l=left_breast.astype(int)\n",
    "        im_l = cm_hot(im_l)\n",
    "        im_l = np.uint8(im_l * 255)\n",
    "        im_left = Image.fromarray(im_l)\n",
    "        im_left.save(\"C:\\\\Users\\\\LapTop\\\\Desktop\\\\TERMOGRAFIA\\\\TT2\\\\BaseDeDatosFrontales_SEGMENTADOR\\\\test\\\\images\\\\\"+i[:-4]+\"_I\"+\".png\")\n",
    "        \n",
    "        counter+=1\n",
    "    \n",
    "    except:\n",
    "        \n",
    "        counter+=1\n",
    "        errores+=1\n",
    "        pass"
   ]
  },
  {
   "cell_type": "code",
   "execution_count": 12,
   "metadata": {},
   "outputs": [
    {
     "name": "stdout",
     "output_type": "stream",
     "text": [
      "Imágenes que no se segmentaron: 0\n"
     ]
    }
   ],
   "source": [
    "print(\"Imágenes que no se segmentaron: \"+str(errores))"
   ]
  },
  {
   "cell_type": "markdown",
   "metadata": {},
   "source": [
    "A partir de los resultados obtenidos se podría inferir que el segmentador funciona.\n",
    "Sin embargo, estos resultados deberán ser revisados visualmente para saber si realmente la segmentación es realizada correctamente en la mayoría de los casos.\n",
    "Esto se reporta en el Anexo E."
   ]
  },
  {
   "cell_type": "code",
   "execution_count": null,
   "metadata": {},
   "outputs": [],
   "source": []
  }
 ],
 "metadata": {
  "kernelspec": {
   "display_name": "Python 3",
   "language": "python",
   "name": "python3"
  },
  "language_info": {
   "codemirror_mode": {
    "name": "ipython",
    "version": 3
   },
   "file_extension": ".py",
   "mimetype": "text/x-python",
   "name": "python",
   "nbconvert_exporter": "python",
   "pygments_lexer": "ipython3",
   "version": "3.8.3"
  }
 },
 "nbformat": 4,
 "nbformat_minor": 4
}
