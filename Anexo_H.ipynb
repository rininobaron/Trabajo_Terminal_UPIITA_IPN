{
 "cells": [
  {
   "cell_type": "markdown",
   "metadata": {},
   "source": [
    "Anexo H"
   ]
  },
  {
   "cell_type": "markdown",
   "metadata": {},
   "source": [
    "# Caracterización de las imágenes\n",
    "\n",
    "#### Elaborado por: Ricardo Niño de Rivera Barrón\n",
    "\n",
    "#### Ingeniería Biónica\n",
    "\n",
    "#### Trabajo Terminal II"
   ]
  },
  {
   "cell_type": "markdown",
   "metadata": {},
   "source": [
    "\n",
    "En esta libreta interactiva en python 3.8 se describe el proceso de construcción de los arreglos Y_train, Y_test y los archivos para la construcción de los archivos X."
   ]
  },
  {
   "cell_type": "code",
   "execution_count": 1,
   "metadata": {},
   "outputs": [],
   "source": [
    "# Importando bibliotecas necesarias\n",
    "import os\n",
    "import numpy as np\n",
    "import pandas as pd\n",
    "from tqdm import tqdm"
   ]
  },
  {
   "cell_type": "code",
   "execution_count": 2,
   "metadata": {},
   "outputs": [],
   "source": [
    "# Importamos la librería propuesta\n",
    "import caracterizador"
   ]
  },
  {
   "cell_type": "markdown",
   "metadata": {},
   "source": [
    "Leyendo los archivos en los directorios de interés."
   ]
  },
  {
   "cell_type": "code",
   "execution_count": 3,
   "metadata": {},
   "outputs": [],
   "source": [
    "files=os.listdir(\"C:\\\\Users\\\\LapTop\\\\Desktop\\\\TERMOGRAFIA\\\\TT2\\\\BaseDeDatosFrontales_SEGMENTADOR2\\\\train\\\\files_npy\")"
   ]
  },
  {
   "cell_type": "code",
   "execution_count": 4,
   "metadata": {},
   "outputs": [],
   "source": [
    "files2=os.listdir(\"C:\\\\Users\\\\LapTop\\\\Desktop\\\\TERMOGRAFIA\\\\TT2\\\\BaseDeDatosFrontales_SEGMENTADOR2\\\\test\\\\files_npy\")"
   ]
  },
  {
   "cell_type": "markdown",
   "metadata": {},
   "source": [
    "Leyendo los archivos csv de interés"
   ]
  },
  {
   "cell_type": "code",
   "execution_count": 5,
   "metadata": {},
   "outputs": [
    {
     "data": {
      "text/html": [
       "<div>\n",
       "<style scoped>\n",
       "    .dataframe tbody tr th:only-of-type {\n",
       "        vertical-align: middle;\n",
       "    }\n",
       "\n",
       "    .dataframe tbody tr th {\n",
       "        vertical-align: top;\n",
       "    }\n",
       "\n",
       "    .dataframe thead th {\n",
       "        text-align: right;\n",
       "    }\n",
       "</style>\n",
       "<table border=\"1\" class=\"dataframe\">\n",
       "  <thead>\n",
       "    <tr style=\"text-align: right;\">\n",
       "      <th></th>\n",
       "      <th>ID</th>\n",
       "      <th>Records</th>\n",
       "      <th>Name</th>\n",
       "      <th>Age</th>\n",
       "      <th>Exams</th>\n",
       "      <th>Diagnosis</th>\n",
       "      <th>Side</th>\n",
       "      <th>Complaints</th>\n",
       "      <th>Mammography</th>\n",
       "      <th>Radiotherapy</th>\n",
       "      <th>...</th>\n",
       "      <th>Use of hormone replacement</th>\n",
       "      <th>Is there signal of wart on breast?</th>\n",
       "      <th>Wart</th>\n",
       "      <th>Body temperature</th>\n",
       "      <th>Race</th>\n",
       "      <th>Smoked</th>\n",
       "      <th>Drank coffe</th>\n",
       "      <th>Comsumed alcohol</th>\n",
       "      <th>Physical exercise</th>\n",
       "      <th>Put some pomade, deodorant or products at breasts or armpits region?</th>\n",
       "    </tr>\n",
       "  </thead>\n",
       "  <tbody>\n",
       "    <tr>\n",
       "      <th>0</th>\n",
       "      <td>1</td>\n",
       "      <td>Voluntária</td>\n",
       "      <td>PRIVATE</td>\n",
       "      <td>72</td>\n",
       "      <td>Thermography</td>\n",
       "      <td>Healthy</td>\n",
       "      <td>NaN</td>\n",
       "      <td>NaN</td>\n",
       "      <td>1</td>\n",
       "      <td>0.0</td>\n",
       "      <td>...</td>\n",
       "      <td>0.0</td>\n",
       "      <td>1.0</td>\n",
       "      <td>both</td>\n",
       "      <td>34.9</td>\n",
       "      <td>Pardo</td>\n",
       "      <td>NaN</td>\n",
       "      <td>NaN</td>\n",
       "      <td>NaN</td>\n",
       "      <td>NaN</td>\n",
       "      <td>NaN</td>\n",
       "    </tr>\n",
       "    <tr>\n",
       "      <th>1</th>\n",
       "      <td>2</td>\n",
       "      <td>77020</td>\n",
       "      <td>PRIVATE</td>\n",
       "      <td>65</td>\n",
       "      <td>Thermography</td>\n",
       "      <td>Healthy</td>\n",
       "      <td>NaN</td>\n",
       "      <td>1.0</td>\n",
       "      <td>1</td>\n",
       "      <td>0.0</td>\n",
       "      <td>...</td>\n",
       "      <td>1.0</td>\n",
       "      <td>0.0</td>\n",
       "      <td>0</td>\n",
       "      <td>36.5</td>\n",
       "      <td>Pardo</td>\n",
       "      <td>0.0</td>\n",
       "      <td>0.0</td>\n",
       "      <td>0.0</td>\n",
       "      <td>0.0</td>\n",
       "      <td>0.0</td>\n",
       "    </tr>\n",
       "    <tr>\n",
       "      <th>2</th>\n",
       "      <td>4</td>\n",
       "      <td>Voluntária</td>\n",
       "      <td>PRIVATE</td>\n",
       "      <td>66</td>\n",
       "      <td>Thermography</td>\n",
       "      <td>Healthy</td>\n",
       "      <td>NaN</td>\n",
       "      <td>1.0</td>\n",
       "      <td>1</td>\n",
       "      <td>0.0</td>\n",
       "      <td>...</td>\n",
       "      <td>0.0</td>\n",
       "      <td>0.0</td>\n",
       "      <td>0</td>\n",
       "      <td>35.7</td>\n",
       "      <td>Black</td>\n",
       "      <td>NaN</td>\n",
       "      <td>NaN</td>\n",
       "      <td>NaN</td>\n",
       "      <td>NaN</td>\n",
       "      <td>NaN</td>\n",
       "    </tr>\n",
       "    <tr>\n",
       "      <th>3</th>\n",
       "      <td>5</td>\n",
       "      <td>Voluntária</td>\n",
       "      <td>PRIVATE</td>\n",
       "      <td>65</td>\n",
       "      <td>Thermography</td>\n",
       "      <td>Healthy</td>\n",
       "      <td>NaN</td>\n",
       "      <td>0.0</td>\n",
       "      <td>1</td>\n",
       "      <td>0.0</td>\n",
       "      <td>...</td>\n",
       "      <td>0.0</td>\n",
       "      <td>0.0</td>\n",
       "      <td>0</td>\n",
       "      <td>35.9</td>\n",
       "      <td>White</td>\n",
       "      <td>NaN</td>\n",
       "      <td>NaN</td>\n",
       "      <td>NaN</td>\n",
       "      <td>NaN</td>\n",
       "      <td>NaN</td>\n",
       "    </tr>\n",
       "    <tr>\n",
       "      <th>4</th>\n",
       "      <td>6</td>\n",
       "      <td>Voluntária</td>\n",
       "      <td>PRIVATE</td>\n",
       "      <td>53</td>\n",
       "      <td>Thermography</td>\n",
       "      <td>Healthy</td>\n",
       "      <td>NaN</td>\n",
       "      <td>0.0</td>\n",
       "      <td>0</td>\n",
       "      <td>0.0</td>\n",
       "      <td>...</td>\n",
       "      <td>0.0</td>\n",
       "      <td>0.0</td>\n",
       "      <td>0</td>\n",
       "      <td>35.4</td>\n",
       "      <td>Pardo</td>\n",
       "      <td>NaN</td>\n",
       "      <td>NaN</td>\n",
       "      <td>NaN</td>\n",
       "      <td>NaN</td>\n",
       "      <td>NaN</td>\n",
       "    </tr>\n",
       "    <tr>\n",
       "      <th>5</th>\n",
       "      <td>7</td>\n",
       "      <td>Voluntária</td>\n",
       "      <td>PRIVATE</td>\n",
       "      <td>54</td>\n",
       "      <td>Thermography</td>\n",
       "      <td>Healthy</td>\n",
       "      <td>NaN</td>\n",
       "      <td>1.0</td>\n",
       "      <td>1</td>\n",
       "      <td>0.0</td>\n",
       "      <td>...</td>\n",
       "      <td>0.0</td>\n",
       "      <td>0.0</td>\n",
       "      <td>0</td>\n",
       "      <td>36.4</td>\n",
       "      <td>Black</td>\n",
       "      <td>0.0</td>\n",
       "      <td>0.0</td>\n",
       "      <td>0.0</td>\n",
       "      <td>0.0</td>\n",
       "      <td>0.0</td>\n",
       "    </tr>\n",
       "    <tr>\n",
       "      <th>6</th>\n",
       "      <td>8</td>\n",
       "      <td>Voluntária</td>\n",
       "      <td>PRIVATE</td>\n",
       "      <td>59</td>\n",
       "      <td>Thermography</td>\n",
       "      <td>Healthy</td>\n",
       "      <td>NaN</td>\n",
       "      <td>0.0</td>\n",
       "      <td>0</td>\n",
       "      <td>0.0</td>\n",
       "      <td>...</td>\n",
       "      <td>0.0</td>\n",
       "      <td>1.0</td>\n",
       "      <td>both</td>\n",
       "      <td>34.6</td>\n",
       "      <td>Pardo</td>\n",
       "      <td>NaN</td>\n",
       "      <td>NaN</td>\n",
       "      <td>NaN</td>\n",
       "      <td>NaN</td>\n",
       "      <td>NaN</td>\n",
       "    </tr>\n",
       "    <tr>\n",
       "      <th>7</th>\n",
       "      <td>9</td>\n",
       "      <td>737745</td>\n",
       "      <td>PRIVATE</td>\n",
       "      <td>57</td>\n",
       "      <td>Thermography</td>\n",
       "      <td>Healthy</td>\n",
       "      <td>NaN</td>\n",
       "      <td>1.0</td>\n",
       "      <td>1</td>\n",
       "      <td>1.0</td>\n",
       "      <td>...</td>\n",
       "      <td>0.0</td>\n",
       "      <td>0.0</td>\n",
       "      <td>0</td>\n",
       "      <td>34.9</td>\n",
       "      <td>Pardo</td>\n",
       "      <td>0.0</td>\n",
       "      <td>0.0</td>\n",
       "      <td>0.0</td>\n",
       "      <td>0.0</td>\n",
       "      <td>0.0</td>\n",
       "    </tr>\n",
       "    <tr>\n",
       "      <th>8</th>\n",
       "      <td>10</td>\n",
       "      <td>763339</td>\n",
       "      <td>PRIVATE</td>\n",
       "      <td>51</td>\n",
       "      <td>Thermography</td>\n",
       "      <td>Healthy</td>\n",
       "      <td>NaN</td>\n",
       "      <td>1.0</td>\n",
       "      <td>1</td>\n",
       "      <td>1.0</td>\n",
       "      <td>...</td>\n",
       "      <td>1.0</td>\n",
       "      <td>0.0</td>\n",
       "      <td>0</td>\n",
       "      <td>34.3</td>\n",
       "      <td>Black</td>\n",
       "      <td>0.0</td>\n",
       "      <td>0.0</td>\n",
       "      <td>0.0</td>\n",
       "      <td>0.0</td>\n",
       "      <td>0.0</td>\n",
       "    </tr>\n",
       "    <tr>\n",
       "      <th>9</th>\n",
       "      <td>13</td>\n",
       "      <td>Voluntária</td>\n",
       "      <td>PRIVATE</td>\n",
       "      <td>62</td>\n",
       "      <td>Thermography</td>\n",
       "      <td>Healthy</td>\n",
       "      <td>NaN</td>\n",
       "      <td>1.0</td>\n",
       "      <td>1</td>\n",
       "      <td>0.0</td>\n",
       "      <td>...</td>\n",
       "      <td>0.0</td>\n",
       "      <td>0.0</td>\n",
       "      <td>0</td>\n",
       "      <td>35.8</td>\n",
       "      <td>Pardo</td>\n",
       "      <td>0.0</td>\n",
       "      <td>0.0</td>\n",
       "      <td>0.0</td>\n",
       "      <td>0.0</td>\n",
       "      <td>0.0</td>\n",
       "    </tr>\n",
       "  </tbody>\n",
       "</table>\n",
       "<p>10 rows × 23 columns</p>\n",
       "</div>"
      ],
      "text/plain": [
       "   ID     Records     Name  Age         Exams Diagnosis Side  Complaints  \\\n",
       "0   1  Voluntária  PRIVATE   72  Thermography   Healthy  NaN         NaN   \n",
       "1   2       77020  PRIVATE   65  Thermography   Healthy  NaN         1.0   \n",
       "2   4  Voluntária  PRIVATE   66  Thermography   Healthy  NaN         1.0   \n",
       "3   5  Voluntária  PRIVATE   65  Thermography   Healthy  NaN         0.0   \n",
       "4   6  Voluntária  PRIVATE   53  Thermography   Healthy  NaN         0.0   \n",
       "5   7  Voluntária  PRIVATE   54  Thermography   Healthy  NaN         1.0   \n",
       "6   8  Voluntária  PRIVATE   59  Thermography   Healthy  NaN         0.0   \n",
       "7   9      737745  PRIVATE   57  Thermography   Healthy  NaN         1.0   \n",
       "8  10      763339  PRIVATE   51  Thermography   Healthy  NaN         1.0   \n",
       "9  13  Voluntária  PRIVATE   62  Thermography   Healthy  NaN         1.0   \n",
       "\n",
       "   Mammography  Radiotherapy  ...  Use of hormone replacement  \\\n",
       "0            1           0.0  ...                         0.0   \n",
       "1            1           0.0  ...                         1.0   \n",
       "2            1           0.0  ...                         0.0   \n",
       "3            1           0.0  ...                         0.0   \n",
       "4            0           0.0  ...                         0.0   \n",
       "5            1           0.0  ...                         0.0   \n",
       "6            0           0.0  ...                         0.0   \n",
       "7            1           1.0  ...                         0.0   \n",
       "8            1           1.0  ...                         1.0   \n",
       "9            1           0.0  ...                         0.0   \n",
       "\n",
       "   Is there signal of wart on breast?  Wart  Body temperature   Race Smoked  \\\n",
       "0                                 1.0  both              34.9  Pardo    NaN   \n",
       "1                                 0.0     0              36.5  Pardo    0.0   \n",
       "2                                 0.0     0              35.7  Black    NaN   \n",
       "3                                 0.0     0              35.9  White    NaN   \n",
       "4                                 0.0     0              35.4  Pardo    NaN   \n",
       "5                                 0.0     0              36.4  Black    0.0   \n",
       "6                                 1.0  both              34.6  Pardo    NaN   \n",
       "7                                 0.0     0              34.9  Pardo    0.0   \n",
       "8                                 0.0     0              34.3  Black    0.0   \n",
       "9                                 0.0     0              35.8  Pardo    0.0   \n",
       "\n",
       "   Drank coffe Comsumed alcohol  Physical exercise  \\\n",
       "0          NaN              NaN                NaN   \n",
       "1          0.0              0.0                0.0   \n",
       "2          NaN              NaN                NaN   \n",
       "3          NaN              NaN                NaN   \n",
       "4          NaN              NaN                NaN   \n",
       "5          0.0              0.0                0.0   \n",
       "6          NaN              NaN                NaN   \n",
       "7          0.0              0.0                0.0   \n",
       "8          0.0              0.0                0.0   \n",
       "9          0.0              0.0                0.0   \n",
       "\n",
       "   Put some pomade, deodorant or products at breasts or armpits region?  \n",
       "0                                                NaN                     \n",
       "1                                                0.0                     \n",
       "2                                                NaN                     \n",
       "3                                                NaN                     \n",
       "4                                                NaN                     \n",
       "5                                                0.0                     \n",
       "6                                                NaN                     \n",
       "7                                                0.0                     \n",
       "8                                                0.0                     \n",
       "9                                                0.0                     \n",
       "\n",
       "[10 rows x 23 columns]"
      ]
     },
     "execution_count": 5,
     "metadata": {},
     "output_type": "execute_result"
    }
   ],
   "source": [
    "train=pd.read_csv(\"C:\\\\Users\\\\LapTop\\\\Desktop\\\\TERMOGRAFIA\\\\TT2\\\\train.csv\")\n",
    "train.head(10)"
   ]
  },
  {
   "cell_type": "code",
   "execution_count": 6,
   "metadata": {},
   "outputs": [
    {
     "data": {
      "text/html": [
       "<div>\n",
       "<style scoped>\n",
       "    .dataframe tbody tr th:only-of-type {\n",
       "        vertical-align: middle;\n",
       "    }\n",
       "\n",
       "    .dataframe tbody tr th {\n",
       "        vertical-align: top;\n",
       "    }\n",
       "\n",
       "    .dataframe thead th {\n",
       "        text-align: right;\n",
       "    }\n",
       "</style>\n",
       "<table border=\"1\" class=\"dataframe\">\n",
       "  <thead>\n",
       "    <tr style=\"text-align: right;\">\n",
       "      <th></th>\n",
       "      <th>ID</th>\n",
       "      <th>Records</th>\n",
       "      <th>Name</th>\n",
       "      <th>Age</th>\n",
       "      <th>Exams</th>\n",
       "      <th>Diagnosis</th>\n",
       "      <th>Side</th>\n",
       "      <th>Complaints</th>\n",
       "      <th>Mammography</th>\n",
       "      <th>Radiotherapy</th>\n",
       "      <th>...</th>\n",
       "      <th>Use of hormone replacement</th>\n",
       "      <th>Is there signal of wart on breast?</th>\n",
       "      <th>Wart</th>\n",
       "      <th>Body temperature</th>\n",
       "      <th>Race</th>\n",
       "      <th>Smoked</th>\n",
       "      <th>Drank coffe</th>\n",
       "      <th>Comsumed alcohol</th>\n",
       "      <th>Physical exercise</th>\n",
       "      <th>Put some pomade, deodorant or products at breasts or armpits region?</th>\n",
       "    </tr>\n",
       "  </thead>\n",
       "  <tbody>\n",
       "    <tr>\n",
       "      <th>0</th>\n",
       "      <td>12</td>\n",
       "      <td>Voluntária</td>\n",
       "      <td>PRIVATE</td>\n",
       "      <td>57</td>\n",
       "      <td>Thermography</td>\n",
       "      <td>Healthy</td>\n",
       "      <td>NaN</td>\n",
       "      <td>1.0</td>\n",
       "      <td>1</td>\n",
       "      <td>0.0</td>\n",
       "      <td>...</td>\n",
       "      <td>0.0</td>\n",
       "      <td>0.0</td>\n",
       "      <td>0</td>\n",
       "      <td>35.0</td>\n",
       "      <td>Pardo</td>\n",
       "      <td>0.0</td>\n",
       "      <td>0.0</td>\n",
       "      <td>0.0</td>\n",
       "      <td>0.0</td>\n",
       "      <td>0.0</td>\n",
       "    </tr>\n",
       "    <tr>\n",
       "      <th>1</th>\n",
       "      <td>19</td>\n",
       "      <td>17750-4</td>\n",
       "      <td>PRIVATE</td>\n",
       "      <td>49</td>\n",
       "      <td>Thermography</td>\n",
       "      <td>Healthy</td>\n",
       "      <td>NaN</td>\n",
       "      <td>1.0</td>\n",
       "      <td>0</td>\n",
       "      <td>0.0</td>\n",
       "      <td>...</td>\n",
       "      <td>0.0</td>\n",
       "      <td>0.0</td>\n",
       "      <td>0</td>\n",
       "      <td>34.2</td>\n",
       "      <td>Black</td>\n",
       "      <td>0.0</td>\n",
       "      <td>0.0</td>\n",
       "      <td>0.0</td>\n",
       "      <td>0.0</td>\n",
       "      <td>0.0</td>\n",
       "    </tr>\n",
       "    <tr>\n",
       "      <th>2</th>\n",
       "      <td>20</td>\n",
       "      <td>33141337</td>\n",
       "      <td>PRIVATE</td>\n",
       "      <td>77</td>\n",
       "      <td>Thermography</td>\n",
       "      <td>Healthy</td>\n",
       "      <td>NaN</td>\n",
       "      <td>0.0</td>\n",
       "      <td>1</td>\n",
       "      <td>0.0</td>\n",
       "      <td>...</td>\n",
       "      <td>0.0</td>\n",
       "      <td>0.0</td>\n",
       "      <td>0</td>\n",
       "      <td>35.0</td>\n",
       "      <td>White</td>\n",
       "      <td>0.0</td>\n",
       "      <td>0.0</td>\n",
       "      <td>0.0</td>\n",
       "      <td>0.0</td>\n",
       "      <td>0.0</td>\n",
       "    </tr>\n",
       "    <tr>\n",
       "      <th>3</th>\n",
       "      <td>22</td>\n",
       "      <td>452763</td>\n",
       "      <td>PRIVATE</td>\n",
       "      <td>68</td>\n",
       "      <td>Thermography</td>\n",
       "      <td>Healthy</td>\n",
       "      <td>NaN</td>\n",
       "      <td>0.0</td>\n",
       "      <td>1</td>\n",
       "      <td>0.0</td>\n",
       "      <td>...</td>\n",
       "      <td>0.0</td>\n",
       "      <td>0.0</td>\n",
       "      <td>0</td>\n",
       "      <td>35.7</td>\n",
       "      <td>White</td>\n",
       "      <td>0.0</td>\n",
       "      <td>0.0</td>\n",
       "      <td>0.0</td>\n",
       "      <td>0.0</td>\n",
       "      <td>0.0</td>\n",
       "    </tr>\n",
       "    <tr>\n",
       "      <th>4</th>\n",
       "      <td>32</td>\n",
       "      <td>7683288</td>\n",
       "      <td>PRIVATE</td>\n",
       "      <td>71</td>\n",
       "      <td>Thermography</td>\n",
       "      <td>Healthy</td>\n",
       "      <td>NaN</td>\n",
       "      <td>NaN</td>\n",
       "      <td>1</td>\n",
       "      <td>0.0</td>\n",
       "      <td>...</td>\n",
       "      <td>0.0</td>\n",
       "      <td>0.0</td>\n",
       "      <td>0</td>\n",
       "      <td>34.7</td>\n",
       "      <td>Black</td>\n",
       "      <td>0.0</td>\n",
       "      <td>0.0</td>\n",
       "      <td>0.0</td>\n",
       "      <td>0.0</td>\n",
       "      <td>0.0</td>\n",
       "    </tr>\n",
       "    <tr>\n",
       "      <th>5</th>\n",
       "      <td>38</td>\n",
       "      <td>Voluntária</td>\n",
       "      <td>PRIVATE</td>\n",
       "      <td>70</td>\n",
       "      <td>Thermography</td>\n",
       "      <td>Healthy</td>\n",
       "      <td>NaN</td>\n",
       "      <td>1.0</td>\n",
       "      <td>1</td>\n",
       "      <td>0.0</td>\n",
       "      <td>...</td>\n",
       "      <td>NaN</td>\n",
       "      <td>1.0</td>\n",
       "      <td>left</td>\n",
       "      <td>36.2</td>\n",
       "      <td>Indigena</td>\n",
       "      <td>0.0</td>\n",
       "      <td>0.0</td>\n",
       "      <td>0.0</td>\n",
       "      <td>0.0</td>\n",
       "      <td>0.0</td>\n",
       "    </tr>\n",
       "    <tr>\n",
       "      <th>6</th>\n",
       "      <td>57</td>\n",
       "      <td>601337</td>\n",
       "      <td>PRIVATE</td>\n",
       "      <td>78</td>\n",
       "      <td>Thermography</td>\n",
       "      <td>Healthy</td>\n",
       "      <td>NaN</td>\n",
       "      <td>0.0</td>\n",
       "      <td>1</td>\n",
       "      <td>0.0</td>\n",
       "      <td>...</td>\n",
       "      <td>1.0</td>\n",
       "      <td>0.0</td>\n",
       "      <td>0</td>\n",
       "      <td>34.7</td>\n",
       "      <td>Black</td>\n",
       "      <td>0.0</td>\n",
       "      <td>0.0</td>\n",
       "      <td>0.0</td>\n",
       "      <td>0.0</td>\n",
       "      <td>0.0</td>\n",
       "    </tr>\n",
       "    <tr>\n",
       "      <th>7</th>\n",
       "      <td>67</td>\n",
       "      <td>593404</td>\n",
       "      <td>PRIVATE</td>\n",
       "      <td>43</td>\n",
       "      <td>Thermography, mammography</td>\n",
       "      <td>Healthy</td>\n",
       "      <td>NaN</td>\n",
       "      <td>1.0</td>\n",
       "      <td>1</td>\n",
       "      <td>0.0</td>\n",
       "      <td>...</td>\n",
       "      <td>0.0</td>\n",
       "      <td>0.0</td>\n",
       "      <td>0</td>\n",
       "      <td>36.3</td>\n",
       "      <td>Pardo</td>\n",
       "      <td>1.0</td>\n",
       "      <td>0.0</td>\n",
       "      <td>0.0</td>\n",
       "      <td>0.0</td>\n",
       "      <td>1.0</td>\n",
       "    </tr>\n",
       "    <tr>\n",
       "      <th>8</th>\n",
       "      <td>72</td>\n",
       "      <td>15340</td>\n",
       "      <td>PRIVATE</td>\n",
       "      <td>60</td>\n",
       "      <td>Thermography</td>\n",
       "      <td>Healthy</td>\n",
       "      <td>NaN</td>\n",
       "      <td>0.0</td>\n",
       "      <td>1</td>\n",
       "      <td>0.0</td>\n",
       "      <td>...</td>\n",
       "      <td>0.0</td>\n",
       "      <td>0.0</td>\n",
       "      <td>0</td>\n",
       "      <td>33.3</td>\n",
       "      <td>Pardo</td>\n",
       "      <td>0.0</td>\n",
       "      <td>0.0</td>\n",
       "      <td>0.0</td>\n",
       "      <td>0.0</td>\n",
       "      <td>0.0</td>\n",
       "    </tr>\n",
       "    <tr>\n",
       "      <th>9</th>\n",
       "      <td>89</td>\n",
       "      <td>743821</td>\n",
       "      <td>PRIVATE</td>\n",
       "      <td>60</td>\n",
       "      <td>Thermography</td>\n",
       "      <td>Healthy</td>\n",
       "      <td>NaN</td>\n",
       "      <td>0.0</td>\n",
       "      <td>1</td>\n",
       "      <td>0.0</td>\n",
       "      <td>...</td>\n",
       "      <td>0.0</td>\n",
       "      <td>1.0</td>\n",
       "      <td>both</td>\n",
       "      <td>35.0</td>\n",
       "      <td>Pardo</td>\n",
       "      <td>0.0</td>\n",
       "      <td>0.0</td>\n",
       "      <td>0.0</td>\n",
       "      <td>0.0</td>\n",
       "      <td>1.0</td>\n",
       "    </tr>\n",
       "  </tbody>\n",
       "</table>\n",
       "<p>10 rows × 23 columns</p>\n",
       "</div>"
      ],
      "text/plain": [
       "   ID     Records     Name  Age                      Exams Diagnosis Side  \\\n",
       "0  12  Voluntária  PRIVATE   57               Thermography   Healthy  NaN   \n",
       "1  19     17750-4  PRIVATE   49               Thermography   Healthy  NaN   \n",
       "2  20    33141337  PRIVATE   77               Thermography   Healthy  NaN   \n",
       "3  22      452763  PRIVATE   68               Thermography   Healthy  NaN   \n",
       "4  32     7683288  PRIVATE   71               Thermography   Healthy  NaN   \n",
       "5  38  Voluntária  PRIVATE   70               Thermography   Healthy  NaN   \n",
       "6  57      601337  PRIVATE   78               Thermography   Healthy  NaN   \n",
       "7  67      593404  PRIVATE   43  Thermography, mammography   Healthy  NaN   \n",
       "8  72       15340  PRIVATE   60               Thermography   Healthy  NaN   \n",
       "9  89      743821  PRIVATE   60               Thermography   Healthy  NaN   \n",
       "\n",
       "   Complaints  Mammography  Radiotherapy  ...  Use of hormone replacement  \\\n",
       "0         1.0            1           0.0  ...                         0.0   \n",
       "1         1.0            0           0.0  ...                         0.0   \n",
       "2         0.0            1           0.0  ...                         0.0   \n",
       "3         0.0            1           0.0  ...                         0.0   \n",
       "4         NaN            1           0.0  ...                         0.0   \n",
       "5         1.0            1           0.0  ...                         NaN   \n",
       "6         0.0            1           0.0  ...                         1.0   \n",
       "7         1.0            1           0.0  ...                         0.0   \n",
       "8         0.0            1           0.0  ...                         0.0   \n",
       "9         0.0            1           0.0  ...                         0.0   \n",
       "\n",
       "   Is there signal of wart on breast?  Wart  Body temperature      Race  \\\n",
       "0                                 0.0     0              35.0     Pardo   \n",
       "1                                 0.0     0              34.2     Black   \n",
       "2                                 0.0     0              35.0     White   \n",
       "3                                 0.0     0              35.7     White   \n",
       "4                                 0.0     0              34.7     Black   \n",
       "5                                 1.0  left              36.2  Indigena   \n",
       "6                                 0.0     0              34.7     Black   \n",
       "7                                 0.0     0              36.3     Pardo   \n",
       "8                                 0.0     0              33.3     Pardo   \n",
       "9                                 1.0  both              35.0     Pardo   \n",
       "\n",
       "  Smoked  Drank coffe Comsumed alcohol  Physical exercise  \\\n",
       "0    0.0          0.0              0.0                0.0   \n",
       "1    0.0          0.0              0.0                0.0   \n",
       "2    0.0          0.0              0.0                0.0   \n",
       "3    0.0          0.0              0.0                0.0   \n",
       "4    0.0          0.0              0.0                0.0   \n",
       "5    0.0          0.0              0.0                0.0   \n",
       "6    0.0          0.0              0.0                0.0   \n",
       "7    1.0          0.0              0.0                0.0   \n",
       "8    0.0          0.0              0.0                0.0   \n",
       "9    0.0          0.0              0.0                0.0   \n",
       "\n",
       "   Put some pomade, deodorant or products at breasts or armpits region?  \n",
       "0                                                0.0                     \n",
       "1                                                0.0                     \n",
       "2                                                0.0                     \n",
       "3                                                0.0                     \n",
       "4                                                0.0                     \n",
       "5                                                0.0                     \n",
       "6                                                0.0                     \n",
       "7                                                1.0                     \n",
       "8                                                0.0                     \n",
       "9                                                1.0                     \n",
       "\n",
       "[10 rows x 23 columns]"
      ]
     },
     "execution_count": 6,
     "metadata": {},
     "output_type": "execute_result"
    }
   ],
   "source": [
    "test=pd.read_csv(\"C:\\\\Users\\\\LapTop\\\\Desktop\\\\TERMOGRAFIA\\\\TT2\\\\test.csv\")\n",
    "test.head(10)"
   ]
  },
  {
   "cell_type": "markdown",
   "metadata": {},
   "source": [
    "# Construyendo Y's"
   ]
  },
  {
   "cell_type": "markdown",
   "metadata": {},
   "source": [
    "Y_train y Y_test se construirán conforme a la aparición de los archivos."
   ]
  },
  {
   "cell_type": "markdown",
   "metadata": {},
   "source": [
    "### Y_train"
   ]
  },
  {
   "cell_type": "code",
   "execution_count": 7,
   "metadata": {},
   "outputs": [],
   "source": [
    "Y_train=np.zeros((len(files),))"
   ]
  },
  {
   "cell_type": "code",
   "execution_count": 8,
   "metadata": {},
   "outputs": [
    {
     "data": {
      "text/plain": [
       "3337.0"
      ]
     },
     "execution_count": 8,
     "metadata": {},
     "output_type": "execute_result"
    }
   ],
   "source": [
    "len(files)/2"
   ]
  },
  {
   "cell_type": "code",
   "execution_count": 9,
   "metadata": {},
   "outputs": [
    {
     "name": "stdout",
     "output_type": "stream",
     "text": [
      "3337\n"
     ]
    }
   ],
   "source": [
    "count=0\n",
    "for i in range(len(files)):\n",
    "    if i%2==0:\n",
    "        if files[i][:-6]==files[i+1][:-6]:\n",
    "             if train.Diagnosis.loc[train['ID']==int(files[i][1:5])].item() == 'Sick':\n",
    "                    Y_train[count]=1\n",
    "        else:\n",
    "            print(\"ERROR!\")\n",
    "            break\n",
    "        count+=1\n",
    "print(count)"
   ]
  },
  {
   "cell_type": "code",
   "execution_count": 10,
   "metadata": {},
   "outputs": [
    {
     "data": {
      "text/plain": [
       "602.0"
      ]
     },
     "execution_count": 10,
     "metadata": {},
     "output_type": "execute_result"
    }
   ],
   "source": [
    "# Imágenes positivas en el conjunto de entrenamiento\n",
    "np.sum(Y_train)"
   ]
  },
  {
   "cell_type": "code",
   "execution_count": 12,
   "metadata": {},
   "outputs": [],
   "source": [
    "# Guardando Y_train\n",
    "np.save(\"Y_train.npy\", Y_train)"
   ]
  },
  {
   "cell_type": "markdown",
   "metadata": {},
   "source": [
    "### Y_test"
   ]
  },
  {
   "cell_type": "code",
   "execution_count": 13,
   "metadata": {},
   "outputs": [],
   "source": [
    "Y_test=np.zeros((len(files2),))"
   ]
  },
  {
   "cell_type": "code",
   "execution_count": 14,
   "metadata": {},
   "outputs": [
    {
     "data": {
      "text/plain": [
       "832.0"
      ]
     },
     "execution_count": 14,
     "metadata": {},
     "output_type": "execute_result"
    }
   ],
   "source": [
    "len(files2)/2"
   ]
  },
  {
   "cell_type": "code",
   "execution_count": 15,
   "metadata": {},
   "outputs": [
    {
     "name": "stdout",
     "output_type": "stream",
     "text": [
      "832\n"
     ]
    }
   ],
   "source": [
    "count=0\n",
    "for i in range(len(files2)):\n",
    "    if i%2==0:\n",
    "        if files2[i][:-6]==files2[i+1][:-6]:\n",
    "             if test.Diagnosis.loc[test['ID']==int(files2[i][1:5])].item() == 'Sick':\n",
    "                    Y_test[count]=1\n",
    "        else:\n",
    "            print(\"ERROR!\")\n",
    "            break\n",
    "        count+=1\n",
    "print(count)"
   ]
  },
  {
   "cell_type": "code",
   "execution_count": 16,
   "metadata": {},
   "outputs": [
    {
     "data": {
      "text/plain": [
       "231.0"
      ]
     },
     "execution_count": 16,
     "metadata": {},
     "output_type": "execute_result"
    }
   ],
   "source": [
    "# Imágenes positivas en el conjunto de validación\n",
    "np.sum(Y_test)"
   ]
  },
  {
   "cell_type": "code",
   "execution_count": 18,
   "metadata": {},
   "outputs": [],
   "source": [
    "# Guardando Y_test\n",
    "np.save(\"Y_test.npy\", Y_test)"
   ]
  },
  {
   "cell_type": "markdown",
   "metadata": {},
   "source": [
    "# Construyendo directorios para archivos X's"
   ]
  },
  {
   "cell_type": "markdown",
   "metadata": {},
   "source": [
    "Debido a la cantidad de archivos se realizan dos directorios para almacenar los archivos resultantes de las segmentaciones derecha e izquierda de cada imagen."
   ]
  },
  {
   "cell_type": "code",
   "execution_count": 12,
   "metadata": {},
   "outputs": [],
   "source": [
    "# Creando carpeta BaseDeDatosFrontales_VECTORES\n",
    "os.mkdir('BaseDeDatosFrontales_VECTORES')"
   ]
  },
  {
   "cell_type": "code",
   "execution_count": 13,
   "metadata": {},
   "outputs": [],
   "source": [
    "# Creando subcarpeta BaseDeDatosFrontales_VECTORES/train\n",
    "os.mkdir('BaseDeDatosFrontales_VECTORES/train')"
   ]
  },
  {
   "cell_type": "code",
   "execution_count": 14,
   "metadata": {},
   "outputs": [],
   "source": [
    "# Creando subcarpeta BaseDeDatosFrontales_VECTORES/test\n",
    "os.mkdir('BaseDeDatosFrontales_VECTORES/test')"
   ]
  },
  {
   "cell_type": "code",
   "execution_count": 15,
   "metadata": {},
   "outputs": [],
   "source": [
    "path = \"C:\\\\Users\\\\LapTop\\\\Desktop\\\\TERMOGRAFIA\\\\TT2\\\\BaseDeDatosFrontales_VECTORES\\\\\""
   ]
  },
  {
   "cell_type": "markdown",
   "metadata": {},
   "source": [
    "### Entrenamiento"
   ]
  },
  {
   "cell_type": "code",
   "execution_count": 21,
   "metadata": {
    "scrolled": false
   },
   "outputs": [
    {
     "name": "stderr",
     "output_type": "stream",
     "text": [
      "  3%|█                                 | 199/6674 [2:52:19<88:14:56, 49.07s/it]"
     ]
    },
    {
     "name": "stdout",
     "output_type": "stream",
     "text": [
      "100.0\n",
      "100\n"
     ]
    },
    {
     "name": "stderr",
     "output_type": "stream",
     "text": [
      "  6%|██                                | 399/6674 [5:42:54<97:14:39, 55.79s/it]"
     ]
    },
    {
     "name": "stdout",
     "output_type": "stream",
     "text": [
      "200.0\n",
      "200\n"
     ]
    },
    {
     "name": "stderr",
     "output_type": "stream",
     "text": [
      "  9%|███                               | 599/6674 [8:40:15<87:18:03, 51.73s/it]"
     ]
    },
    {
     "name": "stdout",
     "output_type": "stream",
     "text": [
      "300.0\n",
      "300\n"
     ]
    },
    {
     "name": "stderr",
     "output_type": "stream",
     "text": [
      " 12%|███▉                             | 799/6674 [11:21:19<77:34:21, 47.53s/it]"
     ]
    },
    {
     "name": "stdout",
     "output_type": "stream",
     "text": [
      "400.0\n",
      "400\n"
     ]
    },
    {
     "name": "stderr",
     "output_type": "stream",
     "text": [
      " 15%|████▉                            | 999/6674 [13:59:20<73:35:27, 46.68s/it]"
     ]
    },
    {
     "name": "stdout",
     "output_type": "stream",
     "text": [
      "500.0\n",
      "500\n"
     ]
    },
    {
     "name": "stderr",
     "output_type": "stream",
     "text": [
      " 18%|█████▋                          | 1199/6674 [16:35:04<71:01:59, 46.71s/it]"
     ]
    },
    {
     "name": "stdout",
     "output_type": "stream",
     "text": [
      "600.0\n",
      "600\n"
     ]
    },
    {
     "name": "stderr",
     "output_type": "stream",
     "text": [
      " 21%|██████▋                         | 1399/6674 [19:12:45<85:43:01, 58.50s/it]"
     ]
    },
    {
     "name": "stdout",
     "output_type": "stream",
     "text": [
      "700.0\n",
      "700\n"
     ]
    },
    {
     "name": "stderr",
     "output_type": "stream",
     "text": [
      " 24%|███████▋                        | 1599/6674 [22:18:11<69:31:14, 49.32s/it]"
     ]
    },
    {
     "name": "stdout",
     "output_type": "stream",
     "text": [
      "800.0\n",
      "800\n"
     ]
    },
    {
     "name": "stderr",
     "output_type": "stream",
     "text": [
      " 27%|████████▋                       | 1799/6674 [25:19:21<66:03:17, 48.78s/it]"
     ]
    },
    {
     "name": "stdout",
     "output_type": "stream",
     "text": [
      "900.0\n",
      "900\n"
     ]
    },
    {
     "name": "stderr",
     "output_type": "stream",
     "text": [
      " 30%|█████████▌                      | 1999/6674 [28:12:47<67:16:51, 51.81s/it]"
     ]
    },
    {
     "name": "stdout",
     "output_type": "stream",
     "text": [
      "1000.0\n",
      "1000\n"
     ]
    },
    {
     "name": "stderr",
     "output_type": "stream",
     "text": [
      " 33%|██████████▌                     | 2199/6674 [31:07:47<73:58:16, 59.51s/it]"
     ]
    },
    {
     "name": "stdout",
     "output_type": "stream",
     "text": [
      "1100.0\n",
      "1100\n"
     ]
    },
    {
     "name": "stderr",
     "output_type": "stream",
     "text": [
      " 36%|███████████▌                    | 2399/6674 [34:05:27<54:46:50, 46.13s/it]"
     ]
    },
    {
     "name": "stdout",
     "output_type": "stream",
     "text": [
      "1200.0\n",
      "1200\n"
     ]
    },
    {
     "name": "stderr",
     "output_type": "stream",
     "text": [
      " 39%|████████████▍                   | 2599/6674 [36:39:05<52:06:10, 46.03s/it]"
     ]
    },
    {
     "name": "stdout",
     "output_type": "stream",
     "text": [
      "1300.0\n",
      "1300\n"
     ]
    },
    {
     "name": "stderr",
     "output_type": "stream",
     "text": [
      " 42%|█████████████▍                  | 2799/6674 [39:12:37<49:33:45, 46.05s/it]"
     ]
    },
    {
     "name": "stdout",
     "output_type": "stream",
     "text": [
      "1400.0\n",
      "1400\n"
     ]
    },
    {
     "name": "stderr",
     "output_type": "stream",
     "text": [
      " 45%|██████████████▍                 | 2999/6674 [41:45:50<47:10:18, 46.21s/it]"
     ]
    },
    {
     "name": "stdout",
     "output_type": "stream",
     "text": [
      "1500.0\n",
      "1500\n"
     ]
    },
    {
     "name": "stderr",
     "output_type": "stream",
     "text": [
      " 48%|███████████████▎                | 3199/6674 [44:31:36<50:42:20, 52.53s/it]"
     ]
    },
    {
     "name": "stdout",
     "output_type": "stream",
     "text": [
      "1600.0\n",
      "1600\n"
     ]
    },
    {
     "name": "stderr",
     "output_type": "stream",
     "text": [
      " 51%|████████████████▎               | 3399/6674 [47:29:01<47:56:04, 52.69s/it]"
     ]
    },
    {
     "name": "stdout",
     "output_type": "stream",
     "text": [
      "1700.0\n",
      "1700\n"
     ]
    },
    {
     "name": "stderr",
     "output_type": "stream",
     "text": [
      " 54%|█████████████████▎              | 3599/6674 [50:12:33<44:47:42, 52.44s/it]"
     ]
    },
    {
     "name": "stdout",
     "output_type": "stream",
     "text": [
      "1800.0\n",
      "1800\n"
     ]
    },
    {
     "name": "stderr",
     "output_type": "stream",
     "text": [
      " 57%|██████████████████▏             | 3799/6674 [53:27:21<72:06:40, 90.30s/it]"
     ]
    },
    {
     "name": "stdout",
     "output_type": "stream",
     "text": [
      "1900.0\n",
      "1900\n"
     ]
    },
    {
     "name": "stderr",
     "output_type": "stream",
     "text": [
      " 60%|███████████████████▏            | 3999/6674 [56:29:06<34:48:26, 46.84s/it]"
     ]
    },
    {
     "name": "stdout",
     "output_type": "stream",
     "text": [
      "2000.0\n",
      "2000\n"
     ]
    },
    {
     "name": "stderr",
     "output_type": "stream",
     "text": [
      " 63%|████████████████████▏           | 4199/6674 [59:02:00<31:38:21, 46.02s/it]"
     ]
    },
    {
     "name": "stdout",
     "output_type": "stream",
     "text": [
      "2100.0\n",
      "2100\n"
     ]
    },
    {
     "name": "stderr",
     "output_type": "stream",
     "text": [
      " 66%|█████████████████████           | 4399/6674 [61:35:13<28:57:51, 45.83s/it]"
     ]
    },
    {
     "name": "stdout",
     "output_type": "stream",
     "text": [
      "2200.0\n",
      "2200\n"
     ]
    },
    {
     "name": "stderr",
     "output_type": "stream",
     "text": [
      " 69%|██████████████████████          | 4599/6674 [64:07:57<26:20:38, 45.71s/it]"
     ]
    },
    {
     "name": "stdout",
     "output_type": "stream",
     "text": [
      "2300.0\n",
      "2300\n"
     ]
    },
    {
     "name": "stderr",
     "output_type": "stream",
     "text": [
      " 72%|███████████████████████         | 4799/6674 [66:44:37<28:02:03, 53.83s/it]"
     ]
    },
    {
     "name": "stdout",
     "output_type": "stream",
     "text": [
      "2400.0\n",
      "2400\n"
     ]
    },
    {
     "name": "stderr",
     "output_type": "stream",
     "text": [
      " 75%|███████████████████████▉        | 4999/6674 [69:52:13<24:40:45, 53.04s/it]"
     ]
    },
    {
     "name": "stdout",
     "output_type": "stream",
     "text": [
      "2500.0\n",
      "2500\n"
     ]
    },
    {
     "name": "stderr",
     "output_type": "stream",
     "text": [
      " 78%|████████████████████████▉       | 5199/6674 [72:54:11<23:02:41, 56.24s/it]"
     ]
    },
    {
     "name": "stdout",
     "output_type": "stream",
     "text": [
      "2600.0\n",
      "2600\n"
     ]
    },
    {
     "name": "stderr",
     "output_type": "stream",
     "text": [
      " 81%|█████████████████████████▉      | 5399/6674 [75:59:13<17:48:39, 50.29s/it]"
     ]
    },
    {
     "name": "stdout",
     "output_type": "stream",
     "text": [
      "2700.0\n",
      "2700\n"
     ]
    },
    {
     "name": "stderr",
     "output_type": "stream",
     "text": [
      " 84%|██████████████████████████▊     | 5599/6674 [78:44:57<13:53:09, 46.50s/it]"
     ]
    },
    {
     "name": "stdout",
     "output_type": "stream",
     "text": [
      "2800.0\n",
      "2800\n"
     ]
    },
    {
     "name": "stderr",
     "output_type": "stream",
     "text": [
      " 87%|███████████████████████████▊    | 5799/6674 [81:19:31<11:17:30, 46.46s/it]"
     ]
    },
    {
     "name": "stdout",
     "output_type": "stream",
     "text": [
      "2900.0\n",
      "2900\n"
     ]
    },
    {
     "name": "stderr",
     "output_type": "stream",
     "text": [
      " 90%|█████████████████████████████▋   | 5999/6674 [83:53:57<8:39:44, 46.20s/it]"
     ]
    },
    {
     "name": "stdout",
     "output_type": "stream",
     "text": [
      "3000.0\n",
      "3000\n"
     ]
    },
    {
     "name": "stderr",
     "output_type": "stream",
     "text": [
      " 93%|██████████████████████████████▋  | 6199/6674 [86:28:48<6:08:32, 46.55s/it]"
     ]
    },
    {
     "name": "stdout",
     "output_type": "stream",
     "text": [
      "3100.0\n",
      "3100\n"
     ]
    },
    {
     "name": "stderr",
     "output_type": "stream",
     "text": [
      " 96%|███████████████████████████████▋ | 6399/6674 [89:10:22<4:27:57, 58.46s/it]"
     ]
    },
    {
     "name": "stdout",
     "output_type": "stream",
     "text": [
      "3200.0\n",
      "3200\n"
     ]
    },
    {
     "name": "stderr",
     "output_type": "stream",
     "text": [
      " 99%|██████████████████████████████████▌| 6599/6674 [92:00:21<57:50, 46.27s/it]"
     ]
    },
    {
     "name": "stdout",
     "output_type": "stream",
     "text": [
      "3300.0\n",
      "3300\n"
     ]
    },
    {
     "name": "stderr",
     "output_type": "stream",
     "text": [
      "100%|███████████████████████████████████| 6674/6674 [92:57:22<00:00, 50.14s/it]\n"
     ]
    },
    {
     "name": "stdout",
     "output_type": "stream",
     "text": [
      "3337\n"
     ]
    }
   ],
   "source": [
    "count=0\n",
    "for i in tqdm(range(len(files))):\n",
    "    if i%2==0:\n",
    "        if files[i][:-6]==files[i+1][:-6]:\n",
    "            # Leyendo archivos\n",
    "            derecha=np.load(\"C:\\\\Users\\\\LapTop\\\\Desktop\\\\TERMOGRAFIA\\\\TT2\\\\BaseDeDatosFrontales_SEGMENTADOR2\\\\train\\\\files_npy\\\\\"+files[i])\n",
    "            izquierda=np.load(\"C:\\\\Users\\\\LapTop\\\\Desktop\\\\TERMOGRAFIA\\\\TT2\\\\BaseDeDatosFrontales_SEGMENTADOR2\\\\train\\\\files_npy\\\\\"+files[i+1])\n",
    "            # Instanciando biiblioteca caracterizador con las variables anteriores\n",
    "            object_der=caracterizador.caracterizador(derecha)\n",
    "            object_izq=caracterizador.caracterizador(izquierda)\n",
    "            # Obteniendo los vectores con los descriptores\n",
    "            vector_der=object_der.prueba()\n",
    "            vector_izq=object_izq.prueba()\n",
    "            # Calculando diferencia y almacenando en X_train\n",
    "            temp=np.abs(vector_der-vector_izq)\n",
    "            np.save(path+\"train\\\\\"+files[i][:-6]+\".npy\", temp)\n",
    "            \n",
    "            #Agregamos un paso extra para asegurarnos que el archivo se guardó antes de comenzar la siguiente iteración\n",
    "            #temporal=np.load(path+\"train\\\\\"+files[i][:-6]+\".npy\")\n",
    "            count+=1\n",
    "            if count%100==0:\n",
    "                print((i+2)/2)\n",
    "                print(count)\n",
    "        else:\n",
    "            print(\"ERROR!\")\n",
    "            break\n",
    "print(count)"
   ]
  },
  {
   "cell_type": "code",
   "execution_count": 22,
   "metadata": {},
   "outputs": [
    {
     "name": "stderr",
     "output_type": "stream",
     "text": [
      " 12%|████                              | 199/1664 [2:53:35<22:14:17, 54.65s/it]"
     ]
    },
    {
     "name": "stdout",
     "output_type": "stream",
     "text": [
      "100.0\n",
      "100\n"
     ]
    },
    {
     "name": "stderr",
     "output_type": "stream",
     "text": [
      " 24%|████████▏                         | 399/1664 [5:52:38<17:37:24, 50.15s/it]"
     ]
    },
    {
     "name": "stdout",
     "output_type": "stream",
     "text": [
      "200.0\n",
      "200\n"
     ]
    },
    {
     "name": "stderr",
     "output_type": "stream",
     "text": [
      " 36%|████████████▏                     | 599/1664 [8:56:27<18:31:01, 62.59s/it]"
     ]
    },
    {
     "name": "stdout",
     "output_type": "stream",
     "text": [
      "300.0\n",
      "300\n"
     ]
    },
    {
     "name": "stderr",
     "output_type": "stream",
     "text": [
      " 48%|███████████████▊                 | 799/1664 [12:01:50<13:19:27, 55.45s/it]"
     ]
    },
    {
     "name": "stdout",
     "output_type": "stream",
     "text": [
      "400.0\n",
      "400\n"
     ]
    },
    {
     "name": "stderr",
     "output_type": "stream",
     "text": [
      " 60%|████████████████████▍             | 999/1664 [14:48:16<8:31:05, 46.11s/it]"
     ]
    },
    {
     "name": "stdout",
     "output_type": "stream",
     "text": [
      "500.0\n",
      "500\n"
     ]
    },
    {
     "name": "stderr",
     "output_type": "stream",
     "text": [
      " 72%|███████████████████████▊         | 1199/1664 [17:21:44<5:57:20, 46.11s/it]"
     ]
    },
    {
     "name": "stdout",
     "output_type": "stream",
     "text": [
      "600.0\n",
      "600\n"
     ]
    },
    {
     "name": "stderr",
     "output_type": "stream",
     "text": [
      " 84%|███████████████████████████▋     | 1399/1664 [19:55:20<3:21:58, 45.73s/it]"
     ]
    },
    {
     "name": "stdout",
     "output_type": "stream",
     "text": [
      "700.0\n",
      "700\n"
     ]
    },
    {
     "name": "stderr",
     "output_type": "stream",
     "text": [
      " 96%|█████████████████████████████████▋ | 1599/1664 [22:49:10<57:15, 52.85s/it]"
     ]
    },
    {
     "name": "stdout",
     "output_type": "stream",
     "text": [
      "800.0\n",
      "800\n"
     ]
    },
    {
     "name": "stderr",
     "output_type": "stream",
     "text": [
      "100%|███████████████████████████████████| 1664/1664 [23:47:49<00:00, 51.48s/it]\n"
     ]
    },
    {
     "name": "stdout",
     "output_type": "stream",
     "text": [
      "832\n"
     ]
    }
   ],
   "source": [
    "count=0\n",
    "for i in tqdm(range(len(files2))):\n",
    "    if i%2==0:\n",
    "        if files2[i][:-6]==files2[i+1][:-6]:\n",
    "            # Leyendo archivos\n",
    "            derecha=np.load(\"C:\\\\Users\\\\LapTop\\\\Desktop\\\\TERMOGRAFIA\\\\TT2\\\\BaseDeDatosFrontales_SEGMENTADOR2\\\\test\\\\files_npy\\\\\"+files2[i])\n",
    "            izquierda=np.load(\"C:\\\\Users\\\\LapTop\\\\Desktop\\\\TERMOGRAFIA\\\\TT2\\\\BaseDeDatosFrontales_SEGMENTADOR2\\\\test\\\\files_npy\\\\\"+files2[i+1])\n",
    "            # Instanciando biiblioteca caracterizador con las variables anteriores\n",
    "            object_der=caracterizador.caracterizador(derecha)\n",
    "            object_izq=caracterizador.caracterizador(izquierda)\n",
    "            # Obteniendo los vectores con los descriptores\n",
    "            vector_der=object_der.prueba()\n",
    "            vector_izq=object_izq.prueba()\n",
    "            # Calculando diferencia y almacenando en X_train\n",
    "            temp=np.abs(vector_der-vector_izq)\n",
    "            np.save(path+\"test\\\\\"+files2[i][:-6]+\".npy\", temp)\n",
    "            \n",
    "            #Agregamos un paso extra para asegurarnos que el archivo se guardó antes de comenzar la siguiente iteración\n",
    "            #temporal=np.load(path+\"test\\\\\"+files2[i][:-6]+\".npy\")\n",
    "            count+=1\n",
    "            if count%100==0:\n",
    "                print((i+2)/2)\n",
    "                print(count)\n",
    "        else:\n",
    "            print(\"ERROR!\")\n",
    "            break\n",
    "print(count)"
   ]
  },
  {
   "cell_type": "code",
   "execution_count": null,
   "metadata": {},
   "outputs": [],
   "source": []
  }
 ],
 "metadata": {
  "kernelspec": {
   "display_name": "Python 3",
   "language": "python",
   "name": "python3"
  },
  "language_info": {
   "codemirror_mode": {
    "name": "ipython",
    "version": 3
   },
   "file_extension": ".py",
   "mimetype": "text/x-python",
   "name": "python",
   "nbconvert_exporter": "python",
   "pygments_lexer": "ipython3",
   "version": "3.8.3"
  }
 },
 "nbformat": 4,
 "nbformat_minor": 4
}
