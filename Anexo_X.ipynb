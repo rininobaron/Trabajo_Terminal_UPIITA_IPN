{
 "cells": [
  {
   "cell_type": "markdown",
   "metadata": {
    "id": "T8FfZRwu2TTD",
    "papermill": {
     "duration": 0.06718,
     "end_time": "2020-12-26T18:57:07.839087",
     "exception": false,
     "start_time": "2020-12-26T18:57:07.771907",
     "status": "completed"
    },
    "tags": []
   },
   "source": [
    "Anexo X"
   ]
  },
  {
   "cell_type": "markdown",
   "metadata": {
    "id": "rkhzRBKo2TTJ",
    "papermill": {
     "duration": 0.083238,
     "end_time": "2020-12-26T18:57:07.977690",
     "exception": false,
     "start_time": "2020-12-26T18:57:07.894452",
     "status": "completed"
    },
    "tags": []
   },
   "source": [
    "# Reentrenando modelo EfficientNet (modificado) que fue preentrenado en Kaggle\n",
    "\n",
    "#### Elaborado por: Ricardo Niño de Rivera Barrón\n",
    "\n",
    "#### Ingeniería Biónica\n",
    "\n",
    "#### Trabajo Terminal II"
   ]
  },
  {
   "cell_type": "markdown",
   "metadata": {
    "id": "mMoFLAFv2TTL",
    "papermill": {
     "duration": 0.05151,
     "end_time": "2020-12-26T18:57:08.081136",
     "exception": false,
     "start_time": "2020-12-26T18:57:08.029626",
     "status": "completed"
    },
    "tags": []
   },
   "source": [
    "En esta libreta reentrenamos el modeolo que se propone su despliegue en IBM Watson ya que fue modificado en algunos aspesctos que se detallan en el escrito final. Estos cambbios se realizaron porque IBM Watson no permite realizar modificaciones que no reconozca la versión de tensorflow que tiene activa en las versiones gratuitas para despliegue de modelos en su nube.\n",
    "\n",
    "Este modelo se entrenó en Kaggle utilizando la tarjeta gráfica NVIDIA P100 para acelerar disminuir el tiempo de entrenamiento."
   ]
  },
  {
   "cell_type": "code",
   "execution_count": 1,
   "metadata": {
    "execution": {
     "iopub.execute_input": "2020-12-26T18:57:08.190482Z",
     "iopub.status.busy": "2020-12-26T18:57:08.189690Z",
     "iopub.status.idle": "2020-12-26T18:57:17.517999Z",
     "shell.execute_reply": "2020-12-26T18:57:17.517457Z"
    },
    "id": "0E-yKVu5jvZH",
    "outputId": "d32fd52c-5a03-40ee-9dd1-b53f430d893b",
    "papermill": {
     "duration": 9.385436,
     "end_time": "2020-12-26T18:57:17.518100",
     "exception": false,
     "start_time": "2020-12-26T18:57:08.132664",
     "status": "completed"
    },
    "tags": []
   },
   "outputs": [
    {
     "name": "stdout",
     "output_type": "stream",
     "text": [
      "Collecting efficientnet\r\n",
      "  Downloading efficientnet-1.1.1-py3-none-any.whl (18 kB)\r\n",
      "Requirement already satisfied: scikit-image in /opt/conda/lib/python3.7/site-packages (from efficientnet) (0.16.2)\r\n",
      "Collecting keras-applications<=1.0.8,>=1.0.7\r\n",
      "  Downloading Keras_Applications-1.0.8-py3-none-any.whl (50 kB)\r\n",
      "\u001b[K     |████████████████████████████████| 50 kB 543 kB/s \r\n",
      "\u001b[?25hRequirement already satisfied: h5py in /opt/conda/lib/python3.7/site-packages (from keras-applications<=1.0.8,>=1.0.7->efficientnet) (2.10.0)\r\n",
      "Requirement already satisfied: numpy>=1.9.1 in /opt/conda/lib/python3.7/site-packages (from keras-applications<=1.0.8,>=1.0.7->efficientnet) (1.18.5)\r\n",
      "Requirement already satisfied: numpy>=1.9.1 in /opt/conda/lib/python3.7/site-packages (from keras-applications<=1.0.8,>=1.0.7->efficientnet) (1.18.5)\r\n",
      "Requirement already satisfied: six in /opt/conda/lib/python3.7/site-packages (from h5py->keras-applications<=1.0.8,>=1.0.7->efficientnet) (1.14.0)\r\n",
      "Requirement already satisfied: scipy>=0.19.0 in /opt/conda/lib/python3.7/site-packages (from scikit-image->efficientnet) (1.4.1)\r\n",
      "Requirement already satisfied: matplotlib!=3.0.0,>=2.0.0 in /opt/conda/lib/python3.7/site-packages (from scikit-image->efficientnet) (3.2.1)\r\n",
      "Requirement already satisfied: networkx>=2.0 in /opt/conda/lib/python3.7/site-packages (from scikit-image->efficientnet) (2.4)\r\n",
      "Requirement already satisfied: pillow>=4.3.0 in /opt/conda/lib/python3.7/site-packages (from scikit-image->efficientnet) (8.0.1)\r\n",
      "Requirement already satisfied: imageio>=2.3.0 in /opt/conda/lib/python3.7/site-packages (from scikit-image->efficientnet) (2.8.0)\r\n",
      "Requirement already satisfied: PyWavelets>=0.4.0 in /opt/conda/lib/python3.7/site-packages (from scikit-image->efficientnet) (1.1.1)\r\n",
      "Requirement already satisfied: numpy>=1.9.1 in /opt/conda/lib/python3.7/site-packages (from keras-applications<=1.0.8,>=1.0.7->efficientnet) (1.18.5)\r\n",
      "Requirement already satisfied: pillow>=4.3.0 in /opt/conda/lib/python3.7/site-packages (from scikit-image->efficientnet) (8.0.1)\r\n",
      "Requirement already satisfied: pyparsing!=2.0.4,!=2.1.2,!=2.1.6,>=2.0.1 in /opt/conda/lib/python3.7/site-packages (from matplotlib!=3.0.0,>=2.0.0->scikit-image->efficientnet) (2.4.7)\r\n",
      "Requirement already satisfied: numpy>=1.9.1 in /opt/conda/lib/python3.7/site-packages (from keras-applications<=1.0.8,>=1.0.7->efficientnet) (1.18.5)\r\n",
      "Requirement already satisfied: kiwisolver>=1.0.1 in /opt/conda/lib/python3.7/site-packages (from matplotlib!=3.0.0,>=2.0.0->scikit-image->efficientnet) (1.2.0)\r\n",
      "Requirement already satisfied: cycler>=0.10 in /opt/conda/lib/python3.7/site-packages (from matplotlib!=3.0.0,>=2.0.0->scikit-image->efficientnet) (0.10.0)\r\n",
      "Requirement already satisfied: python-dateutil>=2.1 in /opt/conda/lib/python3.7/site-packages (from matplotlib!=3.0.0,>=2.0.0->scikit-image->efficientnet) (2.8.1)\r\n",
      "Requirement already satisfied: six in /opt/conda/lib/python3.7/site-packages (from h5py->keras-applications<=1.0.8,>=1.0.7->efficientnet) (1.14.0)\r\n",
      "Requirement already satisfied: decorator>=4.3.0 in /opt/conda/lib/python3.7/site-packages (from networkx>=2.0->scikit-image->efficientnet) (4.4.2)\r\n",
      "Requirement already satisfied: six in /opt/conda/lib/python3.7/site-packages (from h5py->keras-applications<=1.0.8,>=1.0.7->efficientnet) (1.14.0)\r\n",
      "Requirement already satisfied: numpy>=1.9.1 in /opt/conda/lib/python3.7/site-packages (from keras-applications<=1.0.8,>=1.0.7->efficientnet) (1.18.5)\r\n",
      "Requirement already satisfied: numpy>=1.9.1 in /opt/conda/lib/python3.7/site-packages (from keras-applications<=1.0.8,>=1.0.7->efficientnet) (1.18.5)\r\n",
      "Installing collected packages: keras-applications, efficientnet\r\n",
      "Successfully installed efficientnet-1.1.1 keras-applications-1.0.8\r\n",
      "\u001b[33mWARNING: You are using pip version 20.3.1; however, version 20.3.3 is available.\r\n",
      "You should consider upgrading via the '/opt/conda/bin/python3.7 -m pip install --upgrade pip' command.\u001b[0m\r\n"
     ]
    }
   ],
   "source": [
    "# Se instala una biblioteca con los modelos preentrenados EfficientNet\n",
    "!pip install efficientnet"
   ]
  },
  {
   "cell_type": "code",
   "execution_count": 2,
   "metadata": {
    "execution": {
     "iopub.execute_input": "2020-12-26T18:57:17.634032Z",
     "iopub.status.busy": "2020-12-26T18:57:17.633239Z",
     "iopub.status.idle": "2020-12-26T18:57:22.575173Z",
     "shell.execute_reply": "2020-12-26T18:57:22.574191Z"
    },
    "id": "7nE3wDkUjvZL",
    "papermill": {
     "duration": 5.000692,
     "end_time": "2020-12-26T18:57:22.575286",
     "exception": false,
     "start_time": "2020-12-26T18:57:17.574594",
     "status": "completed"
    },
    "tags": []
   },
   "outputs": [],
   "source": [
    "# Llamamos a la biblioteca\n",
    "import efficientnet.keras as efn"
   ]
  },
  {
   "cell_type": "code",
   "execution_count": 3,
   "metadata": {
    "execution": {
     "iopub.execute_input": "2020-12-26T18:57:22.693453Z",
     "iopub.status.busy": "2020-12-26T18:57:22.692756Z",
     "iopub.status.idle": "2020-12-26T18:57:22.910066Z",
     "shell.execute_reply": "2020-12-26T18:57:22.909513Z"
    },
    "id": "2EyUmknC2TTN",
    "papermill": {
     "duration": 0.278191,
     "end_time": "2020-12-26T18:57:22.910183",
     "exception": false,
     "start_time": "2020-12-26T18:57:22.631992",
     "status": "completed"
    },
    "tags": []
   },
   "outputs": [],
   "source": [
    "# Importando bibliotecas necesarias\n",
    "import os\n",
    "import numpy as np\n",
    "import pandas as pd\n",
    "from tqdm import tqdm\n",
    "import seaborn as sns\n",
    "import matplotlib.pyplot as plt\n",
    "from sklearn import preprocessing\n",
    "import matplotlib.image as mpimg\n",
    "import sklearn\n",
    "import tensorflow as tf"
   ]
  },
  {
   "cell_type": "markdown",
   "metadata": {
    "id": "ivFL7Xah7FE_",
    "papermill": {
     "duration": 0.055148,
     "end_time": "2020-12-26T18:57:23.021135",
     "exception": false,
     "start_time": "2020-12-26T18:57:22.965987",
     "status": "completed"
    },
    "tags": []
   },
   "source": [
    "Ahora instalamos una nueva biblioteca para poder descargar archivos de MEGA."
   ]
  },
  {
   "cell_type": "code",
   "execution_count": 4,
   "metadata": {
    "execution": {
     "iopub.execute_input": "2020-12-26T18:57:23.136427Z",
     "iopub.status.busy": "2020-12-26T18:57:23.135683Z",
     "iopub.status.idle": "2020-12-26T18:57:35.562015Z",
     "shell.execute_reply": "2020-12-26T18:57:35.561485Z"
    },
    "id": "ysV303NU-9uE",
    "outputId": "b8c82382-4e1c-4d96-efe2-6f6bdcd1ff64",
    "papermill": {
     "duration": 12.486041,
     "end_time": "2020-12-26T18:57:35.562118",
     "exception": false,
     "start_time": "2020-12-26T18:57:23.076077",
     "status": "completed"
    },
    "tags": []
   },
   "outputs": [
    {
     "name": "stdout",
     "output_type": "stream",
     "text": [
      "Collecting mega.py\r\n",
      "  Downloading mega.py-1.0.8-py2.py3-none-any.whl (19 kB)\r\n",
      "Requirement already satisfied: requests>=0.10 in /opt/conda/lib/python3.7/site-packages (from mega.py) (2.23.0)\r\n",
      "Collecting pathlib==1.0.1\r\n",
      "  Downloading pathlib-1.0.1.tar.gz (49 kB)\r\n",
      "\u001b[K     |████████████████████████████████| 49 kB 481 kB/s \r\n",
      "\u001b[?25hCollecting pycryptodome<4.0.0,>=3.9.6\r\n",
      "  Downloading pycryptodome-3.9.9-cp37-cp37m-manylinux1_x86_64.whl (13.7 MB)\r\n",
      "\u001b[K     |████████████████████████████████| 13.7 MB 938 kB/s \r\n",
      "\u001b[?25hRequirement already satisfied: chardet<4,>=3.0.2 in /opt/conda/lib/python3.7/site-packages (from requests>=0.10->mega.py) (3.0.4)\r\n",
      "Requirement already satisfied: certifi>=2017.4.17 in /opt/conda/lib/python3.7/site-packages (from requests>=0.10->mega.py) (2020.12.5)\r\n",
      "Requirement already satisfied: idna<3,>=2.5 in /opt/conda/lib/python3.7/site-packages (from requests>=0.10->mega.py) (2.9)\r\n",
      "Requirement already satisfied: urllib3!=1.25.0,!=1.25.1,<1.26,>=1.21.1 in /opt/conda/lib/python3.7/site-packages (from requests>=0.10->mega.py) (1.25.9)\r\n",
      "Collecting tenacity<6.0.0,>=5.1.5\r\n",
      "  Downloading tenacity-5.1.5-py2.py3-none-any.whl (34 kB)\r\n",
      "Requirement already satisfied: six>=1.9.0 in /opt/conda/lib/python3.7/site-packages (from tenacity<6.0.0,>=5.1.5->mega.py) (1.14.0)\r\n",
      "Building wheels for collected packages: pathlib\r\n",
      "  Building wheel for pathlib (setup.py) ... \u001b[?25l-\b \b\\\b \bdone\r\n",
      "\u001b[?25h  Created wheel for pathlib: filename=pathlib-1.0.1-py3-none-any.whl size=14346 sha256=25d6393d78806f9b5d3b616cd9df027d274d352a0a3d8b86d22c83504a1f06ca\r\n",
      "  Stored in directory: /root/.cache/pip/wheels/6e/96/b8/10037fe231e23970bac58361d7c93571ab983a7bbc55e68550\r\n",
      "Successfully built pathlib\r\n",
      "Installing collected packages: tenacity, pycryptodome, pathlib, mega.py\r\n",
      "  Attempting uninstall: tenacity\r\n",
      "    Found existing installation: tenacity 6.1.0\r\n",
      "    Uninstalling tenacity-6.1.0:\r\n",
      "      Successfully uninstalled tenacity-6.1.0\r\n",
      "Successfully installed mega.py-1.0.8 pathlib-1.0.1 pycryptodome-3.9.9 tenacity-5.1.5\r\n",
      "\u001b[33mWARNING: You are using pip version 20.3.1; however, version 20.3.3 is available.\r\n",
      "You should consider upgrading via the '/opt/conda/bin/python3.7 -m pip install --upgrade pip' command.\u001b[0m\r\n"
     ]
    }
   ],
   "source": [
    "# Instalanado mega.py\n",
    "!pip install mega.py"
   ]
  },
  {
   "cell_type": "code",
   "execution_count": 5,
   "metadata": {
    "execution": {
     "iopub.execute_input": "2020-12-26T18:57:35.719877Z",
     "iopub.status.busy": "2020-12-26T18:57:35.719085Z",
     "iopub.status.idle": "2020-12-26T18:57:35.730565Z",
     "shell.execute_reply": "2020-12-26T18:57:35.730064Z"
    },
    "id": "6-1TCtDp_X6H",
    "papermill": {
     "duration": 0.091511,
     "end_time": "2020-12-26T18:57:35.730661",
     "exception": false,
     "start_time": "2020-12-26T18:57:35.639150",
     "status": "completed"
    },
    "tags": []
   },
   "outputs": [],
   "source": [
    "# De la biblioteca mega importamos el método Mega\n",
    "from mega import Mega"
   ]
  },
  {
   "cell_type": "code",
   "execution_count": 6,
   "metadata": {
    "execution": {
     "iopub.execute_input": "2020-12-26T18:57:35.885742Z",
     "iopub.status.busy": "2020-12-26T18:57:35.885160Z",
     "iopub.status.idle": "2020-12-26T18:57:35.888997Z",
     "shell.execute_reply": "2020-12-26T18:57:35.888585Z"
    },
    "id": "jT4WNYRY_YFF",
    "papermill": {
     "duration": 0.083673,
     "end_time": "2020-12-26T18:57:35.889086",
     "exception": false,
     "start_time": "2020-12-26T18:57:35.805413",
     "status": "completed"
    },
    "tags": []
   },
   "outputs": [],
   "source": [
    "# Instanciando Mega en el objeto mega\n",
    "mega = Mega()"
   ]
  },
  {
   "cell_type": "markdown",
   "metadata": {
    "id": "72JIXBNDE_DM",
    "papermill": {
     "duration": 0.075365,
     "end_time": "2020-12-26T18:57:36.039357",
     "exception": false,
     "start_time": "2020-12-26T18:57:35.963992",
     "status": "completed"
    },
    "tags": []
   },
   "source": [
    "Inicamos sesión en MEGA con cuenta temporal y anónima"
   ]
  },
  {
   "cell_type": "code",
   "execution_count": 7,
   "metadata": {
    "execution": {
     "iopub.execute_input": "2020-12-26T18:57:36.215868Z",
     "iopub.status.busy": "2020-12-26T18:57:36.214797Z",
     "iopub.status.idle": "2020-12-26T18:57:38.909161Z",
     "shell.execute_reply": "2020-12-26T18:57:38.908050Z"
    },
    "id": "YGuSt-qNE71_",
    "papermill": {
     "duration": 2.792615,
     "end_time": "2020-12-26T18:57:38.909288",
     "exception": false,
     "start_time": "2020-12-26T18:57:36.116673",
     "status": "completed"
    },
    "tags": []
   },
   "outputs": [],
   "source": [
    "# Log in en la cuenta de MEGA con cuenta temporal anónima\n",
    "m = mega.login()"
   ]
  },
  {
   "cell_type": "markdown",
   "metadata": {
    "id": "_kKyMcL6Hyce",
    "papermill": {
     "duration": 0.07372,
     "end_time": "2020-12-26T18:57:39.057712",
     "exception": false,
     "start_time": "2020-12-26T18:57:38.983992",
     "status": "completed"
    },
    "tags": []
   },
   "source": [
    "Descargando Base de Datos."
   ]
  },
  {
   "cell_type": "code",
   "execution_count": 8,
   "metadata": {
    "execution": {
     "iopub.execute_input": "2020-12-26T18:57:39.214462Z",
     "iopub.status.busy": "2020-12-26T18:57:39.213886Z",
     "iopub.status.idle": "2020-12-26T18:59:12.036069Z",
     "shell.execute_reply": "2020-12-26T18:59:12.036833Z"
    },
    "id": "U2FcjVl7Hycg",
    "outputId": "b292a0b1-1a6c-4899-ed87-58805bbf9daa",
    "papermill": {
     "duration": 92.905753,
     "end_time": "2020-12-26T18:59:12.037051",
     "exception": false,
     "start_time": "2020-12-26T18:57:39.131298",
     "status": "completed"
    },
    "tags": []
   },
   "outputs": [
    {
     "data": {
      "text/plain": [
       "PosixPath('BaseDeDatosFrontales_FINAL_256_bits.zip')"
      ]
     },
     "execution_count": 8,
     "metadata": {},
     "output_type": "execute_result"
    }
   ],
   "source": [
    "# Descargando Base de Datos\n",
    "m.download_url('https://mega.nz/file/dBARgAIQ#uiQq4P-zC1fm6tV1I_udl2dtCiqzwyDadLyVlZ_dzAY')"
   ]
  },
  {
   "cell_type": "markdown",
   "metadata": {
    "id": "iJo02CDO7yGJ",
    "papermill": {
     "duration": 0.138965,
     "end_time": "2020-12-26T18:59:12.307171",
     "exception": false,
     "start_time": "2020-12-26T18:59:12.168206",
     "status": "completed"
    },
    "tags": []
   },
   "source": [
    "Como Kaggle es un entorno de desarrollo que trabaja en Linux utilizaremos algunos comandos nativos de este sistema operativo.\n",
    "\n",
    "Para descomprimir el archivo utilizarmos el comando nativo de Linux <em>unzip</em>.\n",
    "\n"
   ]
  },
  {
   "cell_type": "code",
   "execution_count": 9,
   "metadata": {
    "execution": {
     "iopub.execute_input": "2020-12-26T18:59:12.568036Z",
     "iopub.status.busy": "2020-12-26T18:59:12.567173Z",
     "iopub.status.idle": "2020-12-26T18:59:59.343361Z",
     "shell.execute_reply": "2020-12-26T18:59:59.342426Z"
    },
    "id": "I7MPuUwM7w2W",
    "papermill": {
     "duration": 46.910379,
     "end_time": "2020-12-26T18:59:59.343510",
     "exception": false,
     "start_time": "2020-12-26T18:59:12.433131",
     "status": "completed"
    },
    "tags": []
   },
   "outputs": [],
   "source": [
    "!unzip -q BaseDeDatosFrontales_FINAL_256_bits.zip"
   ]
  },
  {
   "cell_type": "markdown",
   "metadata": {
    "id": "fPGjyRxnHDsi",
    "papermill": {
     "duration": 3.864239,
     "end_time": "2020-12-26T19:00:04.947787",
     "exception": false,
     "start_time": "2020-12-26T19:00:01.083548",
     "status": "completed"
    },
    "tags": []
   },
   "source": [
    "Descargamos los archivos necesarios.\n",
    "\n"
   ]
  },
  {
   "cell_type": "code",
   "execution_count": 10,
   "metadata": {
    "execution": {
     "iopub.execute_input": "2020-12-26T19:00:08.367447Z",
     "iopub.status.busy": "2020-12-26T19:00:08.366632Z",
     "iopub.status.idle": "2020-12-26T19:00:09.871760Z",
     "shell.execute_reply": "2020-12-26T19:00:09.870826Z"
    },
    "id": "3p2Dpt7fE8IU",
    "outputId": "0d045a85-cd6f-448f-9423-70b85746e00b",
    "papermill": {
     "duration": 3.347204,
     "end_time": "2020-12-26T19:00:09.871870",
     "exception": false,
     "start_time": "2020-12-26T19:00:06.524666",
     "status": "completed"
    },
    "tags": []
   },
   "outputs": [
    {
     "data": {
      "text/plain": [
       "PosixPath('pos_train.npy')"
      ]
     },
     "execution_count": 10,
     "metadata": {},
     "output_type": "execute_result"
    }
   ],
   "source": [
    "# Descargando pos_train\n",
    "m.download_url('https://mega.nz/file/Fcp12QzD#MLUFNaNeKJ8YFPo2bO1uNt7hnKCbDAy8S10s1-vKJ5Q')"
   ]
  },
  {
   "cell_type": "code",
   "execution_count": 11,
   "metadata": {
    "execution": {
     "iopub.execute_input": "2020-12-26T19:00:10.460685Z",
     "iopub.status.busy": "2020-12-26T19:00:10.459730Z",
     "iopub.status.idle": "2020-12-26T19:00:11.321199Z",
     "shell.execute_reply": "2020-12-26T19:00:11.322501Z"
    },
    "id": "TkqCJuCnE8FB",
    "outputId": "73fed2b0-1420-43c7-e33d-500717136086",
    "papermill": {
     "duration": 1.280099,
     "end_time": "2020-12-26T19:00:11.322706",
     "exception": false,
     "start_time": "2020-12-26T19:00:10.042607",
     "status": "completed"
    },
    "tags": []
   },
   "outputs": [
    {
     "data": {
      "text/plain": [
       "PosixPath('pos_test.npy')"
      ]
     },
     "execution_count": 11,
     "metadata": {},
     "output_type": "execute_result"
    }
   ],
   "source": [
    "# Descargando pos_test\n",
    "m.download_url('https://mega.nz/file/sQoFDaRB#Uh70-XjrqlGKaE9eBoc4puXnNxNFcQ0D23h_79rDnC4')"
   ]
  },
  {
   "cell_type": "code",
   "execution_count": 12,
   "metadata": {
    "execution": {
     "iopub.execute_input": "2020-12-26T19:00:32.704901Z",
     "iopub.status.busy": "2020-12-26T19:00:32.704147Z",
     "iopub.status.idle": "2020-12-26T19:00:33.649056Z",
     "shell.execute_reply": "2020-12-26T19:00:33.649732Z"
    },
    "id": "IUK_mV7Nc2OA",
    "outputId": "ba91b8c9-6d71-44c2-e0f8-a2d35c683a34",
    "papermill": {
     "duration": 2.755575,
     "end_time": "2020-12-26T19:00:33.649864",
     "exception": false,
     "start_time": "2020-12-26T19:00:30.894289",
     "status": "completed"
    },
    "tags": []
   },
   "outputs": [
    {
     "data": {
      "text/plain": [
       "PosixPath('Y_train2.npy')"
      ]
     },
     "execution_count": 12,
     "metadata": {},
     "output_type": "execute_result"
    }
   ],
   "source": [
    "# Descargando Y_train2.npy\n",
    "m.download_url('https://mega.nz/file/tdohXarb#SRrt31GIT7H6gioCVm2KYF-sH6a8PHK8Z7Tr76oZb4I')"
   ]
  },
  {
   "cell_type": "code",
   "execution_count": 13,
   "metadata": {
    "execution": {
     "iopub.execute_input": "2020-12-26T19:00:34.324238Z",
     "iopub.status.busy": "2020-12-26T19:00:34.323713Z",
     "iopub.status.idle": "2020-12-26T19:00:35.049012Z",
     "shell.execute_reply": "2020-12-26T19:00:35.048119Z"
    },
    "id": "RU6P-vg4c2Z1",
    "outputId": "a5a3705e-564f-4da5-82e9-5662f144fb3b",
    "papermill": {
     "duration": 0.818823,
     "end_time": "2020-12-26T19:00:35.049119",
     "exception": false,
     "start_time": "2020-12-26T19:00:34.230296",
     "status": "completed"
    },
    "tags": []
   },
   "outputs": [
    {
     "data": {
      "text/plain": [
       "PosixPath('Y_test2.npy')"
      ]
     },
     "execution_count": 13,
     "metadata": {},
     "output_type": "execute_result"
    }
   ],
   "source": [
    "# Descargando Y_test2.npy\n",
    "m.download_url('https://mega.nz/file/Vc5TBSbY#D8pbUvpA3l2V0PJxCu7Meg8WJ3wPpT6X2jEoDsleCWw')"
   ]
  },
  {
   "cell_type": "markdown",
   "metadata": {
    "id": "U4pMLW72V-W9",
    "papermill": {
     "duration": 0.074918,
     "end_time": "2020-12-26T19:00:35.199436",
     "exception": false,
     "start_time": "2020-12-26T19:00:35.124518",
     "status": "completed"
    },
    "tags": []
   },
   "source": [
    "Ahora se leen los archivos con numpy"
   ]
  },
  {
   "cell_type": "code",
   "execution_count": 14,
   "metadata": {
    "execution": {
     "iopub.execute_input": "2020-12-26T19:00:35.358517Z",
     "iopub.status.busy": "2020-12-26T19:00:35.357718Z",
     "iopub.status.idle": "2020-12-26T19:00:35.361390Z",
     "shell.execute_reply": "2020-12-26T19:00:35.360973Z"
    },
    "id": "yUeVxv_Rkp_P",
    "outputId": "20768282-2783-419e-ac1f-08c6d11a34eb",
    "papermill": {
     "duration": 0.086589,
     "end_time": "2020-12-26T19:00:35.361490",
     "exception": false,
     "start_time": "2020-12-26T19:00:35.274901",
     "status": "completed"
    },
    "tags": []
   },
   "outputs": [
    {
     "data": {
      "text/plain": [
       "(3337,)"
      ]
     },
     "execution_count": 14,
     "metadata": {},
     "output_type": "execute_result"
    }
   ],
   "source": [
    "pos_train = np.load('pos_train.npy')\n",
    "pos_train.shape"
   ]
  },
  {
   "cell_type": "code",
   "execution_count": 15,
   "metadata": {
    "execution": {
     "iopub.execute_input": "2020-12-26T19:00:35.517597Z",
     "iopub.status.busy": "2020-12-26T19:00:35.516777Z",
     "iopub.status.idle": "2020-12-26T19:00:35.522066Z",
     "shell.execute_reply": "2020-12-26T19:00:35.521489Z"
    },
    "id": "xhca4IEXkrzl",
    "outputId": "3b0de2b6-0315-4377-f591-09cb2f09c645",
    "papermill": {
     "duration": 0.085054,
     "end_time": "2020-12-26T19:00:35.522179",
     "exception": false,
     "start_time": "2020-12-26T19:00:35.437125",
     "status": "completed"
    },
    "tags": []
   },
   "outputs": [
    {
     "data": {
      "text/plain": [
       "(832,)"
      ]
     },
     "execution_count": 15,
     "metadata": {},
     "output_type": "execute_result"
    }
   ],
   "source": [
    "pos_test = np.load('pos_test.npy')\n",
    "pos_test.shape"
   ]
  },
  {
   "cell_type": "code",
   "execution_count": 16,
   "metadata": {
    "execution": {
     "iopub.execute_input": "2020-12-26T19:00:35.678413Z",
     "iopub.status.busy": "2020-12-26T19:00:35.677606Z",
     "iopub.status.idle": "2020-12-26T19:00:35.682951Z",
     "shell.execute_reply": "2020-12-26T19:00:35.682540Z"
    },
    "id": "zOXHDGe7ksAt",
    "outputId": "c928d77e-fd9c-4407-f76f-a82c90fbb4dc",
    "papermill": {
     "duration": 0.08537,
     "end_time": "2020-12-26T19:00:35.683046",
     "exception": false,
     "start_time": "2020-12-26T19:00:35.597676",
     "status": "completed"
    },
    "tags": []
   },
   "outputs": [
    {
     "data": {
      "text/plain": [
       "(3337,)"
      ]
     },
     "execution_count": 16,
     "metadata": {},
     "output_type": "execute_result"
    }
   ],
   "source": [
    "Y_train = np.load('Y_train2.npy')\n",
    "Y_train.shape"
   ]
  },
  {
   "cell_type": "code",
   "execution_count": 17,
   "metadata": {
    "execution": {
     "iopub.execute_input": "2020-12-26T19:00:35.839271Z",
     "iopub.status.busy": "2020-12-26T19:00:35.838575Z",
     "iopub.status.idle": "2020-12-26T19:00:35.841002Z",
     "shell.execute_reply": "2020-12-26T19:00:35.841534Z"
    },
    "id": "65ljEMIzG7fk",
    "papermill": {
     "duration": 0.082524,
     "end_time": "2020-12-26T19:00:35.841642",
     "exception": false,
     "start_time": "2020-12-26T19:00:35.759118",
     "status": "completed"
    },
    "tags": []
   },
   "outputs": [],
   "source": [
    "# Agregando un dimensión para evitar errores con tensorflow\n",
    "#Y_train = np.expand_dims(Y_train, axis=1)\n",
    "#Y_train.shape"
   ]
  },
  {
   "cell_type": "code",
   "execution_count": 18,
   "metadata": {
    "execution": {
     "iopub.execute_input": "2020-12-26T19:00:36.002258Z",
     "iopub.status.busy": "2020-12-26T19:00:36.001235Z",
     "iopub.status.idle": "2020-12-26T19:00:36.005815Z",
     "shell.execute_reply": "2020-12-26T19:00:36.005371Z"
    },
    "id": "iwm4ncMtksTe",
    "outputId": "86bd3ab5-39dd-4fb1-b861-e19019ac48e5",
    "papermill": {
     "duration": 0.087663,
     "end_time": "2020-12-26T19:00:36.005910",
     "exception": false,
     "start_time": "2020-12-26T19:00:35.918247",
     "status": "completed"
    },
    "tags": []
   },
   "outputs": [
    {
     "data": {
      "text/plain": [
       "(832,)"
      ]
     },
     "execution_count": 18,
     "metadata": {},
     "output_type": "execute_result"
    }
   ],
   "source": [
    "Y_test = np.load('Y_test2.npy')\n",
    "Y_test.shape"
   ]
  },
  {
   "cell_type": "code",
   "execution_count": 19,
   "metadata": {
    "execution": {
     "iopub.execute_input": "2020-12-26T19:00:36.164640Z",
     "iopub.status.busy": "2020-12-26T19:00:36.163814Z",
     "iopub.status.idle": "2020-12-26T19:00:36.166676Z",
     "shell.execute_reply": "2020-12-26T19:00:36.166221Z"
    },
    "id": "DCpsO6E2KQrT",
    "papermill": {
     "duration": 0.083611,
     "end_time": "2020-12-26T19:00:36.166773",
     "exception": false,
     "start_time": "2020-12-26T19:00:36.083162",
     "status": "completed"
    },
    "tags": []
   },
   "outputs": [],
   "source": [
    "# Agregando un dimensión para evitar errores con tensorflow\n",
    "#Y_test = np.expand_dims(Y_test, axis=1)\n",
    "#Y_test.shape"
   ]
  },
  {
   "cell_type": "markdown",
   "metadata": {
    "id": "dvrjDU0uYjyB",
    "papermill": {
     "duration": 0.076788,
     "end_time": "2020-12-26T19:00:36.320268",
     "exception": false,
     "start_time": "2020-12-26T19:00:36.243480",
     "status": "completed"
    },
    "tags": []
   },
   "source": [
    "Leemos los archivos en los directorios de interés."
   ]
  },
  {
   "cell_type": "code",
   "execution_count": 20,
   "metadata": {
    "execution": {
     "iopub.execute_input": "2020-12-26T19:00:36.480050Z",
     "iopub.status.busy": "2020-12-26T19:00:36.479218Z",
     "iopub.status.idle": "2020-12-26T19:00:36.484409Z",
     "shell.execute_reply": "2020-12-26T19:00:36.483846Z"
    },
    "id": "VOxUcuL-YjyF",
    "papermill": {
     "duration": 0.085712,
     "end_time": "2020-12-26T19:00:36.484504",
     "exception": false,
     "start_time": "2020-12-26T19:00:36.398792",
     "status": "completed"
    },
    "tags": []
   },
   "outputs": [],
   "source": [
    "# Leyendo archivos de entrenamiento\n",
    "files=os.listdir(\"./BaseDeDatosFrontales_FINAL_256_bits/train\")"
   ]
  },
  {
   "cell_type": "code",
   "execution_count": 21,
   "metadata": {
    "execution": {
     "iopub.execute_input": "2020-12-26T19:00:36.642629Z",
     "iopub.status.busy": "2020-12-26T19:00:36.641991Z",
     "iopub.status.idle": "2020-12-26T19:00:36.645188Z",
     "shell.execute_reply": "2020-12-26T19:00:36.644763Z"
    },
    "id": "Mhra1XAYYjyQ",
    "papermill": {
     "duration": 0.084587,
     "end_time": "2020-12-26T19:00:36.645282",
     "exception": false,
     "start_time": "2020-12-26T19:00:36.560695",
     "status": "completed"
    },
    "tags": []
   },
   "outputs": [],
   "source": [
    "# Leyendo archivos de validación\n",
    "files2=os.listdir(\"./BaseDeDatosFrontales_FINAL_256_bits/test\")"
   ]
  },
  {
   "cell_type": "code",
   "execution_count": 22,
   "metadata": {
    "execution": {
     "iopub.execute_input": "2020-12-26T19:00:36.807967Z",
     "iopub.status.busy": "2020-12-26T19:00:36.807160Z",
     "iopub.status.idle": "2020-12-26T19:00:36.810189Z",
     "shell.execute_reply": "2020-12-26T19:00:36.809769Z"
    },
    "id": "66m5Jpl3YjyW",
    "papermill": {
     "duration": 0.086935,
     "end_time": "2020-12-26T19:00:36.810279",
     "exception": false,
     "start_time": "2020-12-26T19:00:36.723344",
     "status": "completed"
    },
    "tags": []
   },
   "outputs": [],
   "source": [
    "# Ordenando alfabeticamente el contenido de las listas\n",
    "files.sort()\n",
    "files2.sort()"
   ]
  },
  {
   "cell_type": "markdown",
   "metadata": {
    "id": "OGzrbu2LEdRr",
    "papermill": {
     "duration": 0.079623,
     "end_time": "2020-12-26T19:00:36.970865",
     "exception": false,
     "start_time": "2020-12-26T19:00:36.891242",
     "status": "completed"
    },
    "tags": []
   },
   "source": [
    "### Construyendo X_train y X_test"
   ]
  },
  {
   "cell_type": "markdown",
   "metadata": {
    "id": "_7jLqtueOD-U",
    "papermill": {
     "duration": 0.079491,
     "end_time": "2020-12-26T19:00:37.129356",
     "exception": false,
     "start_time": "2020-12-26T19:00:37.049865",
     "status": "completed"
    },
    "tags": []
   },
   "source": [
    "Vamos a definir un nuevo tamaño de las imágenes para evitar problemas de memoria y acelerar el entrenamiento."
   ]
  },
  {
   "cell_type": "code",
   "execution_count": 23,
   "metadata": {
    "execution": {
     "iopub.execute_input": "2020-12-26T19:00:37.292935Z",
     "iopub.status.busy": "2020-12-26T19:00:37.292085Z",
     "iopub.status.idle": "2020-12-26T19:00:37.294472Z",
     "shell.execute_reply": "2020-12-26T19:00:37.294946Z"
    },
    "id": "2kPkV5GOO29B",
    "papermill": {
     "duration": 0.086169,
     "end_time": "2020-12-26T19:00:37.295056",
     "exception": false,
     "start_time": "2020-12-26T19:00:37.208887",
     "status": "completed"
    },
    "tags": []
   },
   "outputs": [],
   "source": [
    "size_img = 128"
   ]
  },
  {
   "cell_type": "code",
   "execution_count": 24,
   "metadata": {
    "execution": {
     "iopub.execute_input": "2020-12-26T19:00:37.470154Z",
     "iopub.status.busy": "2020-12-26T19:00:37.469321Z",
     "iopub.status.idle": "2020-12-26T19:00:37.472143Z",
     "shell.execute_reply": "2020-12-26T19:00:37.472642Z"
    },
    "id": "FPqiv6ysNPad",
    "papermill": {
     "duration": 0.097492,
     "end_time": "2020-12-26T19:00:37.472762",
     "exception": false,
     "start_time": "2020-12-26T19:00:37.375270",
     "status": "completed"
    },
    "tags": []
   },
   "outputs": [],
   "source": [
    "# Definiendo función get_img para leer los archivos numpy y ajustarlos a nuevo tamaño.\n",
    "# La imagen que retorna la función también es normalizada sobre los valor máximo del pixel (255)\n",
    "def get_img(path, size, display_image = False):\n",
    "  img = np.load(path)\n",
    "  img = np.expand_dims(img, axis=2)\n",
    "  if display_image == True:\n",
    "    print(img.shape)\n",
    "    plt.imshow(img[:,:,0], cmap='hot')\n",
    "\n",
    "  return tf.image.resize(img, [size,size], antialias=True)/255"
   ]
  },
  {
   "cell_type": "code",
   "execution_count": 25,
   "metadata": {
    "execution": {
     "iopub.execute_input": "2020-12-26T19:00:37.636047Z",
     "iopub.status.busy": "2020-12-26T19:00:37.635194Z",
     "iopub.status.idle": "2020-12-26T19:00:37.638251Z",
     "shell.execute_reply": "2020-12-26T19:00:37.637827Z"
    },
    "id": "DtLwJaLtRltE",
    "papermill": {
     "duration": 0.086391,
     "end_time": "2020-12-26T19:00:37.638346",
     "exception": false,
     "start_time": "2020-12-26T19:00:37.551955",
     "status": "completed"
    },
    "tags": []
   },
   "outputs": [],
   "source": [
    "# Directorio raíz\n",
    "path = \"./BaseDeDatosFrontales_FINAL_256_bits/\""
   ]
  },
  {
   "cell_type": "markdown",
   "metadata": {
    "id": "akufUAI3UT1F",
    "papermill": {
     "duration": 0.078634,
     "end_time": "2020-12-26T19:00:37.796942",
     "exception": false,
     "start_time": "2020-12-26T19:00:37.718308",
     "status": "completed"
    },
    "tags": []
   },
   "source": [
    "Realizamos una prueba de funcionamiento de la función"
   ]
  },
  {
   "cell_type": "code",
   "execution_count": 26,
   "metadata": {
    "execution": {
     "iopub.execute_input": "2020-12-26T19:00:37.960700Z",
     "iopub.status.busy": "2020-12-26T19:00:37.959931Z",
     "iopub.status.idle": "2020-12-26T19:00:40.782101Z",
     "shell.execute_reply": "2020-12-26T19:00:40.782568Z"
    },
    "id": "ELHojwBtQ2Gx",
    "outputId": "6b51d788-6d7e-4411-c619-1c89a4094afb",
    "papermill": {
     "duration": 2.908377,
     "end_time": "2020-12-26T19:00:40.782690",
     "exception": false,
     "start_time": "2020-12-26T19:00:37.874313",
     "status": "completed"
    },
    "tags": []
   },
   "outputs": [
    {
     "name": "stdout",
     "output_type": "stream",
     "text": [
      "(480, 640, 1)\n"
     ]
    },
    {
     "data": {
      "image/png": "[encoded data removed]",
      "text/plain": [
       "<Figure size 432x288 with 1 Axes>"
      ]
     },
     "metadata": {
      "needs_background": "light"
     },
     "output_type": "display_data"
    }
   ],
   "source": [
    "# Imagen original\n",
    "hola=get_img(path+'train/'+files[1], size_img, display_image = True)"
   ]
  },
  {
   "cell_type": "code",
   "execution_count": 27,
   "metadata": {
    "execution": {
     "iopub.execute_input": "2020-12-26T19:00:40.946827Z",
     "iopub.status.busy": "2020-12-26T19:00:40.946224Z",
     "iopub.status.idle": "2020-12-26T19:00:40.952510Z",
     "shell.execute_reply": "2020-12-26T19:00:40.952887Z"
    },
    "id": "Kfdcg2sySo12",
    "outputId": "b53e162c-6582-4645-97dc-c481f0234360",
    "papermill": {
     "duration": 0.08975,
     "end_time": "2020-12-26T19:00:40.953013",
     "exception": false,
     "start_time": "2020-12-26T19:00:40.863263",
     "status": "completed"
    },
    "tags": []
   },
   "outputs": [
    {
     "data": {
      "text/plain": [
       "0.78683746"
      ]
     },
     "execution_count": 27,
     "metadata": {},
     "output_type": "execute_result"
    }
   ],
   "source": [
    "np.max(hola)"
   ]
  },
  {
   "cell_type": "code",
   "execution_count": 28,
   "metadata": {
    "execution": {
     "iopub.execute_input": "2020-12-26T19:00:41.118658Z",
     "iopub.status.busy": "2020-12-26T19:00:41.117995Z",
     "iopub.status.idle": "2020-12-26T19:00:41.122744Z",
     "shell.execute_reply": "2020-12-26T19:00:41.122300Z"
    },
    "id": "6Mgyt3UeUlkT",
    "outputId": "d4ee0b55-bc0a-4847-f7a9-e8f7d3e74cfc",
    "papermill": {
     "duration": 0.089651,
     "end_time": "2020-12-26T19:00:41.122838",
     "exception": false,
     "start_time": "2020-12-26T19:00:41.033187",
     "status": "completed"
    },
    "tags": []
   },
   "outputs": [
    {
     "data": {
      "text/plain": [
       "0.15518688"
      ]
     },
     "execution_count": 28,
     "metadata": {},
     "output_type": "execute_result"
    }
   ],
   "source": [
    "np.min(hola)"
   ]
  },
  {
   "cell_type": "code",
   "execution_count": 29,
   "metadata": {
    "execution": {
     "iopub.execute_input": "2020-12-26T19:00:41.288127Z",
     "iopub.status.busy": "2020-12-26T19:00:41.287604Z",
     "iopub.status.idle": "2020-12-26T19:00:41.431153Z",
     "shell.execute_reply": "2020-12-26T19:00:41.431631Z"
    },
    "id": "mIb7zG6xRQvL",
    "outputId": "7f33a552-918f-4dfa-aff4-a68d43d89839",
    "papermill": {
     "duration": 0.229692,
     "end_time": "2020-12-26T19:00:41.431771",
     "exception": false,
     "start_time": "2020-12-26T19:00:41.202079",
     "status": "completed"
    },
    "tags": []
   },
   "outputs": [
    {
     "data": {
      "text/plain": [
       "<matplotlib.image.AxesImage at 0x7f76380cce50>"
      ]
     },
     "execution_count": 29,
     "metadata": {},
     "output_type": "execute_result"
    },
    {
     "data": {
      "image/png": "[encoded data removed]",
      "text/plain": [
       "<Figure size 432x288 with 1 Axes>"
      ]
     },
     "metadata": {
      "needs_background": "light"
     },
     "output_type": "display_data"
    }
   ],
   "source": [
    "# Imagen resultante\n",
    "plt.imshow(hola[:,:,0], cmap='hot')"
   ]
  },
  {
   "cell_type": "markdown",
   "metadata": {
    "id": "DYdpczBtRZ3T",
    "papermill": {
     "duration": 0.082939,
     "end_time": "2020-12-26T19:00:41.599179",
     "exception": false,
     "start_time": "2020-12-26T19:00:41.516240",
     "status": "completed"
    },
    "tags": []
   },
   "source": [
    "Se leen los archivos y se ordenan en un nuevo arreglo."
   ]
  },
  {
   "cell_type": "code",
   "execution_count": 30,
   "metadata": {
    "execution": {
     "iopub.execute_input": "2020-12-26T19:00:41.776922Z",
     "iopub.status.busy": "2020-12-26T19:00:41.775491Z",
     "iopub.status.idle": "2020-12-26T19:00:57.541309Z",
     "shell.execute_reply": "2020-12-26T19:00:57.540320Z"
    },
    "id": "RQA1h7eFSaNd",
    "outputId": "fbf1610e-e006-432a-98ad-56f33ab5183b",
    "papermill": {
     "duration": 15.859049,
     "end_time": "2020-12-26T19:00:57.541449",
     "exception": false,
     "start_time": "2020-12-26T19:00:41.682400",
     "status": "completed"
    },
    "tags": []
   },
   "outputs": [
    {
     "name": "stderr",
     "output_type": "stream",
     "text": [
      "100%|██████████| 3337/3337 [00:15<00:00, 211.77it/s]\n"
     ]
    }
   ],
   "source": [
    "# Entrenamiento X_train\n",
    "\n",
    "# Creamos el arreglo para almacenar las imégenes\n",
    "# Tendrá tres canales para  aprovechar los pesos preentrenados\n",
    "# con imágenes de ImageNet\n",
    "X_train = np.zeros((len(files), size_img, size_img,3))\n",
    "\n",
    "for i in tqdm(range(len(files))):\n",
    "\n",
    "  # Leemos y procesamos la imagen con respecto a pos_train\n",
    "  temp_img = get_img(path+\"train/\"+files[pos_train[i]], size_img)\n",
    "\n",
    "  # Almacenamos la imagen obtenida en cada canal\n",
    "  X_train[i,:,:,0] = temp_img[:,:,0]\n",
    "  X_train[i,:,:,1] = temp_img[:,:,0]\n",
    "  X_train[i,:,:,2] = temp_img[:,:,0]"
   ]
  },
  {
   "cell_type": "code",
   "execution_count": 31,
   "metadata": {
    "execution": {
     "iopub.execute_input": "2020-12-26T19:00:57.794977Z",
     "iopub.status.busy": "2020-12-26T19:00:57.794341Z",
     "iopub.status.idle": "2020-12-26T19:00:57.801026Z",
     "shell.execute_reply": "2020-12-26T19:00:57.800302Z"
    },
    "id": "lY5Fue2Eqf6F",
    "outputId": "aa1bd520-0897-452c-a248-a572901ff422",
    "papermill": {
     "duration": 0.135758,
     "end_time": "2020-12-26T19:00:57.801147",
     "exception": false,
     "start_time": "2020-12-26T19:00:57.665389",
     "status": "completed"
    },
    "tags": []
   },
   "outputs": [
    {
     "data": {
      "text/plain": [
       "(3337, 128, 128, 3)"
      ]
     },
     "execution_count": 31,
     "metadata": {},
     "output_type": "execute_result"
    }
   ],
   "source": [
    "X_train.shape"
   ]
  },
  {
   "cell_type": "code",
   "execution_count": 32,
   "metadata": {
    "execution": {
     "iopub.execute_input": "2020-12-26T19:00:58.061999Z",
     "iopub.status.busy": "2020-12-26T19:00:58.061040Z",
     "iopub.status.idle": "2020-12-26T19:01:03.733844Z",
     "shell.execute_reply": "2020-12-26T19:01:03.734501Z"
    },
    "id": "8OO3SbjImr9p",
    "outputId": "cc007372-96ed-416f-dce2-2c2fb80da68a",
    "papermill": {
     "duration": 5.808305,
     "end_time": "2020-12-26T19:01:03.734670",
     "exception": false,
     "start_time": "2020-12-26T19:00:57.926365",
     "status": "completed"
    },
    "tags": []
   },
   "outputs": [
    {
     "name": "stderr",
     "output_type": "stream",
     "text": [
      "100%|██████████| 832/832 [00:05<00:00, 146.78it/s]\n"
     ]
    }
   ],
   "source": [
    "# Validación X_test\n",
    "\n",
    "# Creamos el arreglo para almacenar las imégenes\n",
    "# Tendrá tres canales para  aprovechar los pesos preentrenados\n",
    "# con imágenes de ImageNet\n",
    "X_test = np.zeros((len(files2), size_img, size_img,3))\n",
    "\n",
    "for i in tqdm(range(len(files2))):\n",
    "\n",
    "  # Leemos y procesamos la imagen con respecto a pos_train\n",
    "  temp_img = get_img(path+\"test/\"+files2[pos_test[i]], size_img)\n",
    "\n",
    "  # Almacenamos la imagen obtenida en cada canal\n",
    "  X_test[i,:,:,0] = temp_img[:,:,0]\n",
    "  X_test[i,:,:,1] = temp_img[:,:,0]\n",
    "  X_test[i,:,:,2] = temp_img[:,:,0]"
   ]
  },
  {
   "cell_type": "code",
   "execution_count": 33,
   "metadata": {
    "execution": {
     "iopub.execute_input": "2020-12-26T19:01:04.016626Z",
     "iopub.status.busy": "2020-12-26T19:01:04.015867Z",
     "iopub.status.idle": "2020-12-26T19:01:04.019201Z",
     "shell.execute_reply": "2020-12-26T19:01:04.019641Z"
    },
    "id": "DV_kvZacqmEf",
    "outputId": "8ed8e81f-2911-481d-b29f-5b75da73d617",
    "papermill": {
     "duration": 0.145812,
     "end_time": "2020-12-26T19:01:04.019753",
     "exception": false,
     "start_time": "2020-12-26T19:01:03.873941",
     "status": "completed"
    },
    "tags": []
   },
   "outputs": [
    {
     "data": {
      "text/plain": [
       "(832, 128, 128, 3)"
      ]
     },
     "execution_count": 33,
     "metadata": {},
     "output_type": "execute_result"
    }
   ],
   "source": [
    "X_test.shape"
   ]
  },
  {
   "cell_type": "code",
   "execution_count": 34,
   "metadata": {
    "execution": {
     "iopub.execute_input": "2020-12-26T19:01:04.300008Z",
     "iopub.status.busy": "2020-12-26T19:01:04.299460Z",
     "iopub.status.idle": "2020-12-26T19:01:04.423006Z",
     "shell.execute_reply": "2020-12-26T19:01:04.422268Z"
    },
    "id": "X3IyiPnHz-SR",
    "papermill": {
     "duration": 0.266732,
     "end_time": "2020-12-26T19:01:04.423107",
     "exception": false,
     "start_time": "2020-12-26T19:01:04.156375",
     "status": "completed"
    },
    "tags": []
   },
   "outputs": [],
   "source": [
    "# importando bibliotecas auxiliares\n",
    "from tensorflow.keras.applications import *\n",
    "from tensorflow.keras.layers import *\n",
    "import tensorflow_addons as tfa\n",
    "from tensorflow.keras import Model, Input\n",
    "from tensorflow.keras.preprocessing.image import ImageDataGenerator"
   ]
  },
  {
   "cell_type": "code",
   "execution_count": 35,
   "metadata": {
    "execution": {
     "iopub.execute_input": "2020-12-26T19:01:04.702522Z",
     "iopub.status.busy": "2020-12-26T19:01:04.701835Z",
     "iopub.status.idle": "2020-12-26T19:01:04.739949Z",
     "shell.execute_reply": "2020-12-26T19:01:04.739499Z"
    },
    "id": "DH4xQjWfkipX",
    "papermill": {
     "duration": 0.178831,
     "end_time": "2020-12-26T19:01:04.740037",
     "exception": false,
     "start_time": "2020-12-26T19:01:04.561206",
     "status": "completed"
    },
    "tags": []
   },
   "outputs": [],
   "source": [
    "# Importando métricas de scikit learn}\n",
    "from sklearn.metrics import f1_score, precision_score, recall_score, confusion_matrix, roc_curve, auc, accuracy_score"
   ]
  },
  {
   "cell_type": "markdown",
   "metadata": {
    "id": "o6NZwGBztJjW",
    "papermill": {
     "duration": 0.136898,
     "end_time": "2020-12-26T19:01:05.013587",
     "exception": false,
     "start_time": "2020-12-26T19:01:04.876689",
     "status": "completed"
    },
    "tags": []
   },
   "source": [
    "# Definiendo EfficientNet en https://github.com/qubvel/efficientnet/blob/master/efficientnet/model.py modificada para IBM Watson\n"
   ]
  },
  {
   "cell_type": "code",
   "execution_count": 36,
   "metadata": {
    "execution": {
     "iopub.execute_input": "2020-12-26T19:01:05.371906Z",
     "iopub.status.busy": "2020-12-26T19:01:05.368903Z",
     "iopub.status.idle": "2020-12-26T19:01:05.372876Z",
     "shell.execute_reply": "2020-12-26T19:01:05.373769Z"
    },
    "id": "KzKr2SpJb1GN",
    "papermill": {
     "duration": 0.223659,
     "end_time": "2020-12-26T19:01:05.373968",
     "exception": false,
     "start_time": "2020-12-26T19:01:05.150309",
     "status": "completed"
    },
    "tags": []
   },
   "outputs": [],
   "source": [
    "from tensorflow import keras"
   ]
  },
  {
   "cell_type": "code",
   "execution_count": 37,
   "metadata": {
    "execution": {
     "iopub.execute_input": "2020-12-26T19:01:05.897515Z",
     "iopub.status.busy": "2020-12-26T19:01:05.896374Z",
     "iopub.status.idle": "2020-12-26T19:01:05.899092Z",
     "shell.execute_reply": "2020-12-26T19:01:05.898381Z"
    },
    "id": "AuMA-I80sYll",
    "papermill": {
     "duration": 0.261283,
     "end_time": "2020-12-26T19:01:05.899241",
     "exception": false,
     "start_time": "2020-12-26T19:01:05.637958",
     "status": "completed"
    },
    "tags": []
   },
   "outputs": [],
   "source": [
    "from tensorflow.keras.models import load_model"
   ]
  },
  {
   "cell_type": "code",
   "execution_count": 38,
   "metadata": {
    "execution": {
     "iopub.execute_input": "2020-12-26T19:01:06.214588Z",
     "iopub.status.busy": "2020-12-26T19:01:06.213358Z",
     "iopub.status.idle": "2020-12-26T19:01:06.216938Z",
     "shell.execute_reply": "2020-12-26T19:01:06.217367Z"
    },
    "id": "QCuQmRvOsYuC",
    "outputId": "a8c33476-c733-46b8-c551-04caddc98ce2",
    "papermill": {
     "duration": 0.151548,
     "end_time": "2020-12-26T19:01:06.217478",
     "exception": false,
     "start_time": "2020-12-26T19:01:06.065930",
     "status": "completed"
    },
    "tags": []
   },
   "outputs": [
    {
     "data": {
      "text/plain": [
       "'2.3.1'"
      ]
     },
     "execution_count": 38,
     "metadata": {},
     "output_type": "execute_result"
    }
   ],
   "source": [
    "tf.__version__"
   ]
  },
  {
   "cell_type": "code",
   "execution_count": 39,
   "metadata": {
    "execution": {
     "iopub.execute_input": "2020-12-26T19:01:06.523416Z",
     "iopub.status.busy": "2020-12-26T19:01:06.521432Z",
     "iopub.status.idle": "2020-12-26T19:01:06.524017Z",
     "shell.execute_reply": "2020-12-26T19:01:06.524433Z"
    },
    "id": "CF26vm9AsZD9",
    "papermill": {
     "duration": 0.165296,
     "end_time": "2020-12-26T19:01:06.524543",
     "exception": false,
     "start_time": "2020-12-26T19:01:06.359247",
     "status": "completed"
    },
    "tags": []
   },
   "outputs": [],
   "source": [
    "def _obtain_input_shape(input_shape,\n",
    "                        default_size,\n",
    "                        min_size,\n",
    "                        data_format,\n",
    "                        require_flatten,\n",
    "                        weights=None):\n",
    "    \"\"\"Internal utility to compute/validate a model's input shape.\n",
    "    # Arguments\n",
    "        input_shape: Either None (will return the default network input shape),\n",
    "            or a user-provided shape to be validated.\n",
    "        default_size: Default input width/height for the model.\n",
    "        min_size: Minimum input width/height accepted by the model.\n",
    "        data_format: Image data format to use.\n",
    "        require_flatten: Whether the model is expected to\n",
    "            be linked to a classifier via a Flatten layer.\n",
    "        weights: One of `None` (random initialization)\n",
    "            or 'imagenet' (pre-training on ImageNet).\n",
    "            If weights='imagenet' input channels must be equal to 3.\n",
    "    # Returns\n",
    "        An integer shape tuple (may include None entries).\n",
    "    # Raises\n",
    "        ValueError: In case of invalid argument values.\n",
    "    \"\"\"\n",
    "    if weights != 'imagenet' and input_shape and len(input_shape) == 3:\n",
    "        if data_format == 'channels_first':\n",
    "            if input_shape[0] not in {1, 3}:\n",
    "                warnings.warn(\n",
    "                    'This model usually expects 1 or 3 input channels. '\n",
    "                    'However, it was passed an input_shape with ' +\n",
    "                    str(input_shape[0]) + ' input channels.')\n",
    "            default_shape = (input_shape[0], default_size, default_size)\n",
    "        else:\n",
    "            if input_shape[-1] not in {1, 3}:\n",
    "                warnings.warn(\n",
    "                    'This model usually expects 1 or 3 input channels. '\n",
    "                    'However, it was passed an input_shape with ' +\n",
    "                    str(input_shape[-1]) + ' input channels.')\n",
    "            default_shape = (default_size, default_size, input_shape[-1])\n",
    "    else:\n",
    "        if data_format == 'channels_first':\n",
    "            default_shape = (3, default_size, default_size)\n",
    "        else:\n",
    "            default_shape = (default_size, default_size, 3)\n",
    "    if weights == 'imagenet' and require_flatten:\n",
    "        if input_shape is not None:\n",
    "            if input_shape != default_shape:\n",
    "                raise ValueError('When setting `include_top=True` '\n",
    "                                 'and loading `imagenet` weights, '\n",
    "                                 '`input_shape` should be ' +\n",
    "                                 str(default_shape) + '.')\n",
    "        return default_shape\n",
    "    if input_shape:\n",
    "        if data_format == 'channels_first':\n",
    "            if input_shape is not None:\n",
    "                if len(input_shape) != 3:\n",
    "                    raise ValueError(\n",
    "                        '`input_shape` must be a tuple of three integers.')\n",
    "                if input_shape[0] != 3 and weights == 'imagenet':\n",
    "                    raise ValueError('The input must have 3 channels; got '\n",
    "                                     '`input_shape=' + str(input_shape) + '`')\n",
    "                if ((input_shape[1] is not None and input_shape[1] < min_size) or\n",
    "                   (input_shape[2] is not None and input_shape[2] < min_size)):\n",
    "                    raise ValueError('Input size must be at least ' +\n",
    "                                     str(min_size) + 'x' + str(min_size) +\n",
    "                                     '; got `input_shape=' +\n",
    "                                     str(input_shape) + '`')\n",
    "        else:\n",
    "            if input_shape is not None:\n",
    "                if len(input_shape) != 3:\n",
    "                    raise ValueError(\n",
    "                        '`input_shape` must be a tuple of three integers.')\n",
    "                if input_shape[-1] != 3 and weights == 'imagenet':\n",
    "                    raise ValueError('The input must have 3 channels; got '\n",
    "                                     '`input_shape=' + str(input_shape) + '`')\n",
    "                if ((input_shape[0] is not None and input_shape[0] < min_size) or\n",
    "                   (input_shape[1] is not None and input_shape[1] < min_size)):\n",
    "                    raise ValueError('Input size must be at least ' +\n",
    "                                     str(min_size) + 'x' + str(min_size) +\n",
    "                                     '; got `input_shape=' +\n",
    "                                     str(input_shape) + '`')\n",
    "    else:\n",
    "        if require_flatten:\n",
    "            input_shape = default_shape\n",
    "        else:\n",
    "            if data_format == 'channels_first':\n",
    "                input_shape = (3, None, None)\n",
    "            else:\n",
    "                input_shape = (None, None, 3)\n",
    "    if require_flatten:\n",
    "        if None in input_shape:\n",
    "            raise ValueError('If `include_top` is True, '\n",
    "                             'you should specify a static `input_shape`. '\n",
    "                             'Got `input_shape=' + str(input_shape) + '`')\n",
    "    return input_shape"
   ]
  },
  {
   "cell_type": "code",
   "execution_count": 40,
   "metadata": {
    "execution": {
     "iopub.execute_input": "2020-12-26T19:01:06.813119Z",
     "iopub.status.busy": "2020-12-26T19:01:06.811434Z",
     "iopub.status.idle": "2020-12-26T19:01:06.813776Z",
     "shell.execute_reply": "2020-12-26T19:01:06.814186Z"
    },
    "id": "DcNPqwQPtesu",
    "papermill": {
     "duration": 0.150937,
     "end_time": "2020-12-26T19:01:06.814292",
     "exception": false,
     "start_time": "2020-12-26T19:01:06.663355",
     "status": "completed"
    },
    "tags": []
   },
   "outputs": [],
   "source": [
    "def _preprocess_input(x, data_format=None, mode='caffe', **kwargs):\n",
    "    \"\"\"Preprocesses a tensor or Numpy array encoding a batch of images.\n",
    "    # Arguments\n",
    "        x: Input Numpy or symbolic tensor, 3D or 4D.\n",
    "            The preprocessed data is written over the input data\n",
    "            if the data types are compatible. To avoid this\n",
    "            behaviour, `numpy.copy(x)` can be used.\n",
    "        data_format: Data format of the image tensor/array.\n",
    "        mode: One of \"caffe\", \"tf\" or \"torch\".\n",
    "            - caffe: will convert the images from RGB to BGR,\n",
    "                then will zero-center each color channel with\n",
    "                respect to the ImageNet dataset,\n",
    "                without scaling.\n",
    "            - tf: will scale pixels between -1 and 1,\n",
    "                sample-wise.\n",
    "            - torch: will scale pixels between 0 and 1 and then\n",
    "                will normalize each channel with respect to the\n",
    "                ImageNet dataset.\n",
    "    # Returns\n",
    "        Preprocessed tensor or Numpy array.\n",
    "    # Raises\n",
    "        ValueError: In case of unknown `data_format` argument.\n",
    "    \"\"\"\n",
    "    backend, _, _, _ = get_submodules_from_kwargs(kwargs)\n",
    "\n",
    "    if data_format is None:\n",
    "        data_format = backend.image_data_format()\n",
    "    if data_format not in {'channels_first', 'channels_last'}:\n",
    "        raise ValueError('Unknown data_format ' + str(data_format))\n",
    "\n",
    "    if isinstance(x, np.ndarray):\n",
    "        return _preprocess_numpy_input(x, data_format=data_format,\n",
    "                                       mode=mode, **kwargs)\n",
    "    else:\n",
    "        return _preprocess_symbolic_input(x, data_format=data_format,\n",
    "                                          mode=mode, **kwargs)"
   ]
  },
  {
   "cell_type": "code",
   "execution_count": 41,
   "metadata": {
    "execution": {
     "iopub.execute_input": "2020-12-26T19:01:07.106685Z",
     "iopub.status.busy": "2020-12-26T19:01:07.105989Z",
     "iopub.status.idle": "2020-12-26T19:01:07.110050Z",
     "shell.execute_reply": "2020-12-26T19:01:07.109558Z"
    },
    "id": "8uCe7cRqteyd",
    "papermill": {
     "duration": 0.154351,
     "end_time": "2020-12-26T19:01:07.110146",
     "exception": false,
     "start_time": "2020-12-26T19:01:06.955795",
     "status": "completed"
    },
    "tags": []
   },
   "outputs": [],
   "source": [
    "IMAGENET_WEIGHTS_PATH = (\n",
    "    'https://github.com/Callidior/keras-applications/'\n",
    "    'releases/download/efficientnet/')\n",
    "\n",
    "IMAGENET_WEIGHTS_HASHES = {\n",
    "    'efficientnet-b0': ('163292582f1c6eaca8e7dc7b51b01c61'\n",
    "                        '5b0dbc0039699b4dcd0b975cc21533dc',\n",
    "                        'c1421ad80a9fc67c2cc4000f666aa507'\n",
    "                        '89ce39eedb4e06d531b0c593890ccff3'),\n",
    "    'efficientnet-b1': ('d0a71ddf51ef7a0ca425bab32b7fa7f1'\n",
    "                        '6043ee598ecee73fc674d9560c8f09b0',\n",
    "                        '75de265d03ac52fa74f2f510455ba64f'\n",
    "                        '9c7c5fd96dc923cd4bfefa3d680c4b68'),\n",
    "    'efficientnet-b2': ('bb5451507a6418a574534aa76a91b106'\n",
    "                        'f6b605f3b5dde0b21055694319853086',\n",
    "                        '433b60584fafba1ea3de07443b74cfd3'\n",
    "                        '2ce004a012020b07ef69e22ba8669333'),\n",
    "    'efficientnet-b3': ('03f1fba367f070bd2545f081cfa7f3e7'\n",
    "                        '6f5e1aa3b6f4db700f00552901e75ab9',\n",
    "                        'c5d42eb6cfae8567b418ad3845cfd63a'\n",
    "                        'a48b87f1bd5df8658a49375a9f3135c7'),\n",
    "    'efficientnet-b4': ('98852de93f74d9833c8640474b2c698d'\n",
    "                        'b45ec60690c75b3bacb1845e907bf94f',\n",
    "                        '7942c1407ff1feb34113995864970cd4'\n",
    "                        'd9d91ea64877e8d9c38b6c1e0767c411'),\n",
    "    'efficientnet-b5': ('30172f1d45f9b8a41352d4219bf930ee'\n",
    "                        '3339025fd26ab314a817ba8918fefc7d',\n",
    "                        '9d197bc2bfe29165c10a2af8c2ebc675'\n",
    "                        '07f5d70456f09e584c71b822941b1952'),\n",
    "    'efficientnet-b6': ('f5270466747753485a082092ac9939ca'\n",
    "                        'a546eb3f09edca6d6fff842cad938720',\n",
    "                        '1d0923bb038f2f8060faaf0a0449db4b'\n",
    "                        '96549a881747b7c7678724ac79f427ed'),\n",
    "    'efficientnet-b7': ('876a41319980638fa597acbbf956a82d'\n",
    "                        '10819531ff2dcb1a52277f10c7aefa1a',\n",
    "                        '60b56ff3a8daccc8d96edfd40b204c11'\n",
    "                        '3e51748da657afd58034d54d3cec2bac')\n",
    "}\n",
    "\n",
    "NS_WEIGHTS_PATH = 'https://github.com/qubvel/efficientnet/releases/download/v0.0.1/'\n",
    "NS_WEIGHTS_HASHES = {\n",
    "    'efficientnet-b0': ('5e376ca93bc6ba60f5245d13d44e4323', 'a5b48ae7547fc990c7e4f3951230290d'),\n",
    "    'efficientnet-b1': ('79d29151fdaec95ac78e1ca97fc09634', '4d35baa41ca36f175506a33918f7e334'),\n",
    "    'efficientnet-b2': ('8c643222ffb73a2bfdbdf90f2cde01af', 'e496e531f41242598288ff3a4b4199f9'),\n",
    "    'efficientnet-b3': ('3b29e32602dad75d1f575d9ded00f930', '47da5b154de1372b557a65795d3e6135'),\n",
    "    'efficientnet-b4': ('c000bfa03bf3c93557851b4e1fe18f51', '47c10902a4949eec589ab92fe1c35ed8'),\n",
    "    'efficientnet-b5': ('8a920cd4ee793f53c251a1ecd3a5cee6', '4d53ef3544d4114e2d8080d6d777a74c'),\n",
    "    'efficientnet-b6': ('cc69df409516ab57e30e51016326853e', '71f96d7e15d9f891f3729b4f4e701f77'),\n",
    "    'efficientnet-b7': ('1ac825752cbc26901c8952e030ae4dd9', 'e112b00c464fe929b821edbb35d1af55')\n",
    "}"
   ]
  },
  {
   "cell_type": "code",
   "execution_count": 42,
   "metadata": {
    "execution": {
     "iopub.execute_input": "2020-12-26T19:01:07.605875Z",
     "iopub.status.busy": "2020-12-26T19:01:07.603420Z",
     "iopub.status.idle": "2020-12-26T19:01:07.612131Z",
     "shell.execute_reply": "2020-12-26T19:01:07.612783Z"
    },
    "id": "C_BS2wFnte-h",
    "papermill": {
     "duration": 0.282351,
     "end_time": "2020-12-26T19:01:07.612962",
     "exception": false,
     "start_time": "2020-12-26T19:01:07.330611",
     "status": "completed"
    },
    "tags": []
   },
   "outputs": [],
   "source": [
    "_KERAS_BACKEND = None\n",
    "_KERAS_LAYERS = None\n",
    "_KERAS_MODELS = None\n",
    "_KERAS_UTILS = None\n",
    "\n",
    "def get_submodules_from_kwargs(kwargs):\n",
    "    #backend = kwargs.get('backend', _KERAS_BACKEND)\n",
    "    backend=keras.backend\n",
    "    #layers = kwargs.get('layers', _KERAS_LAYERS)\n",
    "    layers = keras.layers\n",
    "    #models = kwargs.get('models', _KERAS_MODELS)\n",
    "    models = tf.keras.models\n",
    "    utils = kwargs.get('utils', _KERAS_UTILS)\n",
    "    for key in kwargs.keys():\n",
    "        if key not in ['backend', 'layers', 'models', 'utils']:\n",
    "            raise TypeError('Invalid keyword argument: %s', key)\n",
    "    return backend, layers, models, utils"
   ]
  },
  {
   "cell_type": "code",
   "execution_count": 43,
   "metadata": {
    "execution": {
     "iopub.execute_input": "2020-12-26T19:01:08.056278Z",
     "iopub.status.busy": "2020-12-26T19:01:08.045541Z",
     "iopub.status.idle": "2020-12-26T19:01:08.146782Z",
     "shell.execute_reply": "2020-12-26T19:01:08.146305Z"
    },
    "id": "Ta9ZLlF_tfGo",
    "papermill": {
     "duration": 0.294654,
     "end_time": "2020-12-26T19:01:08.146876",
     "exception": false,
     "start_time": "2020-12-26T19:01:07.852222",
     "status": "completed"
    },
    "tags": []
   },
   "outputs": [],
   "source": [
    "# Copyright 2019 The TensorFlow Authors, Pavel Yakubovskiy, Björn Barz. All Rights Reserved.\n",
    "#\n",
    "# Licensed under the Apache License, Version 2.0 (the \"License\");\n",
    "# you may not use this file except in compliance with the License.\n",
    "# You may obtain a copy of the License at\n",
    "#\n",
    "#     http://www.apache.org/licenses/LICENSE-2.0\n",
    "#\n",
    "# Unless required by applicable law or agreed to in writing, software\n",
    "# distributed under the License is distributed on an \"AS IS\" BASIS,\n",
    "# WITHOUT WARRANTIES OR CONDITIONS OF ANY KIND, either express or implied.\n",
    "# See the License for the specific language governing permissions and\n",
    "# limitations under the License.\n",
    "# ==============================================================================\n",
    "\"\"\"Contains definitions for EfficientNet model.\n",
    "[1] Mingxing Tan, Quoc V. Le\n",
    "  EfficientNet: Rethinking Model Scaling for Convolutional Neural Networks.\n",
    "  ICML'19, https://arxiv.org/abs/1905.11946\n",
    "\"\"\"\n",
    "\n",
    "# Code of this model implementation is mostly written by\n",
    "# Björn Barz ([@Callidior](https://github.com/Callidior))\n",
    "\n",
    "from __future__ import absolute_import\n",
    "from __future__ import division\n",
    "from __future__ import print_function\n",
    "\n",
    "import os\n",
    "import math\n",
    "import string\n",
    "import collections\n",
    "\n",
    "from six.moves import xrange\n",
    "#from keras_applications.imagenet_utils import _obtain_input_shape\n",
    "#from keras_applications.imagenet_utils import preprocess_input as _preprocess_input\n",
    "\n",
    "#from . import get_submodules_from_kwargs\n",
    "#from .weights import IMAGENET_WEIGHTS_PATH, IMAGENET_WEIGHTS_HASHES, NS_WEIGHTS_HASHES, NS_WEIGHTS_PATH\n",
    "\n",
    "backend = None\n",
    "layers = None\n",
    "models = None\n",
    "keras_utils = None\n",
    "\n",
    "BlockArgs = collections.namedtuple('BlockArgs', [\n",
    "    'kernel_size', 'num_repeat', 'input_filters', 'output_filters',\n",
    "    'expand_ratio', 'id_skip', 'strides', 'se_ratio'\n",
    "])\n",
    "# defaults will be a public argument for namedtuple in Python 3.7\n",
    "# https://docs.python.org/3/library/collections.html#collections.namedtuple\n",
    "BlockArgs.__new__.__defaults__ = (None,) * len(BlockArgs._fields)\n",
    "\n",
    "DEFAULT_BLOCKS_ARGS = [\n",
    "    BlockArgs(kernel_size=3, num_repeat=1, input_filters=32, output_filters=16,\n",
    "              expand_ratio=1, id_skip=True, strides=[1, 1], se_ratio=0.25),\n",
    "    BlockArgs(kernel_size=3, num_repeat=2, input_filters=16, output_filters=24,\n",
    "              expand_ratio=6, id_skip=True, strides=[2, 2], se_ratio=0.25),\n",
    "    BlockArgs(kernel_size=5, num_repeat=2, input_filters=24, output_filters=40,\n",
    "              expand_ratio=6, id_skip=True, strides=[2, 2], se_ratio=0.25),\n",
    "    BlockArgs(kernel_size=3, num_repeat=3, input_filters=40, output_filters=80,\n",
    "              expand_ratio=6, id_skip=True, strides=[2, 2], se_ratio=0.25),\n",
    "    BlockArgs(kernel_size=5, num_repeat=3, input_filters=80, output_filters=112,\n",
    "              expand_ratio=6, id_skip=True, strides=[1, 1], se_ratio=0.25),\n",
    "    BlockArgs(kernel_size=5, num_repeat=4, input_filters=112, output_filters=192,\n",
    "              expand_ratio=6, id_skip=True, strides=[2, 2], se_ratio=0.25),\n",
    "    BlockArgs(kernel_size=3, num_repeat=1, input_filters=192, output_filters=320,\n",
    "              expand_ratio=6, id_skip=True, strides=[1, 1], se_ratio=0.25)\n",
    "]\n",
    "\n",
    "CONV_KERNEL_INITIALIZER = {\n",
    "    'class_name': 'VarianceScaling',\n",
    "    'config': {\n",
    "        'scale': 2.0,\n",
    "        'mode': 'fan_out',\n",
    "        # EfficientNet actually uses an untruncated normal distribution for\n",
    "        # initializing conv layers, but keras.initializers.VarianceScaling use\n",
    "        # a truncated distribution.\n",
    "        # We decided against a custom initializer for better serializability.\n",
    "        'distribution': 'normal'\n",
    "    }\n",
    "}\n",
    "\n",
    "DENSE_KERNEL_INITIALIZER = {\n",
    "    'class_name': 'VarianceScaling',\n",
    "    'config': {\n",
    "        'scale': 1. / 3.,\n",
    "        'mode': 'fan_out',\n",
    "        'distribution': 'uniform'\n",
    "    }\n",
    "}\n",
    "\n",
    "\n",
    "def preprocess_input(x, **kwargs):\n",
    "    kwargs = {k: v for k, v in kwargs.items() if k in ['backend', 'layers', 'models', 'utils']}\n",
    "    return _preprocess_input(x, mode='torch', **kwargs)\n",
    "\n",
    "\n",
    "def get_swish(**kwargs):\n",
    "    backend, layers, models, keras_utils = get_submodules_from_kwargs(kwargs)\n",
    "\n",
    "    def swish(x):\n",
    "        \"\"\"Swish activation function: x * sigmoid(x).\n",
    "        Reference: [Searching for Activation Functions](https://arxiv.org/abs/1710.05941)\n",
    "        \"\"\"\n",
    "\n",
    "        if backend.backend() == 'tensorflow':\n",
    "            try:\n",
    "                # The native TF implementation has a more\n",
    "                # memory-efficient gradient implementation\n",
    "                return backend.tf.nn.swish(x)\n",
    "            except AttributeError:\n",
    "                pass\n",
    "\n",
    "        return x * backend.sigmoid(x)\n",
    "\n",
    "    return swish\n",
    "\n",
    "\n",
    "def get_dropout(**kwargs):\n",
    "    \"\"\"Wrapper over custom dropout. Fix problem of ``None`` shape for tf.keras.\n",
    "    It is not possible to define FixedDropout class as global object,\n",
    "    because we do not have modules for inheritance at first time.\n",
    "    Issue:\n",
    "        https://github.com/tensorflow/tensorflow/issues/30946\n",
    "    \"\"\"\n",
    "    backend, layers, models, keras_utils = get_submodules_from_kwargs(kwargs)\n",
    "\n",
    "    class FixedDropout(layers.Dropout):\n",
    "        def _get_noise_shape(self, inputs):\n",
    "            if self.noise_shape is None:\n",
    "                return self.noise_shape\n",
    "\n",
    "            symbolic_shape = backend.shape(inputs)\n",
    "            noise_shape = [symbolic_shape[axis] if shape is None else shape\n",
    "                           for axis, shape in enumerate(self.noise_shape)]\n",
    "            return tuple(noise_shape)\n",
    "\n",
    "    #return FixedDropout\n",
    "    return Dropout\n",
    "\n",
    "\n",
    "def round_filters(filters, width_coefficient, depth_divisor):\n",
    "    \"\"\"Round number of filters based on width multiplier.\"\"\"\n",
    "\n",
    "    filters *= width_coefficient\n",
    "    new_filters = int(filters + depth_divisor / 2) // depth_divisor * depth_divisor\n",
    "    new_filters = max(depth_divisor, new_filters)\n",
    "    # Make sure that round down does not go down by more than 10%.\n",
    "    if new_filters < 0.9 * filters:\n",
    "        new_filters += depth_divisor\n",
    "    return int(new_filters)\n",
    "\n",
    "\n",
    "def round_repeats(repeats, depth_coefficient):\n",
    "    \"\"\"Round number of repeats based on depth multiplier.\"\"\"\n",
    "\n",
    "    return int(math.ceil(depth_coefficient * repeats))\n",
    "\n",
    "\n",
    "def mb_conv_block(inputs, block_args, activation, drop_rate=None, prefix='', ):\n",
    "    \"\"\"Mobile Inverted Residual Bottleneck.\"\"\"\n",
    "\n",
    "    has_se = (block_args.se_ratio is not None) and (0 < block_args.se_ratio <= 1)\n",
    "    bn_axis = 3 if backend.image_data_format() == 'channels_last' else 1\n",
    "\n",
    "    # workaround over non working dropout with None in noise_shape in tf.keras\n",
    "    Dropout = get_dropout(\n",
    "        backend=backend,\n",
    "        layers=layers,\n",
    "        models=models,\n",
    "        utils=keras_utils\n",
    "    )\n",
    "\n",
    "    # Expansion phase\n",
    "    filters = block_args.input_filters * block_args.expand_ratio\n",
    "    if block_args.expand_ratio != 1:\n",
    "        x = layers.Conv2D(filters, 1,\n",
    "                          padding='same',\n",
    "                          use_bias=False,\n",
    "                          kernel_initializer=CONV_KERNEL_INITIALIZER,\n",
    "                          name=prefix + 'expand_conv')(inputs)\n",
    "        x = layers.BatchNormalization(axis=bn_axis, name=prefix + 'expand_bn')(x)\n",
    "        x = layers.Activation(activation, name=prefix + 'expand_activation')(x)\n",
    "    else:\n",
    "        x = inputs\n",
    "\n",
    "    # Depthwise Convolution\n",
    "    x = layers.DepthwiseConv2D(block_args.kernel_size,\n",
    "                               strides=block_args.strides,\n",
    "                               padding='same',\n",
    "                               use_bias=False,\n",
    "                               depthwise_initializer=CONV_KERNEL_INITIALIZER,\n",
    "                               name=prefix + 'dwconv')(x)\n",
    "    x = layers.BatchNormalization(axis=bn_axis, name=prefix + 'bn')(x)\n",
    "    x = layers.Activation(activation, name=prefix + 'activation')(x)\n",
    "\n",
    "    # Squeeze and Excitation phase\n",
    "    if has_se:\n",
    "        num_reduced_filters = max(1, int(\n",
    "            block_args.input_filters * block_args.se_ratio\n",
    "        ))\n",
    "        se_tensor = layers.GlobalAveragePooling2D(name=prefix + 'se_squeeze')(x)\n",
    "\n",
    "        target_shape = (1, 1, filters) if backend.image_data_format() == 'channels_last' else (filters, 1, 1)\n",
    "        se_tensor = layers.Reshape(target_shape, name=prefix + 'se_reshape')(se_tensor)\n",
    "        se_tensor = layers.Conv2D(num_reduced_filters, 1,\n",
    "                                  activation=activation,\n",
    "                                  padding='same',\n",
    "                                  use_bias=True,\n",
    "                                  kernel_initializer=CONV_KERNEL_INITIALIZER,\n",
    "                                  name=prefix + 'se_reduce')(se_tensor)\n",
    "        se_tensor = layers.Conv2D(filters, 1,\n",
    "                                  activation='sigmoid',\n",
    "                                  padding='same',\n",
    "                                  use_bias=True,\n",
    "                                  kernel_initializer=CONV_KERNEL_INITIALIZER,\n",
    "                                  name=prefix + 'se_expand')(se_tensor)\n",
    "        if backend.backend() == 'theano':\n",
    "            # For the Theano backend, we have to explicitly make\n",
    "            # the excitation weights broadcastable.\n",
    "            pattern = ([True, True, True, False] if backend.image_data_format() == 'channels_last'\n",
    "                       else [True, False, True, True])\n",
    "            se_tensor = layers.Lambda(\n",
    "                lambda x: backend.pattern_broadcast(x, pattern),\n",
    "                name=prefix + 'se_broadcast')(se_tensor)\n",
    "        x = layers.multiply([x, se_tensor], name=prefix + 'se_excite')\n",
    "\n",
    "    # Output phase\n",
    "    x = layers.Conv2D(block_args.output_filters, 1,\n",
    "                      padding='same',\n",
    "                      use_bias=False,\n",
    "                      kernel_initializer=CONV_KERNEL_INITIALIZER,\n",
    "                      name=prefix + 'project_conv')(x)\n",
    "    x = layers.BatchNormalization(axis=bn_axis, name=prefix + 'project_bn')(x)\n",
    "    if block_args.id_skip and all(\n",
    "            s == 1 for s in block_args.strides\n",
    "    ) and block_args.input_filters == block_args.output_filters:\n",
    "        if drop_rate and (drop_rate > 0):\n",
    "            x = Dropout(drop_rate,\n",
    "                        noise_shape=(None, 1, 1, 1),\n",
    "                        name=prefix + 'drop')(x)\n",
    "        x = layers.add([x, inputs], name=prefix + 'add')\n",
    "\n",
    "    return x\n",
    "\n",
    "\n",
    "def EfficientNet(width_coefficient,\n",
    "                 depth_coefficient,\n",
    "                 default_resolution,\n",
    "                 dropout_rate=0.2,\n",
    "                 drop_connect_rate=0.2,\n",
    "                 depth_divisor=8,\n",
    "                 blocks_args=DEFAULT_BLOCKS_ARGS,\n",
    "                 model_name='efficientnet',\n",
    "                 include_top=True,\n",
    "                 weights='imagenet',\n",
    "                 input_tensor=None,\n",
    "                 input_shape=None,\n",
    "                 pooling=None,\n",
    "                 classes=1000,\n",
    "                 **kwargs):\n",
    "    \"\"\"Instantiates the EfficientNet architecture using given scaling coefficients.\n",
    "    Optionally loads weights pre-trained on ImageNet.\n",
    "    Note that the data format convention used by the model is\n",
    "    the one specified in your Keras config at `~/.keras/keras.json`.\n",
    "    # Arguments\n",
    "        width_coefficient: float, scaling coefficient for network width.\n",
    "        depth_coefficient: float, scaling coefficient for network depth.\n",
    "        default_resolution: int, default input image size.\n",
    "        dropout_rate: float, dropout rate before final classifier layer.\n",
    "        drop_connect_rate: float, dropout rate at skip connections.\n",
    "        depth_divisor: int.\n",
    "        blocks_args: A list of BlockArgs to construct block modules.\n",
    "        model_name: string, model name.\n",
    "        include_top: whether to include the fully-connected\n",
    "            layer at the top of the network.\n",
    "        weights: one of `None` (random initialization),\n",
    "              'imagenet' (pre-training on ImageNet),\n",
    "              or the path to the weights file to be loaded.\n",
    "        input_tensor: optional Keras tensor\n",
    "            (i.e. output of `layers.Input()`)\n",
    "            to use as image input for the model.\n",
    "        input_shape: optional shape tuple, only to be specified\n",
    "            if `include_top` is False.\n",
    "            It should have exactly 3 inputs channels.\n",
    "        pooling: optional pooling mode for feature extraction\n",
    "            when `include_top` is `False`.\n",
    "            - `None` means that the output of the model will be\n",
    "                the 4D tensor output of the\n",
    "                last convolutional layer.\n",
    "            - `avg` means that global average pooling\n",
    "                will be applied to the output of the\n",
    "                last convolutional layer, and thus\n",
    "                the output of the model will be a 2D tensor.\n",
    "            - `max` means that global max pooling will\n",
    "                be applied.\n",
    "        classes: optional number of classes to classify images\n",
    "            into, only to be specified if `include_top` is True, and\n",
    "            if no `weights` argument is specified.\n",
    "    # Returns\n",
    "        A Keras model instance.\n",
    "    # Raises\n",
    "        ValueError: in case of invalid argument for `weights`,\n",
    "            or invalid input shape.\n",
    "    \"\"\"\n",
    "    global backend, layers, models, keras_utils\n",
    "    backend, layers, models, keras_utils = get_submodules_from_kwargs(kwargs)\n",
    "\n",
    "    if not (weights in {'imagenet', 'noisy-student', None} or os.path.exists(weights)):\n",
    "        raise ValueError('The `weights` argument should be either '\n",
    "                         '`None` (random initialization), `imagenet` '\n",
    "                         '(pre-training on ImageNet), '\n",
    "                         'or the path to the weights file to be loaded.')\n",
    "\n",
    "    if weights == 'imagenet' and include_top and classes != 1000:\n",
    "        raise ValueError('If using `weights` as `\"imagenet\"` with `include_top`'\n",
    "                         ' as true, `classes` should be 1000')\n",
    "\n",
    "    # Determine proper input shape\n",
    "    input_shape = _obtain_input_shape(input_shape,\n",
    "                                      default_size=default_resolution,\n",
    "                                      min_size=32,\n",
    "                                      data_format=backend.image_data_format(),\n",
    "                                      require_flatten=include_top,\n",
    "                                      weights=weights)\n",
    "\n",
    "    if input_tensor is None:\n",
    "        img_input = layers.Input(shape=input_shape)\n",
    "    else:\n",
    "        if backend.backend() == 'tensorflow':\n",
    "            from tensorflow.python.keras.backend import is_keras_tensor\n",
    "        else:\n",
    "            is_keras_tensor = backend.is_keras_tensor\n",
    "        if not is_keras_tensor(input_tensor):\n",
    "            img_input = layers.Input(tensor=input_tensor, shape=input_shape)\n",
    "        else:\n",
    "            img_input = input_tensor\n",
    "\n",
    "    bn_axis = 3 if backend.image_data_format() == 'channels_last' else 1\n",
    "    #activation = get_swish(**kwargs)\n",
    "    activation = \"relu\"\n",
    "\n",
    "    # Build stem\n",
    "    x = img_input\n",
    "    x = layers.Conv2D(round_filters(32, width_coefficient, depth_divisor), 3,\n",
    "                      strides=(2, 2),\n",
    "                      padding='same',\n",
    "                      use_bias=False,\n",
    "                      kernel_initializer=CONV_KERNEL_INITIALIZER,\n",
    "                      name='stem_conv')(x)\n",
    "    x = layers.BatchNormalization(axis=bn_axis, name='stem_bn')(x)\n",
    "    x = layers.Activation(activation, name='stem_activation')(x)\n",
    "\n",
    "    # Build blocks\n",
    "    num_blocks_total = sum(block_args.num_repeat for block_args in blocks_args)\n",
    "    block_num = 0\n",
    "    for idx, block_args in enumerate(blocks_args):\n",
    "        assert block_args.num_repeat > 0\n",
    "        # Update block input and output filters based on depth multiplier.\n",
    "        block_args = block_args._replace(\n",
    "            input_filters=round_filters(block_args.input_filters,\n",
    "                                        width_coefficient, depth_divisor),\n",
    "            output_filters=round_filters(block_args.output_filters,\n",
    "                                         width_coefficient, depth_divisor),\n",
    "            num_repeat=round_repeats(block_args.num_repeat, depth_coefficient))\n",
    "\n",
    "        # The first block needs to take care of stride and filter size increase.\n",
    "        drop_rate = drop_connect_rate * float(block_num) / num_blocks_total\n",
    "        x = mb_conv_block(x, block_args,\n",
    "                          activation=activation,\n",
    "                          drop_rate=drop_rate,\n",
    "                          prefix='block{}a_'.format(idx + 1))\n",
    "        block_num += 1\n",
    "        if block_args.num_repeat > 1:\n",
    "            # pylint: disable=protected-access\n",
    "            block_args = block_args._replace(\n",
    "                input_filters=block_args.output_filters, strides=[1, 1])\n",
    "            # pylint: enable=protected-access\n",
    "            for bidx in xrange(block_args.num_repeat - 1):\n",
    "                drop_rate = drop_connect_rate * float(block_num) / num_blocks_total\n",
    "                block_prefix = 'block{}{}_'.format(\n",
    "                    idx + 1,\n",
    "                    string.ascii_lowercase[bidx + 1]\n",
    "                )\n",
    "                x = mb_conv_block(x, block_args,\n",
    "                                  activation=activation,\n",
    "                                  drop_rate=drop_rate,\n",
    "                                  prefix=block_prefix)\n",
    "                block_num += 1\n",
    "\n",
    "    # Build top\n",
    "    x = layers.Conv2D(round_filters(1280, width_coefficient, depth_divisor), 1,\n",
    "                      padding='same',\n",
    "                      use_bias=False,\n",
    "                      kernel_initializer=CONV_KERNEL_INITIALIZER,\n",
    "                      name='top_conv')(x)\n",
    "    x = layers.BatchNormalization(axis=bn_axis, name='top_bn')(x)\n",
    "    x = layers.Activation(activation, name='top_activation')(x)\n",
    "    if include_top:\n",
    "        x = layers.GlobalAveragePooling2D(name='avg_pool')(x)\n",
    "        if dropout_rate and dropout_rate > 0:\n",
    "            x = layers.Dropout(dropout_rate, name='top_dropout')(x)\n",
    "        x = layers.Dense(classes,\n",
    "                         activation='softmax',\n",
    "                         kernel_initializer=DENSE_KERNEL_INITIALIZER,\n",
    "                         name='probs')(x)\n",
    "    else:\n",
    "        if pooling == 'avg':\n",
    "            x = layers.GlobalAveragePooling2D(name='avg_pool')(x)\n",
    "        elif pooling == 'max':\n",
    "            x = layers.GlobalMaxPooling2D(name='max_pool')(x)\n",
    "\n",
    "    # Ensure that the model takes into account\n",
    "    # any potential predecessors of `input_tensor`.\n",
    "    if input_tensor is not None:\n",
    "        inputs = keras_utils.get_source_inputs(input_tensor)\n",
    "    else:\n",
    "        inputs = img_input\n",
    "\n",
    "    # Create model.\n",
    "    model = models.Model(inputs, x, name=model_name)\n",
    "\n",
    "    # Load weights.\n",
    "    if weights == 'imagenet':\n",
    "\n",
    "        if include_top:\n",
    "            file_name = model_name + '_weights_tf_dim_ordering_tf_kernels_autoaugment.h5'\n",
    "            file_hash = IMAGENET_WEIGHTS_HASHES[model_name][0]\n",
    "        else:\n",
    "            file_name = model_name + '_weights_tf_dim_ordering_tf_kernels_autoaugment_notop.h5'\n",
    "            file_hash = IMAGENET_WEIGHTS_HASHES[model_name][1]\n",
    "        weights_path = keras_utils.get_file(\n",
    "            file_name,\n",
    "            IMAGENET_WEIGHTS_PATH + file_name,\n",
    "            cache_subdir='models',\n",
    "            file_hash=file_hash,\n",
    "        )\n",
    "        model.load_weights(weights_path)\n",
    "\n",
    "    elif weights == 'noisy-student':\n",
    "\n",
    "        if include_top:\n",
    "            file_name = \"{}_{}.h5\".format(model_name, weights)\n",
    "            file_hash = NS_WEIGHTS_HASHES[model_name][0]\n",
    "        else:\n",
    "            file_name = \"{}_{}_notop.h5\".format(model_name, weights)\n",
    "            file_hash = NS_WEIGHTS_HASHES[model_name][1]\n",
    "        weights_path = keras_utils.get_file(\n",
    "            file_name,\n",
    "            NS_WEIGHTS_PATH + file_name,\n",
    "            cache_subdir='models',\n",
    "            file_hash=file_hash,\n",
    "        )\n",
    "        model.load_weights(weights_path)\n",
    "\n",
    "    elif weights is not None:\n",
    "        model.load_weights(weights)\n",
    "\n",
    "    return model\n",
    "\n",
    "\n",
    "def EfficientNetB0(\n",
    "        include_top=True,\n",
    "        weights='imagenet',\n",
    "        input_tensor=None,\n",
    "        input_shape=None,\n",
    "        pooling=None,\n",
    "        classes=1000,\n",
    "        **kwargs\n",
    "):\n",
    "    return EfficientNet(\n",
    "        1.0, 1.0, 224, 0.2,\n",
    "        model_name='efficientnet-b0',\n",
    "        include_top=include_top, weights=weights,\n",
    "        input_tensor=input_tensor, input_shape=input_shape,\n",
    "        pooling=pooling, classes=classes,\n",
    "        **kwargs\n",
    "    )\n",
    "\n",
    "\n",
    "def EfficientNetB1(\n",
    "        include_top=True,\n",
    "        weights='imagenet',\n",
    "        input_tensor=None,\n",
    "        input_shape=None,\n",
    "        pooling=None,\n",
    "        classes=1000,\n",
    "        **kwargs\n",
    "):\n",
    "    return EfficientNet(\n",
    "        1.0, 1.1, 240, 0.2,\n",
    "        model_name='efficientnet-b1',\n",
    "        include_top=include_top, weights=weights,\n",
    "        input_tensor=input_tensor, input_shape=input_shape,\n",
    "        pooling=pooling, classes=classes,\n",
    "        **kwargs\n",
    "    )\n",
    "\n",
    "\n",
    "def EfficientNetB2(include_top=True,\n",
    "                   weights='imagenet',\n",
    "                   input_tensor=None,\n",
    "                   input_shape=None,\n",
    "                   pooling=None,\n",
    "                   classes=1000,\n",
    "                   **kwargs):\n",
    "    return EfficientNet(\n",
    "        1.1, 1.2, 260, 0.3,\n",
    "        model_name='efficientnet-b2',\n",
    "        include_top=include_top, weights=weights,\n",
    "        input_tensor=input_tensor, input_shape=input_shape,\n",
    "        pooling=pooling, classes=classes,\n",
    "        **kwargs\n",
    "    )\n",
    "\n",
    "\n",
    "def EfficientNetB3(include_top=True,\n",
    "                   weights='imagenet',\n",
    "                   input_tensor=None,\n",
    "                   input_shape=None,\n",
    "                   pooling=None,\n",
    "                   classes=1000,\n",
    "                   **kwargs):\n",
    "    return EfficientNet(\n",
    "        1.2, 1.4, 300, 0.3,\n",
    "        model_name='efficientnet-b3',\n",
    "        include_top=include_top, weights=weights,\n",
    "        input_tensor=input_tensor, input_shape=input_shape,\n",
    "        pooling=pooling, classes=classes,\n",
    "        **kwargs\n",
    "    )\n",
    "\n",
    "\n",
    "def EfficientNetB4(\n",
    "        include_top=True,\n",
    "        weights='imagenet',\n",
    "        input_tensor=None,\n",
    "        input_shape=None,\n",
    "        pooling=None,\n",
    "        classes=1000,\n",
    "        **kwargs\n",
    "):\n",
    "    return EfficientNet(\n",
    "        1.4, 1.8, 380, 0.4,\n",
    "        model_name='efficientnet-b4',\n",
    "        include_top=include_top, weights=weights,\n",
    "        input_tensor=input_tensor, input_shape=input_shape,\n",
    "        pooling=pooling, classes=classes,\n",
    "        **kwargs\n",
    "    )\n",
    "\n",
    "\n",
    "def EfficientNetB5(\n",
    "        include_top=True,\n",
    "        weights='imagenet',\n",
    "        input_tensor=None,\n",
    "        input_shape=None,\n",
    "        pooling=None,\n",
    "        classes=1000,\n",
    "        **kwargs\n",
    "):\n",
    "    return EfficientNet(\n",
    "        1.6, 2.2, 456, 0.4,\n",
    "        model_name='efficientnet-b5',\n",
    "        include_top=include_top, weights=weights,\n",
    "        input_tensor=input_tensor, input_shape=input_shape,\n",
    "        pooling=pooling, classes=classes,\n",
    "        **kwargs\n",
    "    )\n",
    "\n",
    "\n",
    "def EfficientNetB6(\n",
    "        include_top=True,\n",
    "        weights='imagenet',\n",
    "        input_tensor=None,\n",
    "        input_shape=None,\n",
    "        pooling=None,\n",
    "        classes=1000,\n",
    "        **kwargs\n",
    "):\n",
    "    return EfficientNet(\n",
    "        1.8, 2.6, 528, 0.5,\n",
    "        model_name='efficientnet-b6',\n",
    "        include_top=include_top, weights=weights,\n",
    "        input_tensor=input_tensor, input_shape=input_shape,\n",
    "        pooling=pooling, classes=classes,\n",
    "        **kwargs\n",
    "    )\n",
    "\n",
    "\n",
    "def EfficientNetB7(\n",
    "        include_top=True,\n",
    "        weights='imagenet',\n",
    "        input_tensor=None,\n",
    "        input_shape=None,\n",
    "        pooling=None,\n",
    "        classes=1000,\n",
    "        **kwargs\n",
    "):\n",
    "    return EfficientNet(\n",
    "        2.0, 3.1, 600, 0.5,\n",
    "        model_name='efficientnet-b7',\n",
    "        include_top=include_top, weights=weights,\n",
    "        input_tensor=input_tensor, input_shape=input_shape,\n",
    "        pooling=pooling, classes=classes,\n",
    "        **kwargs\n",
    "    )\n",
    "\n",
    "\n",
    "def EfficientNetL2(\n",
    "        include_top=True,\n",
    "        weights='imagenet',\n",
    "        input_tensor=None,\n",
    "        input_shape=None,\n",
    "        pooling=None,\n",
    "        classes=1000,\n",
    "        **kwargs\n",
    "):\n",
    "    return EfficientNet(\n",
    "        4.3, 5.3, 800, 0.5,\n",
    "        model_name='efficientnet-l2',\n",
    "        include_top=include_top, weights=weights,\n",
    "        input_tensor=input_tensor, input_shape=input_shape,\n",
    "        pooling=pooling, classes=classes,\n",
    "        **kwargs\n",
    "    )\n",
    "\n",
    "setattr(EfficientNetB0, '__doc__', EfficientNet.__doc__)\n",
    "setattr(EfficientNetB1, '__doc__', EfficientNet.__doc__)\n",
    "setattr(EfficientNetB2, '__doc__', EfficientNet.__doc__)\n",
    "setattr(EfficientNetB3, '__doc__', EfficientNet.__doc__)\n",
    "setattr(EfficientNetB4, '__doc__', EfficientNet.__doc__)\n",
    "setattr(EfficientNetB5, '__doc__', EfficientNet.__doc__)\n",
    "setattr(EfficientNetB6, '__doc__', EfficientNet.__doc__)\n",
    "setattr(EfficientNetB7, '__doc__', EfficientNet.__doc__)\n",
    "setattr(EfficientNetL2, '__doc__', EfficientNet.__doc__)"
   ]
  },
  {
   "cell_type": "markdown",
   "metadata": {
    "id": "jzz3VriTtzsc",
    "papermill": {
     "duration": 0.165932,
     "end_time": "2020-12-26T19:01:08.475525",
     "exception": false,
     "start_time": "2020-12-26T19:01:08.309593",
     "status": "completed"
    },
    "tags": []
   },
   "source": [
    "# Configurando EfficientNet modificada como en IBM Watson para obtener capa tipo modelo.\n"
   ]
  },
  {
   "cell_type": "code",
   "execution_count": 44,
   "metadata": {
    "execution": {
     "iopub.execute_input": "2020-12-26T19:01:08.768585Z",
     "iopub.status.busy": "2020-12-26T19:01:08.766787Z",
     "iopub.status.idle": "2020-12-26T19:01:08.769191Z",
     "shell.execute_reply": "2020-12-26T19:01:08.769614Z"
    },
    "id": "vRFijR0ntfOq",
    "papermill": {
     "duration": 0.150416,
     "end_time": "2020-12-26T19:01:08.769726",
     "exception": false,
     "start_time": "2020-12-26T19:01:08.619310",
     "status": "completed"
    },
    "tags": []
   },
   "outputs": [],
   "source": [
    "def inject_tfkeras_modules(func):\n",
    "    import tensorflow.keras as tfkeras\n",
    "    #@functools.wraps(func)\n",
    "    def wrapper(*args, **kwargs):\n",
    "        kwargs['backend'] = tfkeras.backend\n",
    "        kwargs['layers'] = tfkeras.layers\n",
    "        kwargs['models'] = tfkeras.models\n",
    "        kwargs['utils'] = tfkeras.utils\n",
    "        return func(*args, **kwargs)\n",
    "\n",
    "    return wrapper"
   ]
  },
  {
   "cell_type": "code",
   "execution_count": 45,
   "metadata": {
    "execution": {
     "iopub.execute_input": "2020-12-26T19:01:09.058060Z",
     "iopub.status.busy": "2020-12-26T19:01:09.056856Z",
     "iopub.status.idle": "2020-12-26T19:01:09.059836Z",
     "shell.execute_reply": "2020-12-26T19:01:09.059416Z"
    },
    "id": "8Fzolxo2tfW2",
    "papermill": {
     "duration": 0.148698,
     "end_time": "2020-12-26T19:01:09.059928",
     "exception": false,
     "start_time": "2020-12-26T19:01:08.911230",
     "status": "completed"
    },
    "tags": []
   },
   "outputs": [],
   "source": [
    "EfficientNetB0 = inject_tfkeras_modules(EfficientNetB0)\n",
    "EfficientNetB1 = inject_tfkeras_modules(EfficientNetB1)\n",
    "EfficientNetB2 = inject_tfkeras_modules(EfficientNetB2)\n",
    "EfficientNetB3 = inject_tfkeras_modules(EfficientNetB3)\n",
    "EfficientNetB4 = inject_tfkeras_modules(EfficientNetB4)\n",
    "EfficientNetB5 = inject_tfkeras_modules(EfficientNetB5)\n",
    "EfficientNetB6 = inject_tfkeras_modules(EfficientNetB6)\n",
    "EfficientNetB7 = inject_tfkeras_modules(EfficientNetB7)\n",
    "EfficientNetL2 = inject_tfkeras_modules(EfficientNetL2)"
   ]
  },
  {
   "cell_type": "markdown",
   "metadata": {
    "id": "MNKuKCIvuBG8",
    "papermill": {
     "duration": 0.14198,
     "end_time": "2020-12-26T19:01:09.342863",
     "exception": false,
     "start_time": "2020-12-26T19:01:09.200883",
     "status": "completed"
    },
    "tags": []
   },
   "source": [
    "# Arquitectura del modelo EfficientNet modificada que fue desplegada en IBM Watson.\n",
    "\n"
   ]
  },
  {
   "cell_type": "code",
   "execution_count": 46,
   "metadata": {
    "execution": {
     "iopub.execute_input": "2020-12-26T19:01:09.640119Z",
     "iopub.status.busy": "2020-12-26T19:01:09.639464Z",
     "iopub.status.idle": "2020-12-26T19:01:09.643342Z",
     "shell.execute_reply": "2020-12-26T19:01:09.642837Z"
    },
    "papermill": {
     "duration": 0.15358,
     "end_time": "2020-12-26T19:01:09.643449",
     "exception": false,
     "start_time": "2020-12-26T19:01:09.489869",
     "status": "completed"
    },
    "tags": []
   },
   "outputs": [],
   "source": [
    "# Arreglando el problema de clases desbalanceadas estableciendo un peso por clase en el función de costo\n",
    "w_p=np.sum(Y_train==0)/Y_train.shape[0]\n",
    "w_n=np.sum(Y_train==1)/Y_train.shape[0]"
   ]
  },
  {
   "cell_type": "code",
   "execution_count": 47,
   "metadata": {
    "execution": {
     "iopub.execute_input": "2020-12-26T19:01:09.928311Z",
     "iopub.status.busy": "2020-12-26T19:01:09.927805Z",
     "iopub.status.idle": "2020-12-26T19:01:09.931703Z",
     "shell.execute_reply": "2020-12-26T19:01:09.931125Z"
    },
    "papermill": {
     "duration": 0.147667,
     "end_time": "2020-12-26T19:01:09.931813",
     "exception": false,
     "start_time": "2020-12-26T19:01:09.784146",
     "status": "completed"
    },
    "tags": []
   },
   "outputs": [],
   "source": [
    "# Creando diccionario para establecer el peso de cada clase de salida\n",
    "class_weights = { 0 : w_n , 1 : w_p }"
   ]
  },
  {
   "cell_type": "code",
   "execution_count": 48,
   "metadata": {
    "execution": {
     "iopub.execute_input": "2020-12-26T19:01:10.218014Z",
     "iopub.status.busy": "2020-12-26T19:01:10.216281Z",
     "iopub.status.idle": "2020-12-26T19:01:10.218623Z",
     "shell.execute_reply": "2020-12-26T19:01:10.219028Z"
    },
    "papermill": {
     "duration": 0.146395,
     "end_time": "2020-12-26T19:01:10.219131",
     "exception": false,
     "start_time": "2020-12-26T19:01:10.072736",
     "status": "completed"
    },
    "tags": []
   },
   "outputs": [],
   "source": [
    "# definimos dropout\n",
    "# Esta factor que está definido entre 0 y 1\n",
    "# es un factor que determina la tasa de unidades que se \"apagarán\"\n",
    "# durante el entrenamiento; esto evita el sobreajuste\n",
    "dropout = 0.2"
   ]
  },
  {
   "cell_type": "code",
   "execution_count": 49,
   "metadata": {
    "execution": {
     "iopub.execute_input": "2020-12-26T19:01:10.537404Z",
     "iopub.status.busy": "2020-12-26T19:01:10.536875Z",
     "iopub.status.idle": "2020-12-26T19:01:31.806651Z",
     "shell.execute_reply": "2020-12-26T19:01:31.806093Z"
    },
    "id": "wsr4mUfTuWfd",
    "papermill": {
     "duration": 21.41778,
     "end_time": "2020-12-26T19:01:31.806761",
     "exception": false,
     "start_time": "2020-12-26T19:01:10.388981",
     "status": "completed"
    },
    "tags": []
   },
   "outputs": [
    {
     "name": "stdout",
     "output_type": "stream",
     "text": [
      "Downloading data from https://github.com/Callidior/keras-applications/releases/download/efficientnet/efficientnet-b7_weights_tf_dim_ordering_tf_kernels_autoaugment_notop.h5\n",
      "258441216/258434480 [==============================] - 8s 0us/step\n"
     ]
    }
   ],
   "source": [
    "# Dfiniendo modelo EfficentNet desplegado en IBM Watson\n",
    "rnet_ibm = EfficientNetB7(weights='imagenet', include_top=False, input_shape=[128,128,3])\n",
    "rnet_ibm = tf.keras.Sequential(rnet_ibm)\n",
    "rnet_ibm.add(Dropout(rate=dropout))\n",
    "rnet_ibm.add(Flatten())\n",
    "rnet_ibm.add(Dense(4096, activation='relu'))\n",
    "rnet_ibm.add(Dropout(rate=dropout))\n",
    "rnet_ibm.add(Dense(4096, activation='relu'))\n",
    "rnet_ibm.add(Dropout(rate=dropout))\n",
    "rnet_ibm.add(Dense(1, activation='sigmoid'))"
   ]
  },
  {
   "cell_type": "code",
   "execution_count": 50,
   "metadata": {
    "execution": {
     "iopub.execute_input": "2020-12-26T19:01:32.159865Z",
     "iopub.status.busy": "2020-12-26T19:01:32.159096Z",
     "iopub.status.idle": "2020-12-26T19:01:32.162843Z",
     "shell.execute_reply": "2020-12-26T19:01:32.163303Z"
    },
    "id": "ED4Ga6jpuWmg",
    "outputId": "c0ead5a4-337c-4158-b638-a01db32c0bdc",
    "papermill": {
     "duration": 0.1828,
     "end_time": "2020-12-26T19:01:32.163436",
     "exception": false,
     "start_time": "2020-12-26T19:01:31.980636",
     "status": "completed"
    },
    "tags": []
   },
   "outputs": [
    {
     "data": {
      "text/plain": [
       "[<tensorflow.python.keras.engine.functional.Functional at 0x7f7177c361d0>,\n",
       " <tensorflow.python.keras.layers.core.Dropout at 0x7f7177b75050>,\n",
       " <tensorflow.python.keras.layers.core.Flatten at 0x7f7176620f10>,\n",
       " <tensorflow.python.keras.layers.core.Dense at 0x7f7177b75cd0>,\n",
       " <tensorflow.python.keras.layers.core.Dropout at 0x7f717662bc50>,\n",
       " <tensorflow.python.keras.layers.core.Dense at 0x7f717663df10>,\n",
       " <tensorflow.python.keras.layers.core.Dropout at 0x7f7176640f10>,\n",
       " <tensorflow.python.keras.layers.core.Dense at 0x7f7176642490>]"
      ]
     },
     "execution_count": 50,
     "metadata": {},
     "output_type": "execute_result"
    }
   ],
   "source": [
    "rnet_ibm.layers"
   ]
  },
  {
   "cell_type": "code",
   "execution_count": 51,
   "metadata": {
    "execution": {
     "iopub.execute_input": "2020-12-26T19:01:32.537992Z",
     "iopub.status.busy": "2020-12-26T19:01:32.536312Z",
     "iopub.status.idle": "2020-12-26T19:01:32.616186Z",
     "shell.execute_reply": "2020-12-26T19:01:32.616912Z"
    },
    "id": "H1gCRri1uWum",
    "outputId": "c694d5aa-122d-46da-ed30-15b317cc09a7",
    "papermill": {
     "duration": 0.256635,
     "end_time": "2020-12-26T19:01:32.617036",
     "exception": false,
     "start_time": "2020-12-26T19:01:32.360401",
     "status": "completed"
    },
    "tags": []
   },
   "outputs": [
    {
     "name": "stdout",
     "output_type": "stream",
     "text": [
      "Model: \"sequential\"\n",
      "_________________________________________________________________\n",
      "Layer (type)                 Output Shape              Param #   \n",
      "=================================================================\n",
      "efficientnet-b7 (Functional) (None, 4, 4, 2560)        64097680  \n",
      "_________________________________________________________________\n",
      "dropout (Dropout)            (None, 4, 4, 2560)        0         \n",
      "_________________________________________________________________\n",
      "flatten (Flatten)            (None, 40960)             0         \n",
      "_________________________________________________________________\n",
      "dense (Dense)                (None, 4096)              167776256 \n",
      "_________________________________________________________________\n",
      "dropout_1 (Dropout)          (None, 4096)              0         \n",
      "_________________________________________________________________\n",
      "dense_1 (Dense)              (None, 4096)              16781312  \n",
      "_________________________________________________________________\n",
      "dropout_2 (Dropout)          (None, 4096)              0         \n",
      "_________________________________________________________________\n",
      "dense_2 (Dense)              (None, 1)                 4097      \n",
      "=================================================================\n",
      "Total params: 248,659,345\n",
      "Trainable params: 248,348,625\n",
      "Non-trainable params: 310,720\n",
      "_________________________________________________________________\n"
     ]
    }
   ],
   "source": [
    "rnet_ibm.summary()"
   ]
  },
  {
   "cell_type": "code",
   "execution_count": 52,
   "metadata": {
    "execution": {
     "iopub.execute_input": "2020-12-26T19:01:32.962883Z",
     "iopub.status.busy": "2020-12-26T19:01:32.962263Z",
     "iopub.status.idle": "2020-12-26T19:01:32.967974Z",
     "shell.execute_reply": "2020-12-26T19:01:32.968863Z"
    },
    "id": "hsqJz1wcuW1z",
    "outputId": "2a2e7d7b-ca2a-4cf3-f878-9c519d90f0c6",
    "papermill": {
     "duration": 0.180654,
     "end_time": "2020-12-26T19:01:32.968979",
     "exception": false,
     "start_time": "2020-12-26T19:01:32.788325",
     "status": "completed"
    },
    "tags": []
   },
   "outputs": [
    {
     "data": {
      "text/plain": [
       "tensorflow.python.keras.engine.sequential.Sequential"
      ]
     },
     "execution_count": 52,
     "metadata": {},
     "output_type": "execute_result"
    }
   ],
   "source": [
    "type(rnet_ibm)"
   ]
  },
  {
   "cell_type": "code",
   "execution_count": 53,
   "metadata": {
    "execution": {
     "iopub.execute_input": "2020-12-26T19:01:33.310467Z",
     "iopub.status.busy": "2020-12-26T19:01:33.309873Z",
     "iopub.status.idle": "2020-12-26T19:01:33.313713Z",
     "shell.execute_reply": "2020-12-26T19:01:33.313245Z"
    },
    "papermill": {
     "duration": 0.175969,
     "end_time": "2020-12-26T19:01:33.313812",
     "exception": false,
     "start_time": "2020-12-26T19:01:33.137843",
     "status": "completed"
    },
    "tags": []
   },
   "outputs": [],
   "source": [
    "# Definimos el optimizador utilizando el método de Adam\n",
    "# Este método es una modificación del algoritmo de\n",
    "# gradiente descendiente\n",
    "opt=tfa.optimizers.RectifiedAdam(learning_rate=0.01) #,clipvalue=5)\n",
    "#opt=tf.keras.optimizers.Nadam(learning_rate=0.01 ,clipvalue=5)\n",
    "#opt=tf.keras.optimizers.Adam(learning_rate=learning_rate_fn) #,clipvalue=5)"
   ]
  },
  {
   "cell_type": "code",
   "execution_count": 54,
   "metadata": {
    "execution": {
     "iopub.execute_input": "2020-12-26T19:01:33.664679Z",
     "iopub.status.busy": "2020-12-26T19:01:33.663820Z",
     "iopub.status.idle": "2020-12-26T19:01:33.691569Z",
     "shell.execute_reply": "2020-12-26T19:01:33.692055Z"
    },
    "papermill": {
     "duration": 0.209441,
     "end_time": "2020-12-26T19:01:33.692177",
     "exception": false,
     "start_time": "2020-12-26T19:01:33.482736",
     "status": "completed"
    },
    "tags": []
   },
   "outputs": [],
   "source": [
    "# Definiendo las métricas necesarias para dar seguimiento al modelo\n",
    "METRICS = [\n",
    "  tf.keras.metrics.BinaryAccuracy(name='accuracy'),\n",
    "  tf.keras.metrics.Precision(name='precision'),\n",
    "  tf.keras.metrics.Recall(name='recall'),\n",
    "  tfa.metrics.F1Score(num_classes=2, average=\"micro\", threshold=0.5),\n",
    "  tf.keras.metrics.AUC(name='AUC')\n",
    "]"
   ]
  },
  {
   "cell_type": "code",
   "execution_count": 55,
   "metadata": {
    "execution": {
     "iopub.execute_input": "2020-12-26T19:01:34.056959Z",
     "iopub.status.busy": "2020-12-26T19:01:34.051822Z",
     "iopub.status.idle": "2020-12-26T19:01:34.073978Z",
     "shell.execute_reply": "2020-12-26T19:01:34.073070Z"
    },
    "papermill": {
     "duration": 0.211417,
     "end_time": "2020-12-26T19:01:34.074076",
     "exception": false,
     "start_time": "2020-12-26T19:01:33.862659",
     "status": "completed"
    },
    "tags": []
   },
   "outputs": [],
   "source": [
    "# Compilando el modelo\n",
    "rnet_ibm.compile(\n",
    "    optimizer=opt,\n",
    "    loss = 'binary_crossentropy',\n",
    "    metrics=METRICS\n",
    ")"
   ]
  },
  {
   "cell_type": "markdown",
   "metadata": {
    "papermill": {
     "duration": 0.17008,
     "end_time": "2020-12-26T19:01:34.413594",
     "exception": false,
     "start_time": "2020-12-26T19:01:34.243514",
     "status": "completed"
    },
    "tags": []
   },
   "source": [
    "La métrica de oro será el AUC."
   ]
  },
  {
   "cell_type": "code",
   "execution_count": 56,
   "metadata": {
    "execution": {
     "iopub.execute_input": "2020-12-26T19:01:34.758257Z",
     "iopub.status.busy": "2020-12-26T19:01:34.757647Z",
     "iopub.status.idle": "2020-12-26T19:01:34.761309Z",
     "shell.execute_reply": "2020-12-26T19:01:34.760805Z"
    },
    "papermill": {
     "duration": 0.178112,
     "end_time": "2020-12-26T19:01:34.761426",
     "exception": false,
     "start_time": "2020-12-26T19:01:34.583314",
     "status": "completed"
    },
    "tags": []
   },
   "outputs": [],
   "source": [
    "# Con este objeto se guardará el mejor modelo con base a la métrica f1_score\n",
    "sv = tf.keras.callbacks.ModelCheckpoint(filepath='EFNB7_IBM_weights.h5',monitor='val_AUC', verbose=0, save_best_only=True,\n",
    "        save_weights_only=False, mode='max', save_freq='epoch')"
   ]
  },
  {
   "cell_type": "code",
   "execution_count": 57,
   "metadata": {
    "execution": {
     "iopub.execute_input": "2020-12-26T19:01:35.110559Z",
     "iopub.status.busy": "2020-12-26T19:01:35.108914Z",
     "iopub.status.idle": "2020-12-26T19:01:35.111547Z",
     "shell.execute_reply": "2020-12-26T19:01:35.111973Z"
    },
    "papermill": {
     "duration": 0.175647,
     "end_time": "2020-12-26T19:01:35.112086",
     "exception": false,
     "start_time": "2020-12-26T19:01:34.936439",
     "status": "completed"
    },
    "tags": []
   },
   "outputs": [],
   "source": [
    "# Tamaño del batch (se recomienda un batch potencia de 2)\n",
    "BS = 32"
   ]
  },
  {
   "cell_type": "code",
   "execution_count": 58,
   "metadata": {
    "execution": {
     "iopub.execute_input": "2020-12-26T19:01:35.460630Z",
     "iopub.status.busy": "2020-12-26T19:01:35.460083Z",
     "iopub.status.idle": "2020-12-26T19:43:53.837810Z",
     "shell.execute_reply": "2020-12-26T19:43:53.838462Z"
    },
    "papermill": {
     "duration": 2538.557395,
     "end_time": "2020-12-26T19:43:53.838639",
     "exception": false,
     "start_time": "2020-12-26T19:01:35.281244",
     "status": "completed"
    },
    "tags": []
   },
   "outputs": [
    {
     "name": "stdout",
     "output_type": "stream",
     "text": [
      "Epoch 1/40\n",
      "104/104 - 76s - loss: 0.3638 - accuracy: 0.7434 - precision: 0.3902 - recall: 0.7563 - f1_score: 0.5148 - AUC: 0.8044 - val_loss: 3.3084 - val_accuracy: 0.2776 - val_precision: 0.2776 - val_recall: 1.0000 - val_f1_score: 0.4346 - val_AUC: 0.6166\n",
      "Epoch 2/40\n",
      "104/104 - 59s - loss: 0.6332 - accuracy: 0.5265 - precision: 0.2491 - recall: 0.7983 - f1_score: 0.3797 - AUC: 0.6973 - val_loss: 6304466.5000 - val_accuracy: 0.7224 - val_precision: 0.0000e+00 - val_recall: 0.0000e+00 - val_f1_score: 0.0000e+00 - val_AUC: 0.5000\n",
      "Epoch 3/40\n",
      "104/104 - 70s - loss: 0.1655 - accuracy: 0.7014 - precision: 0.3509 - recall: 0.7915 - f1_score: 0.4862 - AUC: 0.8185 - val_loss: 0.5941 - val_accuracy: 0.7909 - val_precision: 0.6418 - val_recall: 0.5584 - val_f1_score: 0.5972 - val_AUC: 0.8578\n",
      "Epoch 4/40\n",
      "104/104 - 59s - loss: 0.1059 - accuracy: 0.8587 - precision: 0.5770 - recall: 0.8545 - f1_score: 0.6889 - AUC: 0.9293 - val_loss: 0.5347 - val_accuracy: 0.7332 - val_precision: 0.5120 - val_recall: 0.8312 - val_f1_score: 0.6337 - val_AUC: 0.8432\n",
      "Epoch 5/40\n",
      "104/104 - 59s - loss: 0.0857 - accuracy: 0.8747 - precision: 0.5959 - recall: 0.9306 - f1_score: 0.7266 - AUC: 0.9498 - val_loss: 0.9850 - val_accuracy: 0.7728 - val_precision: 0.6010 - val_recall: 0.5411 - val_f1_score: 0.5695 - val_AUC: 0.8104\n",
      "Epoch 6/40\n",
      "104/104 - 59s - loss: 8.6959 - accuracy: 0.7707 - precision: 0.4163 - recall: 0.7526 - f1_score: 0.5361 - AUC: 0.8471 - val_loss: 251824566903504896.0000 - val_accuracy: 0.2776 - val_precision: 0.2776 - val_recall: 1.0000 - val_f1_score: 0.4346 - val_AUC: 0.5000\n",
      "Epoch 7/40\n",
      "104/104 - 59s - loss: 3.9717 - accuracy: 0.4669 - precision: 0.1904 - recall: 0.5794 - f1_score: 0.2866 - AUC: 0.5132 - val_loss: 16806.0879 - val_accuracy: 0.7224 - val_precision: 0.0000e+00 - val_recall: 0.0000e+00 - val_f1_score: 0.0000e+00 - val_AUC: 0.5000\n",
      "Epoch 8/40\n",
      "104/104 - 59s - loss: 0.9529 - accuracy: 0.5486 - precision: 0.1876 - recall: 0.4553 - f1_score: 0.2657 - AUC: 0.5193 - val_loss: 1839.0214 - val_accuracy: 0.2776 - val_precision: 0.2776 - val_recall: 1.0000 - val_f1_score: 0.4346 - val_AUC: 0.5000\n",
      "Epoch 9/40\n",
      "104/104 - 59s - loss: 0.2389 - accuracy: 0.6941 - precision: 0.2528 - recall: 0.3388 - f1_score: 0.2895 - AUC: 0.5526 - val_loss: 10.5044 - val_accuracy: 0.7248 - val_precision: 0.5294 - val_recall: 0.0779 - val_f1_score: 0.1358 - val_AUC: 0.4609\n",
      "Epoch 10/40\n",
      "104/104 - 59s - loss: 0.2348 - accuracy: 0.7225 - precision: 0.2697 - recall: 0.3078 - f1_score: 0.2875 - AUC: 0.5668 - val_loss: 1.3565 - val_accuracy: 0.7043 - val_precision: 0.4176 - val_recall: 0.1645 - val_f1_score: 0.2360 - val_AUC: 0.5385\n",
      "Epoch 11/40\n",
      "104/104 - 59s - loss: 0.2201 - accuracy: 0.7250 - precision: 0.2622 - recall: 0.3010 - f1_score: 0.2803 - AUC: 0.5634 - val_loss: 1.2313 - val_accuracy: 0.7212 - val_precision: 0.0000e+00 - val_recall: 0.0000e+00 - val_f1_score: 0.0000e+00 - val_AUC: 0.5149\n",
      "Epoch 12/40\n",
      "104/104 - 59s - loss: 0.2172 - accuracy: 0.7764 - precision: 0.3169 - recall: 0.2316 - f1_score: 0.2676 - AUC: 0.5675 - val_loss: 0.7495 - val_accuracy: 0.7151 - val_precision: 0.4531 - val_recall: 0.1255 - val_f1_score: 0.1966 - val_AUC: 0.5322\n",
      "Epoch 13/40\n",
      "104/104 - 59s - loss: 0.2002 - accuracy: 0.6578 - precision: 0.2471 - recall: 0.4341 - f1_score: 0.3150 - AUC: 0.5877 - val_loss: 0.7146 - val_accuracy: 0.7224 - val_precision: 0.5000 - val_recall: 0.0736 - val_f1_score: 0.1283 - val_AUC: 0.5358\n",
      "Epoch 14/40\n",
      "104/104 - 58s - loss: 0.2015 - accuracy: 0.7613 - precision: 0.3106 - recall: 0.2583 - f1_score: 0.2821 - AUC: 0.5695 - val_loss: 0.6803 - val_accuracy: 0.7236 - val_precision: 0.5161 - val_recall: 0.0693 - val_f1_score: 0.1221 - val_AUC: 0.5299\n",
      "Epoch 15/40\n",
      "104/104 - 59s - loss: 0.2118 - accuracy: 0.7352 - precision: 0.2875 - recall: 0.3149 - f1_score: 0.3006 - AUC: 0.5771 - val_loss: 0.7379 - val_accuracy: 0.7260 - val_precision: 0.5263 - val_recall: 0.1299 - val_f1_score: 0.2083 - val_AUC: 0.5425\n",
      "Epoch 16/40\n",
      "104/104 - 59s - loss: 0.1993 - accuracy: 0.7534 - precision: 0.3257 - recall: 0.3284 - f1_score: 0.3270 - AUC: 0.5907 - val_loss: 0.7042 - val_accuracy: 0.7175 - val_precision: 0.4688 - val_recall: 0.1299 - val_f1_score: 0.2034 - val_AUC: 0.5373\n",
      "Epoch 17/40\n",
      "104/104 - 58s - loss: 0.1969 - accuracy: 0.7761 - precision: 0.3604 - recall: 0.3038 - f1_score: 0.3297 - AUC: 0.5963 - val_loss: 0.7233 - val_accuracy: 0.7236 - val_precision: 0.5085 - val_recall: 0.1299 - val_f1_score: 0.2069 - val_AUC: 0.5410\n",
      "Epoch 18/40\n",
      "104/104 - 59s - loss: 0.1950 - accuracy: 0.8021 - precision: 0.3927 - recall: 0.2622 - f1_score: 0.3145 - AUC: 0.5799 - val_loss: 0.8012 - val_accuracy: 0.7091 - val_precision: 0.4267 - val_recall: 0.1385 - val_f1_score: 0.2092 - val_AUC: 0.5347\n",
      "Epoch 19/40\n",
      "104/104 - 59s - loss: 0.1935 - accuracy: 0.8175 - precision: 0.5083 - recall: 0.3021 - f1_score: 0.3790 - AUC: 0.6120 - val_loss: 0.7083 - val_accuracy: 0.6971 - val_precision: 0.3820 - val_recall: 0.1472 - val_f1_score: 0.2125 - val_AUC: 0.5339\n",
      "Epoch 20/40\n",
      "104/104 - 59s - loss: 0.1874 - accuracy: 0.8094 - precision: 0.4643 - recall: 0.3939 - f1_score: 0.4262 - AUC: 0.6366 - val_loss: 0.7021 - val_accuracy: 0.6959 - val_precision: 0.4225 - val_recall: 0.2597 - val_f1_score: 0.3217 - val_AUC: 0.5660\n",
      "Epoch 21/40\n",
      "104/104 - 59s - loss: 0.1731 - accuracy: 0.7985 - precision: 0.4585 - recall: 0.5880 - f1_score: 0.5153 - AUC: 0.7451 - val_loss: 0.7482 - val_accuracy: 0.6695 - val_precision: 0.3514 - val_recall: 0.2251 - val_f1_score: 0.2744 - val_AUC: 0.5103\n",
      "Epoch 22/40\n",
      "104/104 - 58s - loss: 0.1594 - accuracy: 0.8127 - precision: 0.4871 - recall: 0.6985 - f1_score: 0.5740 - AUC: 0.7893 - val_loss: 0.8332 - val_accuracy: 0.6022 - val_precision: 0.3397 - val_recall: 0.4589 - val_f1_score: 0.3904 - val_AUC: 0.5862\n",
      "Epoch 23/40\n",
      "104/104 - 59s - loss: 0.1434 - accuracy: 0.8266 - precision: 0.5143 - recall: 0.7813 - f1_score: 0.6203 - AUC: 0.8346 - val_loss: 0.8344 - val_accuracy: 0.5649 - val_precision: 0.3480 - val_recall: 0.6494 - val_f1_score: 0.4532 - val_AUC: 0.6141\n",
      "Epoch 24/40\n",
      "104/104 - 59s - loss: 0.1310 - accuracy: 0.8614 - precision: 0.5854 - recall: 0.7716 - f1_score: 0.6657 - AUC: 0.8581 - val_loss: 1.1336 - val_accuracy: 0.5757 - val_precision: 0.3740 - val_recall: 0.7835 - val_f1_score: 0.5063 - val_AUC: 0.6623\n",
      "Epoch 25/40\n",
      "104/104 - 59s - loss: 0.1236 - accuracy: 0.8502 - precision: 0.5605 - recall: 0.8361 - f1_score: 0.6711 - AUC: 0.8768 - val_loss: 0.8546 - val_accuracy: 0.6490 - val_precision: 0.3952 - val_recall: 0.4978 - val_f1_score: 0.4406 - val_AUC: 0.6137\n",
      "Epoch 26/40\n",
      "104/104 - 59s - loss: 0.1105 - accuracy: 0.8629 - precision: 0.5691 - recall: 0.8456 - f1_score: 0.6803 - AUC: 0.9010 - val_loss: 0.8390 - val_accuracy: 0.6851 - val_precision: 0.2615 - val_recall: 0.0736 - val_f1_score: 0.1149 - val_AUC: 0.5220\n",
      "Epoch 27/40\n",
      "104/104 - 59s - loss: 0.1260 - accuracy: 0.8717 - precision: 0.6054 - recall: 0.8754 - f1_score: 0.7158 - AUC: 0.9088 - val_loss: 1.8017 - val_accuracy: 0.6743 - val_precision: 0.4432 - val_recall: 0.6753 - val_f1_score: 0.5352 - val_AUC: 0.6611\n",
      "Epoch 28/40\n",
      "104/104 - 59s - loss: 0.1008 - accuracy: 0.8632 - precision: 0.5743 - recall: 0.9139 - f1_score: 0.7053 - AUC: 0.9215 - val_loss: 1.7636 - val_accuracy: 0.6490 - val_precision: 0.4178 - val_recall: 0.6710 - val_f1_score: 0.5150 - val_AUC: 0.7092\n",
      "Epoch 29/40\n",
      "104/104 - 59s - loss: 0.0808 - accuracy: 0.9110 - precision: 0.6933 - recall: 0.9260 - f1_score: 0.7930 - AUC: 0.9465 - val_loss: 0.6451 - val_accuracy: 0.7584 - val_precision: 0.5915 - val_recall: 0.4199 - val_f1_score: 0.4911 - val_AUC: 0.6795\n",
      "Epoch 30/40\n",
      "104/104 - 59s - loss: 0.0770 - accuracy: 0.9234 - precision: 0.7299 - recall: 0.9146 - f1_score: 0.8119 - AUC: 0.9548 - val_loss: 0.6636 - val_accuracy: 0.7356 - val_precision: 0.5325 - val_recall: 0.3896 - val_f1_score: 0.4500 - val_AUC: 0.7032\n",
      "Epoch 31/40\n",
      "104/104 - 59s - loss: 0.0486 - accuracy: 0.9386 - precision: 0.7556 - recall: 0.9508 - f1_score: 0.8420 - AUC: 0.9809 - val_loss: 1.2869 - val_accuracy: 0.6430 - val_precision: 0.3914 - val_recall: 0.5152 - val_f1_score: 0.4449 - val_AUC: 0.6370\n",
      "Epoch 32/40\n",
      "104/104 - 59s - loss: 0.0510 - accuracy: 0.9362 - precision: 0.7644 - recall: 0.9637 - f1_score: 0.8526 - AUC: 0.9797 - val_loss: 0.9065 - val_accuracy: 0.7212 - val_precision: 0.4965 - val_recall: 0.3074 - val_f1_score: 0.3797 - val_AUC: 0.6066\n",
      "Epoch 33/40\n",
      "104/104 - 59s - loss: 0.0473 - accuracy: 0.9334 - precision: 0.7477 - recall: 0.9585 - f1_score: 0.8401 - AUC: 0.9807 - val_loss: 1.1332 - val_accuracy: 0.6538 - val_precision: 0.4223 - val_recall: 0.6710 - val_f1_score: 0.5184 - val_AUC: 0.7157\n",
      "Epoch 34/40\n",
      "104/104 - 59s - loss: 0.0438 - accuracy: 0.9283 - precision: 0.7137 - recall: 0.9718 - f1_score: 0.8230 - AUC: 0.9837 - val_loss: 1.3824 - val_accuracy: 0.6875 - val_precision: 0.4225 - val_recall: 0.3420 - val_f1_score: 0.3780 - val_AUC: 0.5935\n",
      "Epoch 35/40\n",
      "104/104 - 59s - loss: 0.0444 - accuracy: 0.9328 - precision: 0.7440 - recall: 0.9688 - f1_score: 0.8417 - AUC: 0.9844 - val_loss: 1.0018 - val_accuracy: 0.6935 - val_precision: 0.4545 - val_recall: 0.5195 - val_f1_score: 0.4848 - val_AUC: 0.7213\n",
      "Epoch 36/40\n",
      "104/104 - 59s - loss: 0.0434 - accuracy: 0.9455 - precision: 0.7819 - recall: 0.9735 - f1_score: 0.8673 - AUC: 0.9850 - val_loss: 0.8094 - val_accuracy: 0.7428 - val_precision: 0.5277 - val_recall: 0.7013 - val_f1_score: 0.6022 - val_AUC: 0.7855\n",
      "Epoch 37/40\n",
      "104/104 - 58s - loss: 0.0326 - accuracy: 0.9540 - precision: 0.8069 - recall: 0.9781 - f1_score: 0.8843 - AUC: 0.9898 - val_loss: 1.5788 - val_accuracy: 0.5974 - val_precision: 0.3610 - val_recall: 0.5844 - val_f1_score: 0.4463 - val_AUC: 0.5906\n",
      "Epoch 38/40\n",
      "104/104 - 58s - loss: 0.0457 - accuracy: 0.9422 - precision: 0.7607 - recall: 0.9683 - f1_score: 0.8521 - AUC: 0.9840 - val_loss: 2.0999 - val_accuracy: 0.5925 - val_precision: 0.3714 - val_recall: 0.6753 - val_f1_score: 0.4793 - val_AUC: 0.6912\n",
      "Epoch 39/40\n",
      "104/104 - 59s - loss: 0.0176 - accuracy: 0.9797 - precision: 0.9118 - recall: 0.9888 - f1_score: 0.9487 - AUC: 0.9963 - val_loss: 1.8314 - val_accuracy: 0.6454 - val_precision: 0.3431 - val_recall: 0.3030 - val_f1_score: 0.3218 - val_AUC: 0.5757\n",
      "Epoch 40/40\n",
      "104/104 - 59s - loss: 0.0144 - accuracy: 0.9791 - precision: 0.9021 - recall: 0.9879 - f1_score: 0.9430 - AUC: 0.9984 - val_loss: 2.3508 - val_accuracy: 0.7392 - val_precision: 0.5625 - val_recall: 0.2727 - val_f1_score: 0.3673 - val_AUC: 0.5965\n"
     ]
    }
   ],
   "source": [
    "# Entrenando el modelo y almacenando los valores en history_1\n",
    "history_1 = rnet_ibm.fit(X_train, Y_train, batch_size=BS,\n",
    "                          steps_per_epoch=len(X_train) // BS, validation_data=(X_test, Y_test),\n",
    "                          epochs=40, verbose=2, class_weight=class_weights, callbacks=[sv])"
   ]
  },
  {
   "cell_type": "code",
   "execution_count": 59,
   "metadata": {
    "execution": {
     "iopub.execute_input": "2020-12-26T19:43:54.230726Z",
     "iopub.status.busy": "2020-12-26T19:43:54.228432Z",
     "iopub.status.idle": "2020-12-26T19:43:54.233790Z",
     "shell.execute_reply": "2020-12-26T19:43:54.233146Z"
    },
    "papermill": {
     "duration": 0.201885,
     "end_time": "2020-12-26T19:43:54.233920",
     "exception": false,
     "start_time": "2020-12-26T19:43:54.032035",
     "status": "completed"
    },
    "tags": []
   },
   "outputs": [
    {
     "name": "stdout",
     "output_type": "stream",
     "text": [
      "2\n"
     ]
    }
   ],
   "source": [
    "# Primera iteración con el AUC de validación más alto\n",
    "best_iter=np.where(np.max(history_1.history['val_AUC'])==history_1.history['val_AUC'])[0][0]\n",
    "print(best_iter)"
   ]
  },
  {
   "cell_type": "code",
   "execution_count": 60,
   "metadata": {
    "execution": {
     "iopub.execute_input": "2020-12-26T19:43:54.625191Z",
     "iopub.status.busy": "2020-12-26T19:43:54.624586Z",
     "iopub.status.idle": "2020-12-26T19:43:54.627744Z",
     "shell.execute_reply": "2020-12-26T19:43:54.628145Z"
    },
    "papermill": {
     "duration": 0.200116,
     "end_time": "2020-12-26T19:43:54.628246",
     "exception": false,
     "start_time": "2020-12-26T19:43:54.428130",
     "status": "completed"
    },
    "tags": []
   },
   "outputs": [
    {
     "data": {
      "text/plain": [
       "0.8578127026557922"
      ]
     },
     "execution_count": 60,
     "metadata": {},
     "output_type": "execute_result"
    }
   ],
   "source": [
    "# AUC más alto\n",
    "history_1.history['val_AUC'][best_iter]"
   ]
  },
  {
   "cell_type": "code",
   "execution_count": 61,
   "metadata": {
    "execution": {
     "iopub.execute_input": "2020-12-26T19:43:55.020882Z",
     "iopub.status.busy": "2020-12-26T19:43:55.020127Z",
     "iopub.status.idle": "2020-12-26T19:43:55.023276Z",
     "shell.execute_reply": "2020-12-26T19:43:55.023946Z"
    },
    "papermill": {
     "duration": 0.203784,
     "end_time": "2020-12-26T19:43:55.024057",
     "exception": false,
     "start_time": "2020-12-26T19:43:54.820273",
     "status": "completed"
    },
    "tags": []
   },
   "outputs": [],
   "source": [
    "# Definiendo la función para desplegar la curva ROC\n",
    "def plot_roc(name, labels, predictions, name_fig):\n",
    "    fp, tp, _ = roc_curve(labels, predictions)\n",
    "    auc1 = auc(fp, tp)\n",
    "    lw=2\n",
    "\n",
    "    plt.plot(100*fp, 100*tp, linewidth=2, lw=lw, color='darkorange', label='ROC curve (area = %0.2f)' % auc1)\n",
    "    plt.plot([0, 100], [0, 100], color='navy', lw=lw, linestyle='--',label='Random')\n",
    "    plt.xlabel('Falsos positivos [%]')\n",
    "    plt.ylabel('Verdaderos positivos [%]')\n",
    "    plt.xlim([-5,105])\n",
    "    plt.ylim([-5,105])\n",
    "    plt.grid(True)\n",
    "    ax = plt.gca()\n",
    "    ax.set_aspect('equal')\n",
    "    plt.title(name)\n",
    "    plt.legend(loc=\"lower right\")\n",
    "    plt.savefig('ROC_'+name_fig+'.png')"
   ]
  },
  {
   "cell_type": "code",
   "execution_count": 62,
   "metadata": {
    "execution": {
     "iopub.execute_input": "2020-12-26T19:43:55.419457Z",
     "iopub.status.busy": "2020-12-26T19:43:55.418091Z",
     "iopub.status.idle": "2020-12-26T19:43:55.420636Z",
     "shell.execute_reply": "2020-12-26T19:43:55.421170Z"
    },
    "papermill": {
     "duration": 0.206,
     "end_time": "2020-12-26T19:43:55.421288",
     "exception": false,
     "start_time": "2020-12-26T19:43:55.215288",
     "status": "completed"
    },
    "tags": []
   },
   "outputs": [],
   "source": [
    "# Definiendo función para visualizar curvas de entrenamiento\n",
    "def display_training_curves(training, validation, title, subplot):   ####2\n",
    "    if subplot%10==1: # set up the subplots on the first call\n",
    "        plt.subplots(figsize=(10,10), facecolor='#F0F0F0')\n",
    "        plt.tight_layout()\n",
    "    ax = plt.subplot(subplot)\n",
    "    ax.set_facecolor('#F8F8F8')\n",
    "    ax.plot(training)\n",
    "    ax.plot(validation)\n",
    "    ax.set_title('model '+ title)\n",
    "    ax.set_ylabel(title)\n",
    "    #ax.set_ylim(0.28,1.05)\n",
    "    ax.set_xlabel('Iteración')\n",
    "    ax.legend(['Entrenamiento', 'Validación.'])\n",
    "    ax.scatter(best_iter, validation[best_iter], c='#ff7f0e', s=500)\n",
    "    bbox = dict(boxstyle=\"round\", fc=\"0.9\")\n",
    "    ax.annotate(\"Iteración con AUC más alto\", (best_iter, validation[best_iter]), bbox=bbox)\n",
    "    plt.savefig(str(title)+'.png')"
   ]
  },
  {
   "cell_type": "code",
   "execution_count": 63,
   "metadata": {
    "execution": {
     "iopub.execute_input": "2020-12-26T19:43:55.824051Z",
     "iopub.status.busy": "2020-12-26T19:43:55.823278Z",
     "iopub.status.idle": "2020-12-26T19:43:56.430458Z",
     "shell.execute_reply": "2020-12-26T19:43:56.430879Z"
    },
    "papermill": {
     "duration": 0.804327,
     "end_time": "2020-12-26T19:43:56.431007",
     "exception": false,
     "start_time": "2020-12-26T19:43:55.626680",
     "status": "completed"
    },
    "tags": []
   },
   "outputs": [
    {
     "data": {
      "image/png": "[encoded data removed]",
      "text/plain": [
       "<Figure size 720x720 with 2 Axes>"
      ]
     },
     "metadata": {},
     "output_type": "display_data"
    }
   ],
   "source": [
    "# Desplegando curvas (loss & accuracy)\n",
    "display_training_curves(history_1.history['loss'], history_1.history['val_loss'], 'Loss', 211)\n",
    "display_training_curves(history_1.history['accuracy'], history_1.history['val_accuracy'], 'Accuracy', 212)"
   ]
  },
  {
   "cell_type": "code",
   "execution_count": 64,
   "metadata": {
    "execution": {
     "iopub.execute_input": "2020-12-26T19:43:56.833853Z",
     "iopub.status.busy": "2020-12-26T19:43:56.832731Z",
     "iopub.status.idle": "2020-12-26T19:43:57.395712Z",
     "shell.execute_reply": "2020-12-26T19:43:57.396119Z"
    },
    "papermill": {
     "duration": 0.768274,
     "end_time": "2020-12-26T19:43:57.396231",
     "exception": false,
     "start_time": "2020-12-26T19:43:56.627957",
     "status": "completed"
    },
    "tags": []
   },
   "outputs": [
    {
     "data": {
      "image/png": "[encoded data removed]",
      "text/plain": [
       "<Figure size 720x720 with 2 Axes>"
      ]
     },
     "metadata": {},
     "output_type": "display_data"
    }
   ],
   "source": [
    "# Desplegando curvas (precision & recall)\n",
    "display_training_curves(history_1.history['precision'], history_1.history['val_precision'], 'Precision', 211)\n",
    "display_training_curves(history_1.history['recall'], history_1.history['val_recall'], 'Recall', 212)"
   ]
  },
  {
   "cell_type": "code",
   "execution_count": 65,
   "metadata": {
    "execution": {
     "iopub.execute_input": "2020-12-26T19:43:57.805276Z",
     "iopub.status.busy": "2020-12-26T19:43:57.803662Z",
     "iopub.status.idle": "2020-12-26T19:43:58.377241Z",
     "shell.execute_reply": "2020-12-26T19:43:58.377721Z"
    },
    "papermill": {
     "duration": 0.782696,
     "end_time": "2020-12-26T19:43:58.377872",
     "exception": false,
     "start_time": "2020-12-26T19:43:57.595176",
     "status": "completed"
    },
    "tags": []
   },
   "outputs": [
    {
     "data": {
      "image/png": "[encoded data removed]",
      "text/plain": [
       "<Figure size 720x720 with 2 Axes>"
      ]
     },
     "metadata": {},
     "output_type": "display_data"
    }
   ],
   "source": [
    "# Desplegando curvas (f1_score & AUC)\n",
    "display_training_curves(history_1.history['f1_score'], history_1.history['val_f1_score'], 'F1-Score', 211)\n",
    "display_training_curves(history_1.history['AUC'], history_1.history['val_AUC'], 'AUC', 212)"
   ]
  },
  {
   "cell_type": "code",
   "execution_count": 66,
   "metadata": {
    "execution": {
     "iopub.execute_input": "2020-12-26T19:43:58.830532Z",
     "iopub.status.busy": "2020-12-26T19:43:58.815119Z",
     "iopub.status.idle": "2020-12-26T19:44:01.246903Z",
     "shell.execute_reply": "2020-12-26T19:44:01.246136Z"
    },
    "papermill": {
     "duration": 2.665984,
     "end_time": "2020-12-26T19:44:01.247022",
     "exception": false,
     "start_time": "2020-12-26T19:43:58.581038",
     "status": "completed"
    },
    "tags": []
   },
   "outputs": [],
   "source": [
    "# Cargamos el modelo con la mejor métrica de AUC en validación\n",
    "rnet_ibm.load_weights(\"EFNB7_IBM_weights.h5\")"
   ]
  },
  {
   "cell_type": "markdown",
   "metadata": {
    "id": "QnjX_BKoxTVa",
    "papermill": {
     "duration": 0.199035,
     "end_time": "2020-12-26T19:44:01.649159",
     "exception": false,
     "start_time": "2020-12-26T19:44:01.450124",
     "status": "completed"
    },
    "tags": []
   },
   "source": [
    "# Métricas y gráficas de validación."
   ]
  },
  {
   "cell_type": "code",
   "execution_count": 67,
   "metadata": {
    "execution": {
     "iopub.execute_input": "2020-12-26T19:44:02.050768Z",
     "iopub.status.busy": "2020-12-26T19:44:02.049821Z",
     "iopub.status.idle": "2020-12-26T19:44:29.527055Z",
     "shell.execute_reply": "2020-12-26T19:44:29.525511Z"
    },
    "id": "Jc1LQ2-qMO5x",
    "papermill": {
     "duration": 27.680532,
     "end_time": "2020-12-26T19:44:29.527170",
     "exception": false,
     "start_time": "2020-12-26T19:44:01.846638",
     "status": "completed"
    },
    "tags": []
   },
   "outputs": [],
   "source": [
    "# Calculando las predicciones para Red Neuronal\n",
    "Y_train_pred = (rnet_ibm.predict(X_train) > 0.5).astype(\"int32\")\n",
    "Y_train_proba = rnet_ibm.predict(X_train) # Arreglo de probabilidades\n",
    "Y_test_pred = (rnet_ibm.predict(X_test) > 0.5).astype(\"int32\")\n",
    "Y_test_proba = rnet_ibm.predict(X_test) # Arreglo de probabilidades"
   ]
  },
  {
   "cell_type": "markdown",
   "metadata": {
    "id": "BOICLjkJpCF2",
    "papermill": {
     "duration": 0.199264,
     "end_time": "2020-12-26T19:44:29.927802",
     "exception": false,
     "start_time": "2020-12-26T19:44:29.728538",
     "status": "completed"
    },
    "tags": []
   },
   "source": [
    "Lamentablemente Tensorflow subestima la métrica F1-Score y Sobrestima la métrica AUC. Para este trabajo se reportarán los resultados con base en la biblioteca de Scikit-Learn y se utilizará las métricas de TensorFlow sólo como auxiliar para hallar el valor más alto ponderado durante las iteracion o entrenamiento.\n",
    "\n",
    "Por tanto es posible que algunas gráficas del entrenamiento difieran con los resultados finales de estas dos métricas.\n",
    "\n",
    "A continuación de realiza una demostración de lo anteriromente descrito.\n",
    "\n",
    "\n"
   ]
  },
  {
   "cell_type": "code",
   "execution_count": 68,
   "metadata": {
    "execution": {
     "iopub.execute_input": "2020-12-26T19:44:30.377409Z",
     "iopub.status.busy": "2020-12-26T19:44:30.376557Z",
     "iopub.status.idle": "2020-12-26T19:44:30.512212Z",
     "shell.execute_reply": "2020-12-26T19:44:30.511757Z"
    },
    "id": "qb7x5L7wRSdq",
    "outputId": "fc91a022-67c9-45e3-b8c9-818fffd3a086",
    "papermill": {
     "duration": 0.386196,
     "end_time": "2020-12-26T19:44:30.512306",
     "exception": false,
     "start_time": "2020-12-26T19:44:30.126110",
     "status": "completed"
    },
    "tags": []
   },
   "outputs": [
    {
     "name": "stdout",
     "output_type": "stream",
     "text": [
      "EfficientNet IBM Watson (modificada) TensorFlow Metrics\n",
      "\n",
      "MÉTRICAS EN ENTRENAMIENTO\n",
      "Accuracy: 87.95%\n",
      "Precision: 65.87%\n",
      "Recall: 68.94%\n",
      "F1-Score: 18.45%\n",
      "AUC: 92.11%\n",
      "\n",
      "MÉTRICAS EN VALIDACIÓN\n",
      "Accuracy: 79.09%\n",
      "Precision: 64.18%\n",
      "Recall: 55.84%\n",
      "F1-Score: 25.84%\n",
      "AUC: 85.78%\n",
      "\n",
      "\n",
      "EfficientNet IBM Watson (modificada) SciKit-Learn Metrics\n",
      "\n",
      "MÉTRICAS EN ENTRENAMIENTO\n",
      "Accuracy: 87.95%\n",
      "Precision: 65.87%\n",
      "Recall: 68.94%\n",
      "F1-Score: 67.37%\n",
      "AUC: 92.33%\n",
      "\n",
      "MÉTRICAS EN VALIDACIÓN\n",
      "Accuracy: 79.09%\n",
      "Precision: 64.18%\n",
      "Recall: 55.84%\n",
      "F1-Score: 59.72%\n",
      "AUC: 86.21%\n",
      "\n"
     ]
    }
   ],
   "source": [
    "# Desplegando métrica del rendimiento\n",
    "print(\"EfficientNet IBM Watson (modificada) TensorFlow Metrics\")\n",
    "print()\n",
    "print(\"MÉTRICAS EN ENTRENAMIENTO\")\n",
    "metric = tf.keras.metrics.BinaryAccuracy()\n",
    "metric.update_state(Y_train, Y_train_pred)\n",
    "print(\"Accuracy: %0.2f%%\"%(100*metric.result().numpy()))\n",
    "metric = tf.keras.metrics.Precision()\n",
    "metric.update_state(Y_train, Y_train_pred)\n",
    "print(\"Precision: %0.2f%%\"%(100*metric.result().numpy()))\n",
    "metric = tf.keras.metrics.Recall()\n",
    "metric.update_state(Y_train, Y_train_pred)\n",
    "print(\"Recall: %0.2f%%\"%(100*metric.result().numpy()))\n",
    "metric = tfa.metrics.F1Score(num_classes=2, average=\"micro\", threshold=0.5)\n",
    "metric.update_state(Y_train, Y_train_pred)\n",
    "print(\"F1-Score: %0.2f%%\"%(100*metric.result().numpy()))\n",
    "metric = tf.keras.metrics.AUC()\n",
    "metric.update_state(Y_train, Y_train_proba)\n",
    "print(\"AUC: %0.2f%%\"%(100*metric.result().numpy()))\n",
    "print()\n",
    "print(\"MÉTRICAS EN VALIDACIÓN\")\n",
    "metric = tf.keras.metrics.BinaryAccuracy()\n",
    "metric.update_state(Y_test, Y_test_pred)\n",
    "print(\"Accuracy: %0.2f%%\"%(100*metric.result().numpy()))\n",
    "metric = tf.keras.metrics.Precision()\n",
    "metric.update_state(Y_test, Y_test_pred)\n",
    "print(\"Precision: %0.2f%%\"%(100*metric.result().numpy()))\n",
    "metric = tf.keras.metrics.Recall()\n",
    "metric.update_state(Y_test, Y_test_pred)\n",
    "print(\"Recall: %0.2f%%\"%(100*metric.result().numpy()))\n",
    "metric = tfa.metrics.F1Score(num_classes=2, average=\"micro\", threshold=0.5)\n",
    "metric.update_state(Y_test, Y_test_pred)\n",
    "print(\"F1-Score: %0.2f%%\"%(100*metric.result().numpy()))\n",
    "metric = tf.keras.metrics.AUC()\n",
    "metric.update_state(Y_test, Y_test_proba)\n",
    "print(\"AUC: %0.2f%%\"%(100*metric.result().numpy()))\n",
    "print()\n",
    "print()\n",
    "print(\"EfficientNet IBM Watson (modificada) SciKit-Learn Metrics\")\n",
    "print()\n",
    "print(\"MÉTRICAS EN ENTRENAMIENTO\")\n",
    "print(\"Accuracy: %0.2f%%\"%(100*accuracy_score(Y_train, Y_train_pred)))\n",
    "print(\"Precision: %0.2f%%\"%(100*precision_score(Y_train, Y_train_pred)))\n",
    "print(\"Recall: %0.2f%%\"%(100*recall_score(Y_train, Y_train_pred)))\n",
    "print(\"F1-Score: %0.2f%%\"%(100*f1_score(Y_train, Y_train_pred)))\n",
    "fp, tp, _ = roc_curve(Y_train, Y_train_proba)\n",
    "print(\"AUC: %0.2f%%\"%(100*auc(fp, tp)))\n",
    "print()\n",
    "print(\"MÉTRICAS EN VALIDACIÓN\")\n",
    "print(\"Accuracy: %0.2f%%\"%(100*accuracy_score(Y_test, Y_test_pred)))\n",
    "print(\"Precision: %0.2f%%\"%(100*precision_score(Y_test, Y_test_pred)))\n",
    "print(\"Recall: %0.2f%%\"%(100*recall_score(Y_test, Y_test_pred)))\n",
    "print(\"F1-Score: %0.2f%%\"%(100*f1_score(Y_test, Y_test_pred)))\n",
    "fp, tp, _ = roc_curve(Y_test, Y_test_proba)\n",
    "print(\"AUC: %0.2f%%\"%(100*auc(fp, tp)))\n",
    "print()"
   ]
  },
  {
   "cell_type": "code",
   "execution_count": 69,
   "metadata": {
    "execution": {
     "iopub.execute_input": "2020-12-26T19:44:30.919620Z",
     "iopub.status.busy": "2020-12-26T19:44:30.918697Z",
     "iopub.status.idle": "2020-12-26T19:44:31.115575Z",
     "shell.execute_reply": "2020-12-26T19:44:31.115994Z"
    },
    "id": "kpnQzO2RRadh",
    "outputId": "65e04b12-7d68-4cc1-c63d-f66ebab85ead",
    "papermill": {
     "duration": 0.40355,
     "end_time": "2020-12-26T19:44:31.116112",
     "exception": false,
     "start_time": "2020-12-26T19:44:30.712562",
     "status": "completed"
    },
    "tags": []
   },
   "outputs": [
    {
     "name": "stderr",
     "output_type": "stream",
     "text": [
      "/opt/conda/lib/python3.7/site-packages/ipykernel_launcher.py:7: MatplotlibDeprecationWarning: Saw kwargs ['lw', 'linewidth'] which are all aliases for 'linewidth'.  Kept value from 'linewidth'.  Passing multiple aliases for the same property will raise a TypeError in 3.3.\n",
      "  import sys\n"
     ]
    },
    {
     "data": {
      "image/png": "[encoded data removed]",
      "text/plain": [
       "<Figure size 432x288 with 1 Axes>"
      ]
     },
     "metadata": {
      "needs_background": "light"
     },
     "output_type": "display_data"
    }
   ],
   "source": [
    "# Curva ROC de entrenamiento\n",
    "plot_roc('ROC Red Neuronal Entrenamiento', Y_train, Y_train_proba, name_fig='EFNB7 IBM Watson (modificada)')"
   ]
  },
  {
   "cell_type": "code",
   "execution_count": 70,
   "metadata": {
    "execution": {
     "iopub.execute_input": "2020-12-26T19:44:31.519997Z",
     "iopub.status.busy": "2020-12-26T19:44:31.519141Z",
     "iopub.status.idle": "2020-12-26T19:44:31.713042Z",
     "shell.execute_reply": "2020-12-26T19:44:31.712616Z"
    },
    "id": "_ea-an6_Rb6-",
    "outputId": "5e75252c-72fc-4bbb-93cf-81d4b1b3d5d7",
    "papermill": {
     "duration": 0.39663,
     "end_time": "2020-12-26T19:44:31.713136",
     "exception": false,
     "start_time": "2020-12-26T19:44:31.316506",
     "status": "completed"
    },
    "tags": []
   },
   "outputs": [
    {
     "name": "stderr",
     "output_type": "stream",
     "text": [
      "/opt/conda/lib/python3.7/site-packages/ipykernel_launcher.py:7: MatplotlibDeprecationWarning: Saw kwargs ['lw', 'linewidth'] which are all aliases for 'linewidth'.  Kept value from 'linewidth'.  Passing multiple aliases for the same property will raise a TypeError in 3.3.\n",
      "  import sys\n"
     ]
    },
    {
     "data": {
      "image/png": "[encoded data removed]",
      "text/plain": [
       "<Figure size 432x288 with 1 Axes>"
      ]
     },
     "metadata": {
      "needs_background": "light"
     },
     "output_type": "display_data"
    }
   ],
   "source": [
    "# Curva de Roc de Validación\n",
    "plot_roc('ROC Red Neuronal Validacion', Y_test, Y_test_proba, name_fig='EFNB7 IBM Watson (modificada)')"
   ]
  },
  {
   "cell_type": "markdown",
   "metadata": {
    "id": "dWEJd1cFogVl",
    "papermill": {
     "duration": 0.198404,
     "end_time": "2020-12-26T19:44:32.111856",
     "exception": false,
     "start_time": "2020-12-26T19:44:31.913452",
     "status": "completed"
    },
    "tags": []
   },
   "source": [
    "Conforme a los resultados anteriores se tomará la decisión de despliegue del modelo en el servicio de IBM Watson en función del rendimiento del rendimiento del modelo."
   ]
  },
  {
   "cell_type": "markdown",
   "metadata": {
    "id": "SqmrSZXpjvZ2",
    "papermill": {
     "duration": 0.333115,
     "end_time": "2020-12-26T19:44:32.744164",
     "exception": false,
     "start_time": "2020-12-26T19:44:32.411049",
     "status": "completed"
    },
    "tags": []
   },
   "source": [
    "Eliminando archivos innecesarios para guardar la libreta en Kaggle"
   ]
  },
  {
   "cell_type": "code",
   "execution_count": 71,
   "metadata": {
    "execution": {
     "iopub.execute_input": "2020-12-26T19:44:33.205032Z",
     "iopub.status.busy": "2020-12-26T19:44:33.204216Z",
     "iopub.status.idle": "2020-12-26T19:44:33.320180Z",
     "shell.execute_reply": "2020-12-26T19:44:33.319652Z"
    },
    "id": "qIR5cWZ4jvZ2",
    "papermill": {
     "duration": 0.322044,
     "end_time": "2020-12-26T19:44:33.320274",
     "exception": false,
     "start_time": "2020-12-26T19:44:32.998230",
     "status": "completed"
    },
    "tags": []
   },
   "outputs": [],
   "source": [
    "import shutil\n",
    "\n",
    "dir_path = './BaseDeDatosFrontales_FINAL_256_bits'\n",
    "\n",
    "try:\n",
    "    shutil.rmtree(dir_path)\n",
    "except OSError as e:\n",
    "    print(\"Error: %s : %s\" % (dir_path, e.strerror))"
   ]
  },
  {
   "cell_type": "code",
   "execution_count": 72,
   "metadata": {
    "execution": {
     "iopub.execute_input": "2020-12-26T19:44:33.726815Z",
     "iopub.status.busy": "2020-12-26T19:44:33.725669Z",
     "iopub.status.idle": "2020-12-26T19:44:33.728783Z",
     "shell.execute_reply": "2020-12-26T19:44:33.728247Z"
    },
    "id": "HfBPWdBAfQaB",
    "papermill": {
     "duration": 0.207961,
     "end_time": "2020-12-26T19:44:33.728871",
     "exception": false,
     "start_time": "2020-12-26T19:44:33.520910",
     "status": "completed"
    },
    "tags": []
   },
   "outputs": [],
   "source": [
    "os.remove(\"./BaseDeDatosFrontales_FINAL_256_bits.zip\")"
   ]
  },
  {
   "cell_type": "code",
   "execution_count": null,
   "metadata": {
    "id": "36TozW0ZjvZ3",
    "papermill": {
     "duration": 0.199022,
     "end_time": "2020-12-26T19:44:34.129903",
     "exception": false,
     "start_time": "2020-12-26T19:44:33.930881",
     "status": "completed"
    },
    "tags": []
   },
   "outputs": [],
   "source": []
  }
 ],
 "metadata": {
  "kernelspec": {
   "display_name": "Python 3",
   "language": "python",
   "name": "python3"
  },
  "language_info": {
   "codemirror_mode": {
    "name": "ipython",
    "version": 3
   },
   "file_extension": ".py",
   "mimetype": "text/x-python",
   "name": "python",
   "nbconvert_exporter": "python",
   "pygments_lexer": "ipython3",
   "version": "3.8.3"
  },
  "papermill": {
   "duration": 2852.014496,
   "end_time": "2020-12-26T19:44:35.685357",
   "environment_variables": {},
   "exception": null,
   "input_path": "__notebook__.ipynb",
   "output_path": "__notebook__.ipynb",
   "parameters": {},
   "start_time": "2020-12-26T18:57:03.670861",
   "version": "2.1.0"
  }
 },
 "nbformat": 4,
 "nbformat_minor": 4
}
