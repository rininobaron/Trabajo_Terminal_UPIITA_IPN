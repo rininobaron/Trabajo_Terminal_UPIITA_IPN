{
 "cells": [
  {
   "cell_type": "markdown",
   "metadata": {
    "id": "T8FfZRwu2TTD",
    "papermill": {
     "duration": 0.070543,
     "end_time": "2020-11-18T21:57:53.135563",
     "exception": false,
     "start_time": "2020-11-18T21:57:53.065020",
     "status": "completed"
    },
    "tags": []
   },
   "source": [
    "Anexo J"
   ]
  },
  {
   "cell_type": "markdown",
   "metadata": {
    "id": "rkhzRBKo2TTJ",
    "papermill": {
     "duration": 0.068473,
     "end_time": "2020-11-18T21:57:53.272707",
     "exception": false,
     "start_time": "2020-11-18T21:57:53.204234",
     "status": "completed"
    },
    "tags": []
   },
   "source": [
    "# X's finales de características a partir de descriptores estadísticos\n",
    "\n",
    "#### Elaborado por: Ricardo Niño de Rivera Barrón\n",
    "\n",
    "#### Ingeniería Biónica\n",
    "\n",
    "#### Trabajo Terminal II"
   ]
  },
  {
   "cell_type": "markdown",
   "metadata": {
    "id": "mMoFLAFv2TTL",
    "papermill": {
     "duration": 0.069202,
     "end_time": "2020-11-18T21:57:53.410758",
     "exception": false,
     "start_time": "2020-11-18T21:57:53.341556",
     "status": "completed"
    },
    "tags": []
   },
   "source": [
    "En esta libreta interactiva se describe el proceso de construcción de X_train.npy y X_test.npy a partir de la cracterización de descrptores estadísticos."
   ]
  },
  {
   "cell_type": "code",
   "execution_count": 1,
   "metadata": {
    "execution": {
     "iopub.execute_input": "2020-11-18T21:58:10.044558Z",
     "iopub.status.busy": "2020-11-18T21:58:10.043652Z",
     "iopub.status.idle": "2020-11-18T21:58:10.273587Z",
     "shell.execute_reply": "2020-11-18T21:58:10.272902Z"
    },
    "id": "2EyUmknC2TTN",
    "papermill": {
     "duration": 0.30714,
     "end_time": "2020-11-18T21:58:10.273701",
     "exception": false,
     "start_time": "2020-11-18T21:58:09.966561",
     "status": "completed"
    },
    "tags": []
   },
   "outputs": [],
   "source": [
    "# Importando bibliotecas necesarias\n",
    "import os\n",
    "import numpy as np\n",
    "import pandas as pd\n",
    "from tqdm import tqdm\n",
    "import seaborn as sns\n",
    "import matplotlib.pyplot as plt\n",
    "from sklearn import preprocessing\n",
    "import matplotlib.image as mpimg\n",
    "import sklearn"
   ]
  },
  {
   "cell_type": "markdown",
   "metadata": {
    "id": "iJo02CDO7yGJ",
    "papermill": {
     "duration": 0.120832,
     "end_time": "2020-11-18T21:59:47.429995",
     "exception": false,
     "start_time": "2020-11-18T21:59:47.309163",
     "status": "completed"
    },
    "tags": []
   },
   "source": [
    "Leemos los directorios de interés.\n"
   ]
  },
  {
   "cell_type": "code",
   "execution_count": 2,
   "metadata": {},
   "outputs": [],
   "source": [
    "files = os.listdir(\"C:\\\\Users\\\\LapTop\\\\Desktop\\\\TERMOGRAFIA\\\\TT2\\\\BaseDeDatosFrontales_VECTORES\\\\train\")\n",
    "files2 = os.listdir(\"C:\\\\Users\\\\LapTop\\\\Desktop\\\\TERMOGRAFIA\\\\TT2\\\\BaseDeDatosFrontales_VECTORES\\\\test\")"
   ]
  },
  {
   "cell_type": "markdown",
   "metadata": {},
   "source": [
    "No es necesario ordenar las listas ya que anaconda ordena alfabéticamente los elementos al momento de utilizar la biblioteca os."
   ]
  },
  {
   "cell_type": "markdown",
   "metadata": {
    "id": "fPGjyRxnHDsi",
    "papermill": {
     "duration": 3.737122,
     "end_time": "2020-11-18T22:00:40.477634",
     "exception": false,
     "start_time": "2020-11-18T22:00:36.740512",
     "status": "completed"
    },
    "tags": []
   },
   "source": [
    "Cargamos los archivos necesarios con auxilio de numpy."
   ]
  },
  {
   "cell_type": "code",
   "execution_count": 3,
   "metadata": {
    "execution": {
     "iopub.execute_input": "2020-11-18T22:01:11.091150Z",
     "iopub.status.busy": "2020-11-18T22:01:11.090361Z",
     "iopub.status.idle": "2020-11-18T22:01:11.098042Z",
     "shell.execute_reply": "2020-11-18T22:01:11.097426Z"
    },
    "id": "yUeVxv_Rkp_P",
    "outputId": "82e093d0-2ebe-4b75-93bb-63f25440e67d",
    "papermill": {
     "duration": 0.097713,
     "end_time": "2020-11-18T22:01:11.098150",
     "exception": false,
     "start_time": "2020-11-18T22:01:11.000437",
     "status": "completed"
    },
    "tags": []
   },
   "outputs": [
    {
     "data": {
      "text/plain": [
       "(3337,)"
      ]
     },
     "execution_count": 3,
     "metadata": {},
     "output_type": "execute_result"
    }
   ],
   "source": [
    "pos_train = np.load('pos_train.npy')\n",
    "pos_train.shape"
   ]
  },
  {
   "cell_type": "code",
   "execution_count": 4,
   "metadata": {
    "execution": {
     "iopub.execute_input": "2020-11-18T22:01:11.280654Z",
     "iopub.status.busy": "2020-11-18T22:01:11.279632Z",
     "iopub.status.idle": "2020-11-18T22:01:11.285894Z",
     "shell.execute_reply": "2020-11-18T22:01:11.285344Z"
    },
    "id": "xhca4IEXkrzl",
    "outputId": "487720c0-febf-456b-a02f-76852ff9f174",
    "papermill": {
     "duration": 0.101007,
     "end_time": "2020-11-18T22:01:11.286051",
     "exception": false,
     "start_time": "2020-11-18T22:01:11.185044",
     "status": "completed"
    },
    "tags": []
   },
   "outputs": [
    {
     "data": {
      "text/plain": [
       "(832,)"
      ]
     },
     "execution_count": 4,
     "metadata": {},
     "output_type": "execute_result"
    }
   ],
   "source": [
    "pos_test = np.load('pos_test.npy')\n",
    "pos_test.shape"
   ]
  },
  {
   "cell_type": "markdown",
   "metadata": {
    "id": "OGzrbu2LEdRr",
    "papermill": {
     "duration": 0.085199,
     "end_time": "2020-11-18T22:01:12.908682",
     "exception": false,
     "start_time": "2020-11-18T22:01:12.823483",
     "status": "completed"
    },
    "tags": []
   },
   "source": [
    "### Construyendo X_train y X_test"
   ]
  },
  {
   "cell_type": "code",
   "execution_count": 5,
   "metadata": {
    "execution": {
     "iopub.execute_input": "2020-11-18T22:01:13.633060Z",
     "iopub.status.busy": "2020-11-18T22:01:13.632072Z",
     "iopub.status.idle": "2020-11-18T22:01:13.635308Z",
     "shell.execute_reply": "2020-11-18T22:01:13.634769Z"
    },
    "id": "DtLwJaLtRltE",
    "papermill": {
     "duration": 0.095349,
     "end_time": "2020-11-18T22:01:13.635414",
     "exception": false,
     "start_time": "2020-11-18T22:01:13.540065",
     "status": "completed"
    },
    "tags": []
   },
   "outputs": [],
   "source": [
    "# Directorio raíz\n",
    "path = \"C:\\\\Users\\\\LapTop\\\\Desktop\\\\TERMOGRAFIA\\\\TT2\\\\BaseDeDatosFrontales_VECTORES\\\\\""
   ]
  },
  {
   "cell_type": "markdown",
   "metadata": {
    "id": "DYdpczBtRZ3T",
    "papermill": {
     "duration": 0.089711,
     "end_time": "2020-11-18T22:01:18.168359",
     "exception": false,
     "start_time": "2020-11-18T22:01:18.078648",
     "status": "completed"
    },
    "tags": []
   },
   "source": [
    "Se leen los archivos y se ordenan en un nuevo arreglo."
   ]
  },
  {
   "cell_type": "code",
   "execution_count": 6,
   "metadata": {
    "execution": {
     "iopub.execute_input": "2020-11-18T22:01:18.363514Z",
     "iopub.status.busy": "2020-11-18T22:01:18.362551Z",
     "iopub.status.idle": "2020-11-18T22:01:36.479728Z",
     "shell.execute_reply": "2020-11-18T22:01:36.480459Z"
    },
    "id": "RQA1h7eFSaNd",
    "outputId": "d86f2669-2d42-44fc-e7fc-eca1e70749f2",
    "papermill": {
     "duration": 18.220122,
     "end_time": "2020-11-18T22:01:36.480624",
     "exception": false,
     "start_time": "2020-11-18T22:01:18.260502",
     "status": "completed"
    },
    "tags": []
   },
   "outputs": [
    {
     "name": "stderr",
     "output_type": "stream",
     "text": [
      "100%|█████████████████████████████████████| 3337/3337 [00:06<00:00, 543.19it/s]\n"
     ]
    }
   ],
   "source": [
    "# Entrenamiento X_train\n",
    "\n",
    "# Creamos el arreglo para almacenar los vectores\n",
    "X_train = np.zeros((len(files),17))\n",
    "\n",
    "for i in tqdm(range(len(files))):\n",
    "\n",
    "  # Leemos y procesamos la imagen con respecto a pos_train\n",
    "  X_train[i,:] = np.load(path+\"train\\\\\"+files[pos_train[i]])"
   ]
  },
  {
   "cell_type": "code",
   "execution_count": 7,
   "metadata": {
    "execution": {
     "iopub.execute_input": "2020-11-18T22:01:36.799732Z",
     "iopub.status.busy": "2020-11-18T22:01:36.798655Z",
     "iopub.status.idle": "2020-11-18T22:01:36.802657Z",
     "shell.execute_reply": "2020-11-18T22:01:36.803303Z"
    },
    "id": "lY5Fue2Eqf6F",
    "outputId": "4028044d-c202-4998-a0ad-2867c55da59b",
    "papermill": {
     "duration": 0.167036,
     "end_time": "2020-11-18T22:01:36.803479",
     "exception": false,
     "start_time": "2020-11-18T22:01:36.636443",
     "status": "completed"
    },
    "tags": []
   },
   "outputs": [
    {
     "data": {
      "text/plain": [
       "(3337, 17)"
      ]
     },
     "execution_count": 7,
     "metadata": {},
     "output_type": "execute_result"
    }
   ],
   "source": [
    "X_train.shape"
   ]
  },
  {
   "cell_type": "code",
   "execution_count": 8,
   "metadata": {
    "execution": {
     "iopub.execute_input": "2020-11-18T22:01:37.131826Z",
     "iopub.status.busy": "2020-11-18T22:01:37.130785Z",
     "iopub.status.idle": "2020-11-18T22:01:43.442918Z",
     "shell.execute_reply": "2020-11-18T22:01:43.441884Z"
    },
    "id": "8OO3SbjImr9p",
    "outputId": "68a6f213-f557-49e0-b5cd-a672ef3ff3d8",
    "papermill": {
     "duration": 6.483241,
     "end_time": "2020-11-18T22:01:43.443098",
     "exception": false,
     "start_time": "2020-11-18T22:01:36.959857",
     "status": "completed"
    },
    "tags": []
   },
   "outputs": [
    {
     "name": "stderr",
     "output_type": "stream",
     "text": [
      "100%|███████████████████████████████████████| 832/832 [00:01<00:00, 496.39it/s]\n"
     ]
    }
   ],
   "source": [
    "# Validación X_test\n",
    "\n",
    "# Creamos el arreglo para almacenar los vectores\n",
    "X_test = np.zeros((len(files2),17))\n",
    "\n",
    "for i in tqdm(range(len(files2))):\n",
    "\n",
    "  # Leemos y procesamos la imagen con respecto a pos_test\n",
    "  X_test[i,:] = np.load(path+\"test\\\\\"+files2[pos_test[i]])"
   ]
  },
  {
   "cell_type": "code",
   "execution_count": 9,
   "metadata": {
    "execution": {
     "iopub.execute_input": "2020-11-18T22:01:43.803786Z",
     "iopub.status.busy": "2020-11-18T22:01:43.802880Z",
     "iopub.status.idle": "2020-11-18T22:01:43.806915Z",
     "shell.execute_reply": "2020-11-18T22:01:43.807460Z"
    },
    "id": "DV_kvZacqmEf",
    "outputId": "4cf1bf92-f581-4cdd-d9aa-b66658ebce4c",
    "papermill": {
     "duration": 0.185721,
     "end_time": "2020-11-18T22:01:43.807591",
     "exception": false,
     "start_time": "2020-11-18T22:01:43.621870",
     "status": "completed"
    },
    "tags": []
   },
   "outputs": [
    {
     "data": {
      "text/plain": [
       "(832, 17)"
      ]
     },
     "execution_count": 9,
     "metadata": {},
     "output_type": "execute_result"
    }
   ],
   "source": [
    "X_test.shape"
   ]
  },
  {
   "cell_type": "markdown",
   "metadata": {},
   "source": [
    "### Gurdando archivos npy"
   ]
  },
  {
   "cell_type": "code",
   "execution_count": 10,
   "metadata": {},
   "outputs": [],
   "source": [
    "np.save('X_train', X_train)"
   ]
  },
  {
   "cell_type": "code",
   "execution_count": 11,
   "metadata": {},
   "outputs": [],
   "source": [
    "np.save('X_test', X_test)"
   ]
  },
  {
   "cell_type": "code",
   "execution_count": null,
   "metadata": {},
   "outputs": [],
   "source": []
  }
 ],
 "metadata": {
  "kernelspec": {
   "display_name": "Python 3",
   "language": "python",
   "name": "python3"
  },
  "language_info": {
   "codemirror_mode": {
    "name": "ipython",
    "version": 3
   },
   "file_extension": ".py",
   "mimetype": "text/x-python",
   "name": "python",
   "nbconvert_exporter": "python",
   "pygments_lexer": "ipython3",
   "version": "3.8.3"
  },
  "papermill": {
   "duration": 13574.073551,
   "end_time": "2020-11-19T01:44:02.959092",
   "environment_variables": {},
   "exception": null,
   "input_path": "__notebook__.ipynb",
   "output_path": "__notebook__.ipynb",
   "parameters": {},
   "start_time": "2020-11-18T21:57:48.885541",
   "version": "2.1.0"
  }
 },
 "nbformat": 4,
 "nbformat_minor": 4
}
