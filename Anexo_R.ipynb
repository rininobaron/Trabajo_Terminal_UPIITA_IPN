{
 "cells": [
  {
   "cell_type": "markdown",
   "metadata": {
    "id": "D7DT89f3OzOf"
   },
   "source": [
    "Anexo R"
   ]
  },
  {
   "cell_type": "markdown",
   "metadata": {
    "id": "BPDcUj7fPPg3"
   },
   "source": [
    "# Utilizando Google Colab para realizar petición (Query) a Red Neuronal alojada en IBM Watson.\n",
    "\n",
    "#### Elaborado por: Ricardo Niño de Rivera Barrón\n",
    "\n",
    "#### Ingeniería Biónica\n",
    "\n",
    "#### Trabajo Terminal II"
   ]
  },
  {
   "cell_type": "markdown",
   "metadata": {
    "id": "QZueJZaSoZTp"
   },
   "source": [
    "En esta libreta interactiva se hace una demostración de acceso al modelo deplegado en IBM Watson desde el entorno de Google Colab."
   ]
  },
  {
   "cell_type": "markdown",
   "metadata": {
    "id": "Q--ZAMOTP0Kq"
   },
   "source": [
    "Instalamos biblioteca para entablar comunicación con MEGA.\n",
    "\n"
   ]
  },
  {
   "cell_type": "code",
   "execution_count": 1,
   "metadata": {
    "colab": {
     "base_uri": "https://localhost:8080/"
    },
    "id": "--UI7kNsQLCJ",
    "outputId": "f4440ff7-84a0-45d3-b0ed-d01d1074a7c8"
   },
   "outputs": [
    {
     "name": "stdout",
     "output_type": "stream",
     "text": [
      "Collecting mega.py\n",
      "  Downloading https://files.pythonhosted.org/packages/a3/51/44a1085a091c27ade09e122d5abdafb4b6400265081879a7c4e32973a175/mega.py-1.0.8-py2.py3-none-any.whl\n",
      "Requirement already satisfied: requests>=0.10 in /usr/local/lib/python3.6/dist-packages (from mega.py) (2.23.0)\n",
      "Requirement already satisfied: pathlib==1.0.1 in /usr/local/lib/python3.6/dist-packages (from mega.py) (1.0.1)\n",
      "Collecting tenacity<6.0.0,>=5.1.5\n",
      "  Downloading https://files.pythonhosted.org/packages/45/67/67bb1db087678bc5c6f20766cf18914dfe37b0b9d4e4c5bb87408460b75f/tenacity-5.1.5-py2.py3-none-any.whl\n",
      "Collecting pycryptodome<4.0.0,>=3.9.6\n",
      "\u001b[?25l  Downloading https://files.pythonhosted.org/packages/2b/6f/7e38d7c97fbbc3987539c804282c33f56b6b07381bf2390deead696440c5/pycryptodome-3.9.9-cp36-cp36m-manylinux1_x86_64.whl (13.7MB)\n",
      "\u001b[K     |████████████████████████████████| 13.7MB 300kB/s \n",
      "\u001b[?25hRequirement already satisfied: certifi>=2017.4.17 in /usr/local/lib/python3.6/dist-packages (from requests>=0.10->mega.py) (2020.11.8)\n",
      "Requirement already satisfied: chardet<4,>=3.0.2 in /usr/local/lib/python3.6/dist-packages (from requests>=0.10->mega.py) (3.0.4)\n",
      "Requirement already satisfied: idna<3,>=2.5 in /usr/local/lib/python3.6/dist-packages (from requests>=0.10->mega.py) (2.10)\n",
      "Requirement already satisfied: urllib3!=1.25.0,!=1.25.1,<1.26,>=1.21.1 in /usr/local/lib/python3.6/dist-packages (from requests>=0.10->mega.py) (1.24.3)\n",
      "Requirement already satisfied: six>=1.9.0 in /usr/local/lib/python3.6/dist-packages (from tenacity<6.0.0,>=5.1.5->mega.py) (1.15.0)\n",
      "Installing collected packages: tenacity, pycryptodome, mega.py\n",
      "Successfully installed mega.py-1.0.8 pycryptodome-3.9.9 tenacity-5.1.5\n"
     ]
    }
   ],
   "source": [
    "!pip install mega.py"
   ]
  },
  {
   "cell_type": "code",
   "execution_count": 4,
   "metadata": {
    "id": "7KXnbMC8QV6S"
   },
   "outputs": [],
   "source": [
    "# De la biblioteca mega importamos el método Mega\n",
    "from mega import Mega"
   ]
  },
  {
   "cell_type": "code",
   "execution_count": 5,
   "metadata": {
    "id": "VTV8XGx7QaLy"
   },
   "outputs": [],
   "source": [
    "# Instanciando Mega en el objeto mega\n",
    "mega = Mega()"
   ]
  },
  {
   "cell_type": "markdown",
   "metadata": {
    "id": "U8IObsixQuLL"
   },
   "source": [
    "Inicamos sesión en MEGA con cuenta temporal y anónima"
   ]
  },
  {
   "cell_type": "code",
   "execution_count": 6,
   "metadata": {
    "id": "1w6LfIIFQaJP"
   },
   "outputs": [],
   "source": [
    "# Log in en la cuenta de MEGA con cuenta temporal anónima\n",
    "m = mega.login()"
   ]
  },
  {
   "cell_type": "code",
   "execution_count": 7,
   "metadata": {
    "colab": {
     "base_uri": "https://localhost:8080/"
    },
    "id": "1Hh4PtrlRCwQ",
    "outputId": "70c02c77-8d60-48eb-8c82-76b1135413b8"
   },
   "outputs": [
    {
     "data": {
      "text/plain": [
       "PosixPath('X_train.npy')"
      ]
     },
     "execution_count": 7,
     "metadata": {
      "tags": []
     },
     "output_type": "execute_result"
    }
   ],
   "source": [
    "# Descargando el archivo X_train.npy\n",
    "m.download_url('https://mega.nz/file/oAZT1IYJ#HpIvnnR50IH6N2F9wfdPgNTgLPpAwhEBpTl3_yAxLFc')"
   ]
  },
  {
   "cell_type": "code",
   "execution_count": 8,
   "metadata": {
    "colab": {
     "base_uri": "https://localhost:8080/"
    },
    "id": "mP8nYyPKQaGS",
    "outputId": "1f4e7d83-c3a7-4907-a193-489e00534fb0"
   },
   "outputs": [
    {
     "name": "stdout",
     "output_type": "stream",
     "text": [
      "sample_data  X_train.npy\n"
     ]
    }
   ],
   "source": [
    "# Mostrando archivos en el directorio de trabajo del entorno\n",
    "!ls"
   ]
  },
  {
   "cell_type": "code",
   "execution_count": 9,
   "metadata": {
    "colab": {
     "base_uri": "https://localhost:8080/"
    },
    "id": "vnbeBy0XQaEI",
    "outputId": "2f131ca5-4dc2-4984-c693-efa4d5f354ec"
   },
   "outputs": [
    {
     "data": {
      "text/plain": [
       "PosixPath('X_test.npy')"
      ]
     },
     "execution_count": 9,
     "metadata": {
      "tags": []
     },
     "output_type": "execute_result"
    }
   ],
   "source": [
    "# Descargando el archivo X_test.npy\n",
    "m.download_url('https://mega.nz/file/tMIzDQbK#MLFeDRu5D4dq2lRqvPcxIZkuTtVKH2azBRrhSzndqME')"
   ]
  },
  {
   "cell_type": "code",
   "execution_count": 10,
   "metadata": {
    "colab": {
     "base_uri": "https://localhost:8080/"
    },
    "id": "a9X1RUkxQaBs",
    "outputId": "43690e66-a961-4240-fac1-705e514d571e"
   },
   "outputs": [
    {
     "name": "stdout",
     "output_type": "stream",
     "text": [
      "/content\n"
     ]
    }
   ],
   "source": [
    "# Imprimiendo el directorio de trabajo\n",
    "!pwd"
   ]
  },
  {
   "cell_type": "markdown",
   "metadata": {
    "id": "SBmb3ijoRTH8"
   },
   "source": [
    "Descargando el archivo de salida Y_train y Y_test"
   ]
  },
  {
   "cell_type": "code",
   "execution_count": 11,
   "metadata": {
    "colab": {
     "base_uri": "https://localhost:8080/"
    },
    "id": "V97-AFb1QZ_f",
    "outputId": "513dcda5-6dc2-4277-99be-b34fb4e02f87"
   },
   "outputs": [
    {
     "data": {
      "text/plain": [
       "PosixPath('Y_train2.npy')"
      ]
     },
     "execution_count": 11,
     "metadata": {
      "tags": []
     },
     "output_type": "execute_result"
    }
   ],
   "source": [
    "# Descargando Y_train2.npy\n",
    "m.download_url('https://mega.nz/file/tdohXarb#SRrt31GIT7H6gioCVm2KYF-sH6a8PHK8Z7Tr76oZb4I')"
   ]
  },
  {
   "cell_type": "code",
   "execution_count": 12,
   "metadata": {
    "colab": {
     "base_uri": "https://localhost:8080/"
    },
    "id": "c-V-x7d8RaUG",
    "outputId": "5e528c6e-b2e3-4b3f-f8a2-3046cf46a129"
   },
   "outputs": [
    {
     "name": "stdout",
     "output_type": "stream",
     "text": [
      "sample_data  X_test.npy  X_train.npy  Y_train2.npy\n"
     ]
    }
   ],
   "source": [
    "!ls"
   ]
  },
  {
   "cell_type": "code",
   "execution_count": 13,
   "metadata": {
    "colab": {
     "base_uri": "https://localhost:8080/"
    },
    "id": "624mGATsTfrA",
    "outputId": "00046325-0246-4d7d-8090-648aa387d0b8"
   },
   "outputs": [
    {
     "data": {
      "text/plain": [
       "PosixPath('Y_test2.npy')"
      ]
     },
     "execution_count": 13,
     "metadata": {
      "tags": []
     },
     "output_type": "execute_result"
    }
   ],
   "source": [
    "# Descargando Y_test2.npy\n",
    "m.download_url('https://mega.nz/file/Vc5TBSbY#D8pbUvpA3l2V0PJxCu7Meg8WJ3wPpT6X2jEoDsleCWw')"
   ]
  },
  {
   "cell_type": "code",
   "execution_count": 14,
   "metadata": {
    "colab": {
     "base_uri": "https://localhost:8080/"
    },
    "id": "guHyyrpTTfb-",
    "outputId": "8067cca9-35a0-4fce-a805-06e1907853fc"
   },
   "outputs": [
    {
     "name": "stdout",
     "output_type": "stream",
     "text": [
      "sample_data  X_test.npy  X_train.npy  Y_test2.npy  Y_train2.npy\n"
     ]
    }
   ],
   "source": [
    "!ls"
   ]
  },
  {
   "cell_type": "markdown",
   "metadata": {
    "id": "ptyrxxnuRh0V"
   },
   "source": [
    "Leyendo lo archivos con numpy"
   ]
  },
  {
   "cell_type": "code",
   "execution_count": 15,
   "metadata": {
    "id": "yLGWrnG5RaJv"
   },
   "outputs": [],
   "source": [
    "import numpy as np"
   ]
  },
  {
   "cell_type": "code",
   "execution_count": 16,
   "metadata": {
    "colab": {
     "base_uri": "https://localhost:8080/"
    },
    "id": "Z0-FG9s8RaFU",
    "outputId": "d3aaa208-980d-40cb-e7c4-b9808c1fad8e"
   },
   "outputs": [
    {
     "data": {
      "text/plain": [
       "(3337, 17)"
      ]
     },
     "execution_count": 16,
     "metadata": {
      "tags": []
     },
     "output_type": "execute_result"
    }
   ],
   "source": [
    "X_train = np.load('X_train.npy')\n",
    "X_train.shape"
   ]
  },
  {
   "cell_type": "code",
   "execution_count": 17,
   "metadata": {
    "colab": {
     "base_uri": "https://localhost:8080/"
    },
    "id": "DkvgQ4jPRaBH",
    "outputId": "76b9bb77-2957-4471-9d1d-ea4c49ac1704"
   },
   "outputs": [
    {
     "data": {
      "text/plain": [
       "(832, 17)"
      ]
     },
     "execution_count": 17,
     "metadata": {
      "tags": []
     },
     "output_type": "execute_result"
    }
   ],
   "source": [
    "X_test = np.load('X_test.npy')\n",
    "X_test.shape"
   ]
  },
  {
   "cell_type": "code",
   "execution_count": 18,
   "metadata": {
    "colab": {
     "base_uri": "https://localhost:8080/"
    },
    "id": "GvmU2-8DRZ8K",
    "outputId": "b70265cb-1728-4b6b-9e8e-974a130f493d"
   },
   "outputs": [
    {
     "data": {
      "text/plain": [
       "(3337,)"
      ]
     },
     "execution_count": 18,
     "metadata": {
      "tags": []
     },
     "output_type": "execute_result"
    }
   ],
   "source": [
    "Y_train = np.load('Y_train2.npy')\n",
    "Y_train.shape"
   ]
  },
  {
   "cell_type": "code",
   "execution_count": 19,
   "metadata": {
    "colab": {
     "base_uri": "https://localhost:8080/"
    },
    "id": "wW-UdlrjRZ37",
    "outputId": "9c1d3f00-b1a4-4b15-f2ec-845bbd0710c0"
   },
   "outputs": [
    {
     "data": {
      "text/plain": [
       "(832,)"
      ]
     },
     "execution_count": 19,
     "metadata": {
      "tags": []
     },
     "output_type": "execute_result"
    }
   ],
   "source": [
    "Y_test = np.load('Y_test2.npy')\n",
    "Y_test.shape"
   ]
  },
  {
   "cell_type": "markdown",
   "metadata": {
    "id": "3-4vhRtFR3cS"
   },
   "source": [
    "### Descargando el modelo"
   ]
  },
  {
   "cell_type": "code",
   "execution_count": 20,
   "metadata": {
    "colab": {
     "base_uri": "https://localhost:8080/"
    },
    "id": "aUrMK5xVR5iG",
    "outputId": "ba59274e-a583-4dc7-83d3-7c36fa46c08d"
   },
   "outputs": [
    {
     "data": {
      "text/plain": [
       "PosixPath('PCA_rnet_FULL.h5')"
      ]
     },
     "execution_count": 20,
     "metadata": {
      "tags": []
     },
     "output_type": "execute_result"
    }
   ],
   "source": [
    "# Descargando archivo del modelo completo PCA_rnet_FULL.h5\n",
    "m.download_url('https://mega.nz/file/Jdw0xRAb#niBMdBeTC0ZcPWhQz-pavMPrwLXru9tt6aVBOvO2u6s')"
   ]
  },
  {
   "cell_type": "code",
   "execution_count": 21,
   "metadata": {
    "colab": {
     "base_uri": "https://localhost:8080/"
    },
    "id": "CSRbPdYsScLh",
    "outputId": "04366d44-b73c-4da3-80bc-cd18227045fb"
   },
   "outputs": [
    {
     "name": "stdout",
     "output_type": "stream",
     "text": [
      "PCA_rnet_FULL.h5  X_test.npy   Y_test2.npy\n",
      "sample_data\t  X_train.npy  Y_train2.npy\n"
     ]
    }
   ],
   "source": [
    "!ls"
   ]
  },
  {
   "cell_type": "code",
   "execution_count": 22,
   "metadata": {
    "id": "XChIZCLkR5WU"
   },
   "outputs": [],
   "source": [
    "# Importando tensorflow\n",
    "import tensorflow as tf\n",
    "import tensorflow_addons as tfa"
   ]
  },
  {
   "cell_type": "code",
   "execution_count": 23,
   "metadata": {
    "id": "TnXfLWF1R5QP"
   },
   "outputs": [],
   "source": [
    "rnet=tf.keras.models.load_model('PCA_rnet_FULL.h5')"
   ]
  },
  {
   "cell_type": "markdown",
   "metadata": {
    "id": "cE2zCbXrSf1d"
   },
   "source": [
    "## PCA\n",
    "\n",
    "Creando el modelo que reduce dimensionalmente X_test a partir de los datos X_train."
   ]
  },
  {
   "cell_type": "code",
   "execution_count": 24,
   "metadata": {
    "id": "cqXur8PJR5Lr"
   },
   "outputs": [],
   "source": [
    "# Importando el método PCA\n",
    "from sklearn.decomposition import PCA"
   ]
  },
  {
   "cell_type": "code",
   "execution_count": 25,
   "metadata": {
    "id": "6PNnAMOxSkr9"
   },
   "outputs": [],
   "source": [
    "# Instanciando PCa en un objeto que transforme los datos a 3 dimensiones\n",
    "pca = PCA(n_components=3)"
   ]
  },
  {
   "cell_type": "code",
   "execution_count": 26,
   "metadata": {
    "id": "sCLAgsL1Slcf"
   },
   "outputs": [],
   "source": [
    "# Para X_train\n",
    "X_train_pca = pca.fit(X_train).transform(X_train)"
   ]
  },
  {
   "cell_type": "code",
   "execution_count": 27,
   "metadata": {
    "id": "eZZx7mPqSlOz"
   },
   "outputs": [],
   "source": [
    "# Para X_test\n",
    "# Nótese que se utiliza X_train para ajustar el pca\n",
    "X_test_pca = pca.fit(X_train).transform(X_test)"
   ]
  },
  {
   "cell_type": "code",
   "execution_count": 28,
   "metadata": {
    "colab": {
     "base_uri": "https://localhost:8080/"
    },
    "id": "l1wf9saMSknx",
    "outputId": "710ae32a-4a53-4755-f01a-8e020edf28f9"
   },
   "outputs": [
    {
     "name": "stdout",
     "output_type": "stream",
     "text": [
      "[[-18.52513566  21.87689658  -5.58046172]]\n",
      "[-18.52513566  21.87689658  -5.58046172]\n"
     ]
    }
   ],
   "source": [
    "# Comprobación con un ejemplo cualesquiera\n",
    "\n",
    "#Leyendo ejemplo\n",
    "ejemplo_test = X_test[5,:]\n",
    "\n",
    "#Expandiendo una dimension\n",
    "ejemplo_test = np.expand_dims(ejemplo_test,axis=0)\n",
    "\n",
    "#Transormando el ejemplo\n",
    "prueba1 = pca.fit(X_train).transform(ejemplo_test)\n",
    "print(prueba1)\n",
    "print(X_test_pca[5,:])"
   ]
  },
  {
   "cell_type": "code",
   "execution_count": 29,
   "metadata": {
    "id": "QptLMquwS00X"
   },
   "outputs": [],
   "source": [
    "# Función para retornar vector de carcterísticas después de aplicar PCA\n",
    "def PCA_transform(vector):\n",
    "    \n",
    "    #Expandiendo una dimension\n",
    "    vector = np.expand_dims(vector,axis=0)\n",
    "    \n",
    "    #Transformando el ejemplo\n",
    "    vector_pca = pca.fit(X_train).transform(vector)\n",
    "    \n",
    "    return vector_pca"
   ]
  },
  {
   "cell_type": "code",
   "execution_count": 30,
   "metadata": {
    "colab": {
     "base_uri": "https://localhost:8080/"
    },
    "id": "Mfc0rtcTS0t-",
    "outputId": "b6a7be53-a4c2-4a11-e702-05a135dd2041"
   },
   "outputs": [
    {
     "name": "stdout",
     "output_type": "stream",
     "text": [
      "[[-22.83520649   5.3994245    3.07702366]]\n",
      "[-22.83520649   5.3994245    3.07702366]\n"
     ]
    }
   ],
   "source": [
    "#Prueba 2\n",
    "ejemplo_test2 = X_test[515,:]\n",
    "#Transformando el ejemplo\n",
    "prueba2 = PCA_transform(ejemplo_test2)\n",
    "print(prueba2)\n",
    "print(X_test_pca[515,:])"
   ]
  },
  {
   "cell_type": "markdown",
   "metadata": {
    "id": "BHTUTHWHVm6y"
   },
   "source": [
    "# Realizando Petición (Query)"
   ]
  },
  {
   "cell_type": "code",
   "execution_count": 31,
   "metadata": {
    "id": "4Dwqluo0YEZS"
   },
   "outputs": [],
   "source": [
    "# Definimos el arreglo que enviaremos para realizar la petición al modelo alojado en IBM WATOSN CLOUD\n",
    "score_0 = PCA_transform(X_test[515,:]).tolist()"
   ]
  },
  {
   "cell_type": "code",
   "execution_count": 32,
   "metadata": {
    "id": "V32VilxcpuIZ"
   },
   "outputs": [],
   "source": [
    "# Importando bibliotecas necesarias para realizar petcición\n",
    "import requests\n",
    "import json"
   ]
  },
  {
   "cell_type": "code",
   "execution_count": 33,
   "metadata": {
    "id": "ZMfL9-ox1UDb"
   },
   "outputs": [],
   "source": [
    "# Estableciendo datos de la aplicación WEB en IBM WATSON CLOUD\n",
    "# Y generando un token temporal para cceder a la aplicación\n",
    "API_KEY = 'XXXXXXXXXXXXXXXXXXXXXXXXXXXXXXXXXXXX'\n",
    "token_response = requests.post('https://iam.ng.bluemix.net/identity/token', data={\"apikey\": API_KEY, \"grant_type\": 'urn:ibm:params:oauth:grant-type:apikey'})\n",
    "mltoken = token_response.json()[\"access_token\"]\n",
    "\n",
    "header = {'Content-Type': 'application/json', 'Authorization': 'Bearer ' + mltoken}"
   ]
  },
  {
   "cell_type": "code",
   "execution_count": 34,
   "metadata": {
    "id": "nMk-jaXy8n3R"
   },
   "outputs": [],
   "source": [
    "# Definimos el diccionario para la petición\n",
    "scoring_payload = {\"input_data\": [{\"values\": [score_0[0]]}]}"
   ]
  },
  {
   "cell_type": "code",
   "execution_count": 35,
   "metadata": {
    "colab": {
     "base_uri": "https://localhost:8080/"
    },
    "id": "q9_H-s2eX5QL",
    "outputId": "015a4ac4-6f28-4983-a6d4-043582a80375"
   },
   "outputs": [
    {
     "name": "stdout",
     "output_type": "stream",
     "text": [
      "Scoring response\n",
      "{'predictions': [{'id': 'dense_3', 'fields': ['prediction', 'prediction_classes', 'probability'], 'values': [[[0.017080986872315407], [0], [0.017080986872315407]]]}]}\n"
     ]
    }
   ],
   "source": [
    "response_scoring = requests.post('https://us-south.ml.cloud.ibm.com/ml/v4/deployments/XXXXXXXXXXXXXXXXXXXXXXXXXXXXXXXXXXXX/predictions?version=2020-12-04', json=scoring_payload, headers={'Authorization': 'Bearer ' + mltoken})\n",
    "print(\"Scoring response\")\n",
    "print(response_scoring.json())"
   ]
  },
  {
   "cell_type": "markdown",
   "metadata": {
    "id": "fYYiga-aaGYu"
   },
   "source": [
    "# Imprimiendo la probabilidad de cáncer mamario"
   ]
  },
  {
   "cell_type": "code",
   "execution_count": 36,
   "metadata": {
    "colab": {
     "base_uri": "https://localhost:8080/"
    },
    "id": "URifC4o5X54N",
    "outputId": "4a01c947-9ac6-4e51-aaac-35baedaff389"
   },
   "outputs": [
    {
     "data": {
      "text/plain": [
       "0.017080986872315407"
      ]
     },
     "execution_count": 36,
     "metadata": {
      "tags": []
     },
     "output_type": "execute_result"
    }
   ],
   "source": [
    "# Modelo en IBM WATSON CLOUD\n",
    "response_scoring.json()['predictions'][0]['values'][0][0][0]"
   ]
  },
  {
   "cell_type": "code",
   "execution_count": 37,
   "metadata": {
    "colab": {
     "base_uri": "https://localhost:8080/"
    },
    "id": "7PRA8wL3Z4pB",
    "outputId": "ee4a82c8-61e8-462d-d261-59cfeff9757e"
   },
   "outputs": [
    {
     "data": {
      "text/plain": [
       "0.017080992"
      ]
     },
     "execution_count": 37,
     "metadata": {
      "tags": []
     },
     "output_type": "execute_result"
    }
   ],
   "source": [
    "# Modelo \"local\"\n",
    "rnet.predict(score_0)[0][0]"
   ]
  },
  {
   "cell_type": "markdown",
   "metadata": {
    "id": "_agJhuk1aT3F"
   },
   "source": [
    "**NOTAS:** la probabilidad mostrada es un valor entre 0 y 1.\n"
   ]
  }
 ],
 "metadata": {
  "colab": {
   "collapsed_sections": [],
   "name": "Anexo_R.ipynb",
   "provenance": []
  },
  "kernelspec": {
   "display_name": "Python 3",
   "language": "python",
   "name": "python3"
  },
  "language_info": {
   "codemirror_mode": {
    "name": "ipython",
    "version": 3
   },
   "file_extension": ".py",
   "mimetype": "text/x-python",
   "name": "python",
   "nbconvert_exporter": "python",
   "pygments_lexer": "ipython3",
   "version": "3.8.3"
  }
 },
 "nbformat": 4,
 "nbformat_minor": 1
}
