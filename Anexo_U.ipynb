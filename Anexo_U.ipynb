{
 "cells": [
  {
   "cell_type": "markdown",
   "metadata": {},
   "source": [
    "Anexo U"
   ]
  },
  {
   "cell_type": "markdown",
   "metadata": {},
   "source": [
    "# Despliegue en IBM WATSON CLOUD de función en python que reduce, normaliza, aumenta a 3 canales y devuelve el resultado de la predicción del modelo EfficentNet del anexo S.\n",
    "\n",
    "#### Elaborado por: Ricardo Niño de Rivera Barrón\n",
    "\n",
    "#### Ingeniería Biónica\n",
    "\n",
    "#### Trabajo Terminal II"
   ]
  },
  {
   "cell_type": "markdown",
   "metadata": {},
   "source": [
    "Debido a que el equipo que se utilizó en el desarrollo del prototipo propuesto en este trabajo es incompatible con bibliotecas de 64 bits, se decidió desplegar la función descrita en esta libreta interactiva en la nube utilizando el servicio de IBM WATSON CLOUD.\n",
    "\n",
    "Para demostrar la correcta implementación de esta función se comparará su repsuesta en el prototipo final.\n",
    "\n",
    "**NOTA IMPORTANTE:** En los anexos Q y S la API KEY y la ID de acceso son diferntes a esta libreta porque se implementaron en dierentes cuentas. Esto debido a que en las pruebas se excedi{o la capacidad gratuita permitida por mes en las pruebas. sin embargo, el protoipo final y están realizados en una sola cuenta."
   ]
  },
  {
   "cell_type": "markdown",
   "metadata": {},
   "source": [
    "## Configurando el ambiente"
   ]
  },
  {
   "cell_type": "markdown",
   "metadata": {},
   "source": [
    "Primeramente es necesario crear una instancia gratuita en Watson para utilizar el servicio específico de Machine Learning."
   ]
  },
  {
   "cell_type": "markdown",
   "metadata": {},
   "source": [
    "### Conectando a Watson Machine Learning\n",
    "\n",
    "Para comunicarnos con la instancia creada necesitamos dos datos, \"Api Key\" y la ubicación geográfica de la instancia.\n"
   ]
  },
  {
   "cell_type": "code",
   "execution_count": 1,
   "metadata": {},
   "outputs": [],
   "source": [
    "api_key = 'XXXXXXXXXXXXXXXXXXXXXXXXXXXXXXXXXXXX'\n",
    "location = 'us-south'"
   ]
  },
  {
   "cell_type": "code",
   "execution_count": 2,
   "metadata": {},
   "outputs": [],
   "source": [
    "wml_credentials = {\n",
    "    \"apikey\": api_key,\n",
    "    \"url\": 'https://' + location + '.ml.cloud.ibm.com'\n",
    "}"
   ]
  },
  {
   "cell_type": "markdown",
   "metadata": {},
   "source": [
    "### Importando la biblioteca para manipular recursos en IBM Watson"
   ]
  },
  {
   "cell_type": "code",
   "execution_count": 3,
   "metadata": {},
   "outputs": [],
   "source": [
    "#!pip install -U ibm-watson-machine-learning"
   ]
  },
  {
   "cell_type": "code",
   "execution_count": 4,
   "metadata": {},
   "outputs": [
    {
     "name": "stderr",
     "output_type": "stream",
     "text": [
      "2020-12-05 18:19:17,203 - ibm_watson_machine_learning.wml_client_error - WARNING - Failure during scoring. (POST https://us-south.ml.cloud.ibm.com/ml/v4/deployments/XXXXXXXXXXXXXXXXXXXXXXXXXXXXXXXXXXXX/predictions?version=2020-08-01)\n",
      "Status code: 403, body: {\"trace\":\"XXXXXXXXXXXXXXXXXXXXXXXXXXXXXXXXXXXX\",\"errors\":[{\"code\":\"SPACES0008E\",\"message\":\"User 'IBMid-XXXXXXXXXXXXXXXXXXXXXXXXXXXXXXXXXXXX' is not authorized to perform this action on space 'XXXXXXXXXXXXXXXXXXXXXXXXXXXXXXXXXXXX'.\"}]}\n",
      "2020-12-05 18:47:12,826 - ibm_watson_machine_learning.wml_client_error - WARNING - Failure during scoring. (POST https://us-south.ml.cloud.ibm.com/ml/v4/deployments/XXXXXXXXXXXXXXXXXXXXXXXXXXXXXXXXXXXX/predictions?version=2020-08-01)\n",
      "Status code: 400, body: {\"trace\": \"XXXXXXXXXXXXXXXXXXXXXXXXXXXXXXXXXXXX\", \"errors\": [{\"code\": \"score_processing_failure\", \"message\": \"local variable 'imagen' referenced before assignment\"}], \"status_code\": 400}\n",
      "\n"
     ]
    }
   ],
   "source": [
    "from ibm_watson_machine_learning import APIClient\n",
    "\n",
    "client = APIClient(wml_credentials)"
   ]
  },
  {
   "cell_type": "markdown",
   "metadata": {},
   "source": [
    "### Trabajando con espacios\n",
    "\n",
    "Posteriormente se debe establecer un \"espacio\" de trabajo en en en el servicio de almacenamiento de objetos de IBM Cloud.\n",
    "\n",
    "Para realizar esta tarea es posible realizarla en esta libreta o directamente en la plataforma."
   ]
  },
  {
   "cell_type": "code",
   "execution_count": 5,
   "metadata": {},
   "outputs": [],
   "source": [
    "space_id = 'XXXXXXXXXXXXXXXXXXXXXXXXXXXXXXXXXXXX'"
   ]
  },
  {
   "cell_type": "markdown",
   "metadata": {},
   "source": [
    "Enlistando todos los espacios existentes en la instancia creada."
   ]
  },
  {
   "cell_type": "code",
   "execution_count": 6,
   "metadata": {},
   "outputs": [
    {
     "name": "stdout",
     "output_type": "stream",
     "text": [
      "------------------------------------  -----------  ------------------------\n",
      "ID                                    NAME         CREATED\n",
      "XXXXXXXXXXXXXXXXXXXXXXXXXXXXXXXXXXXX  WEB_APP_TT2  2020-12-05T17:16:16.303Z\n",
      "------------------------------------  -----------  ------------------------\n"
     ]
    }
   ],
   "source": [
    "client.spaces.list(limit=10)"
   ]
  },
  {
   "cell_type": "markdown",
   "metadata": {},
   "source": [
    "Ahora establecemos el espacio creado como espacio por default para desplegar el modelo propuesto."
   ]
  },
  {
   "cell_type": "code",
   "execution_count": 7,
   "metadata": {},
   "outputs": [
    {
     "data": {
      "text/plain": [
       "'SUCCESS'"
      ]
     },
     "execution_count": 7,
     "metadata": {},
     "output_type": "execute_result"
    }
   ],
   "source": [
    "client.set.default_space(space_id)"
   ]
  },
  {
   "cell_type": "code",
   "execution_count": 8,
   "metadata": {},
   "outputs": [
    {
     "data": {
      "text/plain": [
       "{'resources': []}"
      ]
     },
     "execution_count": 8,
     "metadata": {},
     "output_type": "execute_result"
    }
   ],
   "source": [
    "client.deployments.get_job_details()"
   ]
  },
  {
   "cell_type": "code",
   "execution_count": 9,
   "metadata": {},
   "outputs": [
    {
     "name": "stdout",
     "output_type": "stream",
     "text": [
      "EFNB7_weights.h5  modelo.h5  modelo.tar.gz  T0032.1.1.D.2016-10-29.16.npy\r\n"
     ]
    }
   ],
   "source": [
    "!ls"
   ]
  },
  {
   "cell_type": "markdown",
   "metadata": {},
   "source": [
    "## Descargando ejemplo de prueba"
   ]
  },
  {
   "cell_type": "code",
   "execution_count": 10,
   "metadata": {},
   "outputs": [
    {
     "name": "stdout",
     "output_type": "stream",
     "text": [
      "Requirement already satisfied: mega.py in /opt/conda/envs/Python-3.7-main/lib/python3.7/site-packages (1.0.8)\n",
      "Requirement already satisfied: pathlib==1.0.1 in /opt/conda/envs/Python-3.7-main/lib/python3.7/site-packages (from mega.py) (1.0.1)\n",
      "Requirement already satisfied: requests>=0.10 in /opt/conda/envs/Python-3.7-main/lib/python3.7/site-packages (from mega.py) (2.24.0)\n",
      "Requirement already satisfied: pycryptodome<4.0.0,>=3.9.6 in /opt/conda/envs/Python-3.7-main/lib/python3.7/site-packages (from mega.py) (3.9.9)\n",
      "Requirement already satisfied: tenacity<6.0.0,>=5.1.5 in /opt/conda/envs/Python-3.7-main/lib/python3.7/site-packages (from mega.py) (5.1.5)\n",
      "Requirement already satisfied: chardet<4,>=3.0.2 in /opt/conda/envs/Python-3.7-main/lib/python3.7/site-packages (from requests>=0.10->mega.py) (3.0.4)\n",
      "Requirement already satisfied: urllib3!=1.25.0,!=1.25.1,<1.26,>=1.21.1 in /opt/conda/envs/Python-3.7-main/lib/python3.7/site-packages (from requests>=0.10->mega.py) (1.25.9)\n",
      "Requirement already satisfied: idna<3,>=2.5 in /opt/conda/envs/Python-3.7-main/lib/python3.7/site-packages (from requests>=0.10->mega.py) (2.9)\n",
      "Requirement already satisfied: certifi>=2017.4.17 in /opt/conda/envs/Python-3.7-main/lib/python3.7/site-packages (from requests>=0.10->mega.py) (2020.11.8)\n",
      "Requirement already satisfied: six>=1.9.0 in /opt/conda/envs/Python-3.7-main/lib/python3.7/site-packages (from tenacity<6.0.0,>=5.1.5->mega.py) (1.15.0)\n"
     ]
    }
   ],
   "source": [
    "# Instalando biblioteca mega.py\n",
    "!pip install mega.py"
   ]
  },
  {
   "cell_type": "code",
   "execution_count": 11,
   "metadata": {},
   "outputs": [],
   "source": [
    "from mega import Mega"
   ]
  },
  {
   "cell_type": "code",
   "execution_count": 12,
   "metadata": {},
   "outputs": [],
   "source": [
    "mega = Mega()"
   ]
  },
  {
   "cell_type": "markdown",
   "metadata": {},
   "source": [
    "Inicamos sesión en MEGA con cuenta temporal y anónima"
   ]
  },
  {
   "cell_type": "code",
   "execution_count": 13,
   "metadata": {},
   "outputs": [],
   "source": [
    "# Log in en la cuenta de MEGA con cuenta temporal anónima\n",
    "m = mega.login()"
   ]
  },
  {
   "cell_type": "code",
   "execution_count": 14,
   "metadata": {},
   "outputs": [
    {
     "data": {
      "text/plain": [
       "PosixPath('T0032.1.1.D.2016-10-29.16.npy')"
      ]
     },
     "execution_count": 14,
     "metadata": {},
     "output_type": "execute_result"
    }
   ],
   "source": [
    "# Descargando el archivo de prueba T0032.1.1.D.2016-10-29.16.npy\n",
    "m.download_url('https://mega.nz/file/URwlCCpC#It8L-P9xJexCtwgFY2q1NbXkEH8A9aVg9JWZfedLLjw')"
   ]
  },
  {
   "cell_type": "code",
   "execution_count": 15,
   "metadata": {},
   "outputs": [
    {
     "name": "stdout",
     "output_type": "stream",
     "text": [
      "EFNB7_weights.h5  modelo.h5  modelo.tar.gz  T0032.1.1.D.2016-10-29.16.npy\r\n"
     ]
    }
   ],
   "source": [
    "# Mostrando archivos en el directorio de trabajo del entorno\n",
    "!ls"
   ]
  },
  {
   "cell_type": "code",
   "execution_count": 16,
   "metadata": {},
   "outputs": [
    {
     "name": "stdout",
     "output_type": "stream",
     "text": [
      "/home/wsuser/work\r\n"
     ]
    }
   ],
   "source": [
    "# Imprimiendo el directorio de trabajo\n",
    "!pwd"
   ]
  },
  {
   "cell_type": "markdown",
   "metadata": {},
   "source": [
    "Leyendo archivo con numpy."
   ]
  },
  {
   "cell_type": "code",
   "execution_count": 17,
   "metadata": {},
   "outputs": [],
   "source": [
    "import numpy as np"
   ]
  },
  {
   "cell_type": "code",
   "execution_count": 18,
   "metadata": {},
   "outputs": [
    {
     "data": {
      "text/plain": [
       "(480, 640)"
      ]
     },
     "execution_count": 18,
     "metadata": {},
     "output_type": "execute_result"
    }
   ],
   "source": [
    "X_prueba = np.load('T0032.1.1.D.2016-10-29.16.npy')\n",
    "X_prueba.shape"
   ]
  },
  {
   "cell_type": "markdown",
   "metadata": {},
   "source": [
    "## Función a desplegar\n",
    "\n",
    "Esta función convierte la imagen riginal de resolución 640x420 px a una imagen de 128x128 px y retorna el resultado del modelo desplegado en el anexo S (EfficientNet)."
   ]
  },
  {
   "cell_type": "code",
   "execution_count": 19,
   "metadata": {},
   "outputs": [],
   "source": [
    "# # importando bibliotecas auxiliares\n",
    "import tensorflow as tf"
   ]
  },
  {
   "cell_type": "markdown",
   "metadata": {},
   "source": [
    "Estableciendo el ID de el modelo EfficientNet definido en el Anexo S."
   ]
  },
  {
   "cell_type": "code",
   "execution_count": 60,
   "metadata": {},
   "outputs": [],
   "source": [
    "model_deployment_id = 'XXXXXXXXXXXXXXXXXXXXXXXXXXXXXXXXXXXX'"
   ]
  },
  {
   "cell_type": "code",
   "execution_count": 61,
   "metadata": {},
   "outputs": [],
   "source": [
    "ai_parms = {\"wml_credentials\": wml_credentials, \"space_id\": space_id, \"model_deployment_id\": model_deployment_id}\n",
    "def efnb7_function_128x128( parms=ai_parms ):\n",
    "    \n",
    "    def get_img_128(imagen, size=128):\n",
    "\n",
    "        import tensorflow as tf\n",
    "        import numpy as np\n",
    "        \n",
    "        try:\n",
    "            img = np.expand_dims(imagen, axis=2)\n",
    "            \n",
    "            img = tf.image.resize(img, [size,size], antialias=True)/255\n",
    "            \n",
    "            img_128 = np.zeros((1, 128, 128,3))\n",
    "            \n",
    "            # Almacenamos la imagen obtenida en cada canal\n",
    "            img_128[0,:,:,0] = img[:,:,0]\n",
    "            img_128[0,:,:,1] = img[:,:,0]\n",
    "            img_128[0,:,:,2] = img[:,:,0]\n",
    "            \n",
    "            print(img.shape)\n",
    "            print(img_128.shape)\n",
    "            \n",
    "            img_list = img_128.tolist()\n",
    "            \n",
    "            return img_list\n",
    "        \n",
    "        except Exception as e:\n",
    "            print(e)\n",
    "    \n",
    "        \n",
    "    def score(function_payload):\n",
    "        import numpy as np\n",
    "        try:\n",
    "            imagen   = np.array(function_payload[\"input_data\"][0][\"values\"][0])\n",
    "            X = get_img_128(imagen)\n",
    "            print(len(X[0]))\n",
    "            \n",
    "            model_payload = {\"input_data\": [{\"values\": [X[0]]}]}\n",
    "                    \n",
    "            from ibm_watson_machine_learning import APIClient\n",
    "            client       = APIClient(parms[\"wml_credentials\"])\n",
    "            client.set.default_space(parms[\"space_id\"])\n",
    "            model_result = client.deployments.score(parms[\"model_deployment_id\"], model_payload)\n",
    "            digit_class  = model_result[\"predictions\"][0][\"values\"][0]\n",
    "                    \n",
    "            return model_result\n",
    "        \n",
    "        except Exception as e:\n",
    "            return {'predictions': [{'values': [repr(e)]}]}\n",
    "            #return {\"error\" : repr(e)}\n",
    "\n",
    "\n",
    "    return score"
   ]
  },
  {
   "cell_type": "markdown",
   "metadata": {},
   "source": [
    "## Probando la función localmente"
   ]
  },
  {
   "cell_type": "code",
   "execution_count": 62,
   "metadata": {},
   "outputs": [],
   "source": [
    "score_0 = X_prueba.tolist()"
   ]
  },
  {
   "cell_type": "code",
   "execution_count": 63,
   "metadata": {},
   "outputs": [
    {
     "name": "stdout",
     "output_type": "stream",
     "text": [
      "(128, 128, 1)\n",
      "(1, 128, 128, 3)\n",
      "128\n",
      "{'predictions': [{'id': 'dense_2', 'fields': ['prediction', 'prediction_classes', 'probability'], 'values': [[[0.021548686549067497], [0], [0.021548686549067497]]]}]}\n"
     ]
    }
   ],
   "source": [
    "func_result = efnb7_function_128x128()({\"input_data\": [{\"values\": [score_0]}]})\n",
    "print(func_result)"
   ]
  },
  {
   "cell_type": "code",
   "execution_count": 64,
   "metadata": {},
   "outputs": [
    {
     "data": {
      "text/plain": [
       "0.021548686549067497"
      ]
     },
     "execution_count": 64,
     "metadata": {},
     "output_type": "execute_result"
    }
   ],
   "source": [
    "func_result['predictions'][0]['values'][0][0][0]"
   ]
  },
  {
   "cell_type": "markdown",
   "metadata": {},
   "source": [
    "### Publicando función"
   ]
  },
  {
   "cell_type": "markdown",
   "metadata": {},
   "source": [
    "Definiendo nombre del modelo, nombre del autor y el software específico."
   ]
  },
  {
   "cell_type": "code",
   "execution_count": 65,
   "metadata": {
    "pycharm": {
     "is_executing": false,
     "name": "#%%\n"
    }
   },
   "outputs": [],
   "source": [
    "sofware_spec_uid = client.software_specifications.get_id_by_name(\"default_py3.7\")"
   ]
  },
  {
   "cell_type": "code",
   "execution_count": 66,
   "metadata": {},
   "outputs": [],
   "source": [
    "meta_data = {\n",
    "    client.repository.FunctionMetaNames.NAME: 'Tranform image to 128x128 function',\n",
    "    client.repository.FunctionMetaNames.SOFTWARE_SPEC_UID: sofware_spec_uid\n",
    "}\n",
    "\n",
    "function_details = client.repository.store_function(meta_props=meta_data, function=efnb7_function_128x128)"
   ]
  },
  {
   "cell_type": "markdown",
   "metadata": {},
   "source": [
    "### Obteniendo detalles del modelo"
   ]
  },
  {
   "cell_type": "code",
   "execution_count": 67,
   "metadata": {},
   "outputs": [
    {
     "data": {
      "text/plain": [
       "'XXXXXXXXXXXXXXXXXXXXXXXXXXXXXXXXXXXXc'"
      ]
     },
     "execution_count": 67,
     "metadata": {},
     "output_type": "execute_result"
    }
   ],
   "source": [
    "function_uid = client.repository.get_function_uid(function_details)\n",
    "function_uid"
   ]
  },
  {
   "cell_type": "markdown",
   "metadata": {},
   "source": [
    "## Desplegando y almacenando en una nube"
   ]
  },
  {
   "cell_type": "markdown",
   "metadata": {},
   "source": [
    "Se despliega la función en IBM WATSON CLOUD."
   ]
  },
  {
   "cell_type": "markdown",
   "metadata": {},
   "source": [
    "#### Desplegando en la nube la funci+on almacenada (publicada) previamente."
   ]
  },
  {
   "cell_type": "code",
   "execution_count": 68,
   "metadata": {},
   "outputs": [
    {
     "name": "stdout",
     "output_type": "stream",
     "text": [
      "\n",
      "\n",
      "#######################################################################################\n",
      "\n",
      "Synchronous deployment creation for uid: 'XXXXXXXXXXXXXXXXXXXXXXXXXXXXXXXXXXXX' started\n",
      "\n",
      "#######################################################################################\n",
      "\n",
      "\n",
      "initializing..\n",
      "ready\n",
      "\n",
      "\n",
      "------------------------------------------------------------------------------------------------\n",
      "Successfully finished deployment creation, deployment_uid='XXXXXXXXXXXXXXXXXXXXXXXXXXXXXXXXXXXX'\n",
      "------------------------------------------------------------------------------------------------\n",
      "\n",
      "\n"
     ]
    }
   ],
   "source": [
    "metadata = {\n",
    "    client.deployments.ConfigurationMetaNames.NAME: \"Tranform image to 128x128 function deployed\",\n",
    "    client.deployments.ConfigurationMetaNames.ONLINE: {}\n",
    "}\n",
    "\n",
    "function_deployment_details = client.deployments.create(function_uid, meta_props=metadata)"
   ]
  },
  {
   "cell_type": "markdown",
   "metadata": {},
   "source": [
    "Ahora podemos imprimir el \"online scoring endpoint\""
   ]
  },
  {
   "cell_type": "code",
   "execution_count": 69,
   "metadata": {},
   "outputs": [
    {
     "name": "stdout",
     "output_type": "stream",
     "text": [
      "XXXXXXXXXXXXXXXXXXXXXXXXXXXXXXXXXXXX\n"
     ]
    }
   ],
   "source": [
    "function_deployment_id = client.deployments.get_uid(function_deployment_details)\n",
    "print(function_deployment_id)"
   ]
  },
  {
   "cell_type": "code",
   "execution_count": 70,
   "metadata": {
    "pycharm": {
     "is_executing": false,
     "name": "#%%\n"
    }
   },
   "outputs": [
    {
     "name": "stdout",
     "output_type": "stream",
     "text": [
      "https://us-south.ml.cloud.ibm.com/ml/v4/deployments/XXXXXXXXXXXXXXXXXXXXXXXXXXXXXXXXXXXX/predictions\n"
     ]
    }
   ],
   "source": [
    "scoring_endpoint = client.deployments.get_scoring_href(function_deployment_details)\n",
    "print(scoring_endpoint)"
   ]
  },
  {
   "cell_type": "markdown",
   "metadata": {},
   "source": [
    "Mostrando la lista de despliegues."
   ]
  },
  {
   "cell_type": "code",
   "execution_count": 71,
   "metadata": {},
   "outputs": [
    {
     "name": "stdout",
     "output_type": "stream",
     "text": [
      "------------------------------------  -------------------------------------------  -----  ------------------------\n",
      "GUID                                  NAME                                         STATE  CREATED\n",
      "XXXXXXXXXXXXXXXXXXXXXXXXXXXXXXXXXXXX  Tranform image to 128x128 function deployed  ready  2020-12-05T19:00:13.009Z\n",
      "XXXXXXXXXXXXXXXXXXXXXXXXXXXXXXXXXXXX  EfficientNetB7 Deployed                      ready  2020-12-05T17:50:14.274Z\n",
      "XXXXXXXXXXXXXXXXXXXXXXXXXXXXXXXXXXXX  Deployment of external Tensorflow model      ready  2020-12-05T17:25:17.606Z\n",
      "------------------------------------  -------------------------------------------  -----  ------------------------\n"
     ]
    }
   ],
   "source": [
    "client.deployments.list()"
   ]
  },
  {
   "cell_type": "markdown",
   "metadata": {},
   "source": [
    "### Score"
   ]
  },
  {
   "cell_type": "markdown",
   "metadata": {},
   "source": [
    "Ahora vamos a realizar una prueba de acceso."
   ]
  },
  {
   "cell_type": "code",
   "execution_count": 72,
   "metadata": {
    "pycharm": {
     "is_executing": false,
     "name": "#%%\n"
    }
   },
   "outputs": [],
   "source": [
    "scoring_payload = {\"input_data\": [{\"values\": [score_0]}]}"
   ]
  },
  {
   "cell_type": "markdown",
   "metadata": {},
   "source": [
    "Usando el método ``client.deployments.score()``para probar el modelo en la nube."
   ]
  },
  {
   "cell_type": "code",
   "execution_count": 73,
   "metadata": {},
   "outputs": [
    {
     "name": "stdout",
     "output_type": "stream",
     "text": [
      "{'predictions': [{'id': 'dense_2', 'fields': ['prediction', 'prediction_classes', 'probability'], 'values': [[[0.021548686549067497], [0], [0.021548686549067497]]]}]}\n"
     ]
    }
   ],
   "source": [
    "result = client.deployments.score(function_deployment_id, scoring_payload)\n",
    "if \"error\" in result:\n",
    "    print(result[\"error\"])\n",
    "else:\n",
    "    print(result)"
   ]
  },
  {
   "cell_type": "markdown",
   "metadata": {},
   "source": [
    "Imprimimos la probabilidad de cáncer. (VALORES ENTRE 0 Y 1)"
   ]
  },
  {
   "cell_type": "code",
   "execution_count": 74,
   "metadata": {},
   "outputs": [
    {
     "data": {
      "text/plain": [
       "0.021548686549067497"
      ]
     },
     "execution_count": 74,
     "metadata": {},
     "output_type": "execute_result"
    }
   ],
   "source": [
    "# Modelo Online\n",
    "result['predictions'][0]['values'][0][0][0]"
   ]
  }
 ],
 "metadata": {
  "kernelspec": {
   "display_name": "Python 3",
   "language": "python",
   "name": "python3"
  },
  "language_info": {
   "codemirror_mode": {
    "name": "ipython",
    "version": 3
   },
   "file_extension": ".py",
   "mimetype": "text/x-python",
   "name": "python",
   "nbconvert_exporter": "python",
   "pygments_lexer": "ipython3",
   "version": "3.8.3"
  },
  "pycharm": {
   "stem_cell": {
    "cell_type": "raw",
    "metadata": {
     "collapsed": false
    },
    "source": []
   }
  }
 },
 "nbformat": 4,
 "nbformat_minor": 4
}
