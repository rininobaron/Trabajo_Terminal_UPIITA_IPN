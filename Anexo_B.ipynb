{
 "cells": [
  {
   "cell_type": "markdown",
   "metadata": {},
   "source": [
    "#### Anexo B\n",
    "\n",
    "# Explorando Datos para TRANSFORMACIÓN LINEAL"
   ]
  },
  {
   "cell_type": "markdown",
   "metadata": {},
   "source": [
    "#### Elaborado por: Ricardo Niño de Rivera Barrón\n",
    "\n",
    "#### Ingeniería Biónica\n",
    "\n",
    "#### Trabajo Terminal II"
   ]
  },
  {
   "cell_type": "markdown",
   "metadata": {},
   "source": [
    "Con esta libreta interactiva desarrollamos una exploración de los datos en el conjunto de entranamiento con el fin de elaborar una ventana para la Tranformación Lineal de las matrices de temperatura (que son el tipo de dato que entrega la cámara infrarroja) a imágenes de 8 bits en escala de grises. \n",
    "\n",
    "Esta libreta interactiva en python 3.8 fue realizada localmente en un euqipo con Windows 7."
   ]
  },
  {
   "cell_type": "markdown",
   "metadata": {},
   "source": [
    "Importando bibliotecas."
   ]
  },
  {
   "cell_type": "code",
   "execution_count": 12,
   "metadata": {},
   "outputs": [],
   "source": [
    "import numpy as np\n",
    "import pandas as pd\n",
    "import matplotlib.pyplot as plt\n",
    "import os\n",
    "from sklearn.linear_model import LinearRegression"
   ]
  },
  {
   "cell_type": "code",
   "execution_count": 2,
   "metadata": {},
   "outputs": [],
   "source": [
    "#Leyendo archivo csv\n",
    "df=pd.read_csv('train.csv',  encoding = \"ISO-8859-1\")"
   ]
  },
  {
   "cell_type": "code",
   "execution_count": 3,
   "metadata": {},
   "outputs": [
    {
     "data": {
      "text/html": [
       "<div>\n",
       "<style scoped>\n",
       "    .dataframe tbody tr th:only-of-type {\n",
       "        vertical-align: middle;\n",
       "    }\n",
       "\n",
       "    .dataframe tbody tr th {\n",
       "        vertical-align: top;\n",
       "    }\n",
       "\n",
       "    .dataframe thead th {\n",
       "        text-align: right;\n",
       "    }\n",
       "</style>\n",
       "<table border=\"1\" class=\"dataframe\">\n",
       "  <thead>\n",
       "    <tr style=\"text-align: right;\">\n",
       "      <th></th>\n",
       "      <th>ID</th>\n",
       "      <th>Records</th>\n",
       "      <th>Name</th>\n",
       "      <th>Age</th>\n",
       "      <th>Exams</th>\n",
       "      <th>Diagnosis</th>\n",
       "      <th>Side</th>\n",
       "      <th>Complaints</th>\n",
       "      <th>Mammography</th>\n",
       "      <th>Radiotherapy</th>\n",
       "      <th>...</th>\n",
       "      <th>Use of hormone replacement</th>\n",
       "      <th>Is there signal of wart on breast?</th>\n",
       "      <th>Wart</th>\n",
       "      <th>Body temperature</th>\n",
       "      <th>Race</th>\n",
       "      <th>Smoked</th>\n",
       "      <th>Drank coffe</th>\n",
       "      <th>Comsumed alcohol</th>\n",
       "      <th>Physical exercise</th>\n",
       "      <th>Put some pomade, deodorant or products at breasts or armpits region?</th>\n",
       "    </tr>\n",
       "  </thead>\n",
       "  <tbody>\n",
       "    <tr>\n",
       "      <th>0</th>\n",
       "      <td>1</td>\n",
       "      <td>VoluntÃ¡ria</td>\n",
       "      <td>PRIVATE</td>\n",
       "      <td>72</td>\n",
       "      <td>Thermography</td>\n",
       "      <td>Healthy</td>\n",
       "      <td>NaN</td>\n",
       "      <td>NaN</td>\n",
       "      <td>1</td>\n",
       "      <td>0.0</td>\n",
       "      <td>...</td>\n",
       "      <td>0.0</td>\n",
       "      <td>1.0</td>\n",
       "      <td>both</td>\n",
       "      <td>34.9</td>\n",
       "      <td>Pardo</td>\n",
       "      <td>NaN</td>\n",
       "      <td>NaN</td>\n",
       "      <td>NaN</td>\n",
       "      <td>NaN</td>\n",
       "      <td>NaN</td>\n",
       "    </tr>\n",
       "    <tr>\n",
       "      <th>1</th>\n",
       "      <td>2</td>\n",
       "      <td>77020</td>\n",
       "      <td>PRIVATE</td>\n",
       "      <td>65</td>\n",
       "      <td>Thermography</td>\n",
       "      <td>Healthy</td>\n",
       "      <td>NaN</td>\n",
       "      <td>1.0</td>\n",
       "      <td>1</td>\n",
       "      <td>0.0</td>\n",
       "      <td>...</td>\n",
       "      <td>1.0</td>\n",
       "      <td>0.0</td>\n",
       "      <td>0</td>\n",
       "      <td>36.5</td>\n",
       "      <td>Pardo</td>\n",
       "      <td>0.0</td>\n",
       "      <td>0.0</td>\n",
       "      <td>0.0</td>\n",
       "      <td>0.0</td>\n",
       "      <td>0.0</td>\n",
       "    </tr>\n",
       "    <tr>\n",
       "      <th>2</th>\n",
       "      <td>4</td>\n",
       "      <td>VoluntÃ¡ria</td>\n",
       "      <td>PRIVATE</td>\n",
       "      <td>66</td>\n",
       "      <td>Thermography</td>\n",
       "      <td>Healthy</td>\n",
       "      <td>NaN</td>\n",
       "      <td>1.0</td>\n",
       "      <td>1</td>\n",
       "      <td>0.0</td>\n",
       "      <td>...</td>\n",
       "      <td>0.0</td>\n",
       "      <td>0.0</td>\n",
       "      <td>0</td>\n",
       "      <td>35.7</td>\n",
       "      <td>Black</td>\n",
       "      <td>NaN</td>\n",
       "      <td>NaN</td>\n",
       "      <td>NaN</td>\n",
       "      <td>NaN</td>\n",
       "      <td>NaN</td>\n",
       "    </tr>\n",
       "    <tr>\n",
       "      <th>3</th>\n",
       "      <td>5</td>\n",
       "      <td>VoluntÃ¡ria</td>\n",
       "      <td>PRIVATE</td>\n",
       "      <td>65</td>\n",
       "      <td>Thermography</td>\n",
       "      <td>Healthy</td>\n",
       "      <td>NaN</td>\n",
       "      <td>0.0</td>\n",
       "      <td>1</td>\n",
       "      <td>0.0</td>\n",
       "      <td>...</td>\n",
       "      <td>0.0</td>\n",
       "      <td>0.0</td>\n",
       "      <td>0</td>\n",
       "      <td>35.9</td>\n",
       "      <td>White</td>\n",
       "      <td>NaN</td>\n",
       "      <td>NaN</td>\n",
       "      <td>NaN</td>\n",
       "      <td>NaN</td>\n",
       "      <td>NaN</td>\n",
       "    </tr>\n",
       "    <tr>\n",
       "      <th>4</th>\n",
       "      <td>6</td>\n",
       "      <td>VoluntÃ¡ria</td>\n",
       "      <td>PRIVATE</td>\n",
       "      <td>53</td>\n",
       "      <td>Thermography</td>\n",
       "      <td>Healthy</td>\n",
       "      <td>NaN</td>\n",
       "      <td>0.0</td>\n",
       "      <td>0</td>\n",
       "      <td>0.0</td>\n",
       "      <td>...</td>\n",
       "      <td>0.0</td>\n",
       "      <td>0.0</td>\n",
       "      <td>0</td>\n",
       "      <td>35.4</td>\n",
       "      <td>Pardo</td>\n",
       "      <td>NaN</td>\n",
       "      <td>NaN</td>\n",
       "      <td>NaN</td>\n",
       "      <td>NaN</td>\n",
       "      <td>NaN</td>\n",
       "    </tr>\n",
       "  </tbody>\n",
       "</table>\n",
       "<p>5 rows × 23 columns</p>\n",
       "</div>"
      ],
      "text/plain": [
       "   ID      Records     Name  Age         Exams Diagnosis Side  Complaints  \\\n",
       "0   1  VoluntÃ¡ria  PRIVATE   72  Thermography   Healthy  NaN         NaN   \n",
       "1   2        77020  PRIVATE   65  Thermography   Healthy  NaN         1.0   \n",
       "2   4  VoluntÃ¡ria  PRIVATE   66  Thermography   Healthy  NaN         1.0   \n",
       "3   5  VoluntÃ¡ria  PRIVATE   65  Thermography   Healthy  NaN         0.0   \n",
       "4   6  VoluntÃ¡ria  PRIVATE   53  Thermography   Healthy  NaN         0.0   \n",
       "\n",
       "   Mammography  Radiotherapy  ...  Use of hormone replacement  \\\n",
       "0            1           0.0  ...                         0.0   \n",
       "1            1           0.0  ...                         1.0   \n",
       "2            1           0.0  ...                         0.0   \n",
       "3            1           0.0  ...                         0.0   \n",
       "4            0           0.0  ...                         0.0   \n",
       "\n",
       "   Is there signal of wart on breast?  Wart  Body temperature   Race Smoked  \\\n",
       "0                                 1.0  both              34.9  Pardo    NaN   \n",
       "1                                 0.0     0              36.5  Pardo    0.0   \n",
       "2                                 0.0     0              35.7  Black    NaN   \n",
       "3                                 0.0     0              35.9  White    NaN   \n",
       "4                                 0.0     0              35.4  Pardo    NaN   \n",
       "\n",
       "   Drank coffe Comsumed alcohol  Physical exercise  \\\n",
       "0          NaN              NaN                NaN   \n",
       "1          0.0              0.0                0.0   \n",
       "2          NaN              NaN                NaN   \n",
       "3          NaN              NaN                NaN   \n",
       "4          NaN              NaN                NaN   \n",
       "\n",
       "   Put some pomade, deodorant or products at breasts or armpits region?  \n",
       "0                                                NaN                     \n",
       "1                                                0.0                     \n",
       "2                                                NaN                     \n",
       "3                                                NaN                     \n",
       "4                                                NaN                     \n",
       "\n",
       "[5 rows x 23 columns]"
      ]
     },
     "execution_count": 3,
     "metadata": {},
     "output_type": "execute_result"
    }
   ],
   "source": [
    "df.head()"
   ]
  },
  {
   "cell_type": "markdown",
   "metadata": {},
   "source": [
    "Debido a que el almacenamiento de imágenes en un arreglo saturaría la memoria, realizamos una iteración imagen por imagen en el directorio train, y almacanamos la temperatura máxima. Actualizamos la temperatura máxima cada vez que encontremos una mayor.  "
   ]
  },
  {
   "cell_type": "code",
   "execution_count": 4,
   "metadata": {},
   "outputs": [],
   "source": [
    "#Buscando nombre de imágenes en el directorio de interés\n",
    "files = os.listdir(\"C:\\\\Users\\\\LapTop\\\\Desktop\\\\TERMOGRAFIA\\\\TT2\\\\BaseDeDatosFrontales_FINAL\\\\train\")"
   ]
  },
  {
   "cell_type": "code",
   "execution_count": 5,
   "metadata": {},
   "outputs": [
    {
     "data": {
      "text/plain": [
       "3337"
      ]
     },
     "execution_count": 5,
     "metadata": {},
     "output_type": "execute_result"
    }
   ],
   "source": [
    "#Tamaño de la lista de nombre de archivos encontrados\n",
    "len(files)"
   ]
  },
  {
   "cell_type": "code",
   "execution_count": 6,
   "metadata": {},
   "outputs": [],
   "source": [
    "#Realizando ciclo for para encontrar el másximo sin saturar memoria RAM\n",
    "\n",
    "T_max=0 #Aquí almacenaremos la temperatura máxima\n",
    "\n",
    "for i in files:\n",
    "    \n",
    "    temp=np.load(\"C:\\\\Users\\\\LapTop\\\\Desktop\\\\TERMOGRAFIA\\\\TT2\\\\BaseDeDatosFrontales_FINAL\\\\train\\\\\"+i)\n",
    "    T_temp=np.max(temp)\n",
    "    \n",
    "    if T_temp > T_max:\n",
    "        T_max=T_temp"
   ]
  },
  {
   "cell_type": "code",
   "execution_count": 7,
   "metadata": {},
   "outputs": [
    {
     "data": {
      "text/plain": [
       "37.0"
      ]
     },
     "execution_count": 7,
     "metadata": {},
     "output_type": "execute_result"
    }
   ],
   "source": [
    "#Imprimiendo T_max\n",
    "T_max"
   ]
  },
  {
   "cell_type": "markdown",
   "metadata": {},
   "source": [
    "Ahora buscamos la temperatura mímina.\n",
    "Aquí existen dos temperaturas mínimas de interés, la temperatura mínima de la imagen y la temperatura mínima del cuerpo. Por el momento encontraremos la temperatura mínima de la imagen. La temperatura mínima del cuerpo la hallaremos en un análisis posterior (que no se describe en esta libreta) con el fin de segmentar al cuerpo con respecto al fondo."
   ]
  },
  {
   "cell_type": "code",
   "execution_count": 8,
   "metadata": {},
   "outputs": [],
   "source": [
    "#Realizando ciclo for para encontrar el mínimo sin saturar memoria RAM\n",
    "\n",
    "T_min=T_max #Aquí almacenaremos la temperatura mínima, se inicializa con T_max para empezar con el valor más alto posible\n",
    "\n",
    "for i in files:\n",
    "    \n",
    "    temp=np.load(\"C:\\\\Users\\\\LapTop\\\\Desktop\\\\TERMOGRAFIA\\\\TT2\\\\BaseDeDatosFrontales_FINAL\\\\train\\\\\"+i)\n",
    "    T_temp=np.min(temp)\n",
    "    \n",
    "    if T_temp < T_min:\n",
    "        T_min=T_temp"
   ]
  },
  {
   "cell_type": "code",
   "execution_count": 9,
   "metadata": {},
   "outputs": [
    {
     "data": {
      "text/plain": [
       "18.65"
      ]
     },
     "execution_count": 9,
     "metadata": {},
     "output_type": "execute_result"
    }
   ],
   "source": [
    "#Imprimiendo T_min\n",
    "T_min"
   ]
  },
  {
   "cell_type": "markdown",
   "metadata": {},
   "source": [
    "Ahora vamos a establecer un margen de error. \n",
    "Estableceremos 2 grados como una medida razonable para evitar problemas con el conjunto de validación y así abarcar la mayor cantidad temperaturas posibles en el análisis."
   ]
  },
  {
   "cell_type": "code",
   "execution_count": 10,
   "metadata": {},
   "outputs": [
    {
     "data": {
      "text/plain": [
       "39.0"
      ]
     },
     "execution_count": 10,
     "metadata": {},
     "output_type": "execute_result"
    }
   ],
   "source": [
    "T_max=T_max+2\n",
    "T_max"
   ]
  },
  {
   "cell_type": "code",
   "execution_count": 11,
   "metadata": {},
   "outputs": [
    {
     "data": {
      "text/plain": [
       "16.65"
      ]
     },
     "execution_count": 11,
     "metadata": {},
     "output_type": "execute_result"
    }
   ],
   "source": [
    "T_min=T_min-2\n",
    "T_min"
   ]
  },
  {
   "cell_type": "markdown",
   "metadata": {},
   "source": [
    "## Encontrando parámetros para la transformación lineal de los datos de termperatura a intensidad de píxel."
   ]
  },
  {
   "cell_type": "markdown",
   "metadata": {},
   "source": [
    "Ajustamos un modelo lineal mediante regresión utilizando la paquetería sciki leran. Los puntos serán (T_min, 0) y (T_max, 255)"
   ]
  },
  {
   "cell_type": "code",
   "execution_count": 129,
   "metadata": {},
   "outputs": [],
   "source": [
    "temperaturas=np.array([[T_min],[T_max]])\n",
    "pixels=np.array([[0],[255]])"
   ]
  },
  {
   "cell_type": "code",
   "execution_count": 130,
   "metadata": {},
   "outputs": [],
   "source": [
    "reg=LinearRegression().fit(temperaturas,pixels)"
   ]
  },
  {
   "cell_type": "code",
   "execution_count": 132,
   "metadata": {},
   "outputs": [
    {
     "data": {
      "text/plain": [
       "11.409395973154359"
      ]
     },
     "execution_count": 132,
     "metadata": {},
     "output_type": "execute_result"
    }
   ],
   "source": [
    "#Valor de la pendiente de la recta\n",
    "reg.coef_[0][0]"
   ]
  },
  {
   "cell_type": "code",
   "execution_count": 135,
   "metadata": {},
   "outputs": [
    {
     "data": {
      "text/plain": [
       "-189.96644295302002"
      ]
     },
     "execution_count": 135,
     "metadata": {},
     "output_type": "execute_result"
    }
   ],
   "source": [
    "#Valor del interceptor, es b en una recta de la forma y = m*x + b.\n",
    "reg.intercept_[0]"
   ]
  },
  {
   "cell_type": "code",
   "execution_count": 137,
   "metadata": {},
   "outputs": [
    {
     "name": "stdout",
     "output_type": "stream",
     "text": [
      "El valor debería ser 255: 255.0\n",
      "El valor debería ser 0: 2.842170943040401e-14\n"
     ]
    }
   ],
   "source": [
    "#Hagamos una sencilla comprobación\n",
    "print(\"El valor debería ser 255: \"+str(T_max*reg.coef_[0][0] + reg.intercept_[0]))\n",
    "print(\"El valor debería ser 0: \"+str(T_min*reg.coef_[0][0] + reg.intercept_[0]))"
   ]
  },
  {
   "cell_type": "markdown",
   "metadata": {},
   "source": [
    "Como observamos, aunque no exactos, los valores son muy cercanos, esto se debe a la capacidad de memoria de la computadora para almacenar valor tan pequeños. Pero está bien para nuestro objetivo."
   ]
  },
  {
   "cell_type": "markdown",
   "metadata": {},
   "source": [
    "Ahora vamos a graficar nuestros puntos y la línea recta que representa nuestro modelo de tranformación lineal."
   ]
  },
  {
   "cell_type": "code",
   "execution_count": 222,
   "metadata": {},
   "outputs": [
    {
     "data": {
      "image/png": "[encoded data removed]",
      "text/plain": [
       "<Figure size 432x288 with 1 Axes>"
      ]
     },
     "metadata": {
      "needs_background": "light"
     },
     "output_type": "display_data"
    }
   ],
   "source": [
    "#Graficamos una recta\n",
    "\n",
    "#Creando vector de entrada\n",
    "X=np.linspace(10,45,30)\n",
    "\n",
    "#Creando salidas a graficar\n",
    "Y=X*(reg.coef_)[0][0] + reg.intercept_[0]\n",
    "\n",
    "plt.plot(X,Y)\n",
    "plt.grid()\n",
    "plt.title(\"Temperaturas y su valor en una imagen de 8 bits\")\n",
    "plt.xlabel('Temperaturas')\n",
    "plt.ylabel('Valor del pixel')\n",
    "plt.scatter(temperaturas, pixels, s=300)\n",
    "bbox = dict(boxstyle=\"round\", fc=\"0.8\")\n",
    "plt.annotate(\"Temperatura mínima: \"+str(T_min)+\"°C\", (T_min+1, 0),bbox=bbox)\n",
    "plt.annotate(\"Temperatura máxima: \"+str(T_max)+\"°C\", (T_max+1, 255),bbox=bbox)\n",
    "\n",
    "#Graficamos los puntos generados individualmente cada multiplo de 3 iteraciones\n",
    "for i in range(X.shape[0]):\n",
    "    if i%3==0:\n",
    "        plt.scatter(X[i],Y[i])\n",
    "\n",
    "plt.savefig(\"TL_model\", foramt=\"png\")\n",
    "plt.show()"
   ]
  },
  {
   "cell_type": "markdown",
   "metadata": {},
   "source": [
    "## Creando imágenes de 256 bits"
   ]
  },
  {
   "cell_type": "markdown",
   "metadata": {},
   "source": [
    "Para facilitar los análisis posteriores creamos nuevas imágenes de 256 bits."
   ]
  },
  {
   "cell_type": "code",
   "execution_count": 165,
   "metadata": {},
   "outputs": [],
   "source": [
    "#Creando carpeta BaseDeDatosFrontales_FINAL_256_bits\n",
    "os.mkdir('BaseDeDatosFrontales_FINAL_256_bits')"
   ]
  },
  {
   "cell_type": "code",
   "execution_count": 166,
   "metadata": {},
   "outputs": [],
   "source": [
    "#Creando subcarpeta train en BaseDeDatosFrontales_FINAL_256_bits\n",
    "os.mkdir('BaseDeDatosFrontales_FINAL_256_bits\\\\train')"
   ]
  },
  {
   "cell_type": "code",
   "execution_count": 168,
   "metadata": {},
   "outputs": [],
   "source": [
    "#Creando subcarpeta train en BaseDeDatosFrontales_FINAL_256_bits\n",
    "os.mkdir('BaseDeDatosFrontales_FINAL_256_bits\\\\test')"
   ]
  },
  {
   "cell_type": "markdown",
   "metadata": {},
   "source": [
    "Ahora leemos las imágenes originales, las convertimos a imágenes de 16 bits y las almacenamos en los nuevos directorios."
   ]
  },
  {
   "cell_type": "code",
   "execution_count": 169,
   "metadata": {},
   "outputs": [],
   "source": [
    "#Función para transformar linealmente una imagen\n",
    "def TL(x):\n",
    "    x=x*(reg.coef_)[0][0] + reg.intercept_[0]\n",
    "    return x"
   ]
  },
  {
   "cell_type": "code",
   "execution_count": 186,
   "metadata": {},
   "outputs": [],
   "source": [
    "#Función para asegurarnos que X contiene valores ENTEROS entre 0 y 255\n",
    "def cleaner(x):\n",
    "    x=np.around(x) #Redondeamos valores al entero más cercano\n",
    "    \n",
    "    for i in range(x.shape[0]):\n",
    "        for j in range(x.shape[1]):\n",
    "            if x[i,j] > 255:\n",
    "                x[i,j]=255\n",
    "            elif x[i,j] < 0:\n",
    "                x[i,j]=0\n",
    "    return x.astype(int)"
   ]
  },
  {
   "cell_type": "markdown",
   "metadata": {},
   "source": [
    "Notése que se retornan los valores como enteros, esto se realiza debido se desea disminuir el uso de la memoria en disco."
   ]
  },
  {
   "cell_type": "markdown",
   "metadata": {},
   "source": [
    "Ahora realizamos una prueba con una imagen aleatoria del conjunto de validación"
   ]
  },
  {
   "cell_type": "code",
   "execution_count": 194,
   "metadata": {},
   "outputs": [],
   "source": [
    "#Buscamos y almacenamos los nombres de los archivos en files_test\n",
    "files_test=os.listdir(\"C:\\\\Users\\\\LapTop\\\\Desktop\\\\TERMOGRAFIA\\\\TT2\\\\BaseDeDatosFrontales_FINAL\\\\test\")"
   ]
  },
  {
   "cell_type": "code",
   "execution_count": 195,
   "metadata": {},
   "outputs": [
    {
     "data": {
      "text/plain": [
       "832"
      ]
     },
     "execution_count": 195,
     "metadata": {},
     "output_type": "execute_result"
    }
   ],
   "source": [
    "len(files_test)"
   ]
  },
  {
   "cell_type": "code",
   "execution_count": 197,
   "metadata": {},
   "outputs": [],
   "source": [
    "#Prueba\n",
    "hola=np.load(\"C:\\\\Users\\\\LapTop\\\\Desktop\\\\TERMOGRAFIA\\\\TT2\\\\BaseDeDatosFrontales_FINAL\\\\test\\\\\"+files_test[100])"
   ]
  },
  {
   "cell_type": "code",
   "execution_count": 198,
   "metadata": {},
   "outputs": [
    {
     "data": {
      "text/plain": [
       "array([[27.61, 28.27, 28.06, ..., 27.87, 27.81, 27.47],\n",
       "       [28.3 , 28.39, 28.16, ..., 27.99, 27.98, 27.69],\n",
       "       [28.32, 28.38, 28.23, ..., 27.94, 27.82, 27.64],\n",
       "       ...,\n",
       "       [20.14, 20.23, 20.17, ..., 20.19, 20.45, 20.3 ],\n",
       "       [20.23, 20.2 , 20.14, ..., 20.59, 20.34, 20.17],\n",
       "       [20.38, 20.24, 20.08, ..., 20.45, 20.42, 20.28]])"
      ]
     },
     "execution_count": 198,
     "metadata": {},
     "output_type": "execute_result"
    }
   ],
   "source": [
    "hola"
   ]
  },
  {
   "cell_type": "code",
   "execution_count": 199,
   "metadata": {},
   "outputs": [
    {
     "data": {
      "text/plain": [
       "array([[125.04697987, 132.57718121, 130.18120805, ..., 128.01342282,\n",
       "        127.32885906, 123.44966443],\n",
       "       [132.91946309, 133.94630872, 131.32214765, ..., 129.38255034,\n",
       "        129.26845638, 125.95973154],\n",
       "       [133.14765101, 133.83221477, 132.12080537, ..., 128.81208054,\n",
       "        127.44295302, 125.38926174],\n",
       "       ...,\n",
       "       [ 39.81879195,  40.84563758,  40.16107383, ...,  40.38926174,\n",
       "         43.3557047 ,  41.6442953 ],\n",
       "       [ 40.84563758,  40.5033557 ,  39.81879195, ...,  44.95302013,\n",
       "         42.10067114,  40.16107383],\n",
       "       [ 42.55704698,  40.95973154,  39.13422819, ...,  43.3557047 ,\n",
       "         43.01342282,  41.41610738]])"
      ]
     },
     "execution_count": 199,
     "metadata": {},
     "output_type": "execute_result"
    }
   ],
   "source": [
    "TL(hola)"
   ]
  },
  {
   "cell_type": "code",
   "execution_count": 200,
   "metadata": {},
   "outputs": [
    {
     "data": {
      "text/plain": [
       "209.24832214765104"
      ]
     },
     "execution_count": 200,
     "metadata": {},
     "output_type": "execute_result"
    }
   ],
   "source": [
    "np.max(TL(hola))"
   ]
  },
  {
   "cell_type": "code",
   "execution_count": 203,
   "metadata": {},
   "outputs": [
    {
     "data": {
      "text/plain": [
       "36.852348993288615"
      ]
     },
     "execution_count": 203,
     "metadata": {},
     "output_type": "execute_result"
    }
   ],
   "source": [
    "np.min(TL(hola))"
   ]
  },
  {
   "cell_type": "code",
   "execution_count": 201,
   "metadata": {},
   "outputs": [
    {
     "data": {
      "text/plain": [
       "array([[125, 133, 130, ..., 128, 127, 123],\n",
       "       [133, 134, 131, ..., 129, 129, 126],\n",
       "       [133, 134, 132, ..., 129, 127, 125],\n",
       "       ...,\n",
       "       [ 40,  41,  40, ...,  40,  43,  42],\n",
       "       [ 41,  41,  40, ...,  45,  42,  40],\n",
       "       [ 43,  41,  39, ...,  43,  43,  41]])"
      ]
     },
     "execution_count": 201,
     "metadata": {},
     "output_type": "execute_result"
    }
   ],
   "source": [
    "cleaner(TL(hola))"
   ]
  },
  {
   "cell_type": "code",
   "execution_count": 202,
   "metadata": {},
   "outputs": [
    {
     "data": {
      "text/plain": [
       "209"
      ]
     },
     "execution_count": 202,
     "metadata": {},
     "output_type": "execute_result"
    }
   ],
   "source": [
    "np.max(cleaner(TL(hola)))"
   ]
  },
  {
   "cell_type": "code",
   "execution_count": 204,
   "metadata": {},
   "outputs": [
    {
     "data": {
      "text/plain": [
       "37"
      ]
     },
     "execution_count": 204,
     "metadata": {},
     "output_type": "execute_result"
    }
   ],
   "source": [
    "np.min(cleaner(TL(hola)))"
   ]
  },
  {
   "cell_type": "markdown",
   "metadata": {},
   "source": [
    "Vamos a poner a prueba aún más a las funciones, vamos a asignar dos valores extremos en posiciones cualesquiera. Los valores extremos serán -5 grados y 45 grados."
   ]
  },
  {
   "cell_type": "code",
   "execution_count": null,
   "metadata": {},
   "outputs": [],
   "source": [
    "#Leemos el mismo archivo en test"
   ]
  },
  {
   "cell_type": "code",
   "execution_count": 209,
   "metadata": {},
   "outputs": [],
   "source": [
    "hola=np.load(\"C:\\\\Users\\\\LapTop\\\\Desktop\\\\TERMOGRAFIA\\\\TT2\\\\BaseDeDatosFrontales_FINAL\\\\test\\\\\"+files_test[100])"
   ]
  },
  {
   "cell_type": "code",
   "execution_count": 210,
   "metadata": {},
   "outputs": [
    {
     "data": {
      "text/plain": [
       "array([[27.61, 28.27, 28.06, ..., 27.87, 27.81, 27.47],\n",
       "       [28.3 , 28.39, 28.16, ..., 27.99, 27.98, 27.69],\n",
       "       [28.32, 28.38, 28.23, ..., 27.94, 27.82, 27.64],\n",
       "       ...,\n",
       "       [20.14, 20.23, 20.17, ..., 20.19, 20.45, 20.3 ],\n",
       "       [20.23, 20.2 , 20.14, ..., 20.59, 20.34, 20.17],\n",
       "       [20.38, 20.24, 20.08, ..., 20.45, 20.42, 20.28]])"
      ]
     },
     "execution_count": 210,
     "metadata": {},
     "output_type": "execute_result"
    }
   ],
   "source": [
    "hola"
   ]
  },
  {
   "cell_type": "code",
   "execution_count": 213,
   "metadata": {},
   "outputs": [],
   "source": [
    "#Modificamos dos valores cualesquiera\n",
    "hola[0,1]=-10\n",
    "hola[hola.shape[0]-1,hola.shape[1]-1]=45"
   ]
  },
  {
   "cell_type": "code",
   "execution_count": 214,
   "metadata": {},
   "outputs": [
    {
     "data": {
      "text/plain": [
       "array([[ 27.61, -10.  ,  28.06, ...,  27.87,  27.81,  27.47],\n",
       "       [ 28.3 ,  28.39,  28.16, ...,  27.99,  27.98,  27.69],\n",
       "       [ 28.32,  28.38,  28.23, ...,  27.94,  27.82,  27.64],\n",
       "       ...,\n",
       "       [ 20.14,  20.23,  20.17, ...,  20.19,  20.45,  20.3 ],\n",
       "       [ 20.23,  20.2 ,  20.14, ...,  20.59,  20.34,  20.17],\n",
       "       [ 20.38,  20.24,  20.08, ...,  20.45,  20.42,  45.  ]])"
      ]
     },
     "execution_count": 214,
     "metadata": {},
     "output_type": "execute_result"
    }
   ],
   "source": [
    "hola"
   ]
  },
  {
   "cell_type": "code",
   "execution_count": 215,
   "metadata": {},
   "outputs": [
    {
     "data": {
      "text/plain": [
       "array([[ 125.04697987, -304.06040268,  130.18120805, ...,  128.01342282,\n",
       "         127.32885906,  123.44966443],\n",
       "       [ 132.91946309,  133.94630872,  131.32214765, ...,  129.38255034,\n",
       "         129.26845638,  125.95973154],\n",
       "       [ 133.14765101,  133.83221477,  132.12080537, ...,  128.81208054,\n",
       "         127.44295302,  125.38926174],\n",
       "       ...,\n",
       "       [  39.81879195,   40.84563758,   40.16107383, ...,   40.38926174,\n",
       "          43.3557047 ,   41.6442953 ],\n",
       "       [  40.84563758,   40.5033557 ,   39.81879195, ...,   44.95302013,\n",
       "          42.10067114,   40.16107383],\n",
       "       [  42.55704698,   40.95973154,   39.13422819, ...,   43.3557047 ,\n",
       "          43.01342282,  323.45637584]])"
      ]
     },
     "execution_count": 215,
     "metadata": {},
     "output_type": "execute_result"
    }
   ],
   "source": [
    "TL(hola)"
   ]
  },
  {
   "cell_type": "code",
   "execution_count": 216,
   "metadata": {},
   "outputs": [
    {
     "data": {
      "text/plain": [
       "array([[125,   0, 130, ..., 128, 127, 123],\n",
       "       [133, 134, 131, ..., 129, 129, 126],\n",
       "       [133, 134, 132, ..., 129, 127, 125],\n",
       "       ...,\n",
       "       [ 40,  41,  40, ...,  40,  43,  42],\n",
       "       [ 41,  41,  40, ...,  45,  42,  40],\n",
       "       [ 43,  41,  39, ...,  43,  43, 255]])"
      ]
     },
     "execution_count": 216,
     "metadata": {},
     "output_type": "execute_result"
    }
   ],
   "source": [
    "cleaner(TL(hola))"
   ]
  },
  {
   "cell_type": "markdown",
   "metadata": {},
   "source": [
    "Como se puede observar las funciones trabajan como lo esperado.\n",
    "Ahora buscamos las imágenes en el directorio original, las transformamos, las limpiamos y las almacenamos en un nuevo directorio."
   ]
  },
  {
   "cell_type": "code",
   "execution_count": 217,
   "metadata": {},
   "outputs": [],
   "source": [
    "#Primero las imágenes de entrenamiento\n",
    "for i in files:\n",
    "    \n",
    "    temp=np.load(\"C:\\\\Users\\\\LapTop\\\\Desktop\\\\TERMOGRAFIA\\\\TT2\\\\BaseDeDatosFrontales_FINAL\\\\train\\\\\"+i)\n",
    "    temp=cleaner(TL(temp))\n",
    "    np.save(\"C:\\\\Users\\\\LapTop\\\\Desktop\\\\TERMOGRAFIA\\\\TT2\\\\BaseDeDatosFrontales_FINAL_256_bits\\\\train\\\\\"+i,temp)\n",
    "    "
   ]
  },
  {
   "cell_type": "code",
   "execution_count": 223,
   "metadata": {},
   "outputs": [],
   "source": [
    "#Almacenando las imágenes de validación\n",
    "for i in files_test:\n",
    "    \n",
    "    temp=np.load(\"C:\\\\Users\\\\LapTop\\\\Desktop\\\\TERMOGRAFIA\\\\TT2\\\\BaseDeDatosFrontales_FINAL\\\\test\\\\\"+i)\n",
    "    temp=cleaner(TL(temp))\n",
    "    np.save(\"C:\\\\Users\\\\LapTop\\\\Desktop\\\\TERMOGRAFIA\\\\TT2\\\\BaseDeDatosFrontales_FINAL_256_bits\\\\test\\\\\"+i,temp)\n",
    "    "
   ]
  },
  {
   "cell_type": "markdown",
   "metadata": {},
   "source": [
    "Finalmente almacenamos el valor de los parámetros necesarios para la transformación lineal para su posterior uso."
   ]
  },
  {
   "cell_type": "code",
   "execution_count": 224,
   "metadata": {},
   "outputs": [
    {
     "name": "stdout",
     "output_type": "stream",
     "text": [
      "[  11.40939597 -189.96644295]\n"
     ]
    }
   ],
   "source": [
    "TL_parameters=np.array([reg.coef_[0][0],reg.intercept_[0]])\n",
    "print(TL_parameters)"
   ]
  },
  {
   "cell_type": "code",
   "execution_count": 227,
   "metadata": {},
   "outputs": [],
   "source": [
    "#Guerdando arreglo en archivo nativo npy\n",
    "np.save(\"TL_parameters.npy\",TL_parameters)"
   ]
  },
  {
   "cell_type": "code",
   "execution_count": 230,
   "metadata": {},
   "outputs": [
    {
     "name": "stdout",
     "output_type": "stream",
     "text": [
      "[  11.40939597 -189.96644295]\n"
     ]
    }
   ],
   "source": [
    "#Prueba de acceso\n",
    "prueba=np.load(\"TL_parameters.npy\")\n",
    "print(prueba)"
   ]
  },
  {
   "cell_type": "code",
   "execution_count": null,
   "metadata": {},
   "outputs": [],
   "source": []
  }
 ],
 "metadata": {
  "kernelspec": {
   "display_name": "Python 3",
   "language": "python",
   "name": "python3"
  },
  "language_info": {
   "codemirror_mode": {
    "name": "ipython",
    "version": 3
   },
   "file_extension": ".py",
   "mimetype": "text/x-python",
   "name": "python",
   "nbconvert_exporter": "python",
   "pygments_lexer": "ipython3",
   "version": "3.8.3"
  }
 },
 "nbformat": 4,
 "nbformat_minor": 4
}
