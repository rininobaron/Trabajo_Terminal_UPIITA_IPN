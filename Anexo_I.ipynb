{
 "cells": [
  {
   "cell_type": "markdown",
   "metadata": {
    "id": "T8FfZRwu2TTD"
   },
   "source": [
    "Anexo I"
   ]
  },
  {
   "cell_type": "markdown",
   "metadata": {
    "id": "rkhzRBKo2TTJ"
   },
   "source": [
    "# Y's *finales* y arreglos con posiciones aleatorias *pos_train*, *pos_test*\n",
    "\n",
    "#### Elaborado por: Ricardo Niño de Rivera Barrón\n",
    "\n",
    "#### Ingeniería Biónica\n",
    "\n",
    "#### Trabajo Terminal II"
   ]
  },
  {
   "cell_type": "markdown",
   "metadata": {
    "id": "mMoFLAFv2TTL"
   },
   "source": [
    "\n",
    "En esta libreta interactiva en python 3.8 se describe el proceso de construcción de las matrices finales Y_train2, Y_test2. Además se crean los archivos con las posiciones aleatorias para que sean utilizadas posteriormente.\n",
    "\n",
    "Esta libreta se desarrolló en la plaforma Google Colab con el objetiivo de mejorar la velocidad de implementación."
   ]
  },
  {
   "cell_type": "code",
   "execution_count": 1,
   "metadata": {
    "id": "2EyUmknC2TTN"
   },
   "outputs": [],
   "source": [
    "# Importando bibliotecas necesarias\n",
    "import os\n",
    "import numpy as np\n",
    "import pandas as pd\n",
    "from tqdm import tqdm"
   ]
  },
  {
   "cell_type": "markdown",
   "metadata": {
    "id": "wUnrk5aV4L64"
   },
   "source": [
    "Instalando biblioteca para leer archivos de Google Drive"
   ]
  },
  {
   "cell_type": "code",
   "execution_count": 2,
   "metadata": {
    "colab": {
     "base_uri": "https://localhost:8080/",
     "height": 0
    },
    "id": "0kyIRXKe4J49",
    "outputId": "973ff6b9-f740-41ba-e9fe-31ee66c37a9e"
   },
   "outputs": [
    {
     "name": "stdout",
     "output_type": "stream",
     "text": [
      "Requirement already satisfied: PyDrive in /usr/local/lib/python3.6/dist-packages (1.3.1)\n",
      "Requirement already satisfied: PyYAML>=3.0 in /usr/local/lib/python3.6/dist-packages (from PyDrive) (3.13)\n",
      "Requirement already satisfied: oauth2client>=4.0.0 in /usr/local/lib/python3.6/dist-packages (from PyDrive) (4.1.3)\n",
      "Requirement already satisfied: google-api-python-client>=1.2 in /usr/local/lib/python3.6/dist-packages (from PyDrive) (1.7.12)\n",
      "Requirement already satisfied: rsa>=3.1.4 in /usr/local/lib/python3.6/dist-packages (from oauth2client>=4.0.0->PyDrive) (4.6)\n",
      "Requirement already satisfied: pyasn1-modules>=0.0.5 in /usr/local/lib/python3.6/dist-packages (from oauth2client>=4.0.0->PyDrive) (0.2.8)\n",
      "Requirement already satisfied: pyasn1>=0.1.7 in /usr/local/lib/python3.6/dist-packages (from oauth2client>=4.0.0->PyDrive) (0.4.8)\n",
      "Requirement already satisfied: httplib2>=0.9.1 in /usr/local/lib/python3.6/dist-packages (from oauth2client>=4.0.0->PyDrive) (0.17.4)\n",
      "Requirement already satisfied: six>=1.6.1 in /usr/local/lib/python3.6/dist-packages (from oauth2client>=4.0.0->PyDrive) (1.15.0)\n",
      "Requirement already satisfied: google-auth>=1.4.1 in /usr/local/lib/python3.6/dist-packages (from google-api-python-client>=1.2->PyDrive) (1.17.2)\n",
      "Requirement already satisfied: google-auth-httplib2>=0.0.3 in /usr/local/lib/python3.6/dist-packages (from google-api-python-client>=1.2->PyDrive) (0.0.4)\n",
      "Requirement already satisfied: uritemplate<4dev,>=3.0.0 in /usr/local/lib/python3.6/dist-packages (from google-api-python-client>=1.2->PyDrive) (3.0.1)\n",
      "Requirement already satisfied: cachetools<5.0,>=2.0.0 in /usr/local/lib/python3.6/dist-packages (from google-auth>=1.4.1->google-api-python-client>=1.2->PyDrive) (4.1.1)\n",
      "Requirement already satisfied: setuptools>=40.3.0 in /usr/local/lib/python3.6/dist-packages (from google-auth>=1.4.1->google-api-python-client>=1.2->PyDrive) (50.3.2)\n"
     ]
    }
   ],
   "source": [
    "!pip install PyDrive"
   ]
  },
  {
   "cell_type": "code",
   "execution_count": 3,
   "metadata": {
    "id": "OtSBfQFl4hF1"
   },
   "outputs": [],
   "source": [
    "# Importamos los métodos necesarios de la biblioteca instalada\n",
    "from pydrive.auth import GoogleAuth\n",
    "from pydrive.drive import GoogleDrive\n",
    "from google.colab import auth\n",
    "from oauth2client.client import GoogleCredentials"
   ]
  },
  {
   "cell_type": "code",
   "execution_count": 4,
   "metadata": {
    "id": "bbiN7zAw5KOd"
   },
   "outputs": [],
   "source": [
    "# Autenticamos el acceso a la cuenta Google Drive\n",
    "auth.authenticate_user()\n",
    "gauth = GoogleAuth()\n",
    "gauth.credentials = GoogleCredentials.get_application_default()\n",
    "drive = GoogleDrive(gauth)"
   ]
  },
  {
   "cell_type": "code",
   "execution_count": 5,
   "metadata": {
    "id": "tvoJiW0c59DH"
   },
   "outputs": [],
   "source": [
    "# Accedemos al archivo de interés (Biblioteca propuesta \"caracterizador\")\n",
    "downloaded = drive.CreateFile({'id':\"1u9KZQ3bc8CVSJdJDxewF8tVyCNXYIetk\"})   # instanciamos con el ID del documento al que se desea acceder en Google Drive\n",
    "downloaded.GetContentFile('caracterizador.py')        # descargamos el archivo en el entorno virtual de Google Colab"
   ]
  },
  {
   "cell_type": "code",
   "execution_count": 6,
   "metadata": {
    "id": "LSa0yzJf2TTc"
   },
   "outputs": [],
   "source": [
    "# Importamos la librería propuesta\n",
    "import caracterizador"
   ]
  },
  {
   "cell_type": "markdown",
   "metadata": {
    "id": "ivFL7Xah7FE_"
   },
   "source": [
    "Ahora instalamos una nueva biblioteca para poder descargar archivos de MEGA."
   ]
  },
  {
   "cell_type": "code",
   "execution_count": 7,
   "metadata": {
    "colab": {
     "base_uri": "https://localhost:8080/",
     "height": 0
    },
    "id": "ysV303NU-9uE",
    "outputId": "5b72c08b-2bcf-4a27-eaf1-36a13e74df2e"
   },
   "outputs": [
    {
     "name": "stdout",
     "output_type": "stream",
     "text": [
      "Collecting mega.py\n",
      "  Downloading https://files.pythonhosted.org/packages/a3/51/44a1085a091c27ade09e122d5abdafb4b6400265081879a7c4e32973a175/mega.py-1.0.8-py2.py3-none-any.whl\n",
      "Requirement already satisfied: requests>=0.10 in /usr/local/lib/python3.6/dist-packages (from mega.py) (2.23.0)\n",
      "Requirement already satisfied: pathlib==1.0.1 in /usr/local/lib/python3.6/dist-packages (from mega.py) (1.0.1)\n",
      "Collecting pycryptodome<4.0.0,>=3.9.6\n",
      "\u001b[?25l  Downloading https://files.pythonhosted.org/packages/2b/6f/7e38d7c97fbbc3987539c804282c33f56b6b07381bf2390deead696440c5/pycryptodome-3.9.9-cp36-cp36m-manylinux1_x86_64.whl (13.7MB)\n",
      "\u001b[K     |████████████████████████████████| 13.7MB 250kB/s \n",
      "\u001b[?25hCollecting tenacity<6.0.0,>=5.1.5\n",
      "  Downloading https://files.pythonhosted.org/packages/45/67/67bb1db087678bc5c6f20766cf18914dfe37b0b9d4e4c5bb87408460b75f/tenacity-5.1.5-py2.py3-none-any.whl\n",
      "Requirement already satisfied: certifi>=2017.4.17 in /usr/local/lib/python3.6/dist-packages (from requests>=0.10->mega.py) (2020.6.20)\n",
      "Requirement already satisfied: urllib3!=1.25.0,!=1.25.1,<1.26,>=1.21.1 in /usr/local/lib/python3.6/dist-packages (from requests>=0.10->mega.py) (1.24.3)\n",
      "Requirement already satisfied: chardet<4,>=3.0.2 in /usr/local/lib/python3.6/dist-packages (from requests>=0.10->mega.py) (3.0.4)\n",
      "Requirement already satisfied: idna<3,>=2.5 in /usr/local/lib/python3.6/dist-packages (from requests>=0.10->mega.py) (2.10)\n",
      "Requirement already satisfied: six>=1.9.0 in /usr/local/lib/python3.6/dist-packages (from tenacity<6.0.0,>=5.1.5->mega.py) (1.15.0)\n",
      "Installing collected packages: pycryptodome, tenacity, mega.py\n",
      "Successfully installed mega.py-1.0.8 pycryptodome-3.9.9 tenacity-5.1.5\n"
     ]
    }
   ],
   "source": [
    "# Instalanado mega.py\n",
    "!pip install mega.py"
   ]
  },
  {
   "cell_type": "code",
   "execution_count": 8,
   "metadata": {
    "id": "6-1TCtDp_X6H"
   },
   "outputs": [],
   "source": [
    "# De la biblioteca mega importamos el método Mega\n",
    "from mega import Mega"
   ]
  },
  {
   "cell_type": "code",
   "execution_count": 9,
   "metadata": {
    "id": "jT4WNYRY_YFF"
   },
   "outputs": [],
   "source": [
    "# Instanciando Mega en el objeto mega\n",
    "mega = Mega()"
   ]
  },
  {
   "cell_type": "markdown",
   "metadata": {
    "id": "TDntRniABEA_"
   },
   "source": [
    "Ahora necesitamos obtener un nuevo archivo de Google Drive con la información de acceso a la cuenta de MEGA donde tenemos los archivos de interés."
   ]
  },
  {
   "cell_type": "code",
   "execution_count": 10,
   "metadata": {
    "id": "fHaku9fa_YQn"
   },
   "outputs": [],
   "source": [
    "# Accedemos al archivo con los datos de acceso a la cuenta en MEGA\n",
    "downloaded = drive.CreateFile({'id':\"1qY56J5ziiRklMPOIfS16vJrLsjZ7Vqso\"})   # instanciamos con el ID del documento al que se desea acceder en Google Drive\n",
    "downloaded.GetContentFile('cuentaMEGA.csv')        # descargamos el archivo en el entorno virtual de Google Colab"
   ]
  },
  {
   "cell_type": "code",
   "execution_count": 11,
   "metadata": {
    "id": "TOTadsS1DagH"
   },
   "outputs": [],
   "source": [
    "# Leyendo el archivo con los datos de acceso\n",
    "cuenta=pd.read_csv('cuentaMEGA.csv')"
   ]
  },
  {
   "cell_type": "markdown",
   "metadata": {
    "id": "72JIXBNDE_DM"
   },
   "source": [
    "Inicamos sesión en la cuenta de MEGA"
   ]
  },
  {
   "cell_type": "code",
   "execution_count": 12,
   "metadata": {
    "id": "YGuSt-qNE71_"
   },
   "outputs": [],
   "source": [
    "email = cuenta.EMAIL.iloc[0]\n",
    "password = cuenta.PASSWORD.iloc[0]\n",
    "\n",
    "# Log in en la cuenta de MEGA con los datos de acceso\n",
    "m = mega.login(email, password)"
   ]
  },
  {
   "cell_type": "markdown",
   "metadata": {
    "id": "fPGjyRxnHDsi"
   },
   "source": [
    "Descargamos los archivos de interés Y_train y Y_test obtenidos del anexo anterior.\n",
    "\n",
    "\n"
   ]
  },
  {
   "cell_type": "code",
   "execution_count": 13,
   "metadata": {
    "colab": {
     "base_uri": "https://localhost:8080/",
     "height": 0
    },
    "id": "3p2Dpt7fE8IU",
    "outputId": "e78199b7-881e-422c-958f-445b5e9e9e34"
   },
   "outputs": [
    {
     "data": {
      "text/plain": [
       "PosixPath('Y_train.npy')"
      ]
     },
     "execution_count": 13,
     "metadata": {
      "tags": []
     },
     "output_type": "execute_result"
    }
   ],
   "source": [
    "# Descargando Y_train.npy\n",
    "file = m.find('/TT2_SegundaParte/Y_train.npy')\n",
    "m.download(file)"
   ]
  },
  {
   "cell_type": "code",
   "execution_count": 14,
   "metadata": {
    "colab": {
     "base_uri": "https://localhost:8080/",
     "height": 0
    },
    "id": "TkqCJuCnE8FB",
    "outputId": "76e04831-f173-4424-8fa9-d7006af85282"
   },
   "outputs": [
    {
     "data": {
      "text/plain": [
       "PosixPath('Y_test.npy')"
      ]
     },
     "execution_count": 14,
     "metadata": {
      "tags": []
     },
     "output_type": "execute_result"
    }
   ],
   "source": [
    "# Descargando Y_test.npy\n",
    "file = m.find('/TT2_SegundaParte/Y_test.npy')\n",
    "m.download(file)"
   ]
  },
  {
   "cell_type": "markdown",
   "metadata": {
    "id": "U4pMLW72V-W9"
   },
   "source": [
    "Ahora almacenamos estos archivos en las variables Y_train y Y_test"
   ]
  },
  {
   "cell_type": "code",
   "execution_count": 15,
   "metadata": {
    "id": "3SCEByHtWIRJ"
   },
   "outputs": [],
   "source": [
    "Y_train=np.load(\"Y_train.npy\")"
   ]
  },
  {
   "cell_type": "code",
   "execution_count": 16,
   "metadata": {
    "colab": {
     "base_uri": "https://localhost:8080/",
     "height": 0
    },
    "id": "OGFBXLnVWJHc",
    "outputId": "db664d0e-ad75-4c8f-d836-b59fc66fe22f"
   },
   "outputs": [
    {
     "data": {
      "text/plain": [
       "6674"
      ]
     },
     "execution_count": 16,
     "metadata": {
      "tags": []
     },
     "output_type": "execute_result"
    }
   ],
   "source": [
    "# Elementos totales en Y_train\n",
    "Y_train.shape[0]"
   ]
  },
  {
   "cell_type": "code",
   "execution_count": 17,
   "metadata": {
    "id": "x66u6dwZWJTx"
   },
   "outputs": [],
   "source": [
    "Y_test=np.load(\"Y_test.npy\")"
   ]
  },
  {
   "cell_type": "code",
   "execution_count": 18,
   "metadata": {
    "colab": {
     "base_uri": "https://localhost:8080/",
     "height": 0
    },
    "id": "g0v4OI2WWJmu",
    "outputId": "407fa5a6-85a8-4e9d-964e-be665048a1c3"
   },
   "outputs": [
    {
     "data": {
      "text/plain": [
       "1664"
      ]
     },
     "execution_count": 18,
     "metadata": {
      "tags": []
     },
     "output_type": "execute_result"
    }
   ],
   "source": [
    "# Elementos totales en Y_test\n",
    "Y_test.shape[0]"
   ]
  },
  {
   "cell_type": "markdown",
   "metadata": {
    "id": "lrrK_zlkW_Ww"
   },
   "source": [
    "Por un error de lógica del Anexo H, los arreglos tienen el doble de lo requerido. Pero es correcto el orden en que los valores fueron asignados en Y_train y Y_test.\n"
   ]
  },
  {
   "cell_type": "markdown",
   "metadata": {
    "id": "4oLp1f4KX4Gn"
   },
   "source": [
    "Por tanto vamos a reasignar las variables anteriores con el tamaño correcto.\n"
   ]
  },
  {
   "cell_type": "code",
   "execution_count": 22,
   "metadata": {
    "id": "843WeOvWXrer"
   },
   "outputs": [],
   "source": [
    "Y_train = Y_train[:3337]"
   ]
  },
  {
   "cell_type": "code",
   "execution_count": 23,
   "metadata": {
    "colab": {
     "base_uri": "https://localhost:8080/",
     "height": 0
    },
    "id": "gyRCTxooYeU3",
    "outputId": "e1479f55-9bf7-43cc-981d-024394a4220b"
   },
   "outputs": [
    {
     "data": {
      "text/plain": [
       "602.0"
      ]
     },
     "execution_count": 23,
     "metadata": {
      "tags": []
     },
     "output_type": "execute_result"
    }
   ],
   "source": [
    "# Una comprobación de imágenes positivas en el entrenamiento, el resultado debería ser  602\n",
    "np.sum(Y_train)"
   ]
  },
  {
   "cell_type": "code",
   "execution_count": 24,
   "metadata": {
    "colab": {
     "base_uri": "https://localhost:8080/",
     "height": 0
    },
    "id": "iH_LKC7qZVUB",
    "outputId": "95fe1185-56c3-45b3-f485-c99991d94b89"
   },
   "outputs": [
    {
     "data": {
      "text/plain": [
       "3337"
      ]
     },
     "execution_count": 24,
     "metadata": {
      "tags": []
     },
     "output_type": "execute_result"
    }
   ],
   "source": [
    "Y_train.shape[0]"
   ]
  },
  {
   "cell_type": "code",
   "execution_count": 25,
   "metadata": {
    "id": "Zk1IW3H7YQxX"
   },
   "outputs": [],
   "source": [
    "Y_test= Y_test[:832]"
   ]
  },
  {
   "cell_type": "code",
   "execution_count": 26,
   "metadata": {
    "colab": {
     "base_uri": "https://localhost:8080/",
     "height": 0
    },
    "id": "DaR5aOxgZde8",
    "outputId": "df68b5a3-48ca-43cc-ee53-60360d0e9e6e"
   },
   "outputs": [
    {
     "data": {
      "text/plain": [
       "231.0"
      ]
     },
     "execution_count": 26,
     "metadata": {
      "tags": []
     },
     "output_type": "execute_result"
    }
   ],
   "source": [
    "# Una comprobación de imágenes positivas en la validación, el resultado debería ser 231\n",
    "np.sum(Y_test)"
   ]
  },
  {
   "cell_type": "code",
   "execution_count": 27,
   "metadata": {
    "colab": {
     "base_uri": "https://localhost:8080/",
     "height": 0
    },
    "id": "tPAkwsfeaDv0",
    "outputId": "91dfb6c4-c017-48ea-ca1e-f8430598ea25"
   },
   "outputs": [
    {
     "data": {
      "text/plain": [
       "832"
      ]
     },
     "execution_count": 27,
     "metadata": {
      "tags": []
     },
     "output_type": "execute_result"
    }
   ],
   "source": [
    "Y_test.shape[0]"
   ]
  },
  {
   "cell_type": "markdown",
   "metadata": {
    "id": "qJtLfMbdVeyi"
   },
   "source": [
    "Los arreglos anteriores son la salida de las imágenes ordenadas de forma alfabética (por el nombre del arhivo). Por tanto podemos proponer un vector con los números enteros 0 a Y_train.shape[0]-1 (Y_test para la validación) y ordenados aleatoriamente para que sean la referencia de aparición de los arreglos finales en los entrenamiento posteriores.\n"
   ]
  },
  {
   "cell_type": "code",
   "execution_count": 59,
   "metadata": {
    "id": "ZFMbuW8LVfPm"
   },
   "outputs": [],
   "source": [
    "# Creamos un arreglo con las posiciones de Y_train\n",
    "pos_train=np.linspace(0,Y_train.shape[0]-1,Y_train.shape[0], dtype='int')"
   ]
  },
  {
   "cell_type": "code",
   "execution_count": 60,
   "metadata": {
    "colab": {
     "base_uri": "https://localhost:8080/",
     "height": 0
    },
    "id": "8X17fEJqVffc",
    "outputId": "0d53cfdb-a271-4a37-e203-9782d64bf325"
   },
   "outputs": [
    {
     "data": {
      "text/plain": [
       "array([   0,    1,    2, ..., 3334, 3335, 3336])"
      ]
     },
     "execution_count": 60,
     "metadata": {
      "tags": []
     },
     "output_type": "execute_result"
    }
   ],
   "source": [
    "pos_train"
   ]
  },
  {
   "cell_type": "code",
   "execution_count": 61,
   "metadata": {
    "colab": {
     "base_uri": "https://localhost:8080/",
     "height": 0
    },
    "id": "CuBOSjEufB1v",
    "outputId": "acd05ff8-98ed-463c-dac7-98a530db72b2"
   },
   "outputs": [
    {
     "data": {
      "text/plain": [
       "3337"
      ]
     },
     "execution_count": 61,
     "metadata": {
      "tags": []
     },
     "output_type": "execute_result"
    }
   ],
   "source": [
    "pos_train.shape[0]"
   ]
  },
  {
   "cell_type": "code",
   "execution_count": 62,
   "metadata": {
    "id": "5SZCnMAEcBL7"
   },
   "outputs": [],
   "source": [
    "# Creamos un arreglo con las posiciones de Y_train\n",
    "pos_test=np.linspace(0,Y_test.shape[0]-1,Y_test.shape[0], dtype='int')"
   ]
  },
  {
   "cell_type": "code",
   "execution_count": 63,
   "metadata": {
    "colab": {
     "base_uri": "https://localhost:8080/",
     "height": 0
    },
    "id": "_SC0LO7zduxW",
    "outputId": "523adb76-7fff-4d29-e3b0-a1e3fd9733b9"
   },
   "outputs": [
    {
     "data": {
      "text/plain": [
       "120"
      ]
     },
     "execution_count": 63,
     "metadata": {
      "tags": []
     },
     "output_type": "execute_result"
    }
   ],
   "source": [
    "pos_test[120]"
   ]
  },
  {
   "cell_type": "code",
   "execution_count": 64,
   "metadata": {
    "colab": {
     "base_uri": "https://localhost:8080/",
     "height": 0
    },
    "id": "WIDDN1l8fVy8",
    "outputId": "5165095b-4d0e-44c1-fe02-4d8364c7fe86"
   },
   "outputs": [
    {
     "data": {
      "text/plain": [
       "832"
      ]
     },
     "execution_count": 64,
     "metadata": {
      "tags": []
     },
     "output_type": "execute_result"
    }
   ],
   "source": [
    "pos_test.shape[0]"
   ]
  },
  {
   "cell_type": "markdown",
   "metadata": {
    "id": "0Mj3l4aXiCD9"
   },
   "source": [
    "Ahora reordenamos los elementos de los arreglos de forma aleatoria."
   ]
  },
  {
   "cell_type": "code",
   "execution_count": 65,
   "metadata": {
    "id": "_o2z8DbojroB"
   },
   "outputs": [],
   "source": [
    "np.random.shuffle(pos_train)"
   ]
  },
  {
   "cell_type": "code",
   "execution_count": 66,
   "metadata": {
    "colab": {
     "base_uri": "https://localhost:8080/",
     "height": 0
    },
    "id": "8HYVvly_jsDl",
    "outputId": "981015a9-f79b-4e56-d4d1-324c8cfe6aa7"
   },
   "outputs": [
    {
     "data": {
      "text/plain": [
       "array([2730, 2454,  978, ..., 2295,  144,   54])"
      ]
     },
     "execution_count": 66,
     "metadata": {
      "tags": []
     },
     "output_type": "execute_result"
    }
   ],
   "source": [
    "pos_train"
   ]
  },
  {
   "cell_type": "code",
   "execution_count": 67,
   "metadata": {
    "id": "W4eNpOoAgoye"
   },
   "outputs": [],
   "source": [
    "np.random.shuffle(pos_test)"
   ]
  },
  {
   "cell_type": "code",
   "execution_count": 68,
   "metadata": {
    "colab": {
     "base_uri": "https://localhost:8080/",
     "height": 0
    },
    "id": "Rx0P_X37gpRv",
    "outputId": "73484a14-480e-4a67-b531-ba2b47e31702"
   },
   "outputs": [
    {
     "data": {
      "text/plain": [
       "672"
      ]
     },
     "execution_count": 68,
     "metadata": {
      "tags": []
     },
     "output_type": "execute_result"
    }
   ],
   "source": [
    "pos_test[120]"
   ]
  },
  {
   "cell_type": "markdown",
   "metadata": {
    "id": "My9JfyflkXFW"
   },
   "source": [
    "## Creando nuevas Y's"
   ]
  },
  {
   "cell_type": "code",
   "execution_count": 80,
   "metadata": {
    "id": "n2le3GoEkbMG"
   },
   "outputs": [],
   "source": [
    "Y_train2 = Y_train[pos_train]"
   ]
  },
  {
   "cell_type": "code",
   "execution_count": 81,
   "metadata": {
    "colab": {
     "base_uri": "https://localhost:8080/",
     "height": 0
    },
    "id": "eVnD9eG0lAUx",
    "outputId": "5c50e6b9-11c3-49d6-fe9a-36f85e92b88e"
   },
   "outputs": [
    {
     "name": "stdout",
     "output_type": "stream",
     "text": [
      "3337\n"
     ]
    }
   ],
   "source": [
    "# Comprobando que las asignaciones son correctas\n",
    "correct=0\n",
    "for i in range(Y_train2.shape[0]):\n",
    "  if Y_train[pos_train[i]]==Y_train2[i]:\n",
    "    correct+=1\n",
    "print(correct)"
   ]
  },
  {
   "cell_type": "code",
   "execution_count": 82,
   "metadata": {
    "id": "gwMDSYgbkln4"
   },
   "outputs": [],
   "source": [
    "Y_test2 = Y_test[pos_test]"
   ]
  },
  {
   "cell_type": "code",
   "execution_count": 83,
   "metadata": {
    "colab": {
     "base_uri": "https://localhost:8080/",
     "height": 0
    },
    "id": "KHH6L5KRuFmz",
    "outputId": "ddd3336d-28cf-410e-9a29-8fc0f665c53d"
   },
   "outputs": [
    {
     "name": "stdout",
     "output_type": "stream",
     "text": [
      "832\n"
     ]
    }
   ],
   "source": [
    "# Comprobando que las asignaciones son correctas\n",
    "correct=0\n",
    "for i in range(Y_test2.shape[0]):\n",
    "  if Y_test[pos_test[i]]==Y_test2[i]:\n",
    "    correct+=1\n",
    "print(correct)"
   ]
  },
  {
   "cell_type": "markdown",
   "metadata": {
    "id": "U6tsOidYkFQv"
   },
   "source": [
    "## Guardando variables"
   ]
  },
  {
   "cell_type": "code",
   "execution_count": 84,
   "metadata": {
    "id": "6Rg7xAy8kM5x"
   },
   "outputs": [],
   "source": [
    "# Las posiciones\n",
    "np.save(\"pos_train\", pos_train)\n",
    "np.save(\"pos_test\", pos_test)"
   ]
  },
  {
   "cell_type": "code",
   "execution_count": 85,
   "metadata": {
    "id": "rhmxCgS1kP2I"
   },
   "outputs": [],
   "source": [
    "# Las Y's finales\n",
    "np.save(\"Y_train2\", Y_train2)\n",
    "np.save(\"Y_test2\", Y_test2)"
   ]
  },
  {
   "cell_type": "code",
   "execution_count": null,
   "metadata": {
    "id": "UoMBlCSCkQXQ"
   },
   "outputs": [],
   "source": []
  }
 ],
 "metadata": {
  "colab": {
   "collapsed_sections": [],
   "name": "Anexo_I.ipynb",
   "provenance": [],
   "toc_visible": true
  },
  "kernelspec": {
   "display_name": "Python 3",
   "language": "python",
   "name": "python3"
  },
  "language_info": {
   "codemirror_mode": {
    "name": "ipython",
    "version": 3
   },
   "file_extension": ".py",
   "mimetype": "text/x-python",
   "name": "python",
   "nbconvert_exporter": "python",
   "pygments_lexer": "ipython3",
   "version": "3.8.3"
  }
 },
 "nbformat": 4,
 "nbformat_minor": 1
}
