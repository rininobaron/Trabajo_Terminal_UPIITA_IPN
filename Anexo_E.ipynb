{
 "cells": [
  {
   "cell_type": "markdown",
   "metadata": {},
   "source": [
    "#### Anexo E\n",
    "\n",
    "# Análisis de resultados de la Segmentación Automática"
   ]
  },
  {
   "cell_type": "markdown",
   "metadata": {},
   "source": [
    "#### Elaborado por: Ricardo Niño de Rivera Barrón\n",
    "\n",
    "#### Ingeniería Biónica\n",
    "\n",
    "#### Trabajo Terminal II"
   ]
  },
  {
   "cell_type": "markdown",
   "metadata": {},
   "source": [
    "En esta libreta interactiva en Python 3.8 se reporta el éxito del segmentador propuesto"
   ]
  },
  {
   "cell_type": "code",
   "execution_count": 4,
   "metadata": {},
   "outputs": [],
   "source": [
    "#Importando bibliotecas necesarias\n",
    "import numpy as np\n",
    "import pandas as pd\n",
    "import matplotlib.pyplot as plt\n",
    "import os"
   ]
  },
  {
   "cell_type": "markdown",
   "metadata": {},
   "source": [
    "### Ejemplos de Segmentación Correcta\n",
    "\n",
    "![Imagen correcta 1](BaseDeDatosFrontales_SEGMENTADOR\\train\\images\\T0222.1.1.D.2017-11-18.08_D.png)\n",
    "\n",
    "![Imagen correcta 2](BaseDeDatosFrontales_SEGMENTADOR\\train\\images\\T0006.1.1.D.2016-10-17.18_I.png)\n",
    "\n",
    "![Imagen correcta 3](BaseDeDatosFrontales_SEGMENTADOR\\train\\images\\T0034.1.1.D.2016-11-29.10_D.png)\n",
    "\n",
    "![Imagen correcta 4](BaseDeDatosFrontales_SEGMENTADOR\\train\\images\\T0049.1.1.D.2016-11-07.10_I.png)"
   ]
  },
  {
   "cell_type": "markdown",
   "metadata": {},
   "source": [
    "### Ejemplos de Segmentación Incorrecta\n",
    "\n",
    "![Imagen incorrecta 1](BaseDeDatosFrontales_SEGMENTADOR\\train\\images\\T0246.1.1.D.2018-08-22.04_I.png)\n",
    "\n",
    "![Imagen incorrecta 2](BaseDeDatosFrontales_SEGMENTADOR\\train\\images\\T0246.1.1.D.2018-08-22.08_I.png)\n",
    "\n",
    "![Imagen incorrecta 3](BaseDeDatosFrontales_SEGMENTADOR\\train\\images\\T0271.1.1.D.2019-01-27.00_D.png)\n",
    "\n",
    "![Imagen incorrecta 4](BaseDeDatosFrontales_SEGMENTADOR\\train\\images\\T0272.1.1.D.2019-03-13.01_D.png)"
   ]
  },
  {
   "cell_type": "markdown",
   "metadata": {},
   "source": [
    "## Imágenes de Entrenamiento"
   ]
  },
  {
   "cell_type": "markdown",
   "metadata": {},
   "source": [
    "Se analizan los resultados de la segmentación en imágenes de entrenamiento:\n",
    "\n",
    "1: Segmentación Correcta\n",
    "\n",
    "0: Segmentación Incorrecta"
   ]
  },
  {
   "cell_type": "code",
   "execution_count": 158,
   "metadata": {},
   "outputs": [
    {
     "data": {
      "text/html": [
       "<div>\n",
       "<style scoped>\n",
       "    .dataframe tbody tr th:only-of-type {\n",
       "        vertical-align: middle;\n",
       "    }\n",
       "\n",
       "    .dataframe tbody tr th {\n",
       "        vertical-align: top;\n",
       "    }\n",
       "\n",
       "    .dataframe thead th {\n",
       "        text-align: right;\n",
       "    }\n",
       "</style>\n",
       "<table border=\"1\" class=\"dataframe\">\n",
       "  <thead>\n",
       "    <tr style=\"text-align: right;\">\n",
       "      <th></th>\n",
       "      <th>Images</th>\n",
       "      <th>Output</th>\n",
       "    </tr>\n",
       "  </thead>\n",
       "  <tbody>\n",
       "    <tr>\n",
       "      <th>0</th>\n",
       "      <td>T0001.1.1.D.2016-10-08.00_D.png</td>\n",
       "      <td>1</td>\n",
       "    </tr>\n",
       "    <tr>\n",
       "      <th>1</th>\n",
       "      <td>T0001.1.1.D.2016-10-08.00_I.png</td>\n",
       "      <td>0</td>\n",
       "    </tr>\n",
       "    <tr>\n",
       "      <th>2</th>\n",
       "      <td>T0001.1.1.D.2016-10-08.01_D.png</td>\n",
       "      <td>0</td>\n",
       "    </tr>\n",
       "    <tr>\n",
       "      <th>3</th>\n",
       "      <td>T0001.1.1.D.2016-10-08.01_I.png</td>\n",
       "      <td>0</td>\n",
       "    </tr>\n",
       "    <tr>\n",
       "      <th>4</th>\n",
       "      <td>T0001.1.1.D.2016-10-08.02_D.png</td>\n",
       "      <td>0</td>\n",
       "    </tr>\n",
       "  </tbody>\n",
       "</table>\n",
       "</div>"
      ],
      "text/plain": [
       "                            Images  Output\n",
       "0  T0001.1.1.D.2016-10-08.00_D.png       1\n",
       "1  T0001.1.1.D.2016-10-08.00_I.png       0\n",
       "2  T0001.1.1.D.2016-10-08.01_D.png       0\n",
       "3  T0001.1.1.D.2016-10-08.01_I.png       0\n",
       "4  T0001.1.1.D.2016-10-08.02_D.png       0"
      ]
     },
     "execution_count": 158,
     "metadata": {},
     "output_type": "execute_result"
    }
   ],
   "source": [
    "#Leemos el csv con las calificaciones de las imágenes\n",
    "df_train=pd.read_csv(\"train_df_images.csv\")\n",
    "df_train.head()"
   ]
  },
  {
   "cell_type": "code",
   "execution_count": 163,
   "metadata": {},
   "outputs": [
    {
     "data": {
      "text/plain": [
       "0    4601\n",
       "1    2057\n",
       "Name: Output, dtype: int64"
      ]
     },
     "execution_count": 163,
     "metadata": {},
     "output_type": "execute_result"
    }
   ],
   "source": [
    "#Segmentaciones correctas\n",
    "df_train.Output.value_counts()"
   ]
  },
  {
   "cell_type": "code",
   "execution_count": 165,
   "metadata": {},
   "outputs": [
    {
     "data": {
      "text/plain": [
       "2057"
      ]
     },
     "execution_count": 165,
     "metadata": {},
     "output_type": "execute_result"
    }
   ],
   "source": [
    "df_train.loc[df_train[\"Output\"]==1].Output.count()"
   ]
  },
  {
   "cell_type": "markdown",
   "metadata": {},
   "source": [
    "Del Anexo D sabemos que las imágenes no segmentadas por el algoritmo propuesto fueron 8\n",
    "Por tanto 16 mamas no se segmentaron correctamente por errores propios del algoritmo propuesto."
   ]
  },
  {
   "cell_type": "code",
   "execution_count": 220,
   "metadata": {},
   "outputs": [
    {
     "name": "stdout",
     "output_type": "stream",
     "text": [
      "Proporción de mamas segmentadas correctamente 30.82%\n",
      "Proporción de mamas segmentadas incorrectamente 68.94%\n"
     ]
    }
   ],
   "source": [
    "#Obteniendo la proporción de éxtitos de mamas segmentadas en el conjunto de entrenamiento\n",
    "train_corrects=(df_train.loc[df_train[\"Output\"]==1].Output.count()/(df_train.Output.count()+16))*100\n",
    "train_incorrects=(df_train.loc[df_train[\"Output\"]==0].Output.count()/(df_train.Output.count()+16))*100\n",
    "print(\"Proporción de mamas segmentadas correctamente %.2f%%\" % train_corrects)\n",
    "print(\"Proporción de mamas segmentadas incorrectamente %.2f%%\" % train_incorrects)"
   ]
  },
  {
   "cell_type": "code",
   "execution_count": 191,
   "metadata": {},
   "outputs": [
    {
     "data": {
      "image/png": "[encoded data removed]",
      "text/plain": [
       "<Figure size 432x288 with 1 Axes>"
      ]
     },
     "metadata": {},
     "output_type": "display_data"
    }
   ],
   "source": [
    "# Ahora mostramos una gráfica de \"pastel\" de esto información\n",
    "labels = 'Correctas', 'No segmentadas', 'Incorrectas'\n",
    "sizes = [train_corrects, (16/(df_train.Output.count()+16))*100, train_incorrects]\n",
    "explode = (0.1, 0, 0)  # Para resaltar la sección de segementaciones correctas en el gráfico\n",
    "\n",
    "fig1, ax1 = plt.subplots()\n",
    "ax1.pie(sizes, explode=explode, labels=labels, autopct='%0.2f%%',\n",
    "        shadow=True, startangle=90)\n",
    "ax1.axis('equal')  # Esta declaración asegura que se dibuje un círculo\n",
    "\n",
    "ax1.title.set_text('Segmentación por mama (Conjunto de Entrenamiento)')\n",
    "\n",
    "plt.show()"
   ]
  },
  {
   "cell_type": "markdown",
   "metadata": {},
   "source": [
    "El algoriitmo propuesto para la segmentación automática bajo el supuesto de una forma parbólica de la mama consigue segmentar el 30.82% de las mamas. \n",
    "\n",
    "Pero las mamas individuales no son suficientes para la aplicación propuesta en este trabajo. Debido a que se desconoce cuál mama es positiva (con cáncer) y cual mama es negativa no es posible utilizar las mamas individualmente, además que algunas de las propuestas de solución en este trabajo para la detección de carcinoma utiliza la asimetría térmica de ambos lados del cuerpo (idealmente las glándulas mamarias). Por tanto se evealuará la eficacia de ete algoritmo usando pares de mamas por imagen."
   ]
  },
  {
   "cell_type": "code",
   "execution_count": 201,
   "metadata": {},
   "outputs": [],
   "source": [
    "# analizando los pares exitosos\n",
    "# Como las imágenes aparecen ordenadas en orden de aparición en la tabla del csv primero derecha segundo izquierda\n",
    "# se realiza el siguiente ciclo while\n",
    "\n",
    "# Primero obtenemos los valores de la columna Output\n",
    "out_train=df_train.Output.to_numpy()\n",
    "\n",
    "# Ciclo while para encontrar los pares exitosos\n",
    "\n",
    "i=0\n",
    "exitos=0\n",
    "\n",
    "while i < out_train.shape[0]-1:\n",
    "    if i%2==0:\n",
    "        if out_train[i]==1 and out_train[i+1]==1:\n",
    "            exitos+=1\n",
    "    i+=1"
   ]
  },
  {
   "cell_type": "code",
   "execution_count": 212,
   "metadata": {},
   "outputs": [],
   "source": [
    "exitos_percentage = exitos/(out_train.shape[0]/2+8)*100\n",
    "mal_percentage = (out_train.shape[0]/2-exitos)/(out_train.shape[0]/2+8)*100\n",
    "no_segmnt_percentage = 8/(out_train.shape[0]/2+8)*100"
   ]
  },
  {
   "cell_type": "code",
   "execution_count": 213,
   "metadata": {},
   "outputs": [
    {
     "name": "stdout",
     "output_type": "stream",
     "text": [
      "Total de pares de mamas segementadas correctamente en el conjunto de entrenamiento: 765\n",
      "Porcentaje de pares de mamas segmentaadas correctamente en el cojunto de entrenaiento: 22.92%\n"
     ]
    }
   ],
   "source": [
    "print('Total de pares de mamas segementadas correctamente en el conjunto de entrenamiento: '+str(exitos))\n",
    "print('Porcentaje de pares de mamas segmentadas correctamente en el cojunto de entrenaiento: %0.2f%%'%exitos_percentage)"
   ]
  },
  {
   "cell_type": "code",
   "execution_count": 214,
   "metadata": {},
   "outputs": [
    {
     "data": {
      "image/png": "[encoded data removed]",
      "text/plain": [
       "<Figure size 432x288 with 1 Axes>"
      ]
     },
     "metadata": {},
     "output_type": "display_data"
    }
   ],
   "source": [
    "# Ahora mostramos una gráfica de \"pastel\" de esto información\n",
    "labels = 'Correctas', 'No segmentadas', 'Incorrectas'\n",
    "sizes = [exitos_percentage, no_segmnt_percentage, mal_percentage]\n",
    "explode = (0.1, 0, 0)  # Para resaltar la sección de segementaciones correctas en el gráfico\n",
    "\n",
    "fig1, ax1 = plt.subplots()\n",
    "ax1.pie(sizes, explode=explode, labels=labels, autopct='%0.2f%%',\n",
    "        shadow=True, startangle=90)\n",
    "ax1.axis('equal')  # Esta declaración asegura que se dibuje un círculo\n",
    "\n",
    "ax1.title.set_text('Segmentación por Pares de mamas (Conjunto de Entrenamiento)')\n",
    "\n",
    "plt.show()"
   ]
  },
  {
   "cell_type": "markdown",
   "metadata": {},
   "source": [
    "## Imágenes de Validación"
   ]
  },
  {
   "cell_type": "markdown",
   "metadata": {},
   "source": [
    "Ahora realizamos el mismo análisis para las imágenes de validación."
   ]
  },
  {
   "cell_type": "code",
   "execution_count": 216,
   "metadata": {},
   "outputs": [
    {
     "data": {
      "text/html": [
       "<div>\n",
       "<style scoped>\n",
       "    .dataframe tbody tr th:only-of-type {\n",
       "        vertical-align: middle;\n",
       "    }\n",
       "\n",
       "    .dataframe tbody tr th {\n",
       "        vertical-align: top;\n",
       "    }\n",
       "\n",
       "    .dataframe thead th {\n",
       "        text-align: right;\n",
       "    }\n",
       "</style>\n",
       "<table border=\"1\" class=\"dataframe\">\n",
       "  <thead>\n",
       "    <tr style=\"text-align: right;\">\n",
       "      <th></th>\n",
       "      <th>Images</th>\n",
       "      <th>Output</th>\n",
       "    </tr>\n",
       "  </thead>\n",
       "  <tbody>\n",
       "    <tr>\n",
       "      <th>0</th>\n",
       "      <td>T0012.1.1.D.2016-10-26.00_D.png</td>\n",
       "      <td>0</td>\n",
       "    </tr>\n",
       "    <tr>\n",
       "      <th>1</th>\n",
       "      <td>T0012.1.1.D.2016-10-26.00_I.png</td>\n",
       "      <td>0</td>\n",
       "    </tr>\n",
       "    <tr>\n",
       "      <th>2</th>\n",
       "      <td>T0012.1.1.D.2016-10-26.01_D.png</td>\n",
       "      <td>0</td>\n",
       "    </tr>\n",
       "    <tr>\n",
       "      <th>3</th>\n",
       "      <td>T0012.1.1.D.2016-10-26.01_I.png</td>\n",
       "      <td>0</td>\n",
       "    </tr>\n",
       "    <tr>\n",
       "      <th>4</th>\n",
       "      <td>T0012.1.1.D.2016-10-26.02_D.png</td>\n",
       "      <td>0</td>\n",
       "    </tr>\n",
       "  </tbody>\n",
       "</table>\n",
       "</div>"
      ],
      "text/plain": [
       "                            Images  Output\n",
       "0  T0012.1.1.D.2016-10-26.00_D.png       0\n",
       "1  T0012.1.1.D.2016-10-26.00_I.png       0\n",
       "2  T0012.1.1.D.2016-10-26.01_D.png       0\n",
       "3  T0012.1.1.D.2016-10-26.01_I.png       0\n",
       "4  T0012.1.1.D.2016-10-26.02_D.png       0"
      ]
     },
     "execution_count": 216,
     "metadata": {},
     "output_type": "execute_result"
    }
   ],
   "source": [
    "#Leemos el csv con las calificaciones de las imágenes\n",
    "df_test=pd.read_csv(\"test_df_images.csv\")\n",
    "df_test.head()"
   ]
  },
  {
   "cell_type": "markdown",
   "metadata": {},
   "source": [
    "Para las imágenes de validación todas fueron segmentadas (no hubo errores provenientes del algoritmo segmentador).\n",
    "Esto se reporta en el Anexo D."
   ]
  },
  {
   "cell_type": "code",
   "execution_count": 219,
   "metadata": {},
   "outputs": [
    {
     "name": "stdout",
     "output_type": "stream",
     "text": [
      "Proporción de mamas segmentadas correctamente 21.27%\n",
      "Proporción de mamas segmentadas incorrectamente 78.67%\n"
     ]
    }
   ],
   "source": [
    "#Obteniendo la proporción de éxtitos de mamas segmentadas en el conjunto de validación\n",
    "test_corrects=df_test.loc[df_test[\"Output\"]==1].Output.count()/df_test.Output.count()*100\n",
    "test_incorrects=df_test.loc[df_test[\"Output\"]==0].Output.count()/df_test.Output.count()*100\n",
    "print(\"Proporción de mamas segmentadas correctamente %.2f%%\" % test_corrects)\n",
    "print(\"Proporción de mamas segmentadas incorrectamente %.2f%%\" % test_incorrects)"
   ]
  },
  {
   "cell_type": "code",
   "execution_count": 222,
   "metadata": {},
   "outputs": [
    {
     "data": {
      "image/png": "[encoded data removed]",
      "text/plain": [
       "<Figure size 432x288 with 1 Axes>"
      ]
     },
     "metadata": {},
     "output_type": "display_data"
    }
   ],
   "source": [
    "# Ahora mostramos una gráfica de \"pastel\" de esto información\n",
    "labels = 'Correctas', 'No segmentadas', 'Incorrectas'\n",
    "sizes = [test_corrects, 0, train_incorrects]\n",
    "explode = (0.1, 0, 0)  # Para resaltar la sección de segementaciones correctas en el gráfico\n",
    "\n",
    "fig1, ax1 = plt.subplots()\n",
    "ax1.pie(sizes, explode=explode, labels=labels, autopct='%0.2f%%',\n",
    "        shadow=True, startangle=90)\n",
    "ax1.axis('equal')  # Esta declaración asegura que se dibuje un círculo\n",
    "\n",
    "ax1.title.set_text('Segmentación por mama (Conjunto de Validación)')\n",
    "\n",
    "plt.show()"
   ]
  },
  {
   "cell_type": "code",
   "execution_count": 223,
   "metadata": {},
   "outputs": [],
   "source": [
    "# analizando los pares exitosos\n",
    "# Como las imágenes aparecen ordenadas en orden de aparición en la tabla del csv primero derecha segundo izquierda\n",
    "# se realiza el siguiente ciclo while\n",
    "\n",
    "# Primero obtenemos los valores de la columna Output\n",
    "out_test=df_test.Output.to_numpy()\n",
    "\n",
    "# Ciclo while para encontrar los pares exitosos\n",
    "\n",
    "i=0\n",
    "exitos2=0\n",
    "\n",
    "while i < out_test.shape[0]-1:\n",
    "    if i%2==0:\n",
    "        if out_test[i]==1 and out_test[i+1]==1:\n",
    "            exitos2+=1\n",
    "    i+=1"
   ]
  },
  {
   "cell_type": "code",
   "execution_count": 227,
   "metadata": {},
   "outputs": [],
   "source": [
    "exitos2_percentage = exitos2/(out_test.shape[0]/2)*100\n",
    "mal2_percentage = (out_test.shape[0]/2-exitos2)/(out_test.shape[0]/2)*100\n",
    "no2_segmnt_percentage = 0"
   ]
  },
  {
   "cell_type": "code",
   "execution_count": 228,
   "metadata": {},
   "outputs": [
    {
     "name": "stdout",
     "output_type": "stream",
     "text": [
      "Total de pares de mamas segementadas correctamente en el conjunto de validación: 119\n",
      "Porcentaje de pares de mamas segmentadas correctamente en el cojunto de validación: 14.30%\n"
     ]
    }
   ],
   "source": [
    "print('Total de pares de mamas segementadas correctamente en el conjunto de validación: '+str(exitos2))\n",
    "print('Porcentaje de pares de mamas segmentadas correctamente en el cojunto de validación: %0.2f%%'%exitos2_percentage)"
   ]
  },
  {
   "cell_type": "code",
   "execution_count": 229,
   "metadata": {},
   "outputs": [
    {
     "data": {
      "image/png": "[encoded data removed]",
      "text/plain": [
       "<Figure size 432x288 with 1 Axes>"
      ]
     },
     "metadata": {},
     "output_type": "display_data"
    }
   ],
   "source": [
    "# Ahora mostramos una gráfica de \"pastel\" de esto información\n",
    "labels = 'Correctas', 'No segmentadas', 'Incorrectas'\n",
    "sizes = [exitos2_percentage, no2_segmnt_percentage, mal2_percentage]\n",
    "explode = (0.1, 0, 0)  # Para resaltar la sección de segmentaciones correctas en el gráfico\n",
    "\n",
    "fig1, ax1 = plt.subplots()\n",
    "ax1.pie(sizes, explode=explode, labels=labels, autopct='%0.2f%%',\n",
    "        shadow=True, startangle=90)\n",
    "ax1.axis('equal')  # Esta declaración asegura que se dibuje un círculo\n",
    "\n",
    "ax1.title.set_text('Segmentación por Pares de mamas (Conjunto de Validación)')\n",
    "\n",
    "plt.show()"
   ]
  },
  {
   "cell_type": "markdown",
   "metadata": {},
   "source": [
    "## Imágenes considerando AMBOS CONJUNTOS"
   ]
  },
  {
   "cell_type": "markdown",
   "metadata": {},
   "source": [
    "Ahora desplegaremos los resultados considerando ambos conjuntos."
   ]
  },
  {
   "cell_type": "code",
   "execution_count": 231,
   "metadata": {},
   "outputs": [
    {
     "name": "stdout",
     "output_type": "stream",
     "text": [
      "Proporción de mamas segmentadas correctamente 28.92%\n",
      "Proporción de mamas segmentadas incorrectamente 70.88%\n"
     ]
    }
   ],
   "source": [
    "#Obteniendo la proporción de éxtitos de mamas segmentadas\n",
    "total_corrects_num=df_train.loc[df_train[\"Output\"]==1].Output.count()+df_test.loc[df_test[\"Output\"]==1].Output.count()\n",
    "total_incorrects_num=df_train.loc[df_train[\"Output\"]==0].Output.count()+df_test.loc[df_test[\"Output\"]==0].Output.count()\n",
    "total_no_segmnt_num=16\n",
    "total_corrects=total_corrects_num/(df_train.Output.count()+df_test.Output.count()+16)*100\n",
    "total_incorrects=total_incorrects_num/(df_train.Output.count()+df_test.Output.count()+16)*100\n",
    "total_no_segmnt=16/(df_train.Output.count()+df_test.Output.count()+16)*100\n",
    "print(\"Proporción de mamas segmentadas correctamente %.2f%%\" % total_corrects)\n",
    "print(\"Proporción de mamas segmentadas incorrectamente %.2f%%\" % total_incorrects)"
   ]
  },
  {
   "cell_type": "code",
   "execution_count": 232,
   "metadata": {},
   "outputs": [
    {
     "data": {
      "image/png": "[encoded data removed]",
      "text/plain": [
       "<Figure size 432x288 with 1 Axes>"
      ]
     },
     "metadata": {},
     "output_type": "display_data"
    }
   ],
   "source": [
    "# Ahora mostramos una gráfica de \"pastel\" de esto información\n",
    "labels = 'Correctas', 'No segmentadas', 'Incorrectas'\n",
    "sizes = [total_corrects, total_no_segmnt, total_incorrects]\n",
    "explode = (0.1, 0, 0)  # Para resaltar la sección de segementaciones correctas en el gráfico\n",
    "\n",
    "fig1, ax1 = plt.subplots()\n",
    "ax1.pie(sizes, explode=explode, labels=labels, autopct='%0.2f%%',\n",
    "        shadow=True, startangle=90)\n",
    "ax1.axis('equal')  # Esta declaración asegura que se dibuje un círculo\n",
    "\n",
    "ax1.title.set_text('Segmentación por mama (ENTRENAMIENTO + VALIDACIÓN)')\n",
    "\n",
    "plt.show()"
   ]
  },
  {
   "cell_type": "code",
   "execution_count": 234,
   "metadata": {},
   "outputs": [],
   "source": [
    "exitos3_percentage = (exitos+exitos2)/(out_train.shape[0]/2+out_test.shape[0]/2+8)*100\n",
    "mal3_percentage = ((out_train.shape[0]/2-exitos)+(out_test.shape[0]/2-exitos2))/(out_train.shape[0]/2+out_test.shape[0]/2+8)*100\n",
    "no3_segmnt_percentage = 8/(out_train.shape[0]/2+out_test.shape[0]/2+8)*100"
   ]
  },
  {
   "cell_type": "code",
   "execution_count": 237,
   "metadata": {},
   "outputs": [
    {
     "name": "stdout",
     "output_type": "stream",
     "text": [
      "Total de pares de mamas segementadas correctamente en el conjunto TOTAL: 884\n",
      "Porcentaje de pares de mamas segmentadas correctamente en el cojunto TOTAL: 21.20%\n"
     ]
    }
   ],
   "source": [
    "print('Total de pares de mamas segementadas correctamente en el conjunto TOTAL: '+str(exitos+exitos2))\n",
    "print('Porcentaje de pares de mamas segmentadas correctamente en el cojunto TOTAL: %0.2f%%'%exitos3_percentage)"
   ]
  },
  {
   "cell_type": "code",
   "execution_count": 238,
   "metadata": {},
   "outputs": [
    {
     "data": {
      "image/png": "[encoded data removed]",
      "text/plain": [
       "<Figure size 432x288 with 1 Axes>"
      ]
     },
     "metadata": {},
     "output_type": "display_data"
    }
   ],
   "source": [
    "# Ahora mostramos una gráfica de \"pastel\" de esto información\n",
    "labels = 'Correctas', 'No segmentadas', 'Incorrectas'\n",
    "sizes = [exitos3_percentage, no3_segmnt_percentage, mal3_percentage]\n",
    "explode = (0.1, 0, 0)  # Para resaltar la sección de segmentaciones correctas en el gráfico\n",
    "\n",
    "fig1, ax1 = plt.subplots()\n",
    "ax1.pie(sizes, explode=explode, labels=labels, autopct='%0.2f%%',\n",
    "        shadow=True, startangle=90)\n",
    "ax1.axis('equal')  # Esta declaración asegura que se dibuje un círculo\n",
    "\n",
    "ax1.title.set_text('Segmentación por Pares de mamas (ENTRENAMIENTO + VALIDACIÓN)')\n",
    "\n",
    "plt.show()"
   ]
  },
  {
   "cell_type": "markdown",
   "metadata": {},
   "source": [
    "# Conclusiones"
   ]
  },
  {
   "cell_type": "markdown",
   "metadata": {},
   "source": [
    "Con base en los resultados descritos en esta libreta se desechará la utilización de una segmentación automática basada en la morfología. La razón no sólo se justifica por los resultados que muestran que más del 50% de los datos no se procesarían, sino también por la evidencia (citada en el escrito final de TRABAJO TERMINAL II) que obtener información no sólo de la mama sino de su ambiente (el surco inferior, el cuellos, etc) influye también en la detección. Un ejemplo que apoya esta aseveración es que la actividad fisiológica de los ganglios del sistema linfáfico (que pasan por el cuello y las axilas) presentan una mayor actividad (por tanto generan más calor) cuando existe un proceso tumoral en la mama.\n",
    "\n",
    "Por tanto se propone una nueva segementación en dos regiones del cuerpo de acuerdo a un plano sagital (que divide al cuerpo en derecho e izquierdo). "
   ]
  },
  {
   "cell_type": "code",
   "execution_count": null,
   "metadata": {},
   "outputs": [],
   "source": []
  }
 ],
 "metadata": {
  "kernelspec": {
   "display_name": "Python 3",
   "language": "python",
   "name": "python3"
  },
  "language_info": {
   "codemirror_mode": {
    "name": "ipython",
    "version": 3
   },
   "file_extension": ".py",
   "mimetype": "text/x-python",
   "name": "python",
   "nbconvert_exporter": "python",
   "pygments_lexer": "ipython3",
   "version": "3.8.3"
  }
 },
 "nbformat": 4,
 "nbformat_minor": 4
}
