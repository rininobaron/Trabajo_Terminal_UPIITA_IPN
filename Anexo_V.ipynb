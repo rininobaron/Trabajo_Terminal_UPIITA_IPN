{
 "cells": [
  {
   "cell_type": "markdown",
   "metadata": {
    "id": "T8FfZRwu2TTD",
    "papermill": {
     "duration": 0.070543,
     "end_time": "2020-11-18T21:57:53.135563",
     "exception": false,
     "start_time": "2020-11-18T21:57:53.065020",
     "status": "completed"
    },
    "tags": []
   },
   "source": [
    "Anexo V"
   ]
  },
  {
   "cell_type": "markdown",
   "metadata": {
    "id": "rkhzRBKo2TTJ",
    "papermill": {
     "duration": 0.068473,
     "end_time": "2020-11-18T21:57:53.272707",
     "exception": false,
     "start_time": "2020-11-18T21:57:53.204234",
     "status": "completed"
    },
    "tags": []
   },
   "source": [
    "# Resultados con EffcientNet entrenada en Kaggle (algunos ejemplos) y EfficientNet modificada desplegada en IBM Watson (Métricas y rendimiento)\n",
    "\n",
    "#### Elaborado por: Ricardo Niño de Rivera Barrón\n",
    "\n",
    "#### Ingeniería Biónica\n",
    "\n",
    "#### Trabajo Terminal II"
   ]
  },
  {
   "cell_type": "markdown",
   "metadata": {
    "id": "mMoFLAFv2TTL",
    "papermill": {
     "duration": 0.069202,
     "end_time": "2020-11-18T21:57:53.410758",
     "exception": false,
     "start_time": "2020-11-18T21:57:53.341556",
     "status": "completed"
    },
    "tags": []
   },
   "source": [
    "En esta libreta realizada en Google Colab se evalúa el rendimiento del modelo desplegado en IBM para el Conjunto de entrenamiento y validación. Este modelo fue modificado en la función de activación de algunas capas\n",
    "\n",
    "Finalmente se evalúa el modelo original realizado en Kaggle"
   ]
  },
  {
   "cell_type": "code",
   "execution_count": 1,
   "metadata": {
    "colab": {
     "base_uri": "https://localhost:8080/"
    },
    "execution": {
     "iopub.execute_input": "2020-11-18T21:57:53.551899Z",
     "iopub.status.busy": "2020-11-18T21:57:53.550945Z",
     "iopub.status.idle": "2020-11-18T21:58:03.978488Z",
     "shell.execute_reply": "2020-11-18T21:58:03.977785Z"
    },
    "id": "0E-yKVu5jvZH",
    "outputId": "d32fd52c-5a03-40ee-9dd1-b53f430d893b",
    "papermill": {
     "duration": 10.499597,
     "end_time": "2020-11-18T21:58:03.978614",
     "exception": false,
     "start_time": "2020-11-18T21:57:53.479017",
     "status": "completed"
    },
    "tags": []
   },
   "outputs": [
    {
     "name": "stdout",
     "output_type": "stream",
     "text": [
      "Collecting efficientnet\n",
      "  Downloading https://files.pythonhosted.org/packages/53/97/84f88e581d6ac86dcf1ab347c497c4c568c38784e3a2bd659b96912ab793/efficientnet-1.1.1-py3-none-any.whl\n",
      "Requirement already satisfied: scikit-image in /usr/local/lib/python3.6/dist-packages (from efficientnet) (0.16.2)\n",
      "Collecting keras-applications<=1.0.8,>=1.0.7\n",
      "\u001b[?25l  Downloading https://files.pythonhosted.org/packages/71/e3/19762fdfc62877ae9102edf6342d71b28fbfd9dea3d2f96a882ce099b03f/Keras_Applications-1.0.8-py3-none-any.whl (50kB)\n",
      "\u001b[K     |████████████████████████████████| 51kB 7.6MB/s \n",
      "\u001b[?25hRequirement already satisfied: imageio>=2.3.0 in /usr/local/lib/python3.6/dist-packages (from scikit-image->efficientnet) (2.4.1)\n",
      "Requirement already satisfied: matplotlib!=3.0.0,>=2.0.0 in /usr/local/lib/python3.6/dist-packages (from scikit-image->efficientnet) (3.2.2)\n",
      "Requirement already satisfied: networkx>=2.0 in /usr/local/lib/python3.6/dist-packages (from scikit-image->efficientnet) (2.5)\n",
      "Requirement already satisfied: scipy>=0.19.0 in /usr/local/lib/python3.6/dist-packages (from scikit-image->efficientnet) (1.4.1)\n",
      "Requirement already satisfied: pillow>=4.3.0 in /usr/local/lib/python3.6/dist-packages (from scikit-image->efficientnet) (7.0.0)\n",
      "Requirement already satisfied: PyWavelets>=0.4.0 in /usr/local/lib/python3.6/dist-packages (from scikit-image->efficientnet) (1.1.1)\n",
      "Requirement already satisfied: numpy>=1.9.1 in /usr/local/lib/python3.6/dist-packages (from keras-applications<=1.0.8,>=1.0.7->efficientnet) (1.19.4)\n",
      "Requirement already satisfied: h5py in /usr/local/lib/python3.6/dist-packages (from keras-applications<=1.0.8,>=1.0.7->efficientnet) (2.10.0)\n",
      "Requirement already satisfied: kiwisolver>=1.0.1 in /usr/local/lib/python3.6/dist-packages (from matplotlib!=3.0.0,>=2.0.0->scikit-image->efficientnet) (1.3.1)\n",
      "Requirement already satisfied: pyparsing!=2.0.4,!=2.1.2,!=2.1.6,>=2.0.1 in /usr/local/lib/python3.6/dist-packages (from matplotlib!=3.0.0,>=2.0.0->scikit-image->efficientnet) (2.4.7)\n",
      "Requirement already satisfied: cycler>=0.10 in /usr/local/lib/python3.6/dist-packages (from matplotlib!=3.0.0,>=2.0.0->scikit-image->efficientnet) (0.10.0)\n",
      "Requirement already satisfied: python-dateutil>=2.1 in /usr/local/lib/python3.6/dist-packages (from matplotlib!=3.0.0,>=2.0.0->scikit-image->efficientnet) (2.8.1)\n",
      "Requirement already satisfied: decorator>=4.3.0 in /usr/local/lib/python3.6/dist-packages (from networkx>=2.0->scikit-image->efficientnet) (4.4.2)\n",
      "Requirement already satisfied: six in /usr/local/lib/python3.6/dist-packages (from h5py->keras-applications<=1.0.8,>=1.0.7->efficientnet) (1.15.0)\n",
      "Installing collected packages: keras-applications, efficientnet\n",
      "Successfully installed efficientnet-1.1.1 keras-applications-1.0.8\n"
     ]
    }
   ],
   "source": [
    "# Se instala una biblioteca con los modelos preentrenados EfficientNet\n",
    "!pip install efficientnet"
   ]
  },
  {
   "cell_type": "code",
   "execution_count": 2,
   "metadata": {
    "execution": {
     "iopub.execute_input": "2020-11-18T21:58:04.127419Z",
     "iopub.status.busy": "2020-11-18T21:58:04.126536Z",
     "iopub.status.idle": "2020-11-18T21:58:09.892570Z",
     "shell.execute_reply": "2020-11-18T21:58:09.891376Z"
    },
    "id": "7nE3wDkUjvZL",
    "papermill": {
     "duration": 5.841725,
     "end_time": "2020-11-18T21:58:09.892715",
     "exception": false,
     "start_time": "2020-11-18T21:58:04.050990",
     "status": "completed"
    },
    "tags": []
   },
   "outputs": [],
   "source": [
    "# Llamamos a la biblioteca\n",
    "import efficientnet.keras as efn"
   ]
  },
  {
   "cell_type": "code",
   "execution_count": 3,
   "metadata": {
    "execution": {
     "iopub.execute_input": "2020-11-18T21:58:10.044558Z",
     "iopub.status.busy": "2020-11-18T21:58:10.043652Z",
     "iopub.status.idle": "2020-11-18T21:58:10.273587Z",
     "shell.execute_reply": "2020-11-18T21:58:10.272902Z"
    },
    "id": "2EyUmknC2TTN",
    "papermill": {
     "duration": 0.30714,
     "end_time": "2020-11-18T21:58:10.273701",
     "exception": false,
     "start_time": "2020-11-18T21:58:09.966561",
     "status": "completed"
    },
    "tags": []
   },
   "outputs": [],
   "source": [
    "# Importando bibliotecas necesarias\n",
    "import os\n",
    "import numpy as np\n",
    "import pandas as pd\n",
    "from tqdm import tqdm\n",
    "import seaborn as sns\n",
    "import matplotlib.pyplot as plt\n",
    "from sklearn import preprocessing\n",
    "import matplotlib.image as mpimg\n",
    "import sklearn\n",
    "import tensorflow as tf"
   ]
  },
  {
   "cell_type": "markdown",
   "metadata": {
    "id": "ivFL7Xah7FE_",
    "papermill": {
     "duration": 0.072209,
     "end_time": "2020-11-18T21:58:10.417593",
     "exception": false,
     "start_time": "2020-11-18T21:58:10.345384",
     "status": "completed"
    },
    "tags": []
   },
   "source": [
    "Ahora instalamos una nueva biblioteca para poder descargar archivos de MEGA."
   ]
  },
  {
   "cell_type": "code",
   "execution_count": 4,
   "metadata": {
    "colab": {
     "base_uri": "https://localhost:8080/"
    },
    "execution": {
     "iopub.execute_input": "2020-11-18T21:58:10.631197Z",
     "iopub.status.busy": "2020-11-18T21:58:10.630253Z",
     "iopub.status.idle": "2020-11-18T21:58:23.909331Z",
     "shell.execute_reply": "2020-11-18T21:58:23.908726Z"
    },
    "id": "ysV303NU-9uE",
    "outputId": "b8c82382-4e1c-4d96-efe2-6f6bdcd1ff64",
    "papermill": {
     "duration": 13.394469,
     "end_time": "2020-11-18T21:58:23.909476",
     "exception": false,
     "start_time": "2020-11-18T21:58:10.515007",
     "status": "completed"
    },
    "tags": []
   },
   "outputs": [
    {
     "name": "stdout",
     "output_type": "stream",
     "text": [
      "Collecting mega.py\n",
      "  Downloading https://files.pythonhosted.org/packages/a3/51/44a1085a091c27ade09e122d5abdafb4b6400265081879a7c4e32973a175/mega.py-1.0.8-py2.py3-none-any.whl\n",
      "Requirement already satisfied: pathlib==1.0.1 in /usr/local/lib/python3.6/dist-packages (from mega.py) (1.0.1)\n",
      "Collecting pycryptodome<4.0.0,>=3.9.6\n",
      "\u001b[?25l  Downloading https://files.pythonhosted.org/packages/2b/6f/7e38d7c97fbbc3987539c804282c33f56b6b07381bf2390deead696440c5/pycryptodome-3.9.9-cp36-cp36m-manylinux1_x86_64.whl (13.7MB)\n",
      "\u001b[K     |████████████████████████████████| 13.7MB 252kB/s \n",
      "\u001b[?25hCollecting tenacity<6.0.0,>=5.1.5\n",
      "  Downloading https://files.pythonhosted.org/packages/45/67/67bb1db087678bc5c6f20766cf18914dfe37b0b9d4e4c5bb87408460b75f/tenacity-5.1.5-py2.py3-none-any.whl\n",
      "Requirement already satisfied: requests>=0.10 in /usr/local/lib/python3.6/dist-packages (from mega.py) (2.23.0)\n",
      "Requirement already satisfied: six>=1.9.0 in /usr/local/lib/python3.6/dist-packages (from tenacity<6.0.0,>=5.1.5->mega.py) (1.15.0)\n",
      "Requirement already satisfied: certifi>=2017.4.17 in /usr/local/lib/python3.6/dist-packages (from requests>=0.10->mega.py) (2020.12.5)\n",
      "Requirement already satisfied: idna<3,>=2.5 in /usr/local/lib/python3.6/dist-packages (from requests>=0.10->mega.py) (2.10)\n",
      "Requirement already satisfied: urllib3!=1.25.0,!=1.25.1,<1.26,>=1.21.1 in /usr/local/lib/python3.6/dist-packages (from requests>=0.10->mega.py) (1.24.3)\n",
      "Requirement already satisfied: chardet<4,>=3.0.2 in /usr/local/lib/python3.6/dist-packages (from requests>=0.10->mega.py) (3.0.4)\n",
      "Installing collected packages: pycryptodome, tenacity, mega.py\n",
      "Successfully installed mega.py-1.0.8 pycryptodome-3.9.9 tenacity-5.1.5\n"
     ]
    }
   ],
   "source": [
    "# Instalanado mega.py\n",
    "!pip install mega.py"
   ]
  },
  {
   "cell_type": "code",
   "execution_count": 5,
   "metadata": {
    "execution": {
     "iopub.execute_input": "2020-11-18T21:58:24.082718Z",
     "iopub.status.busy": "2020-11-18T21:58:24.081789Z",
     "iopub.status.idle": "2020-11-18T21:58:24.094724Z",
     "shell.execute_reply": "2020-11-18T21:58:24.094064Z"
    },
    "id": "6-1TCtDp_X6H",
    "papermill": {
     "duration": 0.101238,
     "end_time": "2020-11-18T21:58:24.094822",
     "exception": false,
     "start_time": "2020-11-18T21:58:23.993584",
     "status": "completed"
    },
    "tags": []
   },
   "outputs": [],
   "source": [
    "# De la biblioteca mega importamos el método Mega\n",
    "from mega import Mega"
   ]
  },
  {
   "cell_type": "code",
   "execution_count": 6,
   "metadata": {
    "execution": {
     "iopub.execute_input": "2020-11-18T21:58:24.262897Z",
     "iopub.status.busy": "2020-11-18T21:58:24.262003Z",
     "iopub.status.idle": "2020-11-18T21:58:24.264640Z",
     "shell.execute_reply": "2020-11-18T21:58:24.265296Z"
    },
    "id": "jT4WNYRY_YFF",
    "papermill": {
     "duration": 0.089036,
     "end_time": "2020-11-18T21:58:24.265429",
     "exception": false,
     "start_time": "2020-11-18T21:58:24.176393",
     "status": "completed"
    },
    "tags": []
   },
   "outputs": [],
   "source": [
    "# Instanciando Mega en el objeto mega\n",
    "mega = Mega()"
   ]
  },
  {
   "cell_type": "markdown",
   "metadata": {
    "id": "72JIXBNDE_DM",
    "papermill": {
     "duration": 0.082536,
     "end_time": "2020-11-18T21:58:24.430063",
     "exception": false,
     "start_time": "2020-11-18T21:58:24.347527",
     "status": "completed"
    },
    "tags": []
   },
   "source": [
    "Inicamos sesión en MEGA con cuenta temporal y anónima"
   ]
  },
  {
   "cell_type": "code",
   "execution_count": 7,
   "metadata": {
    "execution": {
     "iopub.execute_input": "2020-11-18T21:58:24.604434Z",
     "iopub.status.busy": "2020-11-18T21:58:24.603447Z",
     "iopub.status.idle": "2020-11-18T21:58:27.709858Z",
     "shell.execute_reply": "2020-11-18T21:58:27.709307Z"
    },
    "id": "YGuSt-qNE71_",
    "papermill": {
     "duration": 3.198209,
     "end_time": "2020-11-18T21:58:27.710067",
     "exception": false,
     "start_time": "2020-11-18T21:58:24.511858",
     "status": "completed"
    },
    "tags": []
   },
   "outputs": [],
   "source": [
    "# Log in en la cuenta de MEGA con cuenta temporal anónima\n",
    "m = mega.login()"
   ]
  },
  {
   "cell_type": "markdown",
   "metadata": {
    "id": "_kKyMcL6Hyce",
    "papermill": {
     "duration": 0.084173,
     "end_time": "2020-11-18T21:58:27.878669",
     "exception": false,
     "start_time": "2020-11-18T21:58:27.794496",
     "status": "completed"
    },
    "tags": []
   },
   "source": [
    "Descargando Base de Datos."
   ]
  },
  {
   "cell_type": "code",
   "execution_count": 8,
   "metadata": {
    "colab": {
     "base_uri": "https://localhost:8080/"
    },
    "execution": {
     "iopub.execute_input": "2020-11-18T21:58:28.053681Z",
     "iopub.status.busy": "2020-11-18T21:58:28.053010Z",
     "iopub.status.idle": "2020-11-18T21:59:47.220599Z",
     "shell.execute_reply": "2020-11-18T21:59:47.221200Z"
    },
    "id": "U2FcjVl7Hycg",
    "outputId": "b292a0b1-1a6c-4899-ed87-58805bbf9daa",
    "papermill": {
     "duration": 79.257073,
     "end_time": "2020-11-18T21:59:47.221373",
     "exception": false,
     "start_time": "2020-11-18T21:58:27.964300",
     "status": "completed"
    },
    "tags": []
   },
   "outputs": [
    {
     "data": {
      "text/plain": [
       "PosixPath('BaseDeDatosFrontales_FINAL_256_bits.zip')"
      ]
     },
     "execution_count": 8,
     "metadata": {
      "tags": []
     },
     "output_type": "execute_result"
    }
   ],
   "source": [
    "# Descargando Base de Datos\n",
    "m.download_url('https://mega.nz/file/dBARgAIQ#uiQq4P-zC1fm6tV1I_udl2dtCiqzwyDadLyVlZ_dzAY')"
   ]
  },
  {
   "cell_type": "markdown",
   "metadata": {
    "id": "iJo02CDO7yGJ",
    "papermill": {
     "duration": 0.120832,
     "end_time": "2020-11-18T21:59:47.429995",
     "exception": false,
     "start_time": "2020-11-18T21:59:47.309163",
     "status": "completed"
    },
    "tags": []
   },
   "source": [
    "Como Kaggle es un entorno de desarrollo que trabaja en Linux utilizaremos algunos comandos nativos de este sistema operativo.\n",
    "\n",
    "Para descomprimir el archivo utilizarmos el comando nativo de Linux <em>unzip</em>.\n",
    "\n"
   ]
  },
  {
   "cell_type": "code",
   "execution_count": 9,
   "metadata": {
    "execution": {
     "iopub.execute_input": "2020-11-18T21:59:47.710520Z",
     "iopub.status.busy": "2020-11-18T21:59:47.709630Z",
     "iopub.status.idle": "2020-11-18T22:00:36.053762Z",
     "shell.execute_reply": "2020-11-18T22:00:36.052713Z"
    },
    "id": "I7MPuUwM7w2W",
    "papermill": {
     "duration": 48.481093,
     "end_time": "2020-11-18T22:00:36.053912",
     "exception": false,
     "start_time": "2020-11-18T21:59:47.572819",
     "status": "completed"
    },
    "tags": []
   },
   "outputs": [],
   "source": [
    "!unzip -q BaseDeDatosFrontales_FINAL_256_bits.zip"
   ]
  },
  {
   "cell_type": "markdown",
   "metadata": {
    "id": "fPGjyRxnHDsi",
    "papermill": {
     "duration": 3.737122,
     "end_time": "2020-11-18T22:00:40.477634",
     "exception": false,
     "start_time": "2020-11-18T22:00:36.740512",
     "status": "completed"
    },
    "tags": []
   },
   "source": [
    "Descargamos los archivos necesarios.\n",
    "\n"
   ]
  },
  {
   "cell_type": "code",
   "execution_count": 10,
   "metadata": {
    "colab": {
     "base_uri": "https://localhost:8080/"
    },
    "execution": {
     "iopub.execute_input": "2020-11-18T22:00:44.914998Z",
     "iopub.status.busy": "2020-11-18T22:00:44.908493Z",
     "iopub.status.idle": "2020-11-18T22:00:46.814321Z",
     "shell.execute_reply": "2020-11-18T22:00:46.813249Z"
    },
    "id": "3p2Dpt7fE8IU",
    "outputId": "0d045a85-cd6f-448f-9423-70b85746e00b",
    "papermill": {
     "duration": 3.7039,
     "end_time": "2020-11-18T22:00:46.814445",
     "exception": false,
     "start_time": "2020-11-18T22:00:43.110545",
     "status": "completed"
    },
    "tags": []
   },
   "outputs": [
    {
     "data": {
      "text/plain": [
       "PosixPath('pos_train.npy')"
      ]
     },
     "execution_count": 10,
     "metadata": {
      "tags": []
     },
     "output_type": "execute_result"
    }
   ],
   "source": [
    "# Descargando pos_train\n",
    "m.download_url('https://mega.nz/file/Fcp12QzD#MLUFNaNeKJ8YFPo2bO1uNt7hnKCbDAy8S10s1-vKJ5Q')"
   ]
  },
  {
   "cell_type": "code",
   "execution_count": 11,
   "metadata": {
    "colab": {
     "base_uri": "https://localhost:8080/"
    },
    "execution": {
     "iopub.execute_input": "2020-11-18T22:01:00.226535Z",
     "iopub.status.busy": "2020-11-18T22:01:00.225526Z",
     "iopub.status.idle": "2020-11-18T22:01:01.547386Z",
     "shell.execute_reply": "2020-11-18T22:01:01.546702Z"
    },
    "id": "TkqCJuCnE8FB",
    "outputId": "73fed2b0-1420-43c7-e33d-500717136086",
    "papermill": {
     "duration": 2.641078,
     "end_time": "2020-11-18T22:01:01.547525",
     "exception": false,
     "start_time": "2020-11-18T22:00:58.906447",
     "status": "completed"
    },
    "tags": []
   },
   "outputs": [
    {
     "data": {
      "text/plain": [
       "PosixPath('pos_test.npy')"
      ]
     },
     "execution_count": 11,
     "metadata": {
      "tags": []
     },
     "output_type": "execute_result"
    }
   ],
   "source": [
    "# Descargando pos_test\n",
    "m.download_url('https://mega.nz/file/sQoFDaRB#Uh70-XjrqlGKaE9eBoc4puXnNxNFcQ0D23h_79rDnC4')"
   ]
  },
  {
   "cell_type": "code",
   "execution_count": 12,
   "metadata": {
    "colab": {
     "base_uri": "https://localhost:8080/"
    },
    "execution": {
     "iopub.execute_input": "2020-11-18T22:01:03.684487Z",
     "iopub.status.busy": "2020-11-18T22:01:03.683355Z",
     "iopub.status.idle": "2020-11-18T22:01:05.039250Z",
     "shell.execute_reply": "2020-11-18T22:01:05.040029Z"
    },
    "id": "IUK_mV7Nc2OA",
    "outputId": "ba91b8c9-6d71-44c2-e0f8-a2d35c683a34",
    "papermill": {
     "duration": 3.110703,
     "end_time": "2020-11-18T22:01:05.040220",
     "exception": false,
     "start_time": "2020-11-18T22:01:01.929517",
     "status": "completed"
    },
    "tags": []
   },
   "outputs": [
    {
     "data": {
      "text/plain": [
       "PosixPath('Y_train2.npy')"
      ]
     },
     "execution_count": 12,
     "metadata": {
      "tags": []
     },
     "output_type": "execute_result"
    }
   ],
   "source": [
    "# Descargando Y_train2.npy\n",
    "m.download_url('https://mega.nz/file/tdohXarb#SRrt31GIT7H6gioCVm2KYF-sH6a8PHK8Z7Tr76oZb4I')"
   ]
  },
  {
   "cell_type": "code",
   "execution_count": 13,
   "metadata": {
    "colab": {
     "base_uri": "https://localhost:8080/"
    },
    "execution": {
     "iopub.execute_input": "2020-11-18T22:01:05.282792Z",
     "iopub.status.busy": "2020-11-18T22:01:05.281427Z",
     "iopub.status.idle": "2020-11-18T22:01:07.078755Z",
     "shell.execute_reply": "2020-11-18T22:01:07.078116Z"
    },
    "id": "RU6P-vg4c2Z1",
    "outputId": "a5a3705e-564f-4da5-82e9-5662f144fb3b",
    "papermill": {
     "duration": 1.933888,
     "end_time": "2020-11-18T22:01:07.078876",
     "exception": false,
     "start_time": "2020-11-18T22:01:05.144988",
     "status": "completed"
    },
    "tags": []
   },
   "outputs": [
    {
     "data": {
      "text/plain": [
       "PosixPath('Y_test2.npy')"
      ]
     },
     "execution_count": 13,
     "metadata": {
      "tags": []
     },
     "output_type": "execute_result"
    }
   ],
   "source": [
    "# Descargando Y_test2.npy\n",
    "m.download_url('https://mega.nz/file/Vc5TBSbY#D8pbUvpA3l2V0PJxCu7Meg8WJ3wPpT6X2jEoDsleCWw')"
   ]
  },
  {
   "cell_type": "markdown",
   "metadata": {
    "id": "U4pMLW72V-W9",
    "papermill": {
     "duration": 3.743935,
     "end_time": "2020-11-18T22:01:10.915210",
     "exception": false,
     "start_time": "2020-11-18T22:01:07.171275",
     "status": "completed"
    },
    "tags": []
   },
   "source": [
    "Ahora se leen los archivos con numpy"
   ]
  },
  {
   "cell_type": "code",
   "execution_count": 14,
   "metadata": {
    "colab": {
     "base_uri": "https://localhost:8080/"
    },
    "execution": {
     "iopub.execute_input": "2020-11-18T22:01:11.091150Z",
     "iopub.status.busy": "2020-11-18T22:01:11.090361Z",
     "iopub.status.idle": "2020-11-18T22:01:11.098042Z",
     "shell.execute_reply": "2020-11-18T22:01:11.097426Z"
    },
    "id": "yUeVxv_Rkp_P",
    "outputId": "20768282-2783-419e-ac1f-08c6d11a34eb",
    "papermill": {
     "duration": 0.097713,
     "end_time": "2020-11-18T22:01:11.098150",
     "exception": false,
     "start_time": "2020-11-18T22:01:11.000437",
     "status": "completed"
    },
    "tags": []
   },
   "outputs": [
    {
     "data": {
      "text/plain": [
       "(3337,)"
      ]
     },
     "execution_count": 14,
     "metadata": {
      "tags": []
     },
     "output_type": "execute_result"
    }
   ],
   "source": [
    "pos_train = np.load('pos_train.npy')\n",
    "pos_train.shape"
   ]
  },
  {
   "cell_type": "code",
   "execution_count": 15,
   "metadata": {
    "colab": {
     "base_uri": "https://localhost:8080/"
    },
    "execution": {
     "iopub.execute_input": "2020-11-18T22:01:11.280654Z",
     "iopub.status.busy": "2020-11-18T22:01:11.279632Z",
     "iopub.status.idle": "2020-11-18T22:01:11.285894Z",
     "shell.execute_reply": "2020-11-18T22:01:11.285344Z"
    },
    "id": "xhca4IEXkrzl",
    "outputId": "3b0de2b6-0315-4377-f591-09cb2f09c645",
    "papermill": {
     "duration": 0.101007,
     "end_time": "2020-11-18T22:01:11.286051",
     "exception": false,
     "start_time": "2020-11-18T22:01:11.185044",
     "status": "completed"
    },
    "tags": []
   },
   "outputs": [
    {
     "data": {
      "text/plain": [
       "(832,)"
      ]
     },
     "execution_count": 15,
     "metadata": {
      "tags": []
     },
     "output_type": "execute_result"
    }
   ],
   "source": [
    "pos_test = np.load('pos_test.npy')\n",
    "pos_test.shape"
   ]
  },
  {
   "cell_type": "code",
   "execution_count": 16,
   "metadata": {
    "colab": {
     "base_uri": "https://localhost:8080/"
    },
    "execution": {
     "iopub.execute_input": "2020-11-18T22:01:11.468322Z",
     "iopub.status.busy": "2020-11-18T22:01:11.467402Z",
     "iopub.status.idle": "2020-11-18T22:01:11.471005Z",
     "shell.execute_reply": "2020-11-18T22:01:11.471556Z"
    },
    "id": "zOXHDGe7ksAt",
    "outputId": "c928d77e-fd9c-4407-f76f-a82c90fbb4dc",
    "papermill": {
     "duration": 0.096398,
     "end_time": "2020-11-18T22:01:11.471684",
     "exception": false,
     "start_time": "2020-11-18T22:01:11.375286",
     "status": "completed"
    },
    "tags": []
   },
   "outputs": [
    {
     "data": {
      "text/plain": [
       "(3337,)"
      ]
     },
     "execution_count": 16,
     "metadata": {
      "tags": []
     },
     "output_type": "execute_result"
    }
   ],
   "source": [
    "Y_train = np.load('Y_train2.npy')\n",
    "Y_train.shape"
   ]
  },
  {
   "cell_type": "code",
   "execution_count": 17,
   "metadata": {
    "execution": {
     "iopub.execute_input": "2020-11-18T22:01:11.647968Z",
     "iopub.status.busy": "2020-11-18T22:01:11.647096Z",
     "iopub.status.idle": "2020-11-18T22:01:11.649964Z",
     "shell.execute_reply": "2020-11-18T22:01:11.650637Z"
    },
    "id": "65ljEMIzG7fk",
    "papermill": {
     "duration": 0.092995,
     "end_time": "2020-11-18T22:01:11.650785",
     "exception": false,
     "start_time": "2020-11-18T22:01:11.557790",
     "status": "completed"
    },
    "tags": []
   },
   "outputs": [],
   "source": [
    "# Agregando un dimensión para evitar errores con tensorflow\n",
    "#Y_train = np.expand_dims(Y_train, axis=1)\n",
    "#Y_train.shape"
   ]
  },
  {
   "cell_type": "code",
   "execution_count": 18,
   "metadata": {
    "colab": {
     "base_uri": "https://localhost:8080/"
    },
    "execution": {
     "iopub.execute_input": "2020-11-18T22:01:11.829582Z",
     "iopub.status.busy": "2020-11-18T22:01:11.828311Z",
     "iopub.status.idle": "2020-11-18T22:01:11.833905Z",
     "shell.execute_reply": "2020-11-18T22:01:11.833265Z"
    },
    "id": "iwm4ncMtksTe",
    "outputId": "86bd3ab5-39dd-4fb1-b861-e19019ac48e5",
    "papermill": {
     "duration": 0.09642,
     "end_time": "2020-11-18T22:01:11.834053",
     "exception": false,
     "start_time": "2020-11-18T22:01:11.737633",
     "status": "completed"
    },
    "tags": []
   },
   "outputs": [
    {
     "data": {
      "text/plain": [
       "(832,)"
      ]
     },
     "execution_count": 18,
     "metadata": {
      "tags": []
     },
     "output_type": "execute_result"
    }
   ],
   "source": [
    "Y_test = np.load('Y_test2.npy')\n",
    "Y_test.shape"
   ]
  },
  {
   "cell_type": "code",
   "execution_count": 19,
   "metadata": {
    "execution": {
     "iopub.execute_input": "2020-11-18T22:01:12.012378Z",
     "iopub.status.busy": "2020-11-18T22:01:12.011420Z",
     "iopub.status.idle": "2020-11-18T22:01:12.014695Z",
     "shell.execute_reply": "2020-11-18T22:01:12.014161Z"
    },
    "id": "DCpsO6E2KQrT",
    "papermill": {
     "duration": 0.094216,
     "end_time": "2020-11-18T22:01:12.014805",
     "exception": false,
     "start_time": "2020-11-18T22:01:11.920589",
     "status": "completed"
    },
    "tags": []
   },
   "outputs": [],
   "source": [
    "# Agregando un dimensión para evitar errores con tensorflow\n",
    "#Y_test = np.expand_dims(Y_test, axis=1)\n",
    "#Y_test.shape"
   ]
  },
  {
   "cell_type": "markdown",
   "metadata": {
    "id": "dvrjDU0uYjyB",
    "papermill": {
     "duration": 0.087758,
     "end_time": "2020-11-18T22:01:12.188971",
     "exception": false,
     "start_time": "2020-11-18T22:01:12.101213",
     "status": "completed"
    },
    "tags": []
   },
   "source": [
    "Leemos los archivos en los directorios de interés."
   ]
  },
  {
   "cell_type": "code",
   "execution_count": 20,
   "metadata": {
    "execution": {
     "iopub.execute_input": "2020-11-18T22:01:12.371388Z",
     "iopub.status.busy": "2020-11-18T22:01:12.370482Z",
     "iopub.status.idle": "2020-11-18T22:01:12.376172Z",
     "shell.execute_reply": "2020-11-18T22:01:12.375388Z"
    },
    "id": "VOxUcuL-YjyF",
    "papermill": {
     "duration": 0.099359,
     "end_time": "2020-11-18T22:01:12.376306",
     "exception": false,
     "start_time": "2020-11-18T22:01:12.276947",
     "status": "completed"
    },
    "tags": []
   },
   "outputs": [],
   "source": [
    "# Leyendo archivos de entrenamiento\n",
    "files=os.listdir(\"./BaseDeDatosFrontales_FINAL_256_bits/train\")"
   ]
  },
  {
   "cell_type": "code",
   "execution_count": 21,
   "metadata": {
    "execution": {
     "iopub.execute_input": "2020-11-18T22:01:12.554060Z",
     "iopub.status.busy": "2020-11-18T22:01:12.553246Z",
     "iopub.status.idle": "2020-11-18T22:01:12.557041Z",
     "shell.execute_reply": "2020-11-18T22:01:12.556340Z"
    },
    "id": "Mhra1XAYYjyQ",
    "papermill": {
     "duration": 0.093624,
     "end_time": "2020-11-18T22:01:12.557153",
     "exception": false,
     "start_time": "2020-11-18T22:01:12.463529",
     "status": "completed"
    },
    "tags": []
   },
   "outputs": [],
   "source": [
    "# Leyendo archivos de validación\n",
    "files2=os.listdir(\"./BaseDeDatosFrontales_FINAL_256_bits/test\")"
   ]
  },
  {
   "cell_type": "code",
   "execution_count": 22,
   "metadata": {
    "execution": {
     "iopub.execute_input": "2020-11-18T22:01:12.734817Z",
     "iopub.status.busy": "2020-11-18T22:01:12.733881Z",
     "iopub.status.idle": "2020-11-18T22:01:12.737163Z",
     "shell.execute_reply": "2020-11-18T22:01:12.736580Z"
    },
    "id": "66m5Jpl3YjyW",
    "papermill": {
     "duration": 0.093813,
     "end_time": "2020-11-18T22:01:12.737290",
     "exception": false,
     "start_time": "2020-11-18T22:01:12.643477",
     "status": "completed"
    },
    "tags": []
   },
   "outputs": [],
   "source": [
    "# Ordenando alfabeticamente el contenido de las listas\n",
    "files.sort()\n",
    "files2.sort()"
   ]
  },
  {
   "cell_type": "markdown",
   "metadata": {
    "id": "OGzrbu2LEdRr",
    "papermill": {
     "duration": 0.085199,
     "end_time": "2020-11-18T22:01:12.908682",
     "exception": false,
     "start_time": "2020-11-18T22:01:12.823483",
     "status": "completed"
    },
    "tags": []
   },
   "source": [
    "### Construyendo X_train y X_test"
   ]
  },
  {
   "cell_type": "markdown",
   "metadata": {
    "id": "_7jLqtueOD-U",
    "papermill": {
     "duration": 0.087612,
     "end_time": "2020-11-18T22:01:13.082332",
     "exception": false,
     "start_time": "2020-11-18T22:01:12.994720",
     "status": "completed"
    },
    "tags": []
   },
   "source": [
    "Vamos a definir un nuevo tamaño de las imágenes para evitar problemas de memoria y acelerar el entrenamiento."
   ]
  },
  {
   "cell_type": "code",
   "execution_count": 23,
   "metadata": {
    "execution": {
     "iopub.execute_input": "2020-11-18T22:01:13.264853Z",
     "iopub.status.busy": "2020-11-18T22:01:13.263830Z",
     "iopub.status.idle": "2020-11-18T22:01:13.267235Z",
     "shell.execute_reply": "2020-11-18T22:01:13.266633Z"
    },
    "id": "2kPkV5GOO29B",
    "papermill": {
     "duration": 0.096806,
     "end_time": "2020-11-18T22:01:13.267347",
     "exception": false,
     "start_time": "2020-11-18T22:01:13.170541",
     "status": "completed"
    },
    "tags": []
   },
   "outputs": [],
   "source": [
    "size_img = 128"
   ]
  },
  {
   "cell_type": "code",
   "execution_count": 24,
   "metadata": {
    "execution": {
     "iopub.execute_input": "2020-11-18T22:01:13.445999Z",
     "iopub.status.busy": "2020-11-18T22:01:13.445101Z",
     "iopub.status.idle": "2020-11-18T22:01:13.452754Z",
     "shell.execute_reply": "2020-11-18T22:01:13.452214Z"
    },
    "id": "FPqiv6ysNPad",
    "papermill": {
     "duration": 0.097105,
     "end_time": "2020-11-18T22:01:13.452877",
     "exception": false,
     "start_time": "2020-11-18T22:01:13.355772",
     "status": "completed"
    },
    "tags": []
   },
   "outputs": [],
   "source": [
    "# Definiendo función get_img para leer los archivos numpy y ajustarlos a nuevo tamaño.\n",
    "# La imagen que retorna la función también es normalizada sobre los valor máximo del pixel (255)\n",
    "def get_img(path, size, display_image = False):\n",
    "  img = np.load(path)\n",
    "  img = np.expand_dims(img, axis=2)\n",
    "  if display_image == True:\n",
    "    print(img.shape)\n",
    "    plt.imshow(img[:,:,0], cmap='hot')\n",
    "\n",
    "  return tf.image.resize(img, [size,size], antialias=True)/255"
   ]
  },
  {
   "cell_type": "code",
   "execution_count": 25,
   "metadata": {
    "execution": {
     "iopub.execute_input": "2020-11-18T22:01:13.633060Z",
     "iopub.status.busy": "2020-11-18T22:01:13.632072Z",
     "iopub.status.idle": "2020-11-18T22:01:13.635308Z",
     "shell.execute_reply": "2020-11-18T22:01:13.634769Z"
    },
    "id": "DtLwJaLtRltE",
    "papermill": {
     "duration": 0.095349,
     "end_time": "2020-11-18T22:01:13.635414",
     "exception": false,
     "start_time": "2020-11-18T22:01:13.540065",
     "status": "completed"
    },
    "tags": []
   },
   "outputs": [],
   "source": [
    "# Directorio raíz\n",
    "path = \"./BaseDeDatosFrontales_FINAL_256_bits/\""
   ]
  },
  {
   "cell_type": "markdown",
   "metadata": {
    "id": "akufUAI3UT1F",
    "papermill": {
     "duration": 0.086959,
     "end_time": "2020-11-18T22:01:13.809554",
     "exception": false,
     "start_time": "2020-11-18T22:01:13.722595",
     "status": "completed"
    },
    "tags": []
   },
   "source": [
    "Realizamos una prueba de funcionamiento de la función"
   ]
  },
  {
   "cell_type": "code",
   "execution_count": 26,
   "metadata": {
    "colab": {
     "base_uri": "https://localhost:8080/",
     "height": 286
    },
    "execution": {
     "iopub.execute_input": "2020-11-18T22:01:13.987339Z",
     "iopub.status.busy": "2020-11-18T22:01:13.986336Z",
     "iopub.status.idle": "2020-11-18T22:01:17.229232Z",
     "shell.execute_reply": "2020-11-18T22:01:17.228257Z"
    },
    "id": "ELHojwBtQ2Gx",
    "outputId": "6b51d788-6d7e-4411-c619-1c89a4094afb",
    "papermill": {
     "duration": 3.333098,
     "end_time": "2020-11-18T22:01:17.229355",
     "exception": false,
     "start_time": "2020-11-18T22:01:13.896257",
     "status": "completed"
    },
    "tags": []
   },
   "outputs": [
    {
     "name": "stdout",
     "output_type": "stream",
     "text": [
      "(480, 640, 1)\n"
     ]
    },
    {
     "data": {
      "image/png": "[encoded data removed]",
      "text/plain": [
       "<Figure size 432x288 with 1 Axes>"
      ]
     },
     "metadata": {
      "needs_background": "light",
      "tags": []
     },
     "output_type": "display_data"
    }
   ],
   "source": [
    "# Imagen original\n",
    "hola=get_img(path+'train/'+files[1], size_img, display_image = True)"
   ]
  },
  {
   "cell_type": "code",
   "execution_count": 27,
   "metadata": {
    "colab": {
     "base_uri": "https://localhost:8080/"
    },
    "execution": {
     "iopub.execute_input": "2020-11-18T22:01:17.418768Z",
     "iopub.status.busy": "2020-11-18T22:01:17.416560Z",
     "iopub.status.idle": "2020-11-18T22:01:17.421879Z",
     "shell.execute_reply": "2020-11-18T22:01:17.422527Z"
    },
    "id": "Kfdcg2sySo12",
    "outputId": "b53e162c-6582-4645-97dc-c481f0234360",
    "papermill": {
     "duration": 0.101523,
     "end_time": "2020-11-18T22:01:17.422670",
     "exception": false,
     "start_time": "2020-11-18T22:01:17.321147",
     "status": "completed"
    },
    "tags": []
   },
   "outputs": [
    {
     "data": {
      "text/plain": [
       "0.78683746"
      ]
     },
     "execution_count": 27,
     "metadata": {
      "tags": []
     },
     "output_type": "execute_result"
    }
   ],
   "source": [
    "np.max(hola)"
   ]
  },
  {
   "cell_type": "code",
   "execution_count": 28,
   "metadata": {
    "colab": {
     "base_uri": "https://localhost:8080/"
    },
    "execution": {
     "iopub.execute_input": "2020-11-18T22:01:17.604639Z",
     "iopub.status.busy": "2020-11-18T22:01:17.603973Z",
     "iopub.status.idle": "2020-11-18T22:01:17.610331Z",
     "shell.execute_reply": "2020-11-18T22:01:17.609641Z"
    },
    "id": "6Mgyt3UeUlkT",
    "outputId": "d4ee0b55-bc0a-4847-f7a9-e8f7d3e74cfc",
    "papermill": {
     "duration": 0.098879,
     "end_time": "2020-11-18T22:01:17.610443",
     "exception": false,
     "start_time": "2020-11-18T22:01:17.511564",
     "status": "completed"
    },
    "tags": []
   },
   "outputs": [
    {
     "data": {
      "text/plain": [
       "0.15518688"
      ]
     },
     "execution_count": 28,
     "metadata": {
      "tags": []
     },
     "output_type": "execute_result"
    }
   ],
   "source": [
    "np.min(hola)"
   ]
  },
  {
   "cell_type": "code",
   "execution_count": 29,
   "metadata": {
    "colab": {
     "base_uri": "https://localhost:8080/",
     "height": 285
    },
    "execution": {
     "iopub.execute_input": "2020-11-18T22:01:17.796116Z",
     "iopub.status.busy": "2020-11-18T22:01:17.795233Z",
     "iopub.status.idle": "2020-11-18T22:01:17.978203Z",
     "shell.execute_reply": "2020-11-18T22:01:17.978853Z"
    },
    "id": "mIb7zG6xRQvL",
    "outputId": "7f33a552-918f-4dfa-aff4-a68d43d89839",
    "papermill": {
     "duration": 0.278735,
     "end_time": "2020-11-18T22:01:17.979032",
     "exception": false,
     "start_time": "2020-11-18T22:01:17.700297",
     "status": "completed"
    },
    "tags": []
   },
   "outputs": [
    {
     "data": {
      "text/plain": [
       "<matplotlib.image.AxesImage at 0x7fed90189cc0>"
      ]
     },
     "execution_count": 29,
     "metadata": {
      "tags": []
     },
     "output_type": "execute_result"
    },
    {
     "data": {
      "image/png": "[encoded data removed]",
      "text/plain": [
       "<Figure size 432x288 with 1 Axes>"
      ]
     },
     "metadata": {
      "needs_background": "light",
      "tags": []
     },
     "output_type": "display_data"
    }
   ],
   "source": [
    "# Imagen resultante\n",
    "plt.imshow(hola[:,:,0], cmap='hot')"
   ]
  },
  {
   "cell_type": "markdown",
   "metadata": {
    "id": "DYdpczBtRZ3T",
    "papermill": {
     "duration": 0.089711,
     "end_time": "2020-11-18T22:01:18.168359",
     "exception": false,
     "start_time": "2020-11-18T22:01:18.078648",
     "status": "completed"
    },
    "tags": []
   },
   "source": [
    "Se leen los archivos y se ordenan en un nuevo arreglo."
   ]
  },
  {
   "cell_type": "code",
   "execution_count": 30,
   "metadata": {
    "colab": {
     "base_uri": "https://localhost:8080/"
    },
    "execution": {
     "iopub.execute_input": "2020-11-18T22:01:18.363514Z",
     "iopub.status.busy": "2020-11-18T22:01:18.362551Z",
     "iopub.status.idle": "2020-11-18T22:01:36.479728Z",
     "shell.execute_reply": "2020-11-18T22:01:36.480459Z"
    },
    "id": "RQA1h7eFSaNd",
    "outputId": "fbf1610e-e006-432a-98ad-56f33ab5183b",
    "papermill": {
     "duration": 18.220122,
     "end_time": "2020-11-18T22:01:36.480624",
     "exception": false,
     "start_time": "2020-11-18T22:01:18.260502",
     "status": "completed"
    },
    "tags": []
   },
   "outputs": [
    {
     "name": "stderr",
     "output_type": "stream",
     "text": [
      "100%|██████████| 3337/3337 [00:15<00:00, 220.00it/s]\n"
     ]
    }
   ],
   "source": [
    "# Entrenamiento X_train\n",
    "\n",
    "# Creamos el arreglo para almacenar las imégenes\n",
    "# Tendrá tres canales para  aprovechar los pesos preentrenados\n",
    "# con imágenes de ImageNet\n",
    "X_train = np.zeros((len(files), size_img, size_img,3))\n",
    "\n",
    "for i in tqdm(range(len(files))):\n",
    "\n",
    "  # Leemos y procesamos la imagen con respecto a pos_train\n",
    "  temp_img = get_img(path+\"train/\"+files[pos_train[i]], size_img)\n",
    "\n",
    "  # Almacenamos la imagen obtenida en cada canal\n",
    "  X_train[i,:,:,0] = temp_img[:,:,0]\n",
    "  X_train[i,:,:,1] = temp_img[:,:,0]\n",
    "  X_train[i,:,:,2] = temp_img[:,:,0]"
   ]
  },
  {
   "cell_type": "code",
   "execution_count": 31,
   "metadata": {
    "colab": {
     "base_uri": "https://localhost:8080/"
    },
    "execution": {
     "iopub.execute_input": "2020-11-18T22:01:36.799732Z",
     "iopub.status.busy": "2020-11-18T22:01:36.798655Z",
     "iopub.status.idle": "2020-11-18T22:01:36.802657Z",
     "shell.execute_reply": "2020-11-18T22:01:36.803303Z"
    },
    "id": "lY5Fue2Eqf6F",
    "outputId": "aa1bd520-0897-452c-a248-a572901ff422",
    "papermill": {
     "duration": 0.167036,
     "end_time": "2020-11-18T22:01:36.803479",
     "exception": false,
     "start_time": "2020-11-18T22:01:36.636443",
     "status": "completed"
    },
    "tags": []
   },
   "outputs": [
    {
     "data": {
      "text/plain": [
       "(3337, 128, 128, 3)"
      ]
     },
     "execution_count": 31,
     "metadata": {
      "tags": []
     },
     "output_type": "execute_result"
    }
   ],
   "source": [
    "X_train.shape"
   ]
  },
  {
   "cell_type": "code",
   "execution_count": 32,
   "metadata": {
    "colab": {
     "base_uri": "https://localhost:8080/"
    },
    "execution": {
     "iopub.execute_input": "2020-11-18T22:01:37.131826Z",
     "iopub.status.busy": "2020-11-18T22:01:37.130785Z",
     "iopub.status.idle": "2020-11-18T22:01:43.442918Z",
     "shell.execute_reply": "2020-11-18T22:01:43.441884Z"
    },
    "id": "8OO3SbjImr9p",
    "outputId": "cc007372-96ed-416f-dce2-2c2fb80da68a",
    "papermill": {
     "duration": 6.483241,
     "end_time": "2020-11-18T22:01:43.443098",
     "exception": false,
     "start_time": "2020-11-18T22:01:36.959857",
     "status": "completed"
    },
    "tags": []
   },
   "outputs": [
    {
     "name": "stderr",
     "output_type": "stream",
     "text": [
      "100%|██████████| 832/832 [00:28<00:00, 29.38it/s]\n"
     ]
    }
   ],
   "source": [
    "# Validación X_test\n",
    "\n",
    "# Creamos el arreglo para almacenar las imégenes\n",
    "# Tendrá tres canales para  aprovechar los pesos preentrenados\n",
    "# con imágenes de ImageNet\n",
    "X_test = np.zeros((len(files2), size_img, size_img,3))\n",
    "\n",
    "for i in tqdm(range(len(files2))):\n",
    "\n",
    "  # Leemos y procesamos la imagen con respecto a pos_train\n",
    "  temp_img = get_img(path+\"test/\"+files2[pos_test[i]], size_img)\n",
    "\n",
    "  # Almacenamos la imagen obtenida en cada canal\n",
    "  X_test[i,:,:,0] = temp_img[:,:,0]\n",
    "  X_test[i,:,:,1] = temp_img[:,:,0]\n",
    "  X_test[i,:,:,2] = temp_img[:,:,0]"
   ]
  },
  {
   "cell_type": "code",
   "execution_count": 33,
   "metadata": {
    "colab": {
     "base_uri": "https://localhost:8080/"
    },
    "execution": {
     "iopub.execute_input": "2020-11-18T22:01:43.803786Z",
     "iopub.status.busy": "2020-11-18T22:01:43.802880Z",
     "iopub.status.idle": "2020-11-18T22:01:43.806915Z",
     "shell.execute_reply": "2020-11-18T22:01:43.807460Z"
    },
    "id": "DV_kvZacqmEf",
    "outputId": "8ed8e81f-2911-481d-b29f-5b75da73d617",
    "papermill": {
     "duration": 0.185721,
     "end_time": "2020-11-18T22:01:43.807591",
     "exception": false,
     "start_time": "2020-11-18T22:01:43.621870",
     "status": "completed"
    },
    "tags": []
   },
   "outputs": [
    {
     "data": {
      "text/plain": [
       "(832, 128, 128, 3)"
      ]
     },
     "execution_count": 33,
     "metadata": {
      "tags": []
     },
     "output_type": "execute_result"
    }
   ],
   "source": [
    "X_test.shape"
   ]
  },
  {
   "cell_type": "markdown",
   "metadata": {
    "id": "ktj9a83T0DbQ",
    "papermill": {
     "duration": 0.175045,
     "end_time": "2020-11-18T22:01:44.166145",
     "exception": false,
     "start_time": "2020-11-18T22:01:43.991100",
     "status": "completed"
    },
    "tags": []
   },
   "source": [
    "### EfficientNet (original)"
   ]
  },
  {
   "cell_type": "code",
   "execution_count": 34,
   "metadata": {
    "execution": {
     "iopub.execute_input": "2020-11-18T22:01:44.530243Z",
     "iopub.status.busy": "2020-11-18T22:01:44.529344Z",
     "iopub.status.idle": "2020-11-18T22:01:44.669849Z",
     "shell.execute_reply": "2020-11-18T22:01:44.669232Z"
    },
    "id": "X3IyiPnHz-SR",
    "papermill": {
     "duration": 0.326521,
     "end_time": "2020-11-18T22:01:44.669976",
     "exception": false,
     "start_time": "2020-11-18T22:01:44.343455",
     "status": "completed"
    },
    "tags": []
   },
   "outputs": [],
   "source": [
    "# importando bibliotecas auxiliares\n",
    "from tensorflow.keras.applications import *\n",
    "from tensorflow.keras.layers import *\n",
    "import tensorflow_addons as tfa\n",
    "from tensorflow.keras import Model, Input\n",
    "from tensorflow.keras.preprocessing.image import ImageDataGenerator"
   ]
  },
  {
   "cell_type": "code",
   "execution_count": 35,
   "metadata": {
    "execution": {
     "iopub.execute_input": "2020-11-18T22:01:45.026495Z",
     "iopub.status.busy": "2020-11-18T22:01:45.025739Z",
     "iopub.status.idle": "2020-11-18T22:01:45.064877Z",
     "shell.execute_reply": "2020-11-18T22:01:45.064295Z"
    },
    "id": "DH4xQjWfkipX",
    "papermill": {
     "duration": 0.21908,
     "end_time": "2020-11-18T22:01:45.065023",
     "exception": false,
     "start_time": "2020-11-18T22:01:44.845943",
     "status": "completed"
    },
    "tags": []
   },
   "outputs": [],
   "source": [
    "# Importando métricas de scikit learn}\n",
    "from sklearn.metrics import f1_score, precision_score, recall_score, confusion_matrix, roc_curve, auc, accuracy_score"
   ]
  },
  {
   "cell_type": "code",
   "execution_count": 36,
   "metadata": {
    "execution": {
     "iopub.execute_input": "2020-11-18T22:01:45.452941Z",
     "iopub.status.busy": "2020-11-18T22:01:45.451441Z",
     "iopub.status.idle": "2020-11-18T22:01:45.456996Z",
     "shell.execute_reply": "2020-11-18T22:01:45.456160Z"
    },
    "id": "4J2zFN7wlPQO",
    "papermill": {
     "duration": 0.213547,
     "end_time": "2020-11-18T22:01:45.457166",
     "exception": false,
     "start_time": "2020-11-18T22:01:45.243619",
     "status": "completed"
    },
    "tags": []
   },
   "outputs": [],
   "source": [
    "# Arreglando el problema de clases desbalanceadas estableciendo un peso por clase en el función de costo\n",
    "w_p=np.sum(Y_train==0)/Y_train.shape[0]\n",
    "w_n=np.sum(Y_train==1)/Y_train.shape[0]"
   ]
  },
  {
   "cell_type": "code",
   "execution_count": 37,
   "metadata": {
    "execution": {
     "iopub.execute_input": "2020-11-18T22:01:45.825305Z",
     "iopub.status.busy": "2020-11-18T22:01:45.824489Z",
     "iopub.status.idle": "2020-11-18T22:01:45.829308Z",
     "shell.execute_reply": "2020-11-18T22:01:45.828764Z"
    },
    "id": "VyZYkSS3lfz7",
    "papermill": {
     "duration": 0.186962,
     "end_time": "2020-11-18T22:01:45.829411",
     "exception": false,
     "start_time": "2020-11-18T22:01:45.642449",
     "status": "completed"
    },
    "tags": []
   },
   "outputs": [],
   "source": [
    "# Creando diccionario para establecer el peso de cada clase de salida\n",
    "class_weights = { 0 : w_n , 1 : w_p }"
   ]
  },
  {
   "cell_type": "code",
   "execution_count": 38,
   "metadata": {
    "execution": {
     "iopub.execute_input": "2020-11-18T22:01:46.192691Z",
     "iopub.status.busy": "2020-11-18T22:01:46.190859Z",
     "iopub.status.idle": "2020-11-18T22:01:46.193406Z",
     "shell.execute_reply": "2020-11-18T22:01:46.193978Z"
    },
    "id": "7p7zhme4k8P0",
    "papermill": {
     "duration": 0.185485,
     "end_time": "2020-11-18T22:01:46.194118",
     "exception": false,
     "start_time": "2020-11-18T22:01:46.008633",
     "status": "completed"
    },
    "tags": []
   },
   "outputs": [],
   "source": [
    "# definimos dropout\n",
    "# Esta factor que está definido entre 0 y 1\n",
    "# es un factor que determina la tasa de unidades que se \"apagarán\"\n",
    "# durante el entrenamiento; esto evita el sobreajuste\n",
    "dropout = 0.2"
   ]
  },
  {
   "cell_type": "code",
   "execution_count": 39,
   "metadata": {
    "execution": {
     "iopub.execute_input": "2020-11-18T22:01:46.560879Z",
     "iopub.status.busy": "2020-11-18T22:01:46.560104Z",
     "iopub.status.idle": "2020-11-18T22:01:46.562792Z",
     "shell.execute_reply": "2020-11-18T22:01:46.563330Z"
    },
    "id": "W2jDP72QnUII",
    "papermill": {
     "duration": 0.190984,
     "end_time": "2020-11-18T22:01:46.563490",
     "exception": false,
     "start_time": "2020-11-18T22:01:46.372506",
     "status": "completed"
    },
    "tags": []
   },
   "outputs": [],
   "source": [
    "# Definimos un modelo de incialización\n",
    "# Esta inicialización ha demostrado ser bastante útil\n",
    "# para ayudar al modelo a converger más rápido.\n",
    "# Incialización por he es una técnica que utiliza la destribución probabílistica\n",
    "# propuesta por He para incializar los pesos de la red neuronal\n",
    "# Para más información refierase a la coumentación\n",
    "# de la biblioteca\n",
    "kernel_init = 'he_normal'"
   ]
  },
  {
   "cell_type": "code",
   "execution_count": 40,
   "metadata": {
    "colab": {
     "base_uri": "https://localhost:8080/"
    },
    "execution": {
     "iopub.execute_input": "2020-11-18T22:01:46.931564Z",
     "iopub.status.busy": "2020-11-18T22:01:46.930772Z",
     "iopub.status.idle": "2020-11-18T22:02:03.978331Z",
     "shell.execute_reply": "2020-11-18T22:02:03.976699Z"
    },
    "id": "w7o9Q_GeuWvp",
    "outputId": "427e93bc-011f-4caa-8127-2b3c89d0be5d",
    "papermill": {
     "duration": 17.235763,
     "end_time": "2020-11-18T22:02:03.978451",
     "exception": false,
     "start_time": "2020-11-18T22:01:46.742688",
     "status": "completed"
    },
    "tags": []
   },
   "outputs": [
    {
     "name": "stdout",
     "output_type": "stream",
     "text": [
      "Downloading data from https://github.com/Callidior/keras-applications/releases/download/efficientnet/efficientnet-b7_weights_tf_dim_ordering_tf_kernels_autoaugment_notop.h5\n",
      "258441216/258434480 [==============================] - 2s 0us/step\n"
     ]
    }
   ],
   "source": [
    "# Creando el modelo EfficientNet con pesos preentrenados en ImageNet\n",
    "rnet = efn.EfficientNetB7(weights='imagenet', include_top=False, input_shape=[X_train.shape[1],X_train.shape[2],X_train.shape[3]])\n",
    "rnet = tf.keras.Sequential(rnet)\n",
    "rnet.add(Dropout(dropout))\n",
    "rnet.add(Flatten())\n",
    "rnet.add(Dense(4096, activation='relu', kernel_initializer=kernel_init))\n",
    "rnet.add(Dropout(dropout))\n",
    "rnet.add(Dense(4096, activation='relu', kernel_initializer=kernel_init))\n",
    "rnet.add(Dropout(dropout))\n",
    "rnet.add(Dense(1, activation='sigmoid', kernel_initializer=kernel_init))"
   ]
  },
  {
   "cell_type": "code",
   "execution_count": 41,
   "metadata": {
    "execution": {
     "iopub.execute_input": "2020-11-18T22:02:04.390767Z",
     "iopub.status.busy": "2020-11-18T22:02:04.389545Z",
     "iopub.status.idle": "2020-11-18T22:02:04.391560Z",
     "shell.execute_reply": "2020-11-18T22:02:04.392129Z"
    },
    "id": "XoJzCsM0jvZp",
    "papermill": {
     "duration": 0.209951,
     "end_time": "2020-11-18T22:02:04.392267",
     "exception": false,
     "start_time": "2020-11-18T22:02:04.182316",
     "status": "completed"
    },
    "tags": []
   },
   "outputs": [],
   "source": [
    "# # Creando el modelo EfficientNet con pesos preentrenados en ImageNet\n",
    "# rnet = efn.EfficientNetB7(weights=None, include_top=True, classes=1, input_shape=[X_train.shape[1],X_train.shape[2],X_train.shape[3]])\n",
    "# rnet = tf.keras.Sequential(rnet)"
   ]
  },
  {
   "cell_type": "code",
   "execution_count": 42,
   "metadata": {
    "colab": {
     "base_uri": "https://localhost:8080/"
    },
    "execution": {
     "iopub.execute_input": "2020-11-18T22:02:04.841309Z",
     "iopub.status.busy": "2020-11-18T22:02:04.820945Z",
     "iopub.status.idle": "2020-11-18T22:02:04.908009Z",
     "shell.execute_reply": "2020-11-18T22:02:04.907108Z"
    },
    "id": "X86VMIq38hs6",
    "outputId": "75b51488-3e3d-40ee-a2c5-155b1e2af294",
    "papermill": {
     "duration": 0.30928,
     "end_time": "2020-11-18T22:02:04.908167",
     "exception": false,
     "start_time": "2020-11-18T22:02:04.598887",
     "status": "completed"
    },
    "tags": []
   },
   "outputs": [
    {
     "name": "stdout",
     "output_type": "stream",
     "text": [
      "Model: \"sequential\"\n",
      "_________________________________________________________________\n",
      "Layer (type)                 Output Shape              Param #   \n",
      "=================================================================\n",
      "efficientnet-b7 (Functional) (None, 4, 4, 2560)        64097680  \n",
      "_________________________________________________________________\n",
      "dropout (Dropout)            (None, 4, 4, 2560)        0         \n",
      "_________________________________________________________________\n",
      "flatten (Flatten)            (None, 40960)             0         \n",
      "_________________________________________________________________\n",
      "dense (Dense)                (None, 4096)              167776256 \n",
      "_________________________________________________________________\n",
      "dropout_1 (Dropout)          (None, 4096)              0         \n",
      "_________________________________________________________________\n",
      "dense_1 (Dense)              (None, 4096)              16781312  \n",
      "_________________________________________________________________\n",
      "dropout_2 (Dropout)          (None, 4096)              0         \n",
      "_________________________________________________________________\n",
      "dense_2 (Dense)              (None, 1)                 4097      \n",
      "=================================================================\n",
      "Total params: 248,659,345\n",
      "Trainable params: 248,348,625\n",
      "Non-trainable params: 310,720\n",
      "_________________________________________________________________\n"
     ]
    }
   ],
   "source": [
    "# Visualizando el modelo\n",
    "rnet.summary()"
   ]
  },
  {
   "cell_type": "code",
   "execution_count": 43,
   "metadata": {
    "colab": {
     "base_uri": "https://localhost:8080/"
    },
    "execution": {
     "iopub.execute_input": "2020-11-18T22:02:05.331804Z",
     "iopub.status.busy": "2020-11-18T22:02:05.330879Z",
     "iopub.status.idle": "2020-11-18T22:02:05.334354Z",
     "shell.execute_reply": "2020-11-18T22:02:05.334952Z"
    },
    "id": "vVxcKCOIF6Zj",
    "outputId": "3b746f1a-553b-4f83-db5e-5e73fb61739e",
    "papermill": {
     "duration": 0.216114,
     "end_time": "2020-11-18T22:02:05.335085",
     "exception": false,
     "start_time": "2020-11-18T22:02:05.118971",
     "status": "completed"
    },
    "tags": []
   },
   "outputs": [
    {
     "data": {
      "text/plain": [
       "TensorShape([None, 1])"
      ]
     },
     "execution_count": 43,
     "metadata": {
      "tags": []
     },
     "output_type": "execute_result"
    }
   ],
   "source": [
    "rnet.output.shape"
   ]
  },
  {
   "cell_type": "markdown",
   "metadata": {
    "id": "ICHjsvHnXQmO"
   },
   "source": [
    "## Descargando pesos previamente entrenados\n"
   ]
  },
  {
   "cell_type": "code",
   "execution_count": 44,
   "metadata": {
    "colab": {
     "base_uri": "https://localhost:8080/"
    },
    "id": "MMkjPZbJXPzO",
    "outputId": "bf837080-3e24-463e-b99d-b4f6cc77b74c"
   },
   "outputs": [
    {
     "name": "stdout",
     "output_type": "stream",
     "text": [
      "--2020-12-25 03:13:46--  https://www.kaggleusercontent.com/kf/48361538/eyJhbGciOiJkaXIiLCJlbmMiOiJBMTI4Q0JDLUhTMjU2In0..F4RYtug6b80oO2uCKbWLqg.ePnvcBnYLJNToJCPt4YCZf-z_CCb0Y6fUqHk-k7HApuMh2sKscL6-BQI69CJSMATm9rPMAAwULbVQhb87tzdlcZHF6sq4xXHOSKF2OE_O_7e04CMFlQVlypxdACpdrXLUAr50Rt-oc0Sj1btl_RiyQc4-yZ-0FjhxIaNNoJm5kdEd9qStj9zuBDNL2MUs3cCdaL5aiRj2EYFi1LqfKIRIyEJUmfKVlZ7_TKWdHgM4aZBBJ8eJlfKoOgGo8Dcvd07-5noBxcuassj19-u8SR5TfjIrkzi3ANIZF6NKSf2XXba61eFMbnKoP4al8nyqYRn9jAsACG6VAJrP14-PWPWYpItj_Ygo86dZ2tATYUmDPV3fk73KeUVhBx0LLzH71R6KO4oFRJiiIjdsYKjiRARPzHG0qQu3NATMl9PNGnnZNkXRToN0Ufs5qGqYnCQ6WEf3JFUW79pSGzHrS4nfKO8RjbNGr-_3iIlRRr_wCG2337qtuxAfmwnNI3x7bYATP_RC9WQFDoWx4iTnTJ6R_du34gtsex5JJ_7j_0CLf4gi-uXwxl-gbp__TCKulLYgRWuD9uO8eryKCymCMuIN22BvM5rccm9YN4zopvLrbWDhuXZ0f_T7YeR-ISVs2uNpJ8K.4Ld2-0HAgdOx9yOhbrSrSQ/EFNB7_weights.h5\n",
      "Resolving www.kaggleusercontent.com (www.kaggleusercontent.com)... 35.190.26.106\n",
      "Connecting to www.kaggleusercontent.com (www.kaggleusercontent.com)|35.190.26.106|:443... connected.\n",
      "HTTP request sent, awaiting response... 200 OK\n",
      "Length: 2984398720 (2.8G) [application/octet-stream]\n",
      "Saving to: ‘EFNB7_weights.h5’\n",
      "\n",
      "EFNB7_weights.h5    100%[===================>]   2.78G  28.5MB/s    in 45s     \n",
      "\n",
      "2020-12-25 03:14:31 (63.3 MB/s) - ‘EFNB7_weights.h5’ saved [2984398720/2984398720]\n",
      "\n"
     ]
    }
   ],
   "source": [
    "# pesos en mega desde Kaggle (en Mega es muuuy lento)\n",
    "# m.download_url('https://mega.nz/file/RB5VTQCY#-VowEBVk9rQnZh5eRVwz6Xn1N8msZqty-v4NGZd6YqY')\n",
    "!wget https://www.kaggleusercontent.com/kf/48361538/eyJhbGciOiJkaXIiLCJlbmMiOiJBMTI4Q0JDLUhTMjU2In0..F4RYtug6b80oO2uCKbWLqg.ePnvcBnYLJNToJCPt4YCZf-z_CCb0Y6fUqHk-k7HApuMh2sKscL6-BQI69CJSMATm9rPMAAwULbVQhb87tzdlcZHF6sq4xXHOSKF2OE_O_7e04CMFlQVlypxdACpdrXLUAr50Rt-oc0Sj1btl_RiyQc4-yZ-0FjhxIaNNoJm5kdEd9qStj9zuBDNL2MUs3cCdaL5aiRj2EYFi1LqfKIRIyEJUmfKVlZ7_TKWdHgM4aZBBJ8eJlfKoOgGo8Dcvd07-5noBxcuassj19-u8SR5TfjIrkzi3ANIZF6NKSf2XXba61eFMbnKoP4al8nyqYRn9jAsACG6VAJrP14-PWPWYpItj_Ygo86dZ2tATYUmDPV3fk73KeUVhBx0LLzH71R6KO4oFRJiiIjdsYKjiRARPzHG0qQu3NATMl9PNGnnZNkXRToN0Ufs5qGqYnCQ6WEf3JFUW79pSGzHrS4nfKO8RjbNGr-_3iIlRRr_wCG2337qtuxAfmwnNI3x7bYATP_RC9WQFDoWx4iTnTJ6R_du34gtsex5JJ_7j_0CLf4gi-uXwxl-gbp__TCKulLYgRWuD9uO8eryKCymCMuIN22BvM5rccm9YN4zopvLrbWDhuXZ0f_T7YeR-ISVs2uNpJ8K.4Ld2-0HAgdOx9yOhbrSrSQ/EFNB7_weights.h5"
   ]
  },
  {
   "cell_type": "code",
   "execution_count": 45,
   "metadata": {
    "id": "2WZfRcj3XbK6"
   },
   "outputs": [],
   "source": [
    "# Cargando pesos en el modelo definido anteriormente\n",
    "rnet.load_weights('EFNB7_weights.h5')"
   ]
  },
  {
   "cell_type": "markdown",
   "metadata": {
    "id": "_pSpY3WMZiDC"
   },
   "source": [
    "El archivo de termograma que se ha utilizado de ejemplo en las libretas anteriores es T0032.1.1.D.2016-10-29.16.npy"
   ]
  },
  {
   "cell_type": "code",
   "execution_count": 46,
   "metadata": {
    "colab": {
     "base_uri": "https://localhost:8080/"
    },
    "id": "afn6znZ3b0wg",
    "outputId": "3bc790e2-eb34-4745-c7d5-14485031e93d"
   },
   "outputs": [
    {
     "data": {
      "text/plain": [
       "(array([], dtype=int64),)"
      ]
     },
     "execution_count": 46,
     "metadata": {
      "tags": []
     },
     "output_type": "execute_result"
    }
   ],
   "source": [
    "# Buscando el archivo en files (train)\n",
    "np.where('T0032.1.1.D.2016-10-29.16.npy'==np.array(files))"
   ]
  },
  {
   "cell_type": "code",
   "execution_count": 47,
   "metadata": {
    "colab": {
     "base_uri": "https://localhost:8080/"
    },
    "id": "Ms2U76Ckb05p",
    "outputId": "af4f830d-da22-47b0-9559-7c47b5e684f5"
   },
   "outputs": [
    {
     "data": {
      "text/plain": [
       "(array([40]),)"
      ]
     },
     "execution_count": 47,
     "metadata": {
      "tags": []
     },
     "output_type": "execute_result"
    }
   ],
   "source": [
    "# Buscando el archivo en files2 (test)\n",
    "np.where('T0032.1.1.D.2016-10-29.16.npy'==np.array(files2))"
   ]
  },
  {
   "cell_type": "markdown",
   "metadata": {
    "id": "gQW_LmVpeSPD"
   },
   "source": [
    "El ejemplo está en la posiciónn 40 de la lista de archivos en el conjunto de validación (test). Por lo tanto, el archivo en el arreglo X_test está en la posición que indica donde pos_test sea igual a 40."
   ]
  },
  {
   "cell_type": "code",
   "execution_count": 48,
   "metadata": {
    "colab": {
     "base_uri": "https://localhost:8080/"
    },
    "id": "g9pZYY4GnK5R",
    "outputId": "f42352c6-fcc4-46bb-f4d6-6f1dd9a0f869"
   },
   "outputs": [
    {
     "data": {
      "text/plain": [
       "(array([515]),)"
      ]
     },
     "execution_count": 48,
     "metadata": {
      "tags": []
     },
     "output_type": "execute_result"
    }
   ],
   "source": [
    "# Hallando la ubicación del número 40 en el arreglo pos_test\n",
    "np.where(pos_test==40)"
   ]
  },
  {
   "cell_type": "code",
   "execution_count": 49,
   "metadata": {
    "colab": {
     "base_uri": "https://localhost:8080/"
    },
    "id": "g8t0YNOKplsJ",
    "outputId": "3e778b00-5604-414e-ed99-4d5a3b9da8b0"
   },
   "outputs": [
    {
     "data": {
      "text/plain": [
       "40"
      ]
     },
     "execution_count": 49,
     "metadata": {
      "tags": []
     },
     "output_type": "execute_result"
    }
   ],
   "source": [
    "# Comprobando\n",
    "pos_test[515]"
   ]
  },
  {
   "cell_type": "markdown",
   "metadata": {
    "id": "yX8hUo5bmpxD"
   },
   "source": [
    "Obteniendo probabilidad para este el archivo de ejemplo."
   ]
  },
  {
   "cell_type": "code",
   "execution_count": 50,
   "metadata": {
    "id": "zK2oFYOunHHC"
   },
   "outputs": [],
   "source": [
    "# Aumentando una dimensión\n",
    "\n",
    "X_prueba_128 = np.zeros((1, 128, 128,3))\n",
    "# Almacenamos la imagen obtenida en cada canal\n",
    "X_prueba_128[0,:,:,0] = X_test[515,:,:,0]\n",
    "X_prueba_128[0,:,:,1] = X_test[515,:,:,0]\n",
    "X_prueba_128[0,:,:,2] = X_test[515,:,:,0]"
   ]
  },
  {
   "cell_type": "code",
   "execution_count": 51,
   "metadata": {
    "colab": {
     "base_uri": "https://localhost:8080/"
    },
    "id": "Zx6L5rSEmouv",
    "outputId": "10c2cb9e-fc7e-490f-c53e-ee6a7a27bab6"
   },
   "outputs": [
    {
     "data": {
      "text/plain": [
       "array([[5.28243e-16]], dtype=float32)"
      ]
     },
     "execution_count": 51,
     "metadata": {
      "tags": []
     },
     "output_type": "execute_result"
    }
   ],
   "source": [
    "rnet.predict(X_prueba_128)"
   ]
  },
  {
   "cell_type": "code",
   "execution_count": 52,
   "metadata": {
    "colab": {
     "base_uri": "https://localhost:8080/"
    },
    "id": "FlSUfqlbb0_p",
    "outputId": "3bd19de8-e46e-4089-afcc-69276d3595a0"
   },
   "outputs": [
    {
     "name": "stdout",
     "output_type": "stream",
     "text": [
      "0.021548628999999472\n"
     ]
    }
   ],
   "source": [
    "# Para este ejemplo con el modelo modificado en IBM Watson tenemos la siguiente predicción 0.021548629\n",
    "error_ejemplo = np.abs(5.28231e-16 - 0.021548629)\n",
    "print(error_ejemplo)"
   ]
  },
  {
   "cell_type": "markdown",
   "metadata": {
    "id": "HHsaJJ-Or8an"
   },
   "source": [
    "Aunque el error parece despreciable, tenemos que medirlo con respecto a todos los ejemplos entre los modelos EfficientNet. Para esto debemos definir en esta libreta la red EfficienNet desplegada en IBM Watson."
   ]
  },
  {
   "cell_type": "markdown",
   "metadata": {
    "id": "o6NZwGBztJjW"
   },
   "source": [
    "# Definiendo EfficientNet descrita en https://github.com/qubvel/efficientnet/blob/master/efficientnet/model.py modificada para IBM Watson\n"
   ]
  },
  {
   "cell_type": "code",
   "execution_count": 53,
   "metadata": {
    "id": "KzKr2SpJb1GN"
   },
   "outputs": [],
   "source": [
    "from tensorflow import keras"
   ]
  },
  {
   "cell_type": "code",
   "execution_count": 54,
   "metadata": {
    "id": "AuMA-I80sYll"
   },
   "outputs": [],
   "source": [
    "from tensorflow.keras.models import load_model"
   ]
  },
  {
   "cell_type": "code",
   "execution_count": 55,
   "metadata": {
    "colab": {
     "base_uri": "https://localhost:8080/",
     "height": 35
    },
    "id": "QCuQmRvOsYuC",
    "outputId": "a8c33476-c733-46b8-c551-04caddc98ce2"
   },
   "outputs": [
    {
     "data": {
      "application/vnd.google.colaboratory.intrinsic+json": {
       "type": "string"
      },
      "text/plain": [
       "'2.4.0'"
      ]
     },
     "execution_count": 55,
     "metadata": {
      "tags": []
     },
     "output_type": "execute_result"
    }
   ],
   "source": [
    "tf.__version__"
   ]
  },
  {
   "cell_type": "code",
   "execution_count": 56,
   "metadata": {
    "id": "CF26vm9AsZD9"
   },
   "outputs": [],
   "source": [
    "def _obtain_input_shape(input_shape,\n",
    "                        default_size,\n",
    "                        min_size,\n",
    "                        data_format,\n",
    "                        require_flatten,\n",
    "                        weights=None):\n",
    "    \"\"\"Internal utility to compute/validate a model's input shape.\n",
    "    # Arguments\n",
    "        input_shape: Either None (will return the default network input shape),\n",
    "            or a user-provided shape to be validated.\n",
    "        default_size: Default input width/height for the model.\n",
    "        min_size: Minimum input width/height accepted by the model.\n",
    "        data_format: Image data format to use.\n",
    "        require_flatten: Whether the model is expected to\n",
    "            be linked to a classifier via a Flatten layer.\n",
    "        weights: One of `None` (random initialization)\n",
    "            or 'imagenet' (pre-training on ImageNet).\n",
    "            If weights='imagenet' input channels must be equal to 3.\n",
    "    # Returns\n",
    "        An integer shape tuple (may include None entries).\n",
    "    # Raises\n",
    "        ValueError: In case of invalid argument values.\n",
    "    \"\"\"\n",
    "    if weights != 'imagenet' and input_shape and len(input_shape) == 3:\n",
    "        if data_format == 'channels_first':\n",
    "            if input_shape[0] not in {1, 3}:\n",
    "                warnings.warn(\n",
    "                    'This model usually expects 1 or 3 input channels. '\n",
    "                    'However, it was passed an input_shape with ' +\n",
    "                    str(input_shape[0]) + ' input channels.')\n",
    "            default_shape = (input_shape[0], default_size, default_size)\n",
    "        else:\n",
    "            if input_shape[-1] not in {1, 3}:\n",
    "                warnings.warn(\n",
    "                    'This model usually expects 1 or 3 input channels. '\n",
    "                    'However, it was passed an input_shape with ' +\n",
    "                    str(input_shape[-1]) + ' input channels.')\n",
    "            default_shape = (default_size, default_size, input_shape[-1])\n",
    "    else:\n",
    "        if data_format == 'channels_first':\n",
    "            default_shape = (3, default_size, default_size)\n",
    "        else:\n",
    "            default_shape = (default_size, default_size, 3)\n",
    "    if weights == 'imagenet' and require_flatten:\n",
    "        if input_shape is not None:\n",
    "            if input_shape != default_shape:\n",
    "                raise ValueError('When setting `include_top=True` '\n",
    "                                 'and loading `imagenet` weights, '\n",
    "                                 '`input_shape` should be ' +\n",
    "                                 str(default_shape) + '.')\n",
    "        return default_shape\n",
    "    if input_shape:\n",
    "        if data_format == 'channels_first':\n",
    "            if input_shape is not None:\n",
    "                if len(input_shape) != 3:\n",
    "                    raise ValueError(\n",
    "                        '`input_shape` must be a tuple of three integers.')\n",
    "                if input_shape[0] != 3 and weights == 'imagenet':\n",
    "                    raise ValueError('The input must have 3 channels; got '\n",
    "                                     '`input_shape=' + str(input_shape) + '`')\n",
    "                if ((input_shape[1] is not None and input_shape[1] < min_size) or\n",
    "                   (input_shape[2] is not None and input_shape[2] < min_size)):\n",
    "                    raise ValueError('Input size must be at least ' +\n",
    "                                     str(min_size) + 'x' + str(min_size) +\n",
    "                                     '; got `input_shape=' +\n",
    "                                     str(input_shape) + '`')\n",
    "        else:\n",
    "            if input_shape is not None:\n",
    "                if len(input_shape) != 3:\n",
    "                    raise ValueError(\n",
    "                        '`input_shape` must be a tuple of three integers.')\n",
    "                if input_shape[-1] != 3 and weights == 'imagenet':\n",
    "                    raise ValueError('The input must have 3 channels; got '\n",
    "                                     '`input_shape=' + str(input_shape) + '`')\n",
    "                if ((input_shape[0] is not None and input_shape[0] < min_size) or\n",
    "                   (input_shape[1] is not None and input_shape[1] < min_size)):\n",
    "                    raise ValueError('Input size must be at least ' +\n",
    "                                     str(min_size) + 'x' + str(min_size) +\n",
    "                                     '; got `input_shape=' +\n",
    "                                     str(input_shape) + '`')\n",
    "    else:\n",
    "        if require_flatten:\n",
    "            input_shape = default_shape\n",
    "        else:\n",
    "            if data_format == 'channels_first':\n",
    "                input_shape = (3, None, None)\n",
    "            else:\n",
    "                input_shape = (None, None, 3)\n",
    "    if require_flatten:\n",
    "        if None in input_shape:\n",
    "            raise ValueError('If `include_top` is True, '\n",
    "                             'you should specify a static `input_shape`. '\n",
    "                             'Got `input_shape=' + str(input_shape) + '`')\n",
    "    return input_shape"
   ]
  },
  {
   "cell_type": "code",
   "execution_count": 57,
   "metadata": {
    "id": "DcNPqwQPtesu"
   },
   "outputs": [],
   "source": [
    "def _preprocess_input(x, data_format=None, mode='caffe', **kwargs):\n",
    "    \"\"\"Preprocesses a tensor or Numpy array encoding a batch of images.\n",
    "    # Arguments\n",
    "        x: Input Numpy or symbolic tensor, 3D or 4D.\n",
    "            The preprocessed data is written over the input data\n",
    "            if the data types are compatible. To avoid this\n",
    "            behaviour, `numpy.copy(x)` can be used.\n",
    "        data_format: Data format of the image tensor/array.\n",
    "        mode: One of \"caffe\", \"tf\" or \"torch\".\n",
    "            - caffe: will convert the images from RGB to BGR,\n",
    "                then will zero-center each color channel with\n",
    "                respect to the ImageNet dataset,\n",
    "                without scaling.\n",
    "            - tf: will scale pixels between -1 and 1,\n",
    "                sample-wise.\n",
    "            - torch: will scale pixels between 0 and 1 and then\n",
    "                will normalize each channel with respect to the\n",
    "                ImageNet dataset.\n",
    "    # Returns\n",
    "        Preprocessed tensor or Numpy array.\n",
    "    # Raises\n",
    "        ValueError: In case of unknown `data_format` argument.\n",
    "    \"\"\"\n",
    "    backend, _, _, _ = get_submodules_from_kwargs(kwargs)\n",
    "\n",
    "    if data_format is None:\n",
    "        data_format = backend.image_data_format()\n",
    "    if data_format not in {'channels_first', 'channels_last'}:\n",
    "        raise ValueError('Unknown data_format ' + str(data_format))\n",
    "\n",
    "    if isinstance(x, np.ndarray):\n",
    "        return _preprocess_numpy_input(x, data_format=data_format,\n",
    "                                       mode=mode, **kwargs)\n",
    "    else:\n",
    "        return _preprocess_symbolic_input(x, data_format=data_format,\n",
    "                                          mode=mode, **kwargs)"
   ]
  },
  {
   "cell_type": "code",
   "execution_count": 58,
   "metadata": {
    "id": "8uCe7cRqteyd"
   },
   "outputs": [],
   "source": [
    "IMAGENET_WEIGHTS_PATH = (\n",
    "    'https://github.com/Callidior/keras-applications/'\n",
    "    'releases/download/efficientnet/')\n",
    "\n",
    "IMAGENET_WEIGHTS_HASHES = {\n",
    "    'efficientnet-b0': ('163292582f1c6eaca8e7dc7b51b01c61'\n",
    "                        '5b0dbc0039699b4dcd0b975cc21533dc',\n",
    "                        'c1421ad80a9fc67c2cc4000f666aa507'\n",
    "                        '89ce39eedb4e06d531b0c593890ccff3'),\n",
    "    'efficientnet-b1': ('d0a71ddf51ef7a0ca425bab32b7fa7f1'\n",
    "                        '6043ee598ecee73fc674d9560c8f09b0',\n",
    "                        '75de265d03ac52fa74f2f510455ba64f'\n",
    "                        '9c7c5fd96dc923cd4bfefa3d680c4b68'),\n",
    "    'efficientnet-b2': ('bb5451507a6418a574534aa76a91b106'\n",
    "                        'f6b605f3b5dde0b21055694319853086',\n",
    "                        '433b60584fafba1ea3de07443b74cfd3'\n",
    "                        '2ce004a012020b07ef69e22ba8669333'),\n",
    "    'efficientnet-b3': ('03f1fba367f070bd2545f081cfa7f3e7'\n",
    "                        '6f5e1aa3b6f4db700f00552901e75ab9',\n",
    "                        'c5d42eb6cfae8567b418ad3845cfd63a'\n",
    "                        'a48b87f1bd5df8658a49375a9f3135c7'),\n",
    "    'efficientnet-b4': ('98852de93f74d9833c8640474b2c698d'\n",
    "                        'b45ec60690c75b3bacb1845e907bf94f',\n",
    "                        '7942c1407ff1feb34113995864970cd4'\n",
    "                        'd9d91ea64877e8d9c38b6c1e0767c411'),\n",
    "    'efficientnet-b5': ('30172f1d45f9b8a41352d4219bf930ee'\n",
    "                        '3339025fd26ab314a817ba8918fefc7d',\n",
    "                        '9d197bc2bfe29165c10a2af8c2ebc675'\n",
    "                        '07f5d70456f09e584c71b822941b1952'),\n",
    "    'efficientnet-b6': ('f5270466747753485a082092ac9939ca'\n",
    "                        'a546eb3f09edca6d6fff842cad938720',\n",
    "                        '1d0923bb038f2f8060faaf0a0449db4b'\n",
    "                        '96549a881747b7c7678724ac79f427ed'),\n",
    "    'efficientnet-b7': ('876a41319980638fa597acbbf956a82d'\n",
    "                        '10819531ff2dcb1a52277f10c7aefa1a',\n",
    "                        '60b56ff3a8daccc8d96edfd40b204c11'\n",
    "                        '3e51748da657afd58034d54d3cec2bac')\n",
    "}\n",
    "\n",
    "NS_WEIGHTS_PATH = 'https://github.com/qubvel/efficientnet/releases/download/v0.0.1/'\n",
    "NS_WEIGHTS_HASHES = {\n",
    "    'efficientnet-b0': ('5e376ca93bc6ba60f5245d13d44e4323', 'a5b48ae7547fc990c7e4f3951230290d'),\n",
    "    'efficientnet-b1': ('79d29151fdaec95ac78e1ca97fc09634', '4d35baa41ca36f175506a33918f7e334'),\n",
    "    'efficientnet-b2': ('8c643222ffb73a2bfdbdf90f2cde01af', 'e496e531f41242598288ff3a4b4199f9'),\n",
    "    'efficientnet-b3': ('3b29e32602dad75d1f575d9ded00f930', '47da5b154de1372b557a65795d3e6135'),\n",
    "    'efficientnet-b4': ('c000bfa03bf3c93557851b4e1fe18f51', '47c10902a4949eec589ab92fe1c35ed8'),\n",
    "    'efficientnet-b5': ('8a920cd4ee793f53c251a1ecd3a5cee6', '4d53ef3544d4114e2d8080d6d777a74c'),\n",
    "    'efficientnet-b6': ('cc69df409516ab57e30e51016326853e', '71f96d7e15d9f891f3729b4f4e701f77'),\n",
    "    'efficientnet-b7': ('1ac825752cbc26901c8952e030ae4dd9', 'e112b00c464fe929b821edbb35d1af55')\n",
    "}"
   ]
  },
  {
   "cell_type": "code",
   "execution_count": 59,
   "metadata": {
    "id": "C_BS2wFnte-h"
   },
   "outputs": [],
   "source": [
    "_KERAS_BACKEND = None\n",
    "_KERAS_LAYERS = None\n",
    "_KERAS_MODELS = None\n",
    "_KERAS_UTILS = None\n",
    "\n",
    "def get_submodules_from_kwargs(kwargs):\n",
    "    #backend = kwargs.get('backend', _KERAS_BACKEND)\n",
    "    backend=keras.backend\n",
    "    #layers = kwargs.get('layers', _KERAS_LAYERS)\n",
    "    layers = keras.layers\n",
    "    #models = kwargs.get('models', _KERAS_MODELS)\n",
    "    models = tf.keras.models\n",
    "    utils = kwargs.get('utils', _KERAS_UTILS)\n",
    "    for key in kwargs.keys():\n",
    "        if key not in ['backend', 'layers', 'models', 'utils']:\n",
    "            raise TypeError('Invalid keyword argument: %s', key)\n",
    "    return backend, layers, models, utils"
   ]
  },
  {
   "cell_type": "code",
   "execution_count": 60,
   "metadata": {
    "id": "Ta9ZLlF_tfGo"
   },
   "outputs": [],
   "source": [
    "# Copyright 2019 The TensorFlow Authors, Pavel Yakubovskiy, Björn Barz. All Rights Reserved.\n",
    "#\n",
    "# Licensed under the Apache License, Version 2.0 (the \"License\");\n",
    "# you may not use this file except in compliance with the License.\n",
    "# You may obtain a copy of the License at\n",
    "#\n",
    "#     http://www.apache.org/licenses/LICENSE-2.0\n",
    "#\n",
    "# Unless required by applicable law or agreed to in writing, software\n",
    "# distributed under the License is distributed on an \"AS IS\" BASIS,\n",
    "# WITHOUT WARRANTIES OR CONDITIONS OF ANY KIND, either express or implied.\n",
    "# See the License for the specific language governing permissions and\n",
    "# limitations under the License.\n",
    "# ==============================================================================\n",
    "\"\"\"Contains definitions for EfficientNet model.\n",
    "[1] Mingxing Tan, Quoc V. Le\n",
    "  EfficientNet: Rethinking Model Scaling for Convolutional Neural Networks.\n",
    "  ICML'19, https://arxiv.org/abs/1905.11946\n",
    "\"\"\"\n",
    "\n",
    "# Code of this model implementation is mostly written by\n",
    "# Björn Barz ([@Callidior](https://github.com/Callidior))\n",
    "\n",
    "from __future__ import absolute_import\n",
    "from __future__ import division\n",
    "from __future__ import print_function\n",
    "\n",
    "import os\n",
    "import math\n",
    "import string\n",
    "import collections\n",
    "\n",
    "from six.moves import xrange\n",
    "#from keras_applications.imagenet_utils import _obtain_input_shape\n",
    "#from keras_applications.imagenet_utils import preprocess_input as _preprocess_input\n",
    "\n",
    "#from . import get_submodules_from_kwargs\n",
    "#from .weights import IMAGENET_WEIGHTS_PATH, IMAGENET_WEIGHTS_HASHES, NS_WEIGHTS_HASHES, NS_WEIGHTS_PATH\n",
    "\n",
    "backend = None\n",
    "layers = None\n",
    "models = None\n",
    "keras_utils = None\n",
    "\n",
    "BlockArgs = collections.namedtuple('BlockArgs', [\n",
    "    'kernel_size', 'num_repeat', 'input_filters', 'output_filters',\n",
    "    'expand_ratio', 'id_skip', 'strides', 'se_ratio'\n",
    "])\n",
    "# defaults will be a public argument for namedtuple in Python 3.7\n",
    "# https://docs.python.org/3/library/collections.html#collections.namedtuple\n",
    "BlockArgs.__new__.__defaults__ = (None,) * len(BlockArgs._fields)\n",
    "\n",
    "DEFAULT_BLOCKS_ARGS = [\n",
    "    BlockArgs(kernel_size=3, num_repeat=1, input_filters=32, output_filters=16,\n",
    "              expand_ratio=1, id_skip=True, strides=[1, 1], se_ratio=0.25),\n",
    "    BlockArgs(kernel_size=3, num_repeat=2, input_filters=16, output_filters=24,\n",
    "              expand_ratio=6, id_skip=True, strides=[2, 2], se_ratio=0.25),\n",
    "    BlockArgs(kernel_size=5, num_repeat=2, input_filters=24, output_filters=40,\n",
    "              expand_ratio=6, id_skip=True, strides=[2, 2], se_ratio=0.25),\n",
    "    BlockArgs(kernel_size=3, num_repeat=3, input_filters=40, output_filters=80,\n",
    "              expand_ratio=6, id_skip=True, strides=[2, 2], se_ratio=0.25),\n",
    "    BlockArgs(kernel_size=5, num_repeat=3, input_filters=80, output_filters=112,\n",
    "              expand_ratio=6, id_skip=True, strides=[1, 1], se_ratio=0.25),\n",
    "    BlockArgs(kernel_size=5, num_repeat=4, input_filters=112, output_filters=192,\n",
    "              expand_ratio=6, id_skip=True, strides=[2, 2], se_ratio=0.25),\n",
    "    BlockArgs(kernel_size=3, num_repeat=1, input_filters=192, output_filters=320,\n",
    "              expand_ratio=6, id_skip=True, strides=[1, 1], se_ratio=0.25)\n",
    "]\n",
    "\n",
    "CONV_KERNEL_INITIALIZER = {\n",
    "    'class_name': 'VarianceScaling',\n",
    "    'config': {\n",
    "        'scale': 2.0,\n",
    "        'mode': 'fan_out',\n",
    "        # EfficientNet actually uses an untruncated normal distribution for\n",
    "        # initializing conv layers, but keras.initializers.VarianceScaling use\n",
    "        # a truncated distribution.\n",
    "        # We decided against a custom initializer for better serializability.\n",
    "        'distribution': 'normal'\n",
    "    }\n",
    "}\n",
    "\n",
    "DENSE_KERNEL_INITIALIZER = {\n",
    "    'class_name': 'VarianceScaling',\n",
    "    'config': {\n",
    "        'scale': 1. / 3.,\n",
    "        'mode': 'fan_out',\n",
    "        'distribution': 'uniform'\n",
    "    }\n",
    "}\n",
    "\n",
    "\n",
    "def preprocess_input(x, **kwargs):\n",
    "    kwargs = {k: v for k, v in kwargs.items() if k in ['backend', 'layers', 'models', 'utils']}\n",
    "    return _preprocess_input(x, mode='torch', **kwargs)\n",
    "\n",
    "\n",
    "def get_swish(**kwargs):\n",
    "    backend, layers, models, keras_utils = get_submodules_from_kwargs(kwargs)\n",
    "\n",
    "    def swish(x):\n",
    "        \"\"\"Swish activation function: x * sigmoid(x).\n",
    "        Reference: [Searching for Activation Functions](https://arxiv.org/abs/1710.05941)\n",
    "        \"\"\"\n",
    "\n",
    "        if backend.backend() == 'tensorflow':\n",
    "            try:\n",
    "                # The native TF implementation has a more\n",
    "                # memory-efficient gradient implementation\n",
    "                return backend.tf.nn.swish(x)\n",
    "            except AttributeError:\n",
    "                pass\n",
    "\n",
    "        return x * backend.sigmoid(x)\n",
    "\n",
    "    return swish\n",
    "\n",
    "\n",
    "def get_dropout(**kwargs):\n",
    "    \"\"\"Wrapper over custom dropout. Fix problem of ``None`` shape for tf.keras.\n",
    "    It is not possible to define FixedDropout class as global object,\n",
    "    because we do not have modules for inheritance at first time.\n",
    "    Issue:\n",
    "        https://github.com/tensorflow/tensorflow/issues/30946\n",
    "    \"\"\"\n",
    "    backend, layers, models, keras_utils = get_submodules_from_kwargs(kwargs)\n",
    "\n",
    "    class FixedDropout(layers.Dropout):\n",
    "        def _get_noise_shape(self, inputs):\n",
    "            if self.noise_shape is None:\n",
    "                return self.noise_shape\n",
    "\n",
    "            symbolic_shape = backend.shape(inputs)\n",
    "            noise_shape = [symbolic_shape[axis] if shape is None else shape\n",
    "                           for axis, shape in enumerate(self.noise_shape)]\n",
    "            return tuple(noise_shape)\n",
    "\n",
    "    #return FixedDropout\n",
    "    return Dropout\n",
    "\n",
    "\n",
    "def round_filters(filters, width_coefficient, depth_divisor):\n",
    "    \"\"\"Round number of filters based on width multiplier.\"\"\"\n",
    "\n",
    "    filters *= width_coefficient\n",
    "    new_filters = int(filters + depth_divisor / 2) // depth_divisor * depth_divisor\n",
    "    new_filters = max(depth_divisor, new_filters)\n",
    "    # Make sure that round down does not go down by more than 10%.\n",
    "    if new_filters < 0.9 * filters:\n",
    "        new_filters += depth_divisor\n",
    "    return int(new_filters)\n",
    "\n",
    "\n",
    "def round_repeats(repeats, depth_coefficient):\n",
    "    \"\"\"Round number of repeats based on depth multiplier.\"\"\"\n",
    "\n",
    "    return int(math.ceil(depth_coefficient * repeats))\n",
    "\n",
    "\n",
    "def mb_conv_block(inputs, block_args, activation, drop_rate=None, prefix='', ):\n",
    "    \"\"\"Mobile Inverted Residual Bottleneck.\"\"\"\n",
    "\n",
    "    has_se = (block_args.se_ratio is not None) and (0 < block_args.se_ratio <= 1)\n",
    "    bn_axis = 3 if backend.image_data_format() == 'channels_last' else 1\n",
    "\n",
    "    # workaround over non working dropout with None in noise_shape in tf.keras\n",
    "    Dropout = get_dropout(\n",
    "        backend=backend,\n",
    "        layers=layers,\n",
    "        models=models,\n",
    "        utils=keras_utils\n",
    "    )\n",
    "\n",
    "    # Expansion phase\n",
    "    filters = block_args.input_filters * block_args.expand_ratio\n",
    "    if block_args.expand_ratio != 1:\n",
    "        x = layers.Conv2D(filters, 1,\n",
    "                          padding='same',\n",
    "                          use_bias=False,\n",
    "                          kernel_initializer=CONV_KERNEL_INITIALIZER,\n",
    "                          name=prefix + 'expand_conv')(inputs)\n",
    "        x = layers.BatchNormalization(axis=bn_axis, name=prefix + 'expand_bn')(x)\n",
    "        x = layers.Activation(activation, name=prefix + 'expand_activation')(x)\n",
    "    else:\n",
    "        x = inputs\n",
    "\n",
    "    # Depthwise Convolution\n",
    "    x = layers.DepthwiseConv2D(block_args.kernel_size,\n",
    "                               strides=block_args.strides,\n",
    "                               padding='same',\n",
    "                               use_bias=False,\n",
    "                               depthwise_initializer=CONV_KERNEL_INITIALIZER,\n",
    "                               name=prefix + 'dwconv')(x)\n",
    "    x = layers.BatchNormalization(axis=bn_axis, name=prefix + 'bn')(x)\n",
    "    x = layers.Activation(activation, name=prefix + 'activation')(x)\n",
    "\n",
    "    # Squeeze and Excitation phase\n",
    "    if has_se:\n",
    "        num_reduced_filters = max(1, int(\n",
    "            block_args.input_filters * block_args.se_ratio\n",
    "        ))\n",
    "        se_tensor = layers.GlobalAveragePooling2D(name=prefix + 'se_squeeze')(x)\n",
    "\n",
    "        target_shape = (1, 1, filters) if backend.image_data_format() == 'channels_last' else (filters, 1, 1)\n",
    "        se_tensor = layers.Reshape(target_shape, name=prefix + 'se_reshape')(se_tensor)\n",
    "        se_tensor = layers.Conv2D(num_reduced_filters, 1,\n",
    "                                  activation=activation,\n",
    "                                  padding='same',\n",
    "                                  use_bias=True,\n",
    "                                  kernel_initializer=CONV_KERNEL_INITIALIZER,\n",
    "                                  name=prefix + 'se_reduce')(se_tensor)\n",
    "        se_tensor = layers.Conv2D(filters, 1,\n",
    "                                  activation='sigmoid',\n",
    "                                  padding='same',\n",
    "                                  use_bias=True,\n",
    "                                  kernel_initializer=CONV_KERNEL_INITIALIZER,\n",
    "                                  name=prefix + 'se_expand')(se_tensor)\n",
    "        if backend.backend() == 'theano':\n",
    "            # For the Theano backend, we have to explicitly make\n",
    "            # the excitation weights broadcastable.\n",
    "            pattern = ([True, True, True, False] if backend.image_data_format() == 'channels_last'\n",
    "                       else [True, False, True, True])\n",
    "            se_tensor = layers.Lambda(\n",
    "                lambda x: backend.pattern_broadcast(x, pattern),\n",
    "                name=prefix + 'se_broadcast')(se_tensor)\n",
    "        x = layers.multiply([x, se_tensor], name=prefix + 'se_excite')\n",
    "\n",
    "    # Output phase\n",
    "    x = layers.Conv2D(block_args.output_filters, 1,\n",
    "                      padding='same',\n",
    "                      use_bias=False,\n",
    "                      kernel_initializer=CONV_KERNEL_INITIALIZER,\n",
    "                      name=prefix + 'project_conv')(x)\n",
    "    x = layers.BatchNormalization(axis=bn_axis, name=prefix + 'project_bn')(x)\n",
    "    if block_args.id_skip and all(\n",
    "            s == 1 for s in block_args.strides\n",
    "    ) and block_args.input_filters == block_args.output_filters:\n",
    "        if drop_rate and (drop_rate > 0):\n",
    "            x = Dropout(drop_rate,\n",
    "                        noise_shape=(None, 1, 1, 1),\n",
    "                        name=prefix + 'drop')(x)\n",
    "        x = layers.add([x, inputs], name=prefix + 'add')\n",
    "\n",
    "    return x\n",
    "\n",
    "\n",
    "def EfficientNet(width_coefficient,\n",
    "                 depth_coefficient,\n",
    "                 default_resolution,\n",
    "                 dropout_rate=0.2,\n",
    "                 drop_connect_rate=0.2,\n",
    "                 depth_divisor=8,\n",
    "                 blocks_args=DEFAULT_BLOCKS_ARGS,\n",
    "                 model_name='efficientnet',\n",
    "                 include_top=True,\n",
    "                 weights='imagenet',\n",
    "                 input_tensor=None,\n",
    "                 input_shape=None,\n",
    "                 pooling=None,\n",
    "                 classes=1000,\n",
    "                 **kwargs):\n",
    "    \"\"\"Instantiates the EfficientNet architecture using given scaling coefficients.\n",
    "    Optionally loads weights pre-trained on ImageNet.\n",
    "    Note that the data format convention used by the model is\n",
    "    the one specified in your Keras config at `~/.keras/keras.json`.\n",
    "    # Arguments\n",
    "        width_coefficient: float, scaling coefficient for network width.\n",
    "        depth_coefficient: float, scaling coefficient for network depth.\n",
    "        default_resolution: int, default input image size.\n",
    "        dropout_rate: float, dropout rate before final classifier layer.\n",
    "        drop_connect_rate: float, dropout rate at skip connections.\n",
    "        depth_divisor: int.\n",
    "        blocks_args: A list of BlockArgs to construct block modules.\n",
    "        model_name: string, model name.\n",
    "        include_top: whether to include the fully-connected\n",
    "            layer at the top of the network.\n",
    "        weights: one of `None` (random initialization),\n",
    "              'imagenet' (pre-training on ImageNet),\n",
    "              or the path to the weights file to be loaded.\n",
    "        input_tensor: optional Keras tensor\n",
    "            (i.e. output of `layers.Input()`)\n",
    "            to use as image input for the model.\n",
    "        input_shape: optional shape tuple, only to be specified\n",
    "            if `include_top` is False.\n",
    "            It should have exactly 3 inputs channels.\n",
    "        pooling: optional pooling mode for feature extraction\n",
    "            when `include_top` is `False`.\n",
    "            - `None` means that the output of the model will be\n",
    "                the 4D tensor output of the\n",
    "                last convolutional layer.\n",
    "            - `avg` means that global average pooling\n",
    "                will be applied to the output of the\n",
    "                last convolutional layer, and thus\n",
    "                the output of the model will be a 2D tensor.\n",
    "            - `max` means that global max pooling will\n",
    "                be applied.\n",
    "        classes: optional number of classes to classify images\n",
    "            into, only to be specified if `include_top` is True, and\n",
    "            if no `weights` argument is specified.\n",
    "    # Returns\n",
    "        A Keras model instance.\n",
    "    # Raises\n",
    "        ValueError: in case of invalid argument for `weights`,\n",
    "            or invalid input shape.\n",
    "    \"\"\"\n",
    "    global backend, layers, models, keras_utils\n",
    "    backend, layers, models, keras_utils = get_submodules_from_kwargs(kwargs)\n",
    "\n",
    "    if not (weights in {'imagenet', 'noisy-student', None} or os.path.exists(weights)):\n",
    "        raise ValueError('The `weights` argument should be either '\n",
    "                         '`None` (random initialization), `imagenet` '\n",
    "                         '(pre-training on ImageNet), '\n",
    "                         'or the path to the weights file to be loaded.')\n",
    "\n",
    "    if weights == 'imagenet' and include_top and classes != 1000:\n",
    "        raise ValueError('If using `weights` as `\"imagenet\"` with `include_top`'\n",
    "                         ' as true, `classes` should be 1000')\n",
    "\n",
    "    # Determine proper input shape\n",
    "    input_shape = _obtain_input_shape(input_shape,\n",
    "                                      default_size=default_resolution,\n",
    "                                      min_size=32,\n",
    "                                      data_format=backend.image_data_format(),\n",
    "                                      require_flatten=include_top,\n",
    "                                      weights=weights)\n",
    "\n",
    "    if input_tensor is None:\n",
    "        img_input = layers.Input(shape=input_shape)\n",
    "    else:\n",
    "        if backend.backend() == 'tensorflow':\n",
    "            from tensorflow.python.keras.backend import is_keras_tensor\n",
    "        else:\n",
    "            is_keras_tensor = backend.is_keras_tensor\n",
    "        if not is_keras_tensor(input_tensor):\n",
    "            img_input = layers.Input(tensor=input_tensor, shape=input_shape)\n",
    "        else:\n",
    "            img_input = input_tensor\n",
    "\n",
    "    bn_axis = 3 if backend.image_data_format() == 'channels_last' else 1\n",
    "    #activation = get_swish(**kwargs)\n",
    "    activation = \"relu\"\n",
    "\n",
    "    # Build stem\n",
    "    x = img_input\n",
    "    x = layers.Conv2D(round_filters(32, width_coefficient, depth_divisor), 3,\n",
    "                      strides=(2, 2),\n",
    "                      padding='same',\n",
    "                      use_bias=False,\n",
    "                      kernel_initializer=CONV_KERNEL_INITIALIZER,\n",
    "                      name='stem_conv')(x)\n",
    "    x = layers.BatchNormalization(axis=bn_axis, name='stem_bn')(x)\n",
    "    x = layers.Activation(activation, name='stem_activation')(x)\n",
    "\n",
    "    # Build blocks\n",
    "    num_blocks_total = sum(block_args.num_repeat for block_args in blocks_args)\n",
    "    block_num = 0\n",
    "    for idx, block_args in enumerate(blocks_args):\n",
    "        assert block_args.num_repeat > 0\n",
    "        # Update block input and output filters based on depth multiplier.\n",
    "        block_args = block_args._replace(\n",
    "            input_filters=round_filters(block_args.input_filters,\n",
    "                                        width_coefficient, depth_divisor),\n",
    "            output_filters=round_filters(block_args.output_filters,\n",
    "                                         width_coefficient, depth_divisor),\n",
    "            num_repeat=round_repeats(block_args.num_repeat, depth_coefficient))\n",
    "\n",
    "        # The first block needs to take care of stride and filter size increase.\n",
    "        drop_rate = drop_connect_rate * float(block_num) / num_blocks_total\n",
    "        x = mb_conv_block(x, block_args,\n",
    "                          activation=activation,\n",
    "                          drop_rate=drop_rate,\n",
    "                          prefix='block{}a_'.format(idx + 1))\n",
    "        block_num += 1\n",
    "        if block_args.num_repeat > 1:\n",
    "            # pylint: disable=protected-access\n",
    "            block_args = block_args._replace(\n",
    "                input_filters=block_args.output_filters, strides=[1, 1])\n",
    "            # pylint: enable=protected-access\n",
    "            for bidx in xrange(block_args.num_repeat - 1):\n",
    "                drop_rate = drop_connect_rate * float(block_num) / num_blocks_total\n",
    "                block_prefix = 'block{}{}_'.format(\n",
    "                    idx + 1,\n",
    "                    string.ascii_lowercase[bidx + 1]\n",
    "                )\n",
    "                x = mb_conv_block(x, block_args,\n",
    "                                  activation=activation,\n",
    "                                  drop_rate=drop_rate,\n",
    "                                  prefix=block_prefix)\n",
    "                block_num += 1\n",
    "\n",
    "    # Build top\n",
    "    x = layers.Conv2D(round_filters(1280, width_coefficient, depth_divisor), 1,\n",
    "                      padding='same',\n",
    "                      use_bias=False,\n",
    "                      kernel_initializer=CONV_KERNEL_INITIALIZER,\n",
    "                      name='top_conv')(x)\n",
    "    x = layers.BatchNormalization(axis=bn_axis, name='top_bn')(x)\n",
    "    x = layers.Activation(activation, name='top_activation')(x)\n",
    "    if include_top:\n",
    "        x = layers.GlobalAveragePooling2D(name='avg_pool')(x)\n",
    "        if dropout_rate and dropout_rate > 0:\n",
    "            x = layers.Dropout(dropout_rate, name='top_dropout')(x)\n",
    "        x = layers.Dense(classes,\n",
    "                         activation='softmax',\n",
    "                         kernel_initializer=DENSE_KERNEL_INITIALIZER,\n",
    "                         name='probs')(x)\n",
    "    else:\n",
    "        if pooling == 'avg':\n",
    "            x = layers.GlobalAveragePooling2D(name='avg_pool')(x)\n",
    "        elif pooling == 'max':\n",
    "            x = layers.GlobalMaxPooling2D(name='max_pool')(x)\n",
    "\n",
    "    # Ensure that the model takes into account\n",
    "    # any potential predecessors of `input_tensor`.\n",
    "    if input_tensor is not None:\n",
    "        inputs = keras_utils.get_source_inputs(input_tensor)\n",
    "    else:\n",
    "        inputs = img_input\n",
    "\n",
    "    # Create model.\n",
    "    model = models.Model(inputs, x, name=model_name)\n",
    "\n",
    "    # Load weights.\n",
    "    if weights == 'imagenet':\n",
    "\n",
    "        if include_top:\n",
    "            file_name = model_name + '_weights_tf_dim_ordering_tf_kernels_autoaugment.h5'\n",
    "            file_hash = IMAGENET_WEIGHTS_HASHES[model_name][0]\n",
    "        else:\n",
    "            file_name = model_name + '_weights_tf_dim_ordering_tf_kernels_autoaugment_notop.h5'\n",
    "            file_hash = IMAGENET_WEIGHTS_HASHES[model_name][1]\n",
    "        weights_path = keras_utils.get_file(\n",
    "            file_name,\n",
    "            IMAGENET_WEIGHTS_PATH + file_name,\n",
    "            cache_subdir='models',\n",
    "            file_hash=file_hash,\n",
    "        )\n",
    "        model.load_weights(weights_path)\n",
    "\n",
    "    elif weights == 'noisy-student':\n",
    "\n",
    "        if include_top:\n",
    "            file_name = \"{}_{}.h5\".format(model_name, weights)\n",
    "            file_hash = NS_WEIGHTS_HASHES[model_name][0]\n",
    "        else:\n",
    "            file_name = \"{}_{}_notop.h5\".format(model_name, weights)\n",
    "            file_hash = NS_WEIGHTS_HASHES[model_name][1]\n",
    "        weights_path = keras_utils.get_file(\n",
    "            file_name,\n",
    "            NS_WEIGHTS_PATH + file_name,\n",
    "            cache_subdir='models',\n",
    "            file_hash=file_hash,\n",
    "        )\n",
    "        model.load_weights(weights_path)\n",
    "\n",
    "    elif weights is not None:\n",
    "        model.load_weights(weights)\n",
    "\n",
    "    return model\n",
    "\n",
    "\n",
    "def EfficientNetB0(\n",
    "        include_top=True,\n",
    "        weights='imagenet',\n",
    "        input_tensor=None,\n",
    "        input_shape=None,\n",
    "        pooling=None,\n",
    "        classes=1000,\n",
    "        **kwargs\n",
    "):\n",
    "    return EfficientNet(\n",
    "        1.0, 1.0, 224, 0.2,\n",
    "        model_name='efficientnet-b0',\n",
    "        include_top=include_top, weights=weights,\n",
    "        input_tensor=input_tensor, input_shape=input_shape,\n",
    "        pooling=pooling, classes=classes,\n",
    "        **kwargs\n",
    "    )\n",
    "\n",
    "\n",
    "def EfficientNetB1(\n",
    "        include_top=True,\n",
    "        weights='imagenet',\n",
    "        input_tensor=None,\n",
    "        input_shape=None,\n",
    "        pooling=None,\n",
    "        classes=1000,\n",
    "        **kwargs\n",
    "):\n",
    "    return EfficientNet(\n",
    "        1.0, 1.1, 240, 0.2,\n",
    "        model_name='efficientnet-b1',\n",
    "        include_top=include_top, weights=weights,\n",
    "        input_tensor=input_tensor, input_shape=input_shape,\n",
    "        pooling=pooling, classes=classes,\n",
    "        **kwargs\n",
    "    )\n",
    "\n",
    "\n",
    "def EfficientNetB2(include_top=True,\n",
    "                   weights='imagenet',\n",
    "                   input_tensor=None,\n",
    "                   input_shape=None,\n",
    "                   pooling=None,\n",
    "                   classes=1000,\n",
    "                   **kwargs):\n",
    "    return EfficientNet(\n",
    "        1.1, 1.2, 260, 0.3,\n",
    "        model_name='efficientnet-b2',\n",
    "        include_top=include_top, weights=weights,\n",
    "        input_tensor=input_tensor, input_shape=input_shape,\n",
    "        pooling=pooling, classes=classes,\n",
    "        **kwargs\n",
    "    )\n",
    "\n",
    "\n",
    "def EfficientNetB3(include_top=True,\n",
    "                   weights='imagenet',\n",
    "                   input_tensor=None,\n",
    "                   input_shape=None,\n",
    "                   pooling=None,\n",
    "                   classes=1000,\n",
    "                   **kwargs):\n",
    "    return EfficientNet(\n",
    "        1.2, 1.4, 300, 0.3,\n",
    "        model_name='efficientnet-b3',\n",
    "        include_top=include_top, weights=weights,\n",
    "        input_tensor=input_tensor, input_shape=input_shape,\n",
    "        pooling=pooling, classes=classes,\n",
    "        **kwargs\n",
    "    )\n",
    "\n",
    "\n",
    "def EfficientNetB4(\n",
    "        include_top=True,\n",
    "        weights='imagenet',\n",
    "        input_tensor=None,\n",
    "        input_shape=None,\n",
    "        pooling=None,\n",
    "        classes=1000,\n",
    "        **kwargs\n",
    "):\n",
    "    return EfficientNet(\n",
    "        1.4, 1.8, 380, 0.4,\n",
    "        model_name='efficientnet-b4',\n",
    "        include_top=include_top, weights=weights,\n",
    "        input_tensor=input_tensor, input_shape=input_shape,\n",
    "        pooling=pooling, classes=classes,\n",
    "        **kwargs\n",
    "    )\n",
    "\n",
    "\n",
    "def EfficientNetB5(\n",
    "        include_top=True,\n",
    "        weights='imagenet',\n",
    "        input_tensor=None,\n",
    "        input_shape=None,\n",
    "        pooling=None,\n",
    "        classes=1000,\n",
    "        **kwargs\n",
    "):\n",
    "    return EfficientNet(\n",
    "        1.6, 2.2, 456, 0.4,\n",
    "        model_name='efficientnet-b5',\n",
    "        include_top=include_top, weights=weights,\n",
    "        input_tensor=input_tensor, input_shape=input_shape,\n",
    "        pooling=pooling, classes=classes,\n",
    "        **kwargs\n",
    "    )\n",
    "\n",
    "\n",
    "def EfficientNetB6(\n",
    "        include_top=True,\n",
    "        weights='imagenet',\n",
    "        input_tensor=None,\n",
    "        input_shape=None,\n",
    "        pooling=None,\n",
    "        classes=1000,\n",
    "        **kwargs\n",
    "):\n",
    "    return EfficientNet(\n",
    "        1.8, 2.6, 528, 0.5,\n",
    "        model_name='efficientnet-b6',\n",
    "        include_top=include_top, weights=weights,\n",
    "        input_tensor=input_tensor, input_shape=input_shape,\n",
    "        pooling=pooling, classes=classes,\n",
    "        **kwargs\n",
    "    )\n",
    "\n",
    "\n",
    "def EfficientNetB7(\n",
    "        include_top=True,\n",
    "        weights='imagenet',\n",
    "        input_tensor=None,\n",
    "        input_shape=None,\n",
    "        pooling=None,\n",
    "        classes=1000,\n",
    "        **kwargs\n",
    "):\n",
    "    return EfficientNet(\n",
    "        2.0, 3.1, 600, 0.5,\n",
    "        model_name='efficientnet-b7',\n",
    "        include_top=include_top, weights=weights,\n",
    "        input_tensor=input_tensor, input_shape=input_shape,\n",
    "        pooling=pooling, classes=classes,\n",
    "        **kwargs\n",
    "    )\n",
    "\n",
    "\n",
    "def EfficientNetL2(\n",
    "        include_top=True,\n",
    "        weights='imagenet',\n",
    "        input_tensor=None,\n",
    "        input_shape=None,\n",
    "        pooling=None,\n",
    "        classes=1000,\n",
    "        **kwargs\n",
    "):\n",
    "    return EfficientNet(\n",
    "        4.3, 5.3, 800, 0.5,\n",
    "        model_name='efficientnet-l2',\n",
    "        include_top=include_top, weights=weights,\n",
    "        input_tensor=input_tensor, input_shape=input_shape,\n",
    "        pooling=pooling, classes=classes,\n",
    "        **kwargs\n",
    "    )\n",
    "\n",
    "setattr(EfficientNetB0, '__doc__', EfficientNet.__doc__)\n",
    "setattr(EfficientNetB1, '__doc__', EfficientNet.__doc__)\n",
    "setattr(EfficientNetB2, '__doc__', EfficientNet.__doc__)\n",
    "setattr(EfficientNetB3, '__doc__', EfficientNet.__doc__)\n",
    "setattr(EfficientNetB4, '__doc__', EfficientNet.__doc__)\n",
    "setattr(EfficientNetB5, '__doc__', EfficientNet.__doc__)\n",
    "setattr(EfficientNetB6, '__doc__', EfficientNet.__doc__)\n",
    "setattr(EfficientNetB7, '__doc__', EfficientNet.__doc__)\n",
    "setattr(EfficientNetL2, '__doc__', EfficientNet.__doc__)"
   ]
  },
  {
   "cell_type": "markdown",
   "metadata": {
    "id": "jzz3VriTtzsc"
   },
   "source": [
    "# Configurando EfficientNet modificada como en IBM Watson para obtener capa tipo modelo.\n"
   ]
  },
  {
   "cell_type": "code",
   "execution_count": 61,
   "metadata": {
    "id": "vRFijR0ntfOq"
   },
   "outputs": [],
   "source": [
    "def inject_tfkeras_modules(func):\n",
    "    import tensorflow.keras as tfkeras\n",
    "    #@functools.wraps(func)\n",
    "    def wrapper(*args, **kwargs):\n",
    "        kwargs['backend'] = tfkeras.backend\n",
    "        kwargs['layers'] = tfkeras.layers\n",
    "        kwargs['models'] = tfkeras.models\n",
    "        kwargs['utils'] = tfkeras.utils\n",
    "        return func(*args, **kwargs)\n",
    "\n",
    "    return wrapper"
   ]
  },
  {
   "cell_type": "code",
   "execution_count": 62,
   "metadata": {
    "id": "8Fzolxo2tfW2"
   },
   "outputs": [],
   "source": [
    "EfficientNetB0 = inject_tfkeras_modules(EfficientNetB0)\n",
    "EfficientNetB1 = inject_tfkeras_modules(EfficientNetB1)\n",
    "EfficientNetB2 = inject_tfkeras_modules(EfficientNetB2)\n",
    "EfficientNetB3 = inject_tfkeras_modules(EfficientNetB3)\n",
    "EfficientNetB4 = inject_tfkeras_modules(EfficientNetB4)\n",
    "EfficientNetB5 = inject_tfkeras_modules(EfficientNetB5)\n",
    "EfficientNetB6 = inject_tfkeras_modules(EfficientNetB6)\n",
    "EfficientNetB7 = inject_tfkeras_modules(EfficientNetB7)\n",
    "EfficientNetL2 = inject_tfkeras_modules(EfficientNetL2)"
   ]
  },
  {
   "cell_type": "markdown",
   "metadata": {
    "id": "MNKuKCIvuBG8"
   },
   "source": [
    "# Arquitectura del modelo EfficientNet modeificida que fue desplegada en IBM Watson.\n",
    "\n"
   ]
  },
  {
   "cell_type": "code",
   "execution_count": 63,
   "metadata": {
    "id": "B-OGyW9DtfyU"
   },
   "outputs": [],
   "source": [
    "dropout = 0.2"
   ]
  },
  {
   "cell_type": "code",
   "execution_count": 64,
   "metadata": {
    "id": "wsr4mUfTuWfd"
   },
   "outputs": [],
   "source": [
    "# Dfiniendo modelo EfficentNet desplegado en IBM Watson\n",
    "rnet_ibm = EfficientNetB7(weights=None, include_top=False, input_shape=[128,128,3])\n",
    "rnet_ibm = tf.keras.Sequential(rnet_ibm)\n",
    "rnet_ibm.add(Dropout(rate=dropout))\n",
    "rnet_ibm.add(Flatten())\n",
    "rnet_ibm.add(Dense(4096, activation='relu'))\n",
    "rnet_ibm.add(Dropout(rate=dropout))\n",
    "rnet_ibm.add(Dense(4096, activation='relu'))\n",
    "rnet_ibm.add(Dropout(rate=dropout))\n",
    "rnet_ibm.add(Dense(1, activation='sigmoid'))"
   ]
  },
  {
   "cell_type": "code",
   "execution_count": 65,
   "metadata": {
    "colab": {
     "base_uri": "https://localhost:8080/"
    },
    "id": "ED4Ga6jpuWmg",
    "outputId": "c0ead5a4-337c-4158-b638-a01db32c0bdc"
   },
   "outputs": [
    {
     "data": {
      "text/plain": [
       "[<tensorflow.python.keras.engine.functional.Functional at 0x7fed39dc3e80>,\n",
       " <tensorflow.python.keras.layers.core.Dropout at 0x7fed2e3f1748>,\n",
       " <tensorflow.python.keras.layers.core.Flatten at 0x7fed39d4d048>,\n",
       " <tensorflow.python.keras.layers.core.Dense at 0x7fed39624358>,\n",
       " <tensorflow.python.keras.layers.core.Dropout at 0x7fed39624f98>,\n",
       " <tensorflow.python.keras.layers.core.Dense at 0x7fed39629898>,\n",
       " <tensorflow.python.keras.layers.core.Dropout at 0x7fed39629d68>,\n",
       " <tensorflow.python.keras.layers.core.Dense at 0x7fed39624588>]"
      ]
     },
     "execution_count": 65,
     "metadata": {
      "tags": []
     },
     "output_type": "execute_result"
    }
   ],
   "source": [
    "rnet_ibm.layers"
   ]
  },
  {
   "cell_type": "code",
   "execution_count": 66,
   "metadata": {
    "colab": {
     "base_uri": "https://localhost:8080/"
    },
    "id": "H1gCRri1uWum",
    "outputId": "c694d5aa-122d-46da-ed30-15b317cc09a7"
   },
   "outputs": [
    {
     "name": "stdout",
     "output_type": "stream",
     "text": [
      "Model: \"sequential_1\"\n",
      "_________________________________________________________________\n",
      "Layer (type)                 Output Shape              Param #   \n",
      "=================================================================\n",
      "efficientnet-b7 (Functional) (None, 4, 4, 2560)        64097680  \n",
      "_________________________________________________________________\n",
      "dropout_3 (Dropout)          (None, 4, 4, 2560)        0         \n",
      "_________________________________________________________________\n",
      "flatten_1 (Flatten)          (None, 40960)             0         \n",
      "_________________________________________________________________\n",
      "dense_3 (Dense)              (None, 4096)              167776256 \n",
      "_________________________________________________________________\n",
      "dropout_4 (Dropout)          (None, 4096)              0         \n",
      "_________________________________________________________________\n",
      "dense_4 (Dense)              (None, 4096)              16781312  \n",
      "_________________________________________________________________\n",
      "dropout_5 (Dropout)          (None, 4096)              0         \n",
      "_________________________________________________________________\n",
      "dense_5 (Dense)              (None, 1)                 4097      \n",
      "=================================================================\n",
      "Total params: 248,659,345\n",
      "Trainable params: 248,348,625\n",
      "Non-trainable params: 310,720\n",
      "_________________________________________________________________\n"
     ]
    }
   ],
   "source": [
    "rnet_ibm.summary()"
   ]
  },
  {
   "cell_type": "code",
   "execution_count": 67,
   "metadata": {
    "colab": {
     "base_uri": "https://localhost:8080/"
    },
    "id": "hsqJz1wcuW1z",
    "outputId": "2a2e7d7b-ca2a-4cf3-f878-9c519d90f0c6"
   },
   "outputs": [
    {
     "data": {
      "text/plain": [
       "tensorflow.python.keras.engine.sequential.Sequential"
      ]
     },
     "execution_count": 67,
     "metadata": {
      "tags": []
     },
     "output_type": "execute_result"
    }
   ],
   "source": [
    "type(rnet_ibm)"
   ]
  },
  {
   "cell_type": "code",
   "execution_count": 68,
   "metadata": {
    "id": "TRc1Lh1luW74"
   },
   "outputs": [],
   "source": [
    "# Cargando los pesos entrenados en Kaggle\n",
    "rnet_ibm.load_weights('EFNB7_weights.h5')"
   ]
  },
  {
   "cell_type": "markdown",
   "metadata": {
    "id": "d2-tdQdGwwAk"
   },
   "source": [
    "Realizando predicción con la imagen de ejemplo"
   ]
  },
  {
   "cell_type": "code",
   "execution_count": 69,
   "metadata": {
    "colab": {
     "base_uri": "https://localhost:8080/"
    },
    "id": "D3b3a0cBwtFf",
    "outputId": "24e54a2f-1f34-4b0a-c16d-dcb55a382061"
   },
   "outputs": [
    {
     "data": {
      "text/plain": [
       "array([[0.02154894]], dtype=float32)"
      ]
     },
     "execution_count": 69,
     "metadata": {
      "tags": []
     },
     "output_type": "execute_result"
    }
   ],
   "source": [
    "rnet_ibm.predict(X_prueba_128)"
   ]
  },
  {
   "cell_type": "markdown",
   "metadata": {
    "id": "ctFJD6CJxFTQ"
   },
   "source": [
    "Como se aprecia con el resultado anterior, nuestra imagen fue ubixzada correctamente y el error calculado previamente es correcto. \n",
    "\n",
    "Ahora debemos obtener las métricas de validación pertinenentes."
   ]
  },
  {
   "cell_type": "markdown",
   "metadata": {
    "id": "QnjX_BKoxTVa"
   },
   "source": [
    "# Métricas y gráficas de validación del modelo desplegado en IBM Watson."
   ]
  },
  {
   "cell_type": "code",
   "execution_count": 70,
   "metadata": {
    "id": "S9Umkq21yDTp"
   },
   "outputs": [],
   "source": [
    "# Definiendo la función para desplegar la curva ROC\n",
    "def plot_roc(name, labels, predictions, name_fig):\n",
    "    fp, tp, _ = roc_curve(labels, predictions)\n",
    "    auc1 = auc(fp, tp)\n",
    "    lw=2\n",
    "\n",
    "    plt.plot(100*fp, 100*tp, linewidth=2, lw=lw, color='darkorange', label='ROC curve (area = %0.2f)' % auc1)\n",
    "    plt.plot([0, 100], [0, 100], color='navy', lw=lw, linestyle='--',label='Random')\n",
    "    plt.xlabel('Falsos positivos [%]')\n",
    "    plt.ylabel('Verdaderos positivos [%]')\n",
    "    plt.xlim([-5,105])\n",
    "    plt.ylim([-5,105])\n",
    "    plt.grid(True)\n",
    "    ax = plt.gca()\n",
    "    ax.set_aspect('equal')\n",
    "    plt.title(name)\n",
    "    plt.legend(loc=\"lower right\")\n",
    "    plt.savefig('ROC_'+name_fig+'.png')"
   ]
  },
  {
   "cell_type": "code",
   "execution_count": 71,
   "metadata": {
    "execution": {
     "iopub.execute_input": "2020-11-19T01:43:03.711285Z",
     "iopub.status.busy": "2020-11-19T01:43:03.710294Z",
     "iopub.status.idle": "2020-11-19T01:43:38.783274Z",
     "shell.execute_reply": "2020-11-19T01:43:38.784194Z"
    },
    "id": "Jc1LQ2-qMO5x",
    "papermill": {
     "duration": 35.425894,
     "end_time": "2020-11-19T01:43:38.784384",
     "exception": false,
     "start_time": "2020-11-19T01:43:03.358490",
     "status": "completed"
    },
    "tags": []
   },
   "outputs": [],
   "source": [
    "# Calculando las predicciones para Red Neuronal\n",
    "Y_train_pred = (rnet_ibm.predict(X_train) > 0.5).astype(\"int32\")\n",
    "Y_train_proba = rnet_ibm.predict(X_train) # Arreglo de probabilidades\n",
    "Y_test_pred = (rnet_ibm.predict(X_test) > 0.5).astype(\"int32\")\n",
    "Y_test_proba = rnet_ibm.predict(X_test) # Arreglo de probabilidades"
   ]
  },
  {
   "cell_type": "markdown",
   "metadata": {
    "id": "BOICLjkJpCF2",
    "papermill": {
     "duration": 0.348009,
     "end_time": "2020-11-19T01:43:39.882462",
     "exception": false,
     "start_time": "2020-11-19T01:43:39.534453",
     "status": "completed"
    },
    "tags": []
   },
   "source": [
    "Lamentablemente Tensorflow subestima la métrica F1-Score y Sobrestima la métrica AUC. Para este trabajo se reportarán los resultados con base en la biblioteca de Scikit-Learn y se utilizará las métricas de TensorFlow sólo como auxiliar para hallar el valor más alto ponderado durante las iteracion o entrenamiento.\n",
    "\n",
    "Por tanto es posible que algunas gráficas del entrenamiento difieran con los resultados finales de estas dos métricas.\n",
    "\n",
    "A continuación de realiza una demostración de lo anteriromente descrito.\n",
    "\n",
    "\n"
   ]
  },
  {
   "cell_type": "code",
   "execution_count": 72,
   "metadata": {
    "colab": {
     "base_uri": "https://localhost:8080/"
    },
    "execution": {
     "iopub.execute_input": "2020-11-19T01:43:40.616360Z",
     "iopub.status.busy": "2020-11-19T01:43:40.615311Z",
     "iopub.status.idle": "2020-11-19T01:43:40.758000Z",
     "shell.execute_reply": "2020-11-19T01:43:40.757446Z"
    },
    "id": "qb7x5L7wRSdq",
    "outputId": "fc91a022-67c9-45e3-b8c9-818fffd3a086",
    "papermill": {
     "duration": 0.532242,
     "end_time": "2020-11-19T01:43:40.758115",
     "exception": false,
     "start_time": "2020-11-19T01:43:40.225873",
     "status": "completed"
    },
    "tags": []
   },
   "outputs": [
    {
     "name": "stdout",
     "output_type": "stream",
     "text": [
      "EfficientNet IBM Watson (modificada) TensorFlow Metrics\n",
      "\n",
      "MÉTRICAS EN ENTRENAMIENTO\n",
      "Accuracy: 81.96%\n",
      "Precision: 0.00%\n",
      "Recall: 0.00%\n",
      "F1-Score: 0.00%\n",
      "AUC: 89.10%\n",
      "\n",
      "MÉTRICAS EN VALIDACIÓN\n",
      "Accuracy: 72.24%\n",
      "Precision: 0.00%\n",
      "Recall: 0.00%\n",
      "F1-Score: 0.00%\n",
      "AUC: 84.22%\n",
      "\n",
      "\n",
      "EfficientNet IBM Watson (modificada) SciKit-Learn Metrics\n",
      "\n",
      "MÉTRICAS EN ENTRENAMIENTO\n",
      "Accuracy: 81.96%\n",
      "Precision: 0.00%\n",
      "Recall: 0.00%\n",
      "F1-Score: 0.00%\n",
      "AUC: 89.22%\n",
      "\n",
      "MÉTRICAS EN VALIDACIÓN\n",
      "Accuracy: 72.24%\n",
      "Precision: 0.00%\n",
      "Recall: 0.00%\n",
      "F1-Score: 0.00%\n",
      "AUC: 84.68%\n",
      "\n"
     ]
    },
    {
     "name": "stderr",
     "output_type": "stream",
     "text": [
      "/usr/local/lib/python3.6/dist-packages/sklearn/metrics/_classification.py:1272: UndefinedMetricWarning: Precision is ill-defined and being set to 0.0 due to no predicted samples. Use `zero_division` parameter to control this behavior.\n",
      "  _warn_prf(average, modifier, msg_start, len(result))\n"
     ]
    }
   ],
   "source": [
    "# Desplegando métrica del rendimiento\n",
    "print(\"EfficientNet IBM Watson (modificada) TensorFlow Metrics\")\n",
    "print()\n",
    "print(\"MÉTRICAS EN ENTRENAMIENTO\")\n",
    "metric = tf.keras.metrics.BinaryAccuracy()\n",
    "metric.update_state(Y_train, Y_train_pred)\n",
    "print(\"Accuracy: %0.2f%%\"%(100*metric.result().numpy()))\n",
    "metric = tf.keras.metrics.Precision()\n",
    "metric.update_state(Y_train, Y_train_pred)\n",
    "print(\"Precision: %0.2f%%\"%(100*metric.result().numpy()))\n",
    "metric = tf.keras.metrics.Recall()\n",
    "metric.update_state(Y_train, Y_train_pred)\n",
    "print(\"Recall: %0.2f%%\"%(100*metric.result().numpy()))\n",
    "metric = tfa.metrics.F1Score(num_classes=2, average=\"micro\", threshold=0.5)\n",
    "metric.update_state(Y_train, Y_train_pred)\n",
    "print(\"F1-Score: %0.2f%%\"%(100*metric.result().numpy()))\n",
    "metric = tf.keras.metrics.AUC()\n",
    "metric.update_state(Y_train, Y_train_proba)\n",
    "print(\"AUC: %0.2f%%\"%(100*metric.result().numpy()))\n",
    "print()\n",
    "print(\"MÉTRICAS EN VALIDACIÓN\")\n",
    "metric = tf.keras.metrics.BinaryAccuracy()\n",
    "metric.update_state(Y_test, Y_test_pred)\n",
    "print(\"Accuracy: %0.2f%%\"%(100*metric.result().numpy()))\n",
    "metric = tf.keras.metrics.Precision()\n",
    "metric.update_state(Y_test, Y_test_pred)\n",
    "print(\"Precision: %0.2f%%\"%(100*metric.result().numpy()))\n",
    "metric = tf.keras.metrics.Recall()\n",
    "metric.update_state(Y_test, Y_test_pred)\n",
    "print(\"Recall: %0.2f%%\"%(100*metric.result().numpy()))\n",
    "metric = tfa.metrics.F1Score(num_classes=2, average=\"micro\", threshold=0.5)\n",
    "metric.update_state(Y_test, Y_test_pred)\n",
    "print(\"F1-Score: %0.2f%%\"%(100*metric.result().numpy()))\n",
    "metric = tf.keras.metrics.AUC()\n",
    "metric.update_state(Y_test, Y_test_proba)\n",
    "print(\"AUC: %0.2f%%\"%(100*metric.result().numpy()))\n",
    "print()\n",
    "print()\n",
    "print(\"EfficientNet IBM Watson (modificada) SciKit-Learn Metrics\")\n",
    "print()\n",
    "print(\"MÉTRICAS EN ENTRENAMIENTO\")\n",
    "print(\"Accuracy: %0.2f%%\"%(100*accuracy_score(Y_train, Y_train_pred)))\n",
    "print(\"Precision: %0.2f%%\"%(100*precision_score(Y_train, Y_train_pred)))\n",
    "print(\"Recall: %0.2f%%\"%(100*recall_score(Y_train, Y_train_pred)))\n",
    "print(\"F1-Score: %0.2f%%\"%(100*f1_score(Y_train, Y_train_pred)))\n",
    "fp, tp, _ = roc_curve(Y_train, Y_train_proba)\n",
    "print(\"AUC: %0.2f%%\"%(100*auc(fp, tp)))\n",
    "print()\n",
    "print(\"MÉTRICAS EN VALIDACIÓN\")\n",
    "print(\"Accuracy: %0.2f%%\"%(100*accuracy_score(Y_test, Y_test_pred)))\n",
    "print(\"Precision: %0.2f%%\"%(100*precision_score(Y_test, Y_test_pred)))\n",
    "print(\"Recall: %0.2f%%\"%(100*recall_score(Y_test, Y_test_pred)))\n",
    "print(\"F1-Score: %0.2f%%\"%(100*f1_score(Y_test, Y_test_pred)))\n",
    "fp, tp, _ = roc_curve(Y_test, Y_test_proba)\n",
    "print(\"AUC: %0.2f%%\"%(100*auc(fp, tp)))\n",
    "print()"
   ]
  },
  {
   "cell_type": "code",
   "execution_count": 73,
   "metadata": {
    "colab": {
     "base_uri": "https://localhost:8080/",
     "height": 349
    },
    "execution": {
     "iopub.execute_input": "2020-11-19T01:43:41.464233Z",
     "iopub.status.busy": "2020-11-19T01:43:41.462619Z",
     "iopub.status.idle": "2020-11-19T01:43:41.738289Z",
     "shell.execute_reply": "2020-11-19T01:43:41.738865Z"
    },
    "id": "kpnQzO2RRadh",
    "outputId": "65e04b12-7d68-4cc1-c63d-f66ebab85ead",
    "papermill": {
     "duration": 0.633049,
     "end_time": "2020-11-19T01:43:41.739040",
     "exception": false,
     "start_time": "2020-11-19T01:43:41.105991",
     "status": "completed"
    },
    "tags": []
   },
   "outputs": [
    {
     "name": "stderr",
     "output_type": "stream",
     "text": [
      "/usr/local/lib/python3.6/dist-packages/ipykernel_launcher.py:7: MatplotlibDeprecationWarning: Saw kwargs ['lw', 'linewidth'] which are all aliases for 'linewidth'.  Kept value from 'linewidth'.  Passing multiple aliases for the same property will raise a TypeError in 3.3.\n",
      "  import sys\n"
     ]
    },
    {
     "data": {
      "image/png": "[encoded data removed]",
      "text/plain": [
       "<Figure size 432x288 with 1 Axes>"
      ]
     },
     "metadata": {
      "needs_background": "light",
      "tags": []
     },
     "output_type": "display_data"
    }
   ],
   "source": [
    "# Curva ROC de entrenamiento\n",
    "plot_roc('ROC Red Neuronal Entrenamiento', Y_train, Y_train_proba, name_fig='EFNB7 IBM Watson (modificada)')"
   ]
  },
  {
   "cell_type": "code",
   "execution_count": 74,
   "metadata": {
    "colab": {
     "base_uri": "https://localhost:8080/",
     "height": 349
    },
    "execution": {
     "iopub.execute_input": "2020-11-19T01:43:42.482513Z",
     "iopub.status.busy": "2020-11-19T01:43:42.481546Z",
     "iopub.status.idle": "2020-11-19T01:43:42.735518Z",
     "shell.execute_reply": "2020-11-19T01:43:42.736075Z"
    },
    "id": "_ea-an6_Rb6-",
    "outputId": "5e75252c-72fc-4bbb-93cf-81d4b1b3d5d7",
    "papermill": {
     "duration": 0.61803,
     "end_time": "2020-11-19T01:43:42.736207",
     "exception": false,
     "start_time": "2020-11-19T01:43:42.118177",
     "status": "completed"
    },
    "tags": []
   },
   "outputs": [
    {
     "name": "stderr",
     "output_type": "stream",
     "text": [
      "/usr/local/lib/python3.6/dist-packages/ipykernel_launcher.py:7: MatplotlibDeprecationWarning: Saw kwargs ['lw', 'linewidth'] which are all aliases for 'linewidth'.  Kept value from 'linewidth'.  Passing multiple aliases for the same property will raise a TypeError in 3.3.\n",
      "  import sys\n"
     ]
    },
    {
     "data": {
      "image/png": "[encoded data removed]",
      "text/plain": [
       "<Figure size 432x288 with 1 Axes>"
      ]
     },
     "metadata": {
      "needs_background": "light",
      "tags": []
     },
     "output_type": "display_data"
    }
   ],
   "source": [
    "# Curva de Roc de Validación\n",
    "plot_roc('ROC Red Neuronal Validacion', Y_test, Y_test_proba, name_fig='EFNB7 IBM Watson (modificada)')"
   ]
  },
  {
   "cell_type": "markdown",
   "metadata": {
    "id": "dWEJd1cFogVl",
    "papermill": {
     "duration": 0.349483,
     "end_time": "2020-11-19T01:43:43.456339",
     "exception": false,
     "start_time": "2020-11-19T01:43:43.106856",
     "status": "completed"
    },
    "tags": []
   },
   "source": [
    "Conforme a los resulltados anteriores, tenemos un rednimiento que en el AUC parece \"menor\", pero con respecto a otras métricas es \"significativo\"."
   ]
  },
  {
   "cell_type": "markdown",
   "metadata": {
    "id": "0xaZ7YlU7o5g"
   },
   "source": [
    "Por tanto se propone un nuevo reentrenamiento en el anexo siguiente."
   ]
  },
  {
   "cell_type": "markdown",
   "metadata": {
    "id": "SqmrSZXpjvZ2",
    "papermill": {
     "duration": 0.340299,
     "end_time": "2020-11-19T01:43:58.568119",
     "exception": false,
     "start_time": "2020-11-19T01:43:58.227820",
     "status": "completed"
    },
    "tags": []
   },
   "source": [
    "Eliminando archivos innecesarios para guardar la libreta en Kaggle"
   ]
  },
  {
   "cell_type": "code",
   "execution_count": null,
   "metadata": {
    "execution": {
     "iopub.execute_input": "2020-11-19T01:43:59.333499Z",
     "iopub.status.busy": "2020-11-19T01:43:59.332793Z",
     "iopub.status.idle": "2020-11-19T01:43:59.489043Z",
     "shell.execute_reply": "2020-11-19T01:43:59.487576Z"
    },
    "id": "qIR5cWZ4jvZ2",
    "papermill": {
     "duration": 0.50755,
     "end_time": "2020-11-19T01:43:59.489170",
     "exception": false,
     "start_time": "2020-11-19T01:43:58.981620",
     "status": "completed"
    },
    "tags": []
   },
   "outputs": [],
   "source": [
    "import shutil\n",
    "\n",
    "dir_path = './BaseDeDatosFrontales_FINAL_256_bits'\n",
    "\n",
    "try:\n",
    "    shutil.rmtree(dir_path)\n",
    "except OSError as e:\n",
    "    print(\"Error: %s : %s\" % (dir_path, e.strerror))"
   ]
  },
  {
   "cell_type": "code",
   "execution_count": null,
   "metadata": {
    "execution": {
     "iopub.execute_input": "2020-11-19T01:44:00.188299Z",
     "iopub.status.busy": "2020-11-19T01:44:00.186252Z",
     "iopub.status.idle": "2020-11-19T01:44:00.189046Z",
     "shell.execute_reply": "2020-11-19T01:44:00.189570Z"
    },
    "id": "HfBPWdBAfQaB",
    "papermill": {
     "duration": 0.354199,
     "end_time": "2020-11-19T01:44:00.189702",
     "exception": false,
     "start_time": "2020-11-19T01:43:59.835503",
     "status": "completed"
    },
    "tags": []
   },
   "outputs": [],
   "source": [
    "os.remove(\"./BaseDeDatosFrontales_FINAL_256_bits.zip\")"
   ]
  },
  {
   "cell_type": "code",
   "execution_count": null,
   "metadata": {
    "id": "36TozW0ZjvZ3",
    "papermill": {
     "duration": 0.537251,
     "end_time": "2020-11-19T01:44:01.140835",
     "exception": false,
     "start_time": "2020-11-19T01:44:00.603584",
     "status": "completed"
    },
    "tags": []
   },
   "outputs": [],
   "source": []
  }
 ],
 "metadata": {
  "accelerator": "GPU",
  "colab": {
   "collapsed_sections": [],
   "name": "Anexo_.ipynb",
   "provenance": [],
   "toc_visible": true
  },
  "kernelspec": {
   "display_name": "Python 3",
   "language": "python",
   "name": "python3"
  },
  "language_info": {
   "codemirror_mode": {
    "name": "ipython",
    "version": 3
   },
   "file_extension": ".py",
   "mimetype": "text/x-python",
   "name": "python",
   "nbconvert_exporter": "python",
   "pygments_lexer": "ipython3",
   "version": "3.8.3"
  },
  "papermill": {
   "duration": 13574.073551,
   "end_time": "2020-11-19T01:44:02.959092",
   "environment_variables": {},
   "exception": null,
   "input_path": "__notebook__.ipynb",
   "output_path": "__notebook__.ipynb",
   "parameters": {},
   "start_time": "2020-11-18T21:57:48.885541",
   "version": "2.1.0"
  }
 },
 "nbformat": 4,
 "nbformat_minor": 1
}
